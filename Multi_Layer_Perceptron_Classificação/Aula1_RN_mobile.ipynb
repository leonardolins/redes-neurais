{
 "cells": [
  {
   "cell_type": "markdown",
   "metadata": {
    "id": "DdqJg1YKmjXC"
   },
   "source": [
    "# INICIALIZAÇÃO"
   ]
  },
  {
   "cell_type": "markdown",
   "metadata": {
    "id": "ESwS4GPDmzhy"
   },
   "source": [
    "### Importacao de bibliotecas"
   ]
  },
  {
   "cell_type": "code",
   "execution_count": 1,
   "metadata": {
    "ExecuteTime": {
     "end_time": "2022-05-26T12:27:48.000425Z",
     "start_time": "2022-05-26T12:27:46.143598Z"
    },
    "id": "keXOY9uF5FbU"
   },
   "outputs": [],
   "source": [
    "import numpy as np\n",
    "import pandas as pd\n",
    "import matplotlib.pyplot as plt"
   ]
  },
  {
   "cell_type": "code",
   "execution_count": 2,
   "metadata": {
    "ExecuteTime": {
     "end_time": "2022-05-26T12:27:48.746361Z",
     "start_time": "2022-05-26T12:27:48.694476Z"
    },
    "id": "s2HHPi4qpWOJ"
   },
   "outputs": [
    {
     "data": {
      "text/html": [
       "<div>\n",
       "<style scoped>\n",
       "    .dataframe tbody tr th:only-of-type {\n",
       "        vertical-align: middle;\n",
       "    }\n",
       "\n",
       "    .dataframe tbody tr th {\n",
       "        vertical-align: top;\n",
       "    }\n",
       "\n",
       "    .dataframe thead th {\n",
       "        text-align: right;\n",
       "    }\n",
       "</style>\n",
       "<table border=\"1\" class=\"dataframe\">\n",
       "  <thead>\n",
       "    <tr style=\"text-align: right;\">\n",
       "      <th></th>\n",
       "      <th>battery_power</th>\n",
       "      <th>blue</th>\n",
       "      <th>clock_speed</th>\n",
       "      <th>dual_sim</th>\n",
       "      <th>fc</th>\n",
       "      <th>four_g</th>\n",
       "      <th>int_memory</th>\n",
       "      <th>m_dep</th>\n",
       "      <th>mobile_wt</th>\n",
       "      <th>n_cores</th>\n",
       "      <th>...</th>\n",
       "      <th>px_height</th>\n",
       "      <th>px_width</th>\n",
       "      <th>ram</th>\n",
       "      <th>sc_h</th>\n",
       "      <th>sc_w</th>\n",
       "      <th>talk_time</th>\n",
       "      <th>three_g</th>\n",
       "      <th>touch_screen</th>\n",
       "      <th>wifi</th>\n",
       "      <th>price_range</th>\n",
       "    </tr>\n",
       "  </thead>\n",
       "  <tbody>\n",
       "    <tr>\n",
       "      <th>0</th>\n",
       "      <td>842</td>\n",
       "      <td>0</td>\n",
       "      <td>2.2</td>\n",
       "      <td>0</td>\n",
       "      <td>1</td>\n",
       "      <td>0</td>\n",
       "      <td>7</td>\n",
       "      <td>0.6</td>\n",
       "      <td>188</td>\n",
       "      <td>2</td>\n",
       "      <td>...</td>\n",
       "      <td>20</td>\n",
       "      <td>756</td>\n",
       "      <td>2549</td>\n",
       "      <td>9</td>\n",
       "      <td>7</td>\n",
       "      <td>19</td>\n",
       "      <td>0</td>\n",
       "      <td>0</td>\n",
       "      <td>1</td>\n",
       "      <td>1</td>\n",
       "    </tr>\n",
       "    <tr>\n",
       "      <th>1</th>\n",
       "      <td>1021</td>\n",
       "      <td>1</td>\n",
       "      <td>0.5</td>\n",
       "      <td>1</td>\n",
       "      <td>0</td>\n",
       "      <td>1</td>\n",
       "      <td>53</td>\n",
       "      <td>0.7</td>\n",
       "      <td>136</td>\n",
       "      <td>3</td>\n",
       "      <td>...</td>\n",
       "      <td>905</td>\n",
       "      <td>1988</td>\n",
       "      <td>2631</td>\n",
       "      <td>17</td>\n",
       "      <td>3</td>\n",
       "      <td>7</td>\n",
       "      <td>1</td>\n",
       "      <td>1</td>\n",
       "      <td>0</td>\n",
       "      <td>2</td>\n",
       "    </tr>\n",
       "    <tr>\n",
       "      <th>2</th>\n",
       "      <td>563</td>\n",
       "      <td>1</td>\n",
       "      <td>0.5</td>\n",
       "      <td>1</td>\n",
       "      <td>2</td>\n",
       "      <td>1</td>\n",
       "      <td>41</td>\n",
       "      <td>0.9</td>\n",
       "      <td>145</td>\n",
       "      <td>5</td>\n",
       "      <td>...</td>\n",
       "      <td>1263</td>\n",
       "      <td>1716</td>\n",
       "      <td>2603</td>\n",
       "      <td>11</td>\n",
       "      <td>2</td>\n",
       "      <td>9</td>\n",
       "      <td>1</td>\n",
       "      <td>1</td>\n",
       "      <td>0</td>\n",
       "      <td>2</td>\n",
       "    </tr>\n",
       "    <tr>\n",
       "      <th>3</th>\n",
       "      <td>615</td>\n",
       "      <td>1</td>\n",
       "      <td>2.5</td>\n",
       "      <td>0</td>\n",
       "      <td>0</td>\n",
       "      <td>0</td>\n",
       "      <td>10</td>\n",
       "      <td>0.8</td>\n",
       "      <td>131</td>\n",
       "      <td>6</td>\n",
       "      <td>...</td>\n",
       "      <td>1216</td>\n",
       "      <td>1786</td>\n",
       "      <td>2769</td>\n",
       "      <td>16</td>\n",
       "      <td>8</td>\n",
       "      <td>11</td>\n",
       "      <td>1</td>\n",
       "      <td>0</td>\n",
       "      <td>0</td>\n",
       "      <td>2</td>\n",
       "    </tr>\n",
       "    <tr>\n",
       "      <th>4</th>\n",
       "      <td>1821</td>\n",
       "      <td>1</td>\n",
       "      <td>1.2</td>\n",
       "      <td>0</td>\n",
       "      <td>13</td>\n",
       "      <td>1</td>\n",
       "      <td>44</td>\n",
       "      <td>0.6</td>\n",
       "      <td>141</td>\n",
       "      <td>2</td>\n",
       "      <td>...</td>\n",
       "      <td>1208</td>\n",
       "      <td>1212</td>\n",
       "      <td>1411</td>\n",
       "      <td>8</td>\n",
       "      <td>2</td>\n",
       "      <td>15</td>\n",
       "      <td>1</td>\n",
       "      <td>1</td>\n",
       "      <td>0</td>\n",
       "      <td>1</td>\n",
       "    </tr>\n",
       "  </tbody>\n",
       "</table>\n",
       "<p>5 rows × 21 columns</p>\n",
       "</div>"
      ],
      "text/plain": [
       "   battery_power  blue  clock_speed  dual_sim  fc  four_g  int_memory  m_dep  \\\n",
       "0            842     0          2.2         0   1       0           7    0.6   \n",
       "1           1021     1          0.5         1   0       1          53    0.7   \n",
       "2            563     1          0.5         1   2       1          41    0.9   \n",
       "3            615     1          2.5         0   0       0          10    0.8   \n",
       "4           1821     1          1.2         0  13       1          44    0.6   \n",
       "\n",
       "   mobile_wt  n_cores  ...  px_height  px_width   ram  sc_h  sc_w  talk_time  \\\n",
       "0        188        2  ...         20       756  2549     9     7         19   \n",
       "1        136        3  ...        905      1988  2631    17     3          7   \n",
       "2        145        5  ...       1263      1716  2603    11     2          9   \n",
       "3        131        6  ...       1216      1786  2769    16     8         11   \n",
       "4        141        2  ...       1208      1212  1411     8     2         15   \n",
       "\n",
       "   three_g  touch_screen  wifi  price_range  \n",
       "0        0             0     1            1  \n",
       "1        1             1     0            2  \n",
       "2        1             1     0            2  \n",
       "3        1             0     0            2  \n",
       "4        1             1     0            1  \n",
       "\n",
       "[5 rows x 21 columns]"
      ]
     },
     "execution_count": 2,
     "metadata": {},
     "output_type": "execute_result"
    }
   ],
   "source": [
    "#Carregar a base e visualizar primeiras linhas\n",
    "df1 = pd.read_csv('../mobile.csv')\n",
    "df1.head()"
   ]
  },
  {
   "cell_type": "code",
   "execution_count": 3,
   "metadata": {
    "ExecuteTime": {
     "end_time": "2022-05-26T12:27:49.403165Z",
     "start_time": "2022-05-26T12:27:49.396268Z"
    },
    "id": "SEjjJD0NMojn"
   },
   "outputs": [
    {
     "data": {
      "text/plain": [
       "(2000, 21)"
      ]
     },
     "execution_count": 3,
     "metadata": {},
     "output_type": "execute_result"
    }
   ],
   "source": [
    "#dimnesões da base\n",
    "df1.shape"
   ]
  },
  {
   "cell_type": "markdown",
   "metadata": {
    "id": "MbmhtkuUtklE"
   },
   "source": [
    "### Indicar a semente inicial e para divisão da base em treino e teste"
   ]
  },
  {
   "cell_type": "code",
   "execution_count": 4,
   "metadata": {
    "ExecuteTime": {
     "end_time": "2022-05-26T12:27:50.978095Z",
     "start_time": "2022-05-26T12:27:50.973287Z"
    },
    "id": "NQRJeOzItu5b"
   },
   "outputs": [],
   "source": [
    "np.random.seed(0) #semente inicial"
   ]
  },
  {
   "cell_type": "code",
   "execution_count": 5,
   "metadata": {
    "ExecuteTime": {
     "end_time": "2022-05-26T12:27:52.494593Z",
     "start_time": "2022-05-26T12:27:51.891674Z"
    },
    "id": "ytXEwoJ_EW5D"
   },
   "outputs": [],
   "source": [
    "from sklearn.model_selection import train_test_split\n",
    "x_train, x_test, y_train, y_test = train_test_split(df1.loc[:,df1.columns != 'price_range'], \n",
    "                                                    df1['price_range'], test_size=0.3, \n",
    "                                                    stratify=df1.price_range)"
   ]
  },
  {
   "cell_type": "code",
   "execution_count": 6,
   "metadata": {
    "ExecuteTime": {
     "end_time": "2022-05-26T12:27:52.787103Z",
     "start_time": "2022-05-26T12:27:52.779878Z"
    },
    "id": "f1UeuAPDGJdH"
   },
   "outputs": [
    {
     "data": {
      "text/plain": [
       "(1400, 20)"
      ]
     },
     "execution_count": 6,
     "metadata": {},
     "output_type": "execute_result"
    }
   ],
   "source": [
    "x_train.shape"
   ]
  },
  {
   "cell_type": "code",
   "execution_count": 7,
   "metadata": {
    "ExecuteTime": {
     "end_time": "2022-05-26T12:27:53.397049Z",
     "start_time": "2022-05-26T12:27:53.304869Z"
    },
    "id": "4iZMOC_etTqN"
   },
   "outputs": [
    {
     "data": {
      "text/html": [
       "<div>\n",
       "<style scoped>\n",
       "    .dataframe tbody tr th:only-of-type {\n",
       "        vertical-align: middle;\n",
       "    }\n",
       "\n",
       "    .dataframe tbody tr th {\n",
       "        vertical-align: top;\n",
       "    }\n",
       "\n",
       "    .dataframe thead th {\n",
       "        text-align: right;\n",
       "    }\n",
       "</style>\n",
       "<table border=\"1\" class=\"dataframe\">\n",
       "  <thead>\n",
       "    <tr style=\"text-align: right;\">\n",
       "      <th></th>\n",
       "      <th>battery_power</th>\n",
       "      <th>blue</th>\n",
       "      <th>clock_speed</th>\n",
       "      <th>dual_sim</th>\n",
       "      <th>fc</th>\n",
       "      <th>four_g</th>\n",
       "      <th>int_memory</th>\n",
       "      <th>m_dep</th>\n",
       "      <th>mobile_wt</th>\n",
       "      <th>n_cores</th>\n",
       "      <th>pc</th>\n",
       "      <th>px_height</th>\n",
       "      <th>px_width</th>\n",
       "      <th>ram</th>\n",
       "      <th>sc_h</th>\n",
       "      <th>sc_w</th>\n",
       "      <th>talk_time</th>\n",
       "      <th>three_g</th>\n",
       "      <th>touch_screen</th>\n",
       "      <th>wifi</th>\n",
       "    </tr>\n",
       "  </thead>\n",
       "  <tbody>\n",
       "    <tr>\n",
       "      <th>count</th>\n",
       "      <td>1400.000000</td>\n",
       "      <td>1400.000000</td>\n",
       "      <td>1400.000000</td>\n",
       "      <td>1400.000000</td>\n",
       "      <td>1400.000000</td>\n",
       "      <td>1400.000000</td>\n",
       "      <td>1400.000000</td>\n",
       "      <td>1400.000000</td>\n",
       "      <td>1400.000000</td>\n",
       "      <td>1400.000000</td>\n",
       "      <td>1400.000000</td>\n",
       "      <td>1400.000000</td>\n",
       "      <td>1400.000000</td>\n",
       "      <td>1400.000000</td>\n",
       "      <td>1400.000000</td>\n",
       "      <td>1400.000000</td>\n",
       "      <td>1400.000000</td>\n",
       "      <td>1400.000000</td>\n",
       "      <td>1400.000000</td>\n",
       "      <td>1400.000000</td>\n",
       "    </tr>\n",
       "    <tr>\n",
       "      <th>mean</th>\n",
       "      <td>1239.501429</td>\n",
       "      <td>0.490714</td>\n",
       "      <td>1.501571</td>\n",
       "      <td>0.517857</td>\n",
       "      <td>4.294286</td>\n",
       "      <td>0.509286</td>\n",
       "      <td>32.123571</td>\n",
       "      <td>0.500786</td>\n",
       "      <td>139.869286</td>\n",
       "      <td>4.540714</td>\n",
       "      <td>9.881429</td>\n",
       "      <td>650.657143</td>\n",
       "      <td>1251.384286</td>\n",
       "      <td>2130.767857</td>\n",
       "      <td>12.383571</td>\n",
       "      <td>5.885000</td>\n",
       "      <td>10.884286</td>\n",
       "      <td>0.750000</td>\n",
       "      <td>0.507857</td>\n",
       "      <td>0.505714</td>\n",
       "    </tr>\n",
       "    <tr>\n",
       "      <th>std</th>\n",
       "      <td>437.142296</td>\n",
       "      <td>0.500092</td>\n",
       "      <td>0.808964</td>\n",
       "      <td>0.499860</td>\n",
       "      <td>4.375410</td>\n",
       "      <td>0.500092</td>\n",
       "      <td>18.008370</td>\n",
       "      <td>0.286919</td>\n",
       "      <td>35.534931</td>\n",
       "      <td>2.305427</td>\n",
       "      <td>5.971239</td>\n",
       "      <td>446.334581</td>\n",
       "      <td>433.670599</td>\n",
       "      <td>1086.180824</td>\n",
       "      <td>4.242390</td>\n",
       "      <td>4.370157</td>\n",
       "      <td>5.462803</td>\n",
       "      <td>0.433167</td>\n",
       "      <td>0.500117</td>\n",
       "      <td>0.500146</td>\n",
       "    </tr>\n",
       "    <tr>\n",
       "      <th>min</th>\n",
       "      <td>501.000000</td>\n",
       "      <td>0.000000</td>\n",
       "      <td>0.500000</td>\n",
       "      <td>0.000000</td>\n",
       "      <td>0.000000</td>\n",
       "      <td>0.000000</td>\n",
       "      <td>2.000000</td>\n",
       "      <td>0.100000</td>\n",
       "      <td>80.000000</td>\n",
       "      <td>1.000000</td>\n",
       "      <td>0.000000</td>\n",
       "      <td>0.000000</td>\n",
       "      <td>500.000000</td>\n",
       "      <td>258.000000</td>\n",
       "      <td>5.000000</td>\n",
       "      <td>0.000000</td>\n",
       "      <td>2.000000</td>\n",
       "      <td>0.000000</td>\n",
       "      <td>0.000000</td>\n",
       "      <td>0.000000</td>\n",
       "    </tr>\n",
       "    <tr>\n",
       "      <th>25%</th>\n",
       "      <td>854.750000</td>\n",
       "      <td>0.000000</td>\n",
       "      <td>0.700000</td>\n",
       "      <td>0.000000</td>\n",
       "      <td>1.000000</td>\n",
       "      <td>0.000000</td>\n",
       "      <td>16.000000</td>\n",
       "      <td>0.200000</td>\n",
       "      <td>109.000000</td>\n",
       "      <td>3.000000</td>\n",
       "      <td>5.000000</td>\n",
       "      <td>285.750000</td>\n",
       "      <td>873.000000</td>\n",
       "      <td>1204.000000</td>\n",
       "      <td>9.000000</td>\n",
       "      <td>2.000000</td>\n",
       "      <td>6.000000</td>\n",
       "      <td>0.750000</td>\n",
       "      <td>0.000000</td>\n",
       "      <td>0.000000</td>\n",
       "    </tr>\n",
       "    <tr>\n",
       "      <th>50%</th>\n",
       "      <td>1226.000000</td>\n",
       "      <td>0.000000</td>\n",
       "      <td>1.500000</td>\n",
       "      <td>1.000000</td>\n",
       "      <td>3.000000</td>\n",
       "      <td>1.000000</td>\n",
       "      <td>32.000000</td>\n",
       "      <td>0.500000</td>\n",
       "      <td>140.500000</td>\n",
       "      <td>4.000000</td>\n",
       "      <td>10.000000</td>\n",
       "      <td>573.500000</td>\n",
       "      <td>1255.500000</td>\n",
       "      <td>2178.500000</td>\n",
       "      <td>12.000000</td>\n",
       "      <td>5.000000</td>\n",
       "      <td>11.000000</td>\n",
       "      <td>1.000000</td>\n",
       "      <td>1.000000</td>\n",
       "      <td>1.000000</td>\n",
       "    </tr>\n",
       "    <tr>\n",
       "      <th>75%</th>\n",
       "      <td>1614.250000</td>\n",
       "      <td>1.000000</td>\n",
       "      <td>2.200000</td>\n",
       "      <td>1.000000</td>\n",
       "      <td>7.000000</td>\n",
       "      <td>1.000000</td>\n",
       "      <td>47.000000</td>\n",
       "      <td>0.700000</td>\n",
       "      <td>170.000000</td>\n",
       "      <td>7.000000</td>\n",
       "      <td>15.000000</td>\n",
       "      <td>951.000000</td>\n",
       "      <td>1626.250000</td>\n",
       "      <td>3066.500000</td>\n",
       "      <td>16.000000</td>\n",
       "      <td>9.000000</td>\n",
       "      <td>16.000000</td>\n",
       "      <td>1.000000</td>\n",
       "      <td>1.000000</td>\n",
       "      <td>1.000000</td>\n",
       "    </tr>\n",
       "    <tr>\n",
       "      <th>max</th>\n",
       "      <td>1998.000000</td>\n",
       "      <td>1.000000</td>\n",
       "      <td>3.000000</td>\n",
       "      <td>1.000000</td>\n",
       "      <td>19.000000</td>\n",
       "      <td>1.000000</td>\n",
       "      <td>64.000000</td>\n",
       "      <td>1.000000</td>\n",
       "      <td>200.000000</td>\n",
       "      <td>8.000000</td>\n",
       "      <td>20.000000</td>\n",
       "      <td>1920.000000</td>\n",
       "      <td>1995.000000</td>\n",
       "      <td>3998.000000</td>\n",
       "      <td>19.000000</td>\n",
       "      <td>18.000000</td>\n",
       "      <td>20.000000</td>\n",
       "      <td>1.000000</td>\n",
       "      <td>1.000000</td>\n",
       "      <td>1.000000</td>\n",
       "    </tr>\n",
       "  </tbody>\n",
       "</table>\n",
       "</div>"
      ],
      "text/plain": [
       "       battery_power         blue  clock_speed     dual_sim           fc  \\\n",
       "count    1400.000000  1400.000000  1400.000000  1400.000000  1400.000000   \n",
       "mean     1239.501429     0.490714     1.501571     0.517857     4.294286   \n",
       "std       437.142296     0.500092     0.808964     0.499860     4.375410   \n",
       "min       501.000000     0.000000     0.500000     0.000000     0.000000   \n",
       "25%       854.750000     0.000000     0.700000     0.000000     1.000000   \n",
       "50%      1226.000000     0.000000     1.500000     1.000000     3.000000   \n",
       "75%      1614.250000     1.000000     2.200000     1.000000     7.000000   \n",
       "max      1998.000000     1.000000     3.000000     1.000000    19.000000   \n",
       "\n",
       "            four_g   int_memory        m_dep    mobile_wt      n_cores  \\\n",
       "count  1400.000000  1400.000000  1400.000000  1400.000000  1400.000000   \n",
       "mean      0.509286    32.123571     0.500786   139.869286     4.540714   \n",
       "std       0.500092    18.008370     0.286919    35.534931     2.305427   \n",
       "min       0.000000     2.000000     0.100000    80.000000     1.000000   \n",
       "25%       0.000000    16.000000     0.200000   109.000000     3.000000   \n",
       "50%       1.000000    32.000000     0.500000   140.500000     4.000000   \n",
       "75%       1.000000    47.000000     0.700000   170.000000     7.000000   \n",
       "max       1.000000    64.000000     1.000000   200.000000     8.000000   \n",
       "\n",
       "                pc    px_height     px_width          ram         sc_h  \\\n",
       "count  1400.000000  1400.000000  1400.000000  1400.000000  1400.000000   \n",
       "mean      9.881429   650.657143  1251.384286  2130.767857    12.383571   \n",
       "std       5.971239   446.334581   433.670599  1086.180824     4.242390   \n",
       "min       0.000000     0.000000   500.000000   258.000000     5.000000   \n",
       "25%       5.000000   285.750000   873.000000  1204.000000     9.000000   \n",
       "50%      10.000000   573.500000  1255.500000  2178.500000    12.000000   \n",
       "75%      15.000000   951.000000  1626.250000  3066.500000    16.000000   \n",
       "max      20.000000  1920.000000  1995.000000  3998.000000    19.000000   \n",
       "\n",
       "              sc_w    talk_time      three_g  touch_screen         wifi  \n",
       "count  1400.000000  1400.000000  1400.000000   1400.000000  1400.000000  \n",
       "mean      5.885000    10.884286     0.750000      0.507857     0.505714  \n",
       "std       4.370157     5.462803     0.433167      0.500117     0.500146  \n",
       "min       0.000000     2.000000     0.000000      0.000000     0.000000  \n",
       "25%       2.000000     6.000000     0.750000      0.000000     0.000000  \n",
       "50%       5.000000    11.000000     1.000000      1.000000     1.000000  \n",
       "75%       9.000000    16.000000     1.000000      1.000000     1.000000  \n",
       "max      18.000000    20.000000     1.000000      1.000000     1.000000  "
      ]
     },
     "execution_count": 7,
     "metadata": {},
     "output_type": "execute_result"
    }
   ],
   "source": [
    "# alguns dados estatisticos por atributo\n",
    "x_train.describe()"
   ]
  },
  {
   "cell_type": "markdown",
   "metadata": {
    "id": "RRAnVMivghTG"
   },
   "source": [
    "## Análise exploratória"
   ]
  },
  {
   "cell_type": "markdown",
   "metadata": {
    "id": "NzxlHd9xgmzk"
   },
   "source": [
    "### Dispersão"
   ]
  },
  {
   "cell_type": "markdown",
   "metadata": {
    "id": "XgsM8ONyCwQn"
   },
   "source": [
    "#### Visualização RAM x INT_MEMORY (Internal Memory in Gigabytes) e cores comos as classes de saída (PRICE_RANGE)"
   ]
  },
  {
   "cell_type": "code",
   "execution_count": 8,
   "metadata": {
    "ExecuteTime": {
     "end_time": "2022-05-26T12:27:56.584964Z",
     "start_time": "2022-05-26T12:27:56.155860Z"
    },
    "id": "Q9rwaHkHI-SF"
   },
   "outputs": [
    {
     "data": {
      "image/png": "[encoded data removed]",
      "text/plain": [
       "<Figure size 432x288 with 2 Axes>"
      ]
     },
     "metadata": {
      "needs_background": "light"
     },
     "output_type": "display_data"
    }
   ],
   "source": [
    "plt.scatter(x_train['ram'], x_train['int_memory'], c=y_train, cmap=plt.cm.Spectral);\n",
    "plt.colorbar();\n",
    "plt.xlabel('ram');\n",
    "plt.ylabel('memory');\n",
    "plt.title('Memory vs Ram');"
   ]
  },
  {
   "cell_type": "markdown",
   "metadata": {
    "id": "sHvKLhOFDCom"
   },
   "source": [
    "#### Visualização PRICE_RANGE x BATTERY_POWER e cores comos as classes de saída (PRICE_RANGE)"
   ]
  },
  {
   "cell_type": "code",
   "execution_count": 9,
   "metadata": {
    "ExecuteTime": {
     "end_time": "2022-05-26T12:28:00.424391Z",
     "start_time": "2022-05-26T12:28:00.132291Z"
    },
    "id": "SrYmhJOymHPn"
   },
   "outputs": [
    {
     "data": {
      "image/png": "[encoded data removed]",
      "text/plain": [
       "<Figure size 432x288 with 1 Axes>"
      ]
     },
     "metadata": {
      "needs_background": "light"
     },
     "output_type": "display_data"
    }
   ],
   "source": [
    "df1.boxplot(column=['battery_power'], by=['price_range']);"
   ]
  },
  {
   "cell_type": "code",
   "execution_count": 10,
   "metadata": {
    "ExecuteTime": {
     "end_time": "2022-05-26T12:28:01.572561Z",
     "start_time": "2022-05-26T12:28:01.283595Z"
    },
    "id": "y-rKj34W9XA_"
   },
   "outputs": [
    {
     "data": {
      "image/png": "[encoded data removed]",
      "text/plain": [
       "<Figure size 432x288 with 1 Axes>"
      ]
     },
     "metadata": {
      "needs_background": "light"
     },
     "output_type": "display_data"
    }
   ],
   "source": [
    "df1.boxplot(column = ['ram'], by= ['price_range']);"
   ]
  },
  {
   "cell_type": "code",
   "execution_count": 11,
   "metadata": {
    "ExecuteTime": {
     "end_time": "2022-05-26T12:28:05.821933Z",
     "start_time": "2022-05-26T12:28:04.523808Z"
    },
    "id": "qlkSyZZCH6dr"
   },
   "outputs": [
    {
     "data": {
      "image/png": "[encoded data removed]",
      "text/plain": [
       "<Figure size 720x504 with 2 Axes>"
      ]
     },
     "metadata": {
      "needs_background": "light"
     },
     "output_type": "display_data"
    }
   ],
   "source": [
    "#análise de correlação\n",
    "import seaborn as sns\n",
    "plt.figure(figsize=(10,7))\n",
    "corr = df1.corr()\n",
    "sns.heatmap(corr,vmin=-1,vmax=1, yticklabels=True, cmap='YlGnBu',);\n",
    "plt.savefig('corr.jpg')"
   ]
  },
  {
   "cell_type": "code",
   "execution_count": 12,
   "metadata": {
    "ExecuteTime": {
     "end_time": "2022-05-26T12:28:06.763190Z",
     "start_time": "2022-05-26T12:28:06.491879Z"
    },
    "id": "vIzV-M8jshll"
   },
   "outputs": [
    {
     "data": {
      "image/png": "[encoded data removed]",
      "text/plain": [
       "<Figure size 432x288 with 1 Axes>"
      ]
     },
     "metadata": {
      "needs_background": "light"
     },
     "output_type": "display_data"
    }
   ],
   "source": [
    "df1.boxplot(column = ['n_cores'], by= ['price_range']);"
   ]
  },
  {
   "cell_type": "markdown",
   "metadata": {
    "id": "uqbR9OgKg_nG"
   },
   "source": [
    "## **Normalizando os Dados**"
   ]
  },
  {
   "cell_type": "code",
   "execution_count": 13,
   "metadata": {
    "ExecuteTime": {
     "end_time": "2022-05-26T12:28:08.611952Z",
     "start_time": "2022-05-26T12:28:08.596689Z"
    },
    "id": "gR7nT_CDhC-x"
   },
   "outputs": [],
   "source": [
    "from sklearn.preprocessing import StandardScaler\n",
    "scaler = StandardScaler().fit(x_train)\n",
    "X_train_normalized = scaler.transform(x_train)\n",
    "X_test_normalized = scaler.transform(x_test)"
   ]
  },
  {
   "cell_type": "code",
   "execution_count": 14,
   "metadata": {
    "ExecuteTime": {
     "end_time": "2022-05-26T12:28:09.303585Z",
     "start_time": "2022-05-26T12:28:09.292514Z"
    },
    "id": "ZOGPIRExKEQi"
   },
   "outputs": [
    {
     "data": {
      "text/plain": [
       "array([[ 1.67625125, -0.98159786, -0.3729206 ,  0.96490128, -0.98180974,\n",
       "        -1.01874713,  0.27088355,  0.69457067, -1.06607265, -1.10245158,\n",
       "        -1.48789929,  0.14420986,  0.91488203,  0.68082246,  0.8527554 ,\n",
       "        -1.34711469,  1.1199196 , -1.73205081, -1.01583972, -1.01149463],\n",
       "       [-0.57324799,  1.01874713, -0.99121623, -1.03637545,  1.99040205,\n",
       "         0.98159786,  1.04857765, -0.35139449, -0.22153125, -0.66853755,\n",
       "         0.85751056,  0.04335261, -1.03199099,  0.20098875, -0.56204716,\n",
       "        -1.1182082 ,  1.6692845 ,  0.57735027, -1.01583972,  0.98863599]])"
      ]
     },
     "execution_count": 14,
     "metadata": {},
     "output_type": "execute_result"
    }
   ],
   "source": [
    "X_train_normalized[0:2]"
   ]
  },
  {
   "cell_type": "markdown",
   "metadata": {
    "id": "ShoO1BwrYDYp"
   },
   "source": [
    "# Rede Neural"
   ]
  },
  {
   "cell_type": "code",
   "execution_count": 20,
   "metadata": {
    "ExecuteTime": {
     "end_time": "2022-05-26T12:30:18.156885Z",
     "start_time": "2022-05-26T12:30:18.150970Z"
    },
    "id": "hgX9AMhS2iFy"
   },
   "outputs": [],
   "source": [
    "from keras import Sequential #É uma classe para criar uma rede neural, camada a camada\n",
    "from keras.layers import Dense #cria uma camada densamente conectada\n",
    "#from tensorflow.keras.optimizers import SGD\n",
    "from keras.optimizers import SGD"
   ]
  },
  {
   "cell_type": "code",
   "execution_count": 21,
   "metadata": {
    "ExecuteTime": {
     "end_time": "2022-05-26T12:30:21.207761Z",
     "start_time": "2022-05-26T12:30:21.200396Z"
    },
    "id": "NWXnTlz03okl"
   },
   "outputs": [
    {
     "data": {
      "text/plain": [
       "4"
      ]
     },
     "execution_count": 21,
     "metadata": {},
     "output_type": "execute_result"
    }
   ],
   "source": [
    "NumberOfClasses = len(y_train.unique())\n",
    "NumberOfClasses"
   ]
  },
  {
   "cell_type": "code",
   "execution_count": 22,
   "metadata": {
    "ExecuteTime": {
     "end_time": "2022-05-26T12:30:21.945432Z",
     "start_time": "2022-05-26T12:30:21.938334Z"
    }
   },
   "outputs": [
    {
     "data": {
      "text/plain": [
       "(20,)"
      ]
     },
     "execution_count": 22,
     "metadata": {},
     "output_type": "execute_result"
    }
   ],
   "source": [
    "X_train_normalized.shape[1:]"
   ]
  },
  {
   "cell_type": "code",
   "execution_count": 23,
   "metadata": {
    "ExecuteTime": {
     "end_time": "2022-05-26T12:30:22.624021Z",
     "start_time": "2022-05-26T12:30:22.560299Z"
    },
    "id": "QyKc1qZWu9pM"
   },
   "outputs": [
    {
     "name": "stdout",
     "output_type": "stream",
     "text": [
      "Model: \"sequential_2\"\n",
      "_________________________________________________________________\n",
      "Layer (type)                 Output Shape              Param #   \n",
      "=================================================================\n",
      "dense_3 (Dense)              (None, 10)                210       \n",
      "_________________________________________________________________\n",
      "dense_4 (Dense)              (None, 4)                 44        \n",
      "=================================================================\n",
      "Total params: 254\n",
      "Trainable params: 254\n",
      "Non-trainable params: 0\n",
      "_________________________________________________________________\n"
     ]
    }
   ],
   "source": [
    "RN = Sequential()\n",
    "RN.add(Dense(10, input_shape = X_train_normalized.shape[1:], activation = 'sigmoid'))\n",
    "RN.add(Dense(NumberOfClasses, activation = 'sigmoid'))\n",
    "RN.summary()"
   ]
  },
  {
   "cell_type": "code",
   "execution_count": 24,
   "metadata": {
    "ExecuteTime": {
     "end_time": "2022-05-26T12:30:30.307374Z",
     "start_time": "2022-05-26T12:30:23.288880Z"
    },
    "id": "X3gFJdaa3Uqe"
   },
   "outputs": [
    {
     "name": "stdout",
     "output_type": "stream",
     "text": [
      "WARNING:tensorflow:From /opt/anaconda3/envs/tensorflow/lib/python3.7/site-packages/keras/backend/tensorflow_backend.py:422: The name tf.global_variables is deprecated. Please use tf.compat.v1.global_variables instead.\n",
      "\n",
      "Epoch 1/100\n",
      "1400/1400 [==============================] - 0s 115us/step - loss: 0.1902 - accuracy: 0.3493\n",
      "Epoch 2/100\n",
      "1400/1400 [==============================] - 0s 43us/step - loss: 0.1761 - accuracy: 0.4893\n",
      "Epoch 3/100\n",
      "1400/1400 [==============================] - 0s 46us/step - loss: 0.1647 - accuracy: 0.5429\n",
      "Epoch 4/100\n",
      "1400/1400 [==============================] - 0s 45us/step - loss: 0.1522 - accuracy: 0.6064\n",
      "Epoch 5/100\n",
      "1400/1400 [==============================] - 0s 44us/step - loss: 0.1407 - accuracy: 0.5907\n",
      "Epoch 6/100\n",
      "1400/1400 [==============================] - 0s 45us/step - loss: 0.1320 - accuracy: 0.6371\n",
      "Epoch 7/100\n",
      "1400/1400 [==============================] - 0s 40us/step - loss: 0.1255 - accuracy: 0.6600\n",
      "Epoch 8/100\n",
      "1400/1400 [==============================] - 0s 43us/step - loss: 0.1210 - accuracy: 0.6764\n",
      "Epoch 9/100\n",
      "1400/1400 [==============================] - 0s 45us/step - loss: 0.1172 - accuracy: 0.7229\n",
      "Epoch 10/100\n",
      "1400/1400 [==============================] - 0s 48us/step - loss: 0.1144 - accuracy: 0.7229\n",
      "Epoch 11/100\n",
      "1400/1400 [==============================] - 0s 41us/step - loss: 0.1121 - accuracy: 0.7257\n",
      "Epoch 12/100\n",
      "1400/1400 [==============================] - 0s 38us/step - loss: 0.1100 - accuracy: 0.7414\n",
      "Epoch 13/100\n",
      "1400/1400 [==============================] - 0s 61us/step - loss: 0.1082 - accuracy: 0.7436\n",
      "Epoch 14/100\n",
      "1400/1400 [==============================] - 0s 40us/step - loss: 0.1065 - accuracy: 0.7593\n",
      "Epoch 15/100\n",
      "1400/1400 [==============================] - 0s 43us/step - loss: 0.1053 - accuracy: 0.7736\n",
      "Epoch 16/100\n",
      "1400/1400 [==============================] - 0s 37us/step - loss: 0.1040 - accuracy: 0.7614\n",
      "Epoch 17/100\n",
      "1400/1400 [==============================] - 0s 42us/step - loss: 0.1026 - accuracy: 0.7750\n",
      "Epoch 18/100\n",
      "1400/1400 [==============================] - 0s 37us/step - loss: 0.1014 - accuracy: 0.7786\n",
      "Epoch 19/100\n",
      "1400/1400 [==============================] - 0s 42us/step - loss: 0.1002 - accuracy: 0.7893\n",
      "Epoch 20/100\n",
      "1400/1400 [==============================] - 0s 37us/step - loss: 0.0991 - accuracy: 0.7886\n",
      "Epoch 21/100\n",
      "1400/1400 [==============================] - 0s 38us/step - loss: 0.0980 - accuracy: 0.7971\n",
      "Epoch 22/100\n",
      "1400/1400 [==============================] - 0s 41us/step - loss: 0.0969 - accuracy: 0.8014\n",
      "Epoch 23/100\n",
      "1400/1400 [==============================] - 0s 54us/step - loss: 0.0958 - accuracy: 0.8021\n",
      "Epoch 24/100\n",
      "1400/1400 [==============================] - 0s 42us/step - loss: 0.0945 - accuracy: 0.8143\n",
      "Epoch 25/100\n",
      "1400/1400 [==============================] - 0s 43us/step - loss: 0.0933 - accuracy: 0.8093\n",
      "Epoch 26/100\n",
      "1400/1400 [==============================] - 0s 44us/step - loss: 0.0920 - accuracy: 0.8307\n",
      "Epoch 27/100\n",
      "1400/1400 [==============================] - 0s 47us/step - loss: 0.0905 - accuracy: 0.8193\n",
      "Epoch 28/100\n",
      "1400/1400 [==============================] - 0s 45us/step - loss: 0.0891 - accuracy: 0.8321\n",
      "Epoch 29/100\n",
      "1400/1400 [==============================] - 0s 45us/step - loss: 0.0876 - accuracy: 0.8443\n",
      "Epoch 30/100\n",
      "1400/1400 [==============================] - 0s 44us/step - loss: 0.0858 - accuracy: 0.8443\n",
      "Epoch 31/100\n",
      "1400/1400 [==============================] - 0s 46us/step - loss: 0.0840 - accuracy: 0.8564\n",
      "Epoch 32/100\n",
      "1400/1400 [==============================] - 0s 47us/step - loss: 0.0821 - accuracy: 0.8657\n",
      "Epoch 33/100\n",
      "1400/1400 [==============================] - 0s 45us/step - loss: 0.0800 - accuracy: 0.8664\n",
      "Epoch 34/100\n",
      "1400/1400 [==============================] - 0s 47us/step - loss: 0.0780 - accuracy: 0.8857\n",
      "Epoch 35/100\n",
      "1400/1400 [==============================] - 0s 48us/step - loss: 0.0759 - accuracy: 0.8886\n",
      "Epoch 36/100\n",
      "1400/1400 [==============================] - 0s 48us/step - loss: 0.0737 - accuracy: 0.8971\n",
      "Epoch 37/100\n",
      "1400/1400 [==============================] - 0s 46us/step - loss: 0.0714 - accuracy: 0.9150\n",
      "Epoch 38/100\n",
      "1400/1400 [==============================] - 0s 43us/step - loss: 0.0691 - accuracy: 0.9179\n",
      "Epoch 39/100\n",
      "1400/1400 [==============================] - 0s 50us/step - loss: 0.0667 - accuracy: 0.9221\n",
      "Epoch 40/100\n",
      "1400/1400 [==============================] - 0s 47us/step - loss: 0.0646 - accuracy: 0.9364\n",
      "Epoch 41/100\n",
      "1400/1400 [==============================] - 0s 44us/step - loss: 0.0625 - accuracy: 0.9343\n",
      "Epoch 42/100\n",
      "1400/1400 [==============================] - 0s 47us/step - loss: 0.0603 - accuracy: 0.9436\n",
      "Epoch 43/100\n",
      "1400/1400 [==============================] - 0s 48us/step - loss: 0.0581 - accuracy: 0.9429\n",
      "Epoch 44/100\n",
      "1400/1400 [==============================] - 0s 46us/step - loss: 0.0561 - accuracy: 0.9514\n",
      "Epoch 45/100\n",
      "1400/1400 [==============================] - 0s 43us/step - loss: 0.0542 - accuracy: 0.9536\n",
      "Epoch 46/100\n",
      "1400/1400 [==============================] - 0s 44us/step - loss: 0.0525 - accuracy: 0.9550\n",
      "Epoch 47/100\n",
      "1400/1400 [==============================] - 0s 44us/step - loss: 0.0508 - accuracy: 0.9593\n",
      "Epoch 48/100\n",
      "1400/1400 [==============================] - 0s 40us/step - loss: 0.0491 - accuracy: 0.9607\n",
      "Epoch 49/100\n",
      "1400/1400 [==============================] - 0s 44us/step - loss: 0.0476 - accuracy: 0.9607\n",
      "Epoch 50/100\n",
      "1400/1400 [==============================] - 0s 45us/step - loss: 0.0461 - accuracy: 0.9629\n",
      "Epoch 51/100\n",
      "1400/1400 [==============================] - 0s 48us/step - loss: 0.0447 - accuracy: 0.9614\n",
      "Epoch 52/100\n",
      "1400/1400 [==============================] - 0s 47us/step - loss: 0.0434 - accuracy: 0.9657\n",
      "Epoch 53/100\n",
      "1400/1400 [==============================] - 0s 57us/step - loss: 0.0422 - accuracy: 0.9693\n",
      "Epoch 54/100\n",
      "1400/1400 [==============================] - 0s 39us/step - loss: 0.0410 - accuracy: 0.9650\n",
      "Epoch 55/100\n",
      "1400/1400 [==============================] - 0s 41us/step - loss: 0.0399 - accuracy: 0.9679\n",
      "Epoch 56/100\n",
      "1400/1400 [==============================] - 0s 42us/step - loss: 0.0389 - accuracy: 0.9679\n",
      "Epoch 57/100\n",
      "1400/1400 [==============================] - 0s 47us/step - loss: 0.0379 - accuracy: 0.9729\n",
      "Epoch 58/100\n",
      "1400/1400 [==============================] - 0s 51us/step - loss: 0.0368 - accuracy: 0.9707\n",
      "Epoch 59/100\n",
      "1400/1400 [==============================] - 0s 48us/step - loss: 0.0362 - accuracy: 0.9736\n",
      "Epoch 60/100\n",
      "1400/1400 [==============================] - 0s 48us/step - loss: 0.0354 - accuracy: 0.9736\n",
      "Epoch 61/100\n",
      "1400/1400 [==============================] - 0s 45us/step - loss: 0.0344 - accuracy: 0.9736\n",
      "Epoch 62/100\n",
      "1400/1400 [==============================] - 0s 41us/step - loss: 0.0337 - accuracy: 0.9729\n",
      "Epoch 63/100\n",
      "1400/1400 [==============================] - 0s 37us/step - loss: 0.0329 - accuracy: 0.9764\n",
      "Epoch 64/100\n",
      "1400/1400 [==============================] - 0s 36us/step - loss: 0.0323 - accuracy: 0.9721\n",
      "Epoch 65/100\n",
      "1400/1400 [==============================] - 0s 37us/step - loss: 0.0317 - accuracy: 0.9743\n",
      "Epoch 66/100\n",
      "1400/1400 [==============================] - 0s 42us/step - loss: 0.0310 - accuracy: 0.9750\n",
      "Epoch 67/100\n",
      "1400/1400 [==============================] - 0s 45us/step - loss: 0.0304 - accuracy: 0.9779\n",
      "Epoch 68/100\n",
      "1400/1400 [==============================] - 0s 61us/step - loss: 0.0297 - accuracy: 0.9779\n",
      "Epoch 69/100\n",
      "1400/1400 [==============================] - 0s 41us/step - loss: 0.0293 - accuracy: 0.9757\n",
      "Epoch 70/100\n",
      "1400/1400 [==============================] - 0s 43us/step - loss: 0.0287 - accuracy: 0.9764\n",
      "Epoch 71/100\n",
      "1400/1400 [==============================] - 0s 46us/step - loss: 0.0281 - accuracy: 0.9757\n",
      "Epoch 72/100\n",
      "1400/1400 [==============================] - 0s 44us/step - loss: 0.0277 - accuracy: 0.9793\n",
      "Epoch 73/100\n",
      "1400/1400 [==============================] - 0s 44us/step - loss: 0.0272 - accuracy: 0.9793\n",
      "Epoch 74/100\n",
      "1400/1400 [==============================] - 0s 60us/step - loss: 0.0268 - accuracy: 0.9786\n",
      "Epoch 75/100\n",
      "1400/1400 [==============================] - 0s 56us/step - loss: 0.0264 - accuracy: 0.9764\n",
      "Epoch 76/100\n",
      "1400/1400 [==============================] - 0s 56us/step - loss: 0.0259 - accuracy: 0.9779\n",
      "Epoch 77/100\n"
     ]
    },
    {
     "name": "stdout",
     "output_type": "stream",
     "text": [
      "1400/1400 [==============================] - 0s 52us/step - loss: 0.0255 - accuracy: 0.9793\n",
      "Epoch 78/100\n",
      "1400/1400 [==============================] - 0s 52us/step - loss: 0.0252 - accuracy: 0.9793\n",
      "Epoch 79/100\n",
      "1400/1400 [==============================] - 0s 55us/step - loss: 0.0247 - accuracy: 0.9800\n",
      "Epoch 80/100\n",
      "1400/1400 [==============================] - 0s 52us/step - loss: 0.0244 - accuracy: 0.9807\n",
      "Epoch 81/100\n",
      "1400/1400 [==============================] - 0s 47us/step - loss: 0.0240 - accuracy: 0.9829\n",
      "Epoch 82/100\n",
      "1400/1400 [==============================] - 0s 49us/step - loss: 0.0238 - accuracy: 0.9807\n",
      "Epoch 83/100\n",
      "1400/1400 [==============================] - 0s 63us/step - loss: 0.0234 - accuracy: 0.9836\n",
      "Epoch 84/100\n",
      "1400/1400 [==============================] - 0s 49us/step - loss: 0.0232 - accuracy: 0.9807\n",
      "Epoch 85/100\n",
      "1400/1400 [==============================] - 0s 50us/step - loss: 0.0228 - accuracy: 0.9793\n",
      "Epoch 86/100\n",
      "1400/1400 [==============================] - 0s 48us/step - loss: 0.0226 - accuracy: 0.9821\n",
      "Epoch 87/100\n",
      "1400/1400 [==============================] - 0s 52us/step - loss: 0.0224 - accuracy: 0.9793\n",
      "Epoch 88/100\n",
      "1400/1400 [==============================] - 0s 48us/step - loss: 0.0220 - accuracy: 0.9814\n",
      "Epoch 89/100\n",
      "1400/1400 [==============================] - 0s 41us/step - loss: 0.0218 - accuracy: 0.9807\n",
      "Epoch 90/100\n",
      "1400/1400 [==============================] - 0s 36us/step - loss: 0.0214 - accuracy: 0.9807\n",
      "Epoch 91/100\n",
      "1400/1400 [==============================] - 0s 38us/step - loss: 0.0212 - accuracy: 0.9786\n",
      "Epoch 92/100\n",
      "1400/1400 [==============================] - 0s 35us/step - loss: 0.0211 - accuracy: 0.9829\n",
      "Epoch 93/100\n",
      "1400/1400 [==============================] - 0s 36us/step - loss: 0.0207 - accuracy: 0.9850\n",
      "Epoch 94/100\n",
      "1400/1400 [==============================] - 0s 35us/step - loss: 0.0205 - accuracy: 0.9850\n",
      "Epoch 95/100\n",
      "1400/1400 [==============================] - 0s 36us/step - loss: 0.0203 - accuracy: 0.9836\n",
      "Epoch 96/100\n",
      "1400/1400 [==============================] - 0s 35us/step - loss: 0.0202 - accuracy: 0.9807\n",
      "Epoch 97/100\n",
      "1400/1400 [==============================] - 0s 38us/step - loss: 0.0199 - accuracy: 0.9836\n",
      "Epoch 98/100\n",
      "1400/1400 [==============================] - 0s 36us/step - loss: 0.0198 - accuracy: 0.9843\n",
      "Epoch 99/100\n",
      "1400/1400 [==============================] - 0s 44us/step - loss: 0.0195 - accuracy: 0.9814\n",
      "Epoch 100/100\n",
      "1400/1400 [==============================] - 0s 38us/step - loss: 0.0193 - accuracy: 0.9836\n"
     ]
    }
   ],
   "source": [
    "# treinamento\n",
    "from tensorflow.keras.utils import to_categorical\n",
    "sgd = SGD(learning_rate=0.1, decay=1e-6, momentum=0.9)\n",
    "RN.compile(optimizer = sgd, loss = 'mean_squared_error', metrics = ['accuracy'])\n",
    "history = RN.fit(X_train_normalized, to_categorical(y_train), epochs = 100)"
   ]
  },
  {
   "cell_type": "code",
   "execution_count": 25,
   "metadata": {
    "ExecuteTime": {
     "end_time": "2022-05-26T12:30:30.734139Z",
     "start_time": "2022-05-26T12:30:30.673921Z"
    },
    "id": "JZjVf8oRYm1B"
   },
   "outputs": [
    {
     "name": "stdout",
     "output_type": "stream",
     "text": [
      "Test score: 0.022642147839069367\n",
      "Test accuracy: 0.9599999785423279\n"
     ]
    }
   ],
   "source": [
    "score = RN.evaluate(X_test_normalized, to_categorical(y_test), verbose = 0)\n",
    "print('Test score:', score[0])\n",
    "print('Test accuracy:', score[1])"
   ]
  },
  {
   "cell_type": "code",
   "execution_count": 26,
   "metadata": {
    "ExecuteTime": {
     "end_time": "2022-05-26T12:30:32.480641Z",
     "start_time": "2022-05-26T12:30:32.472226Z"
    },
    "id": "SbmXxpOAW95_"
   },
   "outputs": [
    {
     "data": {
      "text/plain": [
       "dict_keys(['loss', 'accuracy'])"
      ]
     },
     "execution_count": 26,
     "metadata": {},
     "output_type": "execute_result"
    }
   ],
   "source": [
    "history.history.keys()"
   ]
  },
  {
   "cell_type": "code",
   "execution_count": 27,
   "metadata": {
    "ExecuteTime": {
     "end_time": "2022-05-26T12:30:34.457132Z",
     "start_time": "2022-05-26T12:30:34.207722Z"
    },
    "id": "H99c-50g4le0"
   },
   "outputs": [
    {
     "data": {
      "image/png": "[encoded data removed]",
      "text/plain": [
       "<Figure size 432x288 with 1 Axes>"
      ]
     },
     "metadata": {
      "needs_background": "light"
     },
     "output_type": "display_data"
    }
   ],
   "source": [
    "# Gráfico do treinamento: custo do treino e validação\n",
    "import matplotlib.pyplot as plt\n",
    "plt.plot(history.history['loss'], label='train')\n",
    "plt.title('Loss')\n",
    "plt.ylabel('loss')\n",
    "plt.xlabel('época')\n",
    "plt.legend();"
   ]
  },
  {
   "cell_type": "code",
   "execution_count": 28,
   "metadata": {
    "ExecuteTime": {
     "end_time": "2022-05-26T12:30:35.793974Z",
     "start_time": "2022-05-26T12:30:35.520031Z"
    },
    "id": "10-zcHPpZWZ9"
   },
   "outputs": [
    {
     "data": {
      "image/png": "[encoded data removed]",
      "text/plain": [
       "<Figure size 432x288 with 1 Axes>"
      ]
     },
     "metadata": {
      "needs_background": "light"
     },
     "output_type": "display_data"
    }
   ],
   "source": [
    "plt.plot(history.history['accuracy'], label='train')\n",
    "plt.title('Acurácia')\n",
    "plt.ylabel('acurácia')\n",
    "plt.xlabel('época')\n",
    "plt.legend();"
   ]
  },
  {
   "cell_type": "code",
   "execution_count": 29,
   "metadata": {
    "ExecuteTime": {
     "end_time": "2022-05-26T12:30:36.687347Z",
     "start_time": "2022-05-26T12:30:36.649189Z"
    },
    "id": "HQZjGb0UZvnl"
   },
   "outputs": [],
   "source": [
    "# Previsão\n",
    "from sklearn.metrics import confusion_matrix\n",
    "y_test_predicted = RN.predict(X_test_normalized)\n",
    "y_test_predicted_indexes = np.argmax(y_test_predicted,axis=1)\n",
    "y_test_indexes = y_test.values"
   ]
  },
  {
   "cell_type": "code",
   "execution_count": 30,
   "metadata": {
    "ExecuteTime": {
     "end_time": "2022-05-26T12:30:38.036968Z",
     "start_time": "2022-05-26T12:30:38.020792Z"
    },
    "id": "9aw_ljZ5bDbv"
   },
   "outputs": [
    {
     "data": {
      "text/html": [
       "<div>\n",
       "<style scoped>\n",
       "    .dataframe tbody tr th:only-of-type {\n",
       "        vertical-align: middle;\n",
       "    }\n",
       "\n",
       "    .dataframe tbody tr th {\n",
       "        vertical-align: top;\n",
       "    }\n",
       "\n",
       "    .dataframe thead th {\n",
       "        text-align: right;\n",
       "    }\n",
       "</style>\n",
       "<table border=\"1\" class=\"dataframe\">\n",
       "  <thead>\n",
       "    <tr style=\"text-align: right;\">\n",
       "      <th></th>\n",
       "      <th>Real 0</th>\n",
       "      <th>Real 1</th>\n",
       "      <th>Real 2</th>\n",
       "      <th>Real 3</th>\n",
       "    </tr>\n",
       "  </thead>\n",
       "  <tbody>\n",
       "    <tr>\n",
       "      <th>Pred 0</th>\n",
       "      <td>146</td>\n",
       "      <td>4</td>\n",
       "      <td>0</td>\n",
       "      <td>0</td>\n",
       "    </tr>\n",
       "    <tr>\n",
       "      <th>Pred 1</th>\n",
       "      <td>4</td>\n",
       "      <td>143</td>\n",
       "      <td>6</td>\n",
       "      <td>0</td>\n",
       "    </tr>\n",
       "    <tr>\n",
       "      <th>Pred 2</th>\n",
       "      <td>0</td>\n",
       "      <td>3</td>\n",
       "      <td>142</td>\n",
       "      <td>5</td>\n",
       "    </tr>\n",
       "    <tr>\n",
       "      <th>Pred 3</th>\n",
       "      <td>0</td>\n",
       "      <td>0</td>\n",
       "      <td>2</td>\n",
       "      <td>145</td>\n",
       "    </tr>\n",
       "  </tbody>\n",
       "</table>\n",
       "</div>"
      ],
      "text/plain": [
       "        Real 0  Real 1  Real 2  Real 3\n",
       "Pred 0     146       4       0       0\n",
       "Pred 1       4     143       6       0\n",
       "Pred 2       0       3     142       5\n",
       "Pred 3       0       0       2     145"
      ]
     },
     "execution_count": 30,
     "metadata": {},
     "output_type": "execute_result"
    }
   ],
   "source": [
    "# Matriz de confusão\n",
    "confMatrix = confusion_matrix(y_test_predicted_indexes, y_test_indexes)\n",
    "pd.DataFrame(confMatrix, index=['Pred 0', 'Pred 1','Pred 2','Pred 3'], columns=['Real 0', 'Real 1', 'Real 2', 'Real 3'],) #matriz de confusão"
   ]
  },
  {
   "cell_type": "code",
   "execution_count": 31,
   "metadata": {
    "ExecuteTime": {
     "end_time": "2022-05-26T12:30:39.058349Z",
     "start_time": "2022-05-26T12:30:38.695598Z"
    },
    "id": "dEncCy4Cwww5"
   },
   "outputs": [
    {
     "data": {
      "image/png": "[encoded data removed]",
      "text/plain": [
       "<Figure size 432x288 with 2 Axes>"
      ]
     },
     "metadata": {
      "needs_background": "light"
     },
     "output_type": "display_data"
    }
   ],
   "source": [
    "ax = plt.subplot()\n",
    "sns.heatmap(confMatrix, annot=True, fmt=\".0f\", cmap='YlGnBu')\n",
    "plt.xlabel('Real')\n",
    "plt.ylabel('Previsto')\n",
    "plt.title('Matriz de Confusão')\n",
    "\n",
    "# Colocar os nomes\n",
    "ax.xaxis.set_ticklabels(['0', '1','2','3']) \n",
    "ax.yaxis.set_ticklabels(['0', '1','2','3'])\n",
    "plt.show()"
   ]
  },
  {
   "cell_type": "markdown",
   "metadata": {
    "id": "Hc4aoGXJZb8s"
   },
   "source": [
    "## Retorne e rode novamente o modelo separando 20% do conjunto de treino para validação. Refaça os gráficos de loss e acurácia para incluir as métricas de validação também.\n",
    "Dica: parâmetro validation_split da função fit().\n"
   ]
  },
  {
   "cell_type": "code",
   "execution_count": null,
   "metadata": {
    "id": "S2jt1BTFQJa7"
   },
   "outputs": [],
   "source": []
  }
 ],
 "metadata": {
  "accelerator": "TPU",
  "colab": {
   "collapsed_sections": [],
   "name": "Aula1_RN_mobile.ipynb",
   "provenance": []
  },
  "kernelspec": {
   "display_name": "Python 3 (ipykernel)",
   "language": "python",
   "name": "python3"
  },
  "language_info": {
   "codemirror_mode": {
    "name": "ipython",
    "version": 3
   },
   "file_extension": ".py",
   "mimetype": "text/x-python",
   "name": "python",
   "nbconvert_exporter": "python",
   "pygments_lexer": "ipython3",
   "version": "3.7.12"
  }
 },
 "nbformat": 4,
 "nbformat_minor": 1
}
