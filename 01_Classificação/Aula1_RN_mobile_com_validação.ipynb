{
 "cells": [
  {
   "cell_type": "markdown",
   "metadata": {
    "id": "DdqJg1YKmjXC"
   },
   "source": [
    "# Classificação de celulares"
   ]
  },
  {
   "cell_type": "markdown",
   "metadata": {
    "id": "ESwS4GPDmzhy"
   },
   "source": [
    "### Importacao de bibliotecas"
   ]
  },
  {
   "cell_type": "code",
   "execution_count": null,
   "metadata": {
    "id": "keXOY9uF5FbU"
   },
   "outputs": [],
   "source": [
    "import numpy as np\n",
    "import pandas as pd"
   ]
  },
  {
   "cell_type": "code",
   "execution_count": null,
   "metadata": {
    "id": "s2HHPi4qpWOJ"
   },
   "outputs": [],
   "source": [
    "#Carregar a base e visualizar primeiras linhas\n",
    "df1 = pd.read_csv('mobile.csv')\n",
    "df1.head()"
   ]
  },
  {
   "cell_type": "code",
   "execution_count": null,
   "metadata": {
    "id": "z_DLuMQreZpC"
   },
   "outputs": [],
   "source": [
    "# balanceamento da base\n",
    "df1.price_range.value_counts()"
   ]
  },
  {
   "cell_type": "code",
   "execution_count": null,
   "metadata": {
    "id": "SEjjJD0NMojn"
   },
   "outputs": [],
   "source": [
    "#vdimnesões da base\n",
    "df1.shape"
   ]
  },
  {
   "cell_type": "markdown",
   "metadata": {
    "id": "MbmhtkuUtklE"
   },
   "source": [
    "### Indicar a semente inicial e para divisão da base em treino e teste"
   ]
  },
  {
   "cell_type": "code",
   "execution_count": null,
   "metadata": {
    "id": "NQRJeOzItu5b"
   },
   "outputs": [],
   "source": [
    "np.random.seed(0) # semente inicial\n",
    "nlinhas = df1.shape[0]"
   ]
  },
  {
   "cell_type": "code",
   "execution_count": null,
   "metadata": {
    "id": "ytXEwoJ_EW5D"
   },
   "outputs": [],
   "source": [
    "from sklearn.model_selection import train_test_split\n",
    "x_train, x_test, y_train, y_test = train_test_split(df1.loc[:, df1.columns != 'price_range'], \n",
    "                                                    df1.price_range, \n",
    "                                                    test_size=0.3, \n",
    "                                                    stratify=df1.price_range)"
   ]
  },
  {
   "cell_type": "code",
   "execution_count": null,
   "metadata": {
    "id": "xgWsOpKuhqkb"
   },
   "outputs": [],
   "source": [
    "# total do teste\n",
    "0.3*2000"
   ]
  },
  {
   "cell_type": "code",
   "execution_count": null,
   "metadata": {
    "id": "YxjvRIwNgzsb"
   },
   "outputs": [],
   "source": [
    "# proporção por classe\n",
    "0.3*500"
   ]
  },
  {
   "cell_type": "code",
   "execution_count": null,
   "metadata": {
    "id": "OIVGeFSxg3Ek"
   },
   "outputs": [],
   "source": [
    "# Manter proporções das classes\n",
    "print(y_test.value_counts())"
   ]
  },
  {
   "cell_type": "code",
   "execution_count": null,
   "metadata": {
    "id": "U27gOyzTh3NF"
   },
   "outputs": [],
   "source": [
    "y_test.shape"
   ]
  },
  {
   "cell_type": "code",
   "execution_count": null,
   "metadata": {
    "id": "4iZMOC_etTqN"
   },
   "outputs": [],
   "source": [
    "# alguns dados estatisticos por atributo\n",
    "x_train.describe()"
   ]
  },
  {
   "cell_type": "markdown",
   "metadata": {
    "id": "uqbR9OgKg_nG"
   },
   "source": [
    "## **Normalizando os Dados**"
   ]
  },
  {
   "cell_type": "code",
   "execution_count": null,
   "metadata": {
    "id": "gR7nT_CDhC-x"
   },
   "outputs": [],
   "source": [
    "from sklearn.preprocessing import StandardScaler\n",
    "preprocessParams = StandardScaler().fit(x_train)\n",
    "X_train_normalized = preprocessParams.transform(x_train)\n",
    "X_test_normalized = preprocessParams.transform(x_test)"
   ]
  },
  {
   "cell_type": "markdown",
   "metadata": {
    "id": "ShoO1BwrYDYp"
   },
   "source": [
    "# Rede Neural"
   ]
  },
  {
   "cell_type": "code",
   "execution_count": null,
   "metadata": {
    "id": "hgX9AMhS2iFy"
   },
   "outputs": [],
   "source": [
    "from keras import Sequential\n",
    "from keras.layers import Dense\n",
    "from tensorflow.keras.optimizers import SGD"
   ]
  },
  {
   "cell_type": "code",
   "execution_count": null,
   "metadata": {
    "id": "NWXnTlz03okl"
   },
   "outputs": [],
   "source": [
    "NumberOfClasses = len(y_train.unique())\n",
    "NumberOfClasses"
   ]
  },
  {
   "cell_type": "code",
   "execution_count": null,
   "metadata": {
    "id": "QyKc1qZWu9pM"
   },
   "outputs": [],
   "source": [
    "RN = Sequential()\n",
    "RN.add(Dense(20, input_shape=X_train_normalized.shape[1:], activation='sigmoid'))\n",
    "RN.add(Dense(NumberOfClasses, activation='sigmoid'))\n",
    "RN.summary()"
   ]
  },
  {
   "cell_type": "code",
   "execution_count": null,
   "metadata": {
    "id": "X3gFJdaa3Uqe"
   },
   "outputs": [],
   "source": [
    "# treinamento\n",
    "from tensorflow.keras.utils import to_categorical\n",
    "sgd = SGD(learning_rate=0.1, decay=1e-6, momentum=0.9)\n",
    "RN.compile(optimizer=sgd, loss='mean_squared_error', metrics=['accuracy'])\n",
    "history = RN.fit(X_train_normalized,to_categorical(y_train), epochs = 150, validation_split=0.2)"
   ]
  },
  {
   "cell_type": "code",
   "execution_count": null,
   "metadata": {
    "id": "JZjVf8oRYm1B"
   },
   "outputs": [],
   "source": [
    "score = RN.evaluate(X_test_normalized, to_categorical(y_test), verbose = 0)\n",
    "print('Test score:', score[0])\n",
    "print('Test accuracy:', score[1])"
   ]
  },
  {
   "cell_type": "code",
   "execution_count": null,
   "metadata": {
    "id": "H99c-50g4le0"
   },
   "outputs": [],
   "source": [
    "# Gráfico do treinamento: custo do treino e validação\n",
    "import matplotlib.pyplot as plt \n",
    "plt.plot(history.history['loss'], label='train')\n",
    "plt.plot(history.history['val_loss'], label='validation')\n",
    "plt.title('Loss de treino e validação')\n",
    "plt.ylabel('loss')\n",
    "plt.xlabel('época')\n",
    "plt.legend();"
   ]
  },
  {
   "cell_type": "code",
   "execution_count": null,
   "metadata": {
    "id": "uxMS2rKVrjqa"
   },
   "outputs": [],
   "source": [
    "plt.plot(history.history['accuracy'], label='train')\n",
    "plt.plot(history.history['val_accuracy'], label='validation')\n",
    "plt.title('Acurácia de treino e validação')\n",
    "plt.ylabel('acurácia')\n",
    "plt.xlabel('época')\n",
    "plt.legend();"
   ]
  },
  {
   "cell_type": "code",
   "execution_count": null,
   "metadata": {
    "id": "HQZjGb0UZvnl"
   },
   "outputs": [],
   "source": [
    "# Previsão\n",
    "from sklearn.metrics import confusion_matrix\n",
    "y_test_predicted = RN.predict(X_test_normalized)\n",
    "y_test_predicted[0:5]"
   ]
  },
  {
   "cell_type": "code",
   "execution_count": null,
   "metadata": {
    "id": "KzSTldnit19C"
   },
   "outputs": [],
   "source": [
    "y_test_predicted_indexes = np.argmax(y_test_predicted,axis=1)\n",
    "print(y_test_predicted_indexes[0:5])\n",
    "y_test_indexes = y_test.values"
   ]
  },
  {
   "cell_type": "code",
   "execution_count": null,
   "metadata": {
    "id": "9aw_ljZ5bDbv"
   },
   "outputs": [],
   "source": [
    "# Matriz de confusão\n",
    "confMatrix = confusion_matrix(y_test_predicted_indexes, y_test_indexes)\n",
    "pd.DataFrame(confMatrix, index=['Pred 0', 'Pred 1','Pred 2','Pred 3'], \n",
    "             columns=['Real 0', 'Real 1', 'Real 2', 'Real 3'],) #matriz de confusão"
   ]
  },
  {
   "cell_type": "code",
   "execution_count": null,
   "metadata": {
    "id": "dEncCy4Cwww5"
   },
   "outputs": [],
   "source": [
    "import seaborn as sns\n",
    "ax = plt.subplot()\n",
    "sns.heatmap(confMatrix, annot=True, fmt=\".0f\")\n",
    "plt.xlabel('Real')\n",
    "plt.ylabel('Previsto')\n",
    "plt.title('Matriz de Confusão')\n",
    "\n",
    "# Colocar os nomes\n",
    "ax.xaxis.set_ticklabels(['0', '1','2','3']) \n",
    "ax.yaxis.set_ticklabels(['0', '1','2','3'])\n",
    "plt.show()"
   ]
  },
  {
   "cell_type": "code",
   "execution_count": null,
   "metadata": {
    "id": "g1HA7vRY0Ewx"
   },
   "outputs": [],
   "source": []
  }
 ],
 "metadata": {
  "accelerator": "TPU",
  "colab": {
   "collapsed_sections": [],
   "name": "Aula1_RN_mobile_com_validação.ipynb",
   "provenance": [
    {
     "file_id": "1utdBncoe6JBH-eHXtWFVQOeUoQelLQQC",
     "timestamp": 1611608918260
    }
   ]
  },
  "kernelspec": {
   "display_name": "Python 3 (ipykernel)",
   "language": "python",
   "name": "python3"
  },
  "language_info": {
   "codemirror_mode": {
    "name": "ipython",
    "version": 3
   },
   "file_extension": ".py",
   "mimetype": "text/x-python",
   "name": "python",
   "nbconvert_exporter": "python",
   "pygments_lexer": "ipython3",
   "version": "3.8.11"
  }
 },
 "nbformat": 4,
 "nbformat_minor": 1
}
