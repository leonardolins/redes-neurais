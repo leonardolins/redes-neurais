{
 "cells": [
  {
   "cell_type": "markdown",
   "metadata": {
    "id": "FAxVjdtuA_5S"
   },
   "source": [
    "# Carregamento da Base"
   ]
  },
  {
   "cell_type": "code",
   "execution_count": 1,
   "metadata": {
    "ExecuteTime": {
     "end_time": "2022-04-10T20:55:33.037426Z",
     "start_time": "2022-04-10T20:55:32.306456Z"
    },
    "id": "JnP115CwA_5T"
   },
   "outputs": [],
   "source": [
    "import numpy as np\n",
    "import pandas as pd"
   ]
  },
  {
   "cell_type": "code",
   "execution_count": 2,
   "metadata": {
    "ExecuteTime": {
     "end_time": "2022-04-10T20:55:33.832608Z",
     "start_time": "2022-04-10T20:55:33.758771Z"
    },
    "id": "vA0XjL0LA_5a"
   },
   "outputs": [
    {
     "data": {
      "text/html": [
       "<div>\n",
       "<style scoped>\n",
       "    .dataframe tbody tr th:only-of-type {\n",
       "        vertical-align: middle;\n",
       "    }\n",
       "\n",
       "    .dataframe tbody tr th {\n",
       "        vertical-align: top;\n",
       "    }\n",
       "\n",
       "    .dataframe thead th {\n",
       "        text-align: right;\n",
       "    }\n",
       "</style>\n",
       "<table border=\"1\" class=\"dataframe\">\n",
       "  <thead>\n",
       "    <tr style=\"text-align: right;\">\n",
       "      <th></th>\n",
       "      <th>age</th>\n",
       "      <th>job</th>\n",
       "      <th>marital</th>\n",
       "      <th>education</th>\n",
       "      <th>default</th>\n",
       "      <th>balance</th>\n",
       "      <th>housing</th>\n",
       "      <th>loan</th>\n",
       "      <th>contact</th>\n",
       "      <th>day</th>\n",
       "      <th>month</th>\n",
       "      <th>duration</th>\n",
       "      <th>campaign</th>\n",
       "      <th>pdays</th>\n",
       "      <th>previous</th>\n",
       "      <th>poutcome</th>\n",
       "      <th>deposit</th>\n",
       "    </tr>\n",
       "  </thead>\n",
       "  <tbody>\n",
       "    <tr>\n",
       "      <th>0</th>\n",
       "      <td>59</td>\n",
       "      <td>admin.</td>\n",
       "      <td>married</td>\n",
       "      <td>secondary</td>\n",
       "      <td>no</td>\n",
       "      <td>2343</td>\n",
       "      <td>yes</td>\n",
       "      <td>no</td>\n",
       "      <td>unknown</td>\n",
       "      <td>5</td>\n",
       "      <td>may</td>\n",
       "      <td>1042</td>\n",
       "      <td>1</td>\n",
       "      <td>-1</td>\n",
       "      <td>0</td>\n",
       "      <td>unknown</td>\n",
       "      <td>yes</td>\n",
       "    </tr>\n",
       "    <tr>\n",
       "      <th>1</th>\n",
       "      <td>56</td>\n",
       "      <td>admin.</td>\n",
       "      <td>married</td>\n",
       "      <td>secondary</td>\n",
       "      <td>no</td>\n",
       "      <td>45</td>\n",
       "      <td>no</td>\n",
       "      <td>no</td>\n",
       "      <td>unknown</td>\n",
       "      <td>5</td>\n",
       "      <td>may</td>\n",
       "      <td>1467</td>\n",
       "      <td>1</td>\n",
       "      <td>-1</td>\n",
       "      <td>0</td>\n",
       "      <td>unknown</td>\n",
       "      <td>yes</td>\n",
       "    </tr>\n",
       "    <tr>\n",
       "      <th>2</th>\n",
       "      <td>41</td>\n",
       "      <td>technician</td>\n",
       "      <td>married</td>\n",
       "      <td>secondary</td>\n",
       "      <td>no</td>\n",
       "      <td>1270</td>\n",
       "      <td>yes</td>\n",
       "      <td>no</td>\n",
       "      <td>unknown</td>\n",
       "      <td>5</td>\n",
       "      <td>may</td>\n",
       "      <td>1389</td>\n",
       "      <td>1</td>\n",
       "      <td>-1</td>\n",
       "      <td>0</td>\n",
       "      <td>unknown</td>\n",
       "      <td>yes</td>\n",
       "    </tr>\n",
       "    <tr>\n",
       "      <th>3</th>\n",
       "      <td>55</td>\n",
       "      <td>services</td>\n",
       "      <td>married</td>\n",
       "      <td>secondary</td>\n",
       "      <td>no</td>\n",
       "      <td>2476</td>\n",
       "      <td>yes</td>\n",
       "      <td>no</td>\n",
       "      <td>unknown</td>\n",
       "      <td>5</td>\n",
       "      <td>may</td>\n",
       "      <td>579</td>\n",
       "      <td>1</td>\n",
       "      <td>-1</td>\n",
       "      <td>0</td>\n",
       "      <td>unknown</td>\n",
       "      <td>yes</td>\n",
       "    </tr>\n",
       "    <tr>\n",
       "      <th>4</th>\n",
       "      <td>54</td>\n",
       "      <td>admin.</td>\n",
       "      <td>married</td>\n",
       "      <td>tertiary</td>\n",
       "      <td>no</td>\n",
       "      <td>184</td>\n",
       "      <td>no</td>\n",
       "      <td>no</td>\n",
       "      <td>unknown</td>\n",
       "      <td>5</td>\n",
       "      <td>may</td>\n",
       "      <td>673</td>\n",
       "      <td>2</td>\n",
       "      <td>-1</td>\n",
       "      <td>0</td>\n",
       "      <td>unknown</td>\n",
       "      <td>yes</td>\n",
       "    </tr>\n",
       "  </tbody>\n",
       "</table>\n",
       "</div>"
      ],
      "text/plain": [
       "   age         job  marital  education default  balance housing loan  contact  \\\n",
       "0   59      admin.  married  secondary      no     2343     yes   no  unknown   \n",
       "1   56      admin.  married  secondary      no       45      no   no  unknown   \n",
       "2   41  technician  married  secondary      no     1270     yes   no  unknown   \n",
       "3   55    services  married  secondary      no     2476     yes   no  unknown   \n",
       "4   54      admin.  married   tertiary      no      184      no   no  unknown   \n",
       "\n",
       "   day month  duration  campaign  pdays  previous poutcome deposit  \n",
       "0    5   may      1042         1     -1         0  unknown     yes  \n",
       "1    5   may      1467         1     -1         0  unknown     yes  \n",
       "2    5   may      1389         1     -1         0  unknown     yes  \n",
       "3    5   may       579         1     -1         0  unknown     yes  \n",
       "4    5   may       673         2     -1         0  unknown     yes  "
      ]
     },
     "execution_count": 2,
     "metadata": {},
     "output_type": "execute_result"
    }
   ],
   "source": [
    "#Carregar a base e visualizar primeiras linhas\n",
    "df1 = pd.read_csv('bank.csv')  #header=-1 indica que não há linha de header\n",
    "df1.head()"
   ]
  },
  {
   "cell_type": "code",
   "execution_count": 3,
   "metadata": {
    "ExecuteTime": {
     "end_time": "2022-04-10T20:55:35.085294Z",
     "start_time": "2022-04-10T20:55:35.078114Z"
    },
    "id": "CbcVyT0KA_5h"
   },
   "outputs": [
    {
     "data": {
      "text/plain": [
       "(11162, 17)"
      ]
     },
     "execution_count": 3,
     "metadata": {},
     "output_type": "execute_result"
    }
   ],
   "source": [
    "#dimnesões da base\n",
    "df1.shape"
   ]
  },
  {
   "cell_type": "markdown",
   "metadata": {
    "id": "MFlGxC1qA_5r"
   },
   "source": [
    "# Converte atributos categóricos em binário"
   ]
  },
  {
   "cell_type": "code",
   "execution_count": 5,
   "metadata": {
    "ExecuteTime": {
     "end_time": "2022-04-10T20:55:51.252865Z",
     "start_time": "2022-04-10T20:55:51.247891Z"
    },
    "id": "uBBCtYsp41Tk"
   },
   "outputs": [],
   "source": [
    "#!pip install category-encoders"
   ]
  },
  {
   "cell_type": "code",
   "execution_count": 6,
   "metadata": {
    "ExecuteTime": {
     "end_time": "2022-04-10T20:55:53.620216Z",
     "start_time": "2022-04-10T20:55:53.608187Z"
    },
    "id": "RJECVSqa77Rx"
   },
   "outputs": [
    {
     "data": {
      "text/plain": [
       "age           int64\n",
       "job          object\n",
       "marital      object\n",
       "education    object\n",
       "default      object\n",
       "balance       int64\n",
       "housing      object\n",
       "loan         object\n",
       "contact      object\n",
       "day           int64\n",
       "month        object\n",
       "duration      int64\n",
       "campaign      int64\n",
       "pdays         int64\n",
       "previous      int64\n",
       "poutcome     object\n",
       "deposit      object\n",
       "dtype: object"
      ]
     },
     "execution_count": 6,
     "metadata": {},
     "output_type": "execute_result"
    }
   ],
   "source": [
    "df1.dtypes"
   ]
  },
  {
   "cell_type": "code",
   "execution_count": 7,
   "metadata": {
    "ExecuteTime": {
     "end_time": "2022-04-10T20:55:57.312449Z",
     "start_time": "2022-04-10T20:55:57.288692Z"
    },
    "id": "-OBogpOO41ch"
   },
   "outputs": [
    {
     "data": {
      "text/plain": [
       "Index(['job', 'marital', 'education', 'default', 'housing', 'loan', 'contact',\n",
       "       'month', 'poutcome'],\n",
       "      dtype='object')"
      ]
     },
     "execution_count": 7,
     "metadata": {},
     "output_type": "execute_result"
    }
   ],
   "source": [
    "categorical_columns = df1.select_dtypes(include=['object'])\n",
    "categorical_columns = categorical_columns.columns\n",
    "categorical_columns = categorical_columns[categorical_columns != 'deposit']\n",
    "categorical_columns"
   ]
  },
  {
   "cell_type": "code",
   "execution_count": 8,
   "metadata": {
    "ExecuteTime": {
     "end_time": "2022-04-10T20:56:01.573044Z",
     "start_time": "2022-04-10T20:56:00.109201Z"
    },
    "id": "DSn91a35A_5s"
   },
   "outputs": [
    {
     "data": {
      "text/html": [
       "<div>\n",
       "<style scoped>\n",
       "    .dataframe tbody tr th:only-of-type {\n",
       "        vertical-align: middle;\n",
       "    }\n",
       "\n",
       "    .dataframe tbody tr th {\n",
       "        vertical-align: top;\n",
       "    }\n",
       "\n",
       "    .dataframe thead th {\n",
       "        text-align: right;\n",
       "    }\n",
       "</style>\n",
       "<table border=\"1\" class=\"dataframe\">\n",
       "  <thead>\n",
       "    <tr style=\"text-align: right;\">\n",
       "      <th></th>\n",
       "      <th>job_0</th>\n",
       "      <th>job_1</th>\n",
       "      <th>job_2</th>\n",
       "      <th>job_3</th>\n",
       "      <th>marital_0</th>\n",
       "      <th>marital_1</th>\n",
       "      <th>education_0</th>\n",
       "      <th>education_1</th>\n",
       "      <th>education_2</th>\n",
       "      <th>default_0</th>\n",
       "      <th>...</th>\n",
       "      <th>loan_1</th>\n",
       "      <th>contact_0</th>\n",
       "      <th>contact_1</th>\n",
       "      <th>month_0</th>\n",
       "      <th>month_1</th>\n",
       "      <th>month_2</th>\n",
       "      <th>month_3</th>\n",
       "      <th>poutcome_0</th>\n",
       "      <th>poutcome_1</th>\n",
       "      <th>poutcome_2</th>\n",
       "    </tr>\n",
       "  </thead>\n",
       "  <tbody>\n",
       "    <tr>\n",
       "      <th>0</th>\n",
       "      <td>0</td>\n",
       "      <td>0</td>\n",
       "      <td>0</td>\n",
       "      <td>1</td>\n",
       "      <td>0</td>\n",
       "      <td>1</td>\n",
       "      <td>0</td>\n",
       "      <td>0</td>\n",
       "      <td>1</td>\n",
       "      <td>0</td>\n",
       "      <td>...</td>\n",
       "      <td>1</td>\n",
       "      <td>0</td>\n",
       "      <td>1</td>\n",
       "      <td>0</td>\n",
       "      <td>0</td>\n",
       "      <td>0</td>\n",
       "      <td>1</td>\n",
       "      <td>0</td>\n",
       "      <td>0</td>\n",
       "      <td>1</td>\n",
       "    </tr>\n",
       "    <tr>\n",
       "      <th>1</th>\n",
       "      <td>0</td>\n",
       "      <td>0</td>\n",
       "      <td>0</td>\n",
       "      <td>1</td>\n",
       "      <td>0</td>\n",
       "      <td>1</td>\n",
       "      <td>0</td>\n",
       "      <td>0</td>\n",
       "      <td>1</td>\n",
       "      <td>0</td>\n",
       "      <td>...</td>\n",
       "      <td>1</td>\n",
       "      <td>0</td>\n",
       "      <td>1</td>\n",
       "      <td>0</td>\n",
       "      <td>0</td>\n",
       "      <td>0</td>\n",
       "      <td>1</td>\n",
       "      <td>0</td>\n",
       "      <td>0</td>\n",
       "      <td>1</td>\n",
       "    </tr>\n",
       "    <tr>\n",
       "      <th>2</th>\n",
       "      <td>0</td>\n",
       "      <td>0</td>\n",
       "      <td>1</td>\n",
       "      <td>0</td>\n",
       "      <td>0</td>\n",
       "      <td>1</td>\n",
       "      <td>0</td>\n",
       "      <td>0</td>\n",
       "      <td>1</td>\n",
       "      <td>0</td>\n",
       "      <td>...</td>\n",
       "      <td>1</td>\n",
       "      <td>0</td>\n",
       "      <td>1</td>\n",
       "      <td>0</td>\n",
       "      <td>0</td>\n",
       "      <td>0</td>\n",
       "      <td>1</td>\n",
       "      <td>0</td>\n",
       "      <td>0</td>\n",
       "      <td>1</td>\n",
       "    </tr>\n",
       "    <tr>\n",
       "      <th>3</th>\n",
       "      <td>0</td>\n",
       "      <td>0</td>\n",
       "      <td>1</td>\n",
       "      <td>1</td>\n",
       "      <td>0</td>\n",
       "      <td>1</td>\n",
       "      <td>0</td>\n",
       "      <td>0</td>\n",
       "      <td>1</td>\n",
       "      <td>0</td>\n",
       "      <td>...</td>\n",
       "      <td>1</td>\n",
       "      <td>0</td>\n",
       "      <td>1</td>\n",
       "      <td>0</td>\n",
       "      <td>0</td>\n",
       "      <td>0</td>\n",
       "      <td>1</td>\n",
       "      <td>0</td>\n",
       "      <td>0</td>\n",
       "      <td>1</td>\n",
       "    </tr>\n",
       "    <tr>\n",
       "      <th>4</th>\n",
       "      <td>0</td>\n",
       "      <td>0</td>\n",
       "      <td>0</td>\n",
       "      <td>1</td>\n",
       "      <td>0</td>\n",
       "      <td>1</td>\n",
       "      <td>0</td>\n",
       "      <td>1</td>\n",
       "      <td>0</td>\n",
       "      <td>0</td>\n",
       "      <td>...</td>\n",
       "      <td>1</td>\n",
       "      <td>0</td>\n",
       "      <td>1</td>\n",
       "      <td>0</td>\n",
       "      <td>0</td>\n",
       "      <td>0</td>\n",
       "      <td>1</td>\n",
       "      <td>0</td>\n",
       "      <td>0</td>\n",
       "      <td>1</td>\n",
       "    </tr>\n",
       "  </tbody>\n",
       "</table>\n",
       "<p>5 rows × 24 columns</p>\n",
       "</div>"
      ],
      "text/plain": [
       "   job_0  job_1  job_2  job_3  marital_0  marital_1  education_0  education_1  \\\n",
       "0      0      0      0      1          0          1            0            0   \n",
       "1      0      0      0      1          0          1            0            0   \n",
       "2      0      0      1      0          0          1            0            0   \n",
       "3      0      0      1      1          0          1            0            0   \n",
       "4      0      0      0      1          0          1            0            1   \n",
       "\n",
       "   education_2  default_0  ...  loan_1  contact_0  contact_1  month_0  \\\n",
       "0            1          0  ...       1          0          1        0   \n",
       "1            1          0  ...       1          0          1        0   \n",
       "2            1          0  ...       1          0          1        0   \n",
       "3            1          0  ...       1          0          1        0   \n",
       "4            0          0  ...       1          0          1        0   \n",
       "\n",
       "   month_1  month_2  month_3  poutcome_0  poutcome_1  poutcome_2  \n",
       "0        0        0        1           0           0           1  \n",
       "1        0        0        1           0           0           1  \n",
       "2        0        0        1           0           0           1  \n",
       "3        0        0        1           0           0           1  \n",
       "4        0        0        1           0           0           1  \n",
       "\n",
       "[5 rows x 24 columns]"
      ]
     },
     "execution_count": 8,
     "metadata": {},
     "output_type": "execute_result"
    }
   ],
   "source": [
    "import category_encoders as ce\n",
    "encoder = ce.BinaryEncoder()\n",
    "df_binary = encoder.fit_transform(df1.loc[:,categorical_columns])\n",
    "df_binary.head()"
   ]
  },
  {
   "cell_type": "markdown",
   "metadata": {
    "id": "j-pe7vU_A_5w"
   },
   "source": [
    "# Divisão em treino e teste"
   ]
  },
  {
   "cell_type": "code",
   "execution_count": 9,
   "metadata": {
    "ExecuteTime": {
     "end_time": "2022-04-10T20:56:03.481812Z",
     "start_time": "2022-04-10T20:56:03.471096Z"
    },
    "id": "IlW979TC5xqE"
   },
   "outputs": [
    {
     "data": {
      "text/plain": [
       "array(['age', 'balance', 'day', 'duration', 'campaign', 'pdays',\n",
       "       'previous', 'deposit'], dtype=object)"
      ]
     },
     "execution_count": 9,
     "metadata": {},
     "output_type": "execute_result"
    }
   ],
   "source": [
    "int_columns = df1.select_dtypes(include=['int'])\n",
    "int_columns = int_columns.columns.values\n",
    "columns = np.append(int_columns, 'deposit')\n",
    "columns"
   ]
  },
  {
   "cell_type": "code",
   "execution_count": 10,
   "metadata": {
    "ExecuteTime": {
     "end_time": "2022-04-10T20:56:04.307357Z",
     "start_time": "2022-04-10T20:56:04.277255Z"
    },
    "id": "d70fT0m2A_5x"
   },
   "outputs": [
    {
     "data": {
      "text/html": [
       "<div>\n",
       "<style scoped>\n",
       "    .dataframe tbody tr th:only-of-type {\n",
       "        vertical-align: middle;\n",
       "    }\n",
       "\n",
       "    .dataframe tbody tr th {\n",
       "        vertical-align: top;\n",
       "    }\n",
       "\n",
       "    .dataframe thead th {\n",
       "        text-align: right;\n",
       "    }\n",
       "</style>\n",
       "<table border=\"1\" class=\"dataframe\">\n",
       "  <thead>\n",
       "    <tr style=\"text-align: right;\">\n",
       "      <th></th>\n",
       "      <th>job_0</th>\n",
       "      <th>job_1</th>\n",
       "      <th>job_2</th>\n",
       "      <th>job_3</th>\n",
       "      <th>marital_0</th>\n",
       "      <th>marital_1</th>\n",
       "      <th>education_0</th>\n",
       "      <th>education_1</th>\n",
       "      <th>education_2</th>\n",
       "      <th>default_0</th>\n",
       "      <th>...</th>\n",
       "      <th>poutcome_1</th>\n",
       "      <th>poutcome_2</th>\n",
       "      <th>age</th>\n",
       "      <th>balance</th>\n",
       "      <th>day</th>\n",
       "      <th>duration</th>\n",
       "      <th>campaign</th>\n",
       "      <th>pdays</th>\n",
       "      <th>previous</th>\n",
       "      <th>deposit</th>\n",
       "    </tr>\n",
       "  </thead>\n",
       "  <tbody>\n",
       "    <tr>\n",
       "      <th>0</th>\n",
       "      <td>0</td>\n",
       "      <td>0</td>\n",
       "      <td>0</td>\n",
       "      <td>1</td>\n",
       "      <td>0</td>\n",
       "      <td>1</td>\n",
       "      <td>0</td>\n",
       "      <td>0</td>\n",
       "      <td>1</td>\n",
       "      <td>0</td>\n",
       "      <td>...</td>\n",
       "      <td>0</td>\n",
       "      <td>1</td>\n",
       "      <td>59</td>\n",
       "      <td>2343</td>\n",
       "      <td>5</td>\n",
       "      <td>1042</td>\n",
       "      <td>1</td>\n",
       "      <td>-1</td>\n",
       "      <td>0</td>\n",
       "      <td>yes</td>\n",
       "    </tr>\n",
       "    <tr>\n",
       "      <th>1</th>\n",
       "      <td>0</td>\n",
       "      <td>0</td>\n",
       "      <td>0</td>\n",
       "      <td>1</td>\n",
       "      <td>0</td>\n",
       "      <td>1</td>\n",
       "      <td>0</td>\n",
       "      <td>0</td>\n",
       "      <td>1</td>\n",
       "      <td>0</td>\n",
       "      <td>...</td>\n",
       "      <td>0</td>\n",
       "      <td>1</td>\n",
       "      <td>56</td>\n",
       "      <td>45</td>\n",
       "      <td>5</td>\n",
       "      <td>1467</td>\n",
       "      <td>1</td>\n",
       "      <td>-1</td>\n",
       "      <td>0</td>\n",
       "      <td>yes</td>\n",
       "    </tr>\n",
       "    <tr>\n",
       "      <th>2</th>\n",
       "      <td>0</td>\n",
       "      <td>0</td>\n",
       "      <td>1</td>\n",
       "      <td>0</td>\n",
       "      <td>0</td>\n",
       "      <td>1</td>\n",
       "      <td>0</td>\n",
       "      <td>0</td>\n",
       "      <td>1</td>\n",
       "      <td>0</td>\n",
       "      <td>...</td>\n",
       "      <td>0</td>\n",
       "      <td>1</td>\n",
       "      <td>41</td>\n",
       "      <td>1270</td>\n",
       "      <td>5</td>\n",
       "      <td>1389</td>\n",
       "      <td>1</td>\n",
       "      <td>-1</td>\n",
       "      <td>0</td>\n",
       "      <td>yes</td>\n",
       "    </tr>\n",
       "    <tr>\n",
       "      <th>3</th>\n",
       "      <td>0</td>\n",
       "      <td>0</td>\n",
       "      <td>1</td>\n",
       "      <td>1</td>\n",
       "      <td>0</td>\n",
       "      <td>1</td>\n",
       "      <td>0</td>\n",
       "      <td>0</td>\n",
       "      <td>1</td>\n",
       "      <td>0</td>\n",
       "      <td>...</td>\n",
       "      <td>0</td>\n",
       "      <td>1</td>\n",
       "      <td>55</td>\n",
       "      <td>2476</td>\n",
       "      <td>5</td>\n",
       "      <td>579</td>\n",
       "      <td>1</td>\n",
       "      <td>-1</td>\n",
       "      <td>0</td>\n",
       "      <td>yes</td>\n",
       "    </tr>\n",
       "    <tr>\n",
       "      <th>4</th>\n",
       "      <td>0</td>\n",
       "      <td>0</td>\n",
       "      <td>0</td>\n",
       "      <td>1</td>\n",
       "      <td>0</td>\n",
       "      <td>1</td>\n",
       "      <td>0</td>\n",
       "      <td>1</td>\n",
       "      <td>0</td>\n",
       "      <td>0</td>\n",
       "      <td>...</td>\n",
       "      <td>0</td>\n",
       "      <td>1</td>\n",
       "      <td>54</td>\n",
       "      <td>184</td>\n",
       "      <td>5</td>\n",
       "      <td>673</td>\n",
       "      <td>2</td>\n",
       "      <td>-1</td>\n",
       "      <td>0</td>\n",
       "      <td>yes</td>\n",
       "    </tr>\n",
       "  </tbody>\n",
       "</table>\n",
       "<p>5 rows × 32 columns</p>\n",
       "</div>"
      ],
      "text/plain": [
       "   job_0  job_1  job_2  job_3  marital_0  marital_1  education_0  education_1  \\\n",
       "0      0      0      0      1          0          1            0            0   \n",
       "1      0      0      0      1          0          1            0            0   \n",
       "2      0      0      1      0          0          1            0            0   \n",
       "3      0      0      1      1          0          1            0            0   \n",
       "4      0      0      0      1          0          1            0            1   \n",
       "\n",
       "   education_2  default_0  ...  poutcome_1  poutcome_2  age  balance  day  \\\n",
       "0            1          0  ...           0           1   59     2343    5   \n",
       "1            1          0  ...           0           1   56       45    5   \n",
       "2            1          0  ...           0           1   41     1270    5   \n",
       "3            1          0  ...           0           1   55     2476    5   \n",
       "4            0          0  ...           0           1   54      184    5   \n",
       "\n",
       "   duration  campaign  pdays  previous  deposit  \n",
       "0      1042         1     -1         0      yes  \n",
       "1      1467         1     -1         0      yes  \n",
       "2      1389         1     -1         0      yes  \n",
       "3       579         1     -1         0      yes  \n",
       "4       673         2     -1         0      yes  \n",
       "\n",
       "[5 rows x 32 columns]"
      ]
     },
     "execution_count": 10,
     "metadata": {},
     "output_type": "execute_result"
    }
   ],
   "source": [
    "df1 = pd.concat([df_binary, df1.loc[:,columns]], axis=1)\n",
    "df1.head()"
   ]
  },
  {
   "cell_type": "code",
   "execution_count": 11,
   "metadata": {
    "ExecuteTime": {
     "end_time": "2022-04-10T20:56:04.997943Z",
     "start_time": "2022-04-10T20:56:04.990917Z"
    },
    "id": "KVNITwJzA_52"
   },
   "outputs": [],
   "source": [
    "import random\n",
    "np.random.seed(1) #semente inicial\n",
    "nlinhas = df1.shape[0]"
   ]
  },
  {
   "cell_type": "code",
   "execution_count": 12,
   "metadata": {
    "ExecuteTime": {
     "end_time": "2022-04-10T20:56:05.790655Z",
     "start_time": "2022-04-10T20:56:05.702707Z"
    },
    "id": "QMNCZXiVA_55"
   },
   "outputs": [],
   "source": [
    "from sklearn.model_selection import train_test_split\n",
    "x_train, x_test, y_train, y_test = train_test_split(df1.loc[:,'job_0':'previous'], df1.loc[:,'deposit'], test_size=0.2)"
   ]
  },
  {
   "cell_type": "code",
   "execution_count": 13,
   "metadata": {
    "ExecuteTime": {
     "end_time": "2022-04-10T20:56:06.213385Z",
     "start_time": "2022-04-10T20:56:06.201279Z"
    },
    "id": "AZAfI_5J4yK4"
   },
   "outputs": [
    {
     "data": {
      "text/plain": [
       "no     1165\n",
       "yes    1068\n",
       "Name: deposit, dtype: int64"
      ]
     },
     "execution_count": 13,
     "metadata": {},
     "output_type": "execute_result"
    }
   ],
   "source": [
    "y_test.value_counts()"
   ]
  },
  {
   "cell_type": "markdown",
   "metadata": {
    "id": "97YQ77pLA_59"
   },
   "source": [
    "# Normalização"
   ]
  },
  {
   "cell_type": "code",
   "execution_count": 14,
   "metadata": {
    "ExecuteTime": {
     "end_time": "2022-04-10T20:56:07.166386Z",
     "start_time": "2022-04-10T20:56:07.150788Z"
    },
    "id": "H4yasoJBA_5-"
   },
   "outputs": [],
   "source": [
    "from sklearn import preprocessing\n",
    "preprocessParams = preprocessing.StandardScaler().fit(x_train)"
   ]
  },
  {
   "cell_type": "code",
   "execution_count": 15,
   "metadata": {
    "ExecuteTime": {
     "end_time": "2022-04-10T20:56:07.772526Z",
     "start_time": "2022-04-10T20:56:07.758580Z"
    },
    "id": "Wd94UuIDA_6B"
   },
   "outputs": [],
   "source": [
    "X_train_normalized = preprocessParams.transform(x_train)\n",
    "X_test_normalized = preprocessParams.transform(x_test)"
   ]
  },
  {
   "cell_type": "markdown",
   "metadata": {
    "id": "YORIxwjrA_6F"
   },
   "source": [
    "# Treinamento da Rede Neural"
   ]
  },
  {
   "cell_type": "code",
   "execution_count": 16,
   "metadata": {
    "ExecuteTime": {
     "end_time": "2022-04-10T20:56:13.615544Z",
     "start_time": "2022-04-10T20:56:08.725456Z"
    },
    "id": "VlYcf4w3A_6G"
   },
   "outputs": [],
   "source": [
    "from keras import Sequential\n",
    "from keras.layers import Dense"
   ]
  },
  {
   "cell_type": "code",
   "execution_count": 17,
   "metadata": {
    "ExecuteTime": {
     "end_time": "2022-04-10T20:56:14.482653Z",
     "start_time": "2022-04-10T20:56:14.475503Z"
    },
    "id": "rsLlyisx9BXK"
   },
   "outputs": [
    {
     "data": {
      "text/plain": [
       "(8929, 31)"
      ]
     },
     "execution_count": 17,
     "metadata": {},
     "output_type": "execute_result"
    }
   ],
   "source": [
    "x_train.shape"
   ]
  },
  {
   "cell_type": "code",
   "execution_count": 18,
   "metadata": {
    "ExecuteTime": {
     "end_time": "2022-04-10T20:56:15.092286Z",
     "start_time": "2022-04-10T20:56:14.997070Z"
    },
    "id": "ScZcz1WSA_6I"
   },
   "outputs": [
    {
     "name": "stdout",
     "output_type": "stream",
     "text": [
      "Model: \"sequential\"\n",
      "_________________________________________________________________\n",
      "Layer (type)                 Output Shape              Param #   \n",
      "=================================================================\n",
      "dense (Dense)                (None, 22)                704       \n",
      "_________________________________________________________________\n",
      "dense_1 (Dense)              (None, 10)                230       \n",
      "_________________________________________________________________\n",
      "dense_2 (Dense)              (None, 2)                 22        \n",
      "=================================================================\n",
      "Total params: 956\n",
      "Trainable params: 956\n",
      "Non-trainable params: 0\n",
      "_________________________________________________________________\n"
     ]
    }
   ],
   "source": [
    "RN = Sequential()\n",
    "RN.add(Dense(22,input_shape = X_train_normalized.shape[1:], activation = 'sigmoid'))\n",
    "RN.add(Dense(10, activation = 'sigmoid'))\n",
    "RN.add(Dense(2,activation = 'sigmoid'))\n",
    "RN.summary()"
   ]
  },
  {
   "cell_type": "code",
   "execution_count": 19,
   "metadata": {
    "ExecuteTime": {
     "end_time": "2022-04-10T20:56:16.015275Z",
     "start_time": "2022-04-10T20:56:15.997277Z"
    },
    "id": "kRbNrMMYA_6M"
   },
   "outputs": [],
   "source": [
    "# Transformação Dummy\n",
    "from sklearn.preprocessing import OneHotEncoder\n",
    "encoder = OneHotEncoder(handle_unknown = 'ignore')\n",
    "encoder.fit(pd.DataFrame(y_train))\n",
    "\n",
    "y_train = encoder.transform(pd.DataFrame(y_train)).toarray()\n",
    "y_test = encoder.transform(pd.DataFrame(y_test)).toarray()"
   ]
  },
  {
   "cell_type": "code",
   "execution_count": 20,
   "metadata": {
    "ExecuteTime": {
     "end_time": "2022-04-10T20:56:16.630528Z",
     "start_time": "2022-04-10T20:56:16.621360Z"
    },
    "id": "YQt7HOrn9YXE"
   },
   "outputs": [
    {
     "data": {
      "text/plain": [
       "array([[1., 0.],\n",
       "       [0., 1.],\n",
       "       [1., 0.],\n",
       "       ...,\n",
       "       [0., 1.],\n",
       "       [0., 1.],\n",
       "       [0., 1.]])"
      ]
     },
     "execution_count": 20,
     "metadata": {},
     "output_type": "execute_result"
    }
   ],
   "source": [
    "y_train"
   ]
  },
  {
   "cell_type": "code",
   "execution_count": 21,
   "metadata": {
    "ExecuteTime": {
     "end_time": "2022-04-10T20:56:57.672757Z",
     "start_time": "2022-04-10T20:56:17.261684Z"
    },
    "id": "ljgPXybOA_6Q"
   },
   "outputs": [
    {
     "name": "stderr",
     "output_type": "stream",
     "text": [
      "2022-04-10 17:56:17.374513: I tensorflow/compiler/mlir/mlir_graph_optimization_pass.cc:185] None of the MLIR Optimization Passes are enabled (registered 2)\n"
     ]
    },
    {
     "name": "stdout",
     "output_type": "stream",
     "text": [
      "Epoch 1/100\n",
      "224/224 [==============================] - 1s 3ms/step - loss: 0.2993 - accuracy: 0.4768 - val_loss: 0.2869 - val_accuracy: 0.4563\n",
      "Epoch 2/100\n",
      "224/224 [==============================] - 0s 2ms/step - loss: 0.2690 - accuracy: 0.4768 - val_loss: 0.2635 - val_accuracy: 0.4563\n",
      "Epoch 3/100\n",
      "224/224 [==============================] - 0s 2ms/step - loss: 0.2554 - accuracy: 0.4768 - val_loss: 0.2536 - val_accuracy: 0.4563\n",
      "Epoch 4/100\n",
      "224/224 [==============================] - 0s 2ms/step - loss: 0.2503 - accuracy: 0.4799 - val_loss: 0.2498 - val_accuracy: 0.4793\n",
      "Epoch 5/100\n",
      "224/224 [==============================] - 0s 2ms/step - loss: 0.2484 - accuracy: 0.5568 - val_loss: 0.2480 - val_accuracy: 0.5997\n",
      "Epoch 6/100\n",
      "224/224 [==============================] - 0s 2ms/step - loss: 0.2476 - accuracy: 0.6062 - val_loss: 0.2471 - val_accuracy: 0.6013\n",
      "Epoch 7/100\n",
      "224/224 [==============================] - 0s 2ms/step - loss: 0.2471 - accuracy: 0.5922 - val_loss: 0.2464 - val_accuracy: 0.5868\n",
      "Epoch 8/100\n",
      "224/224 [==============================] - 0s 2ms/step - loss: 0.2466 - accuracy: 0.5712 - val_loss: 0.2460 - val_accuracy: 0.5851\n",
      "Epoch 9/100\n",
      "224/224 [==============================] - 0s 2ms/step - loss: 0.2463 - accuracy: 0.5743 - val_loss: 0.2456 - val_accuracy: 0.5840\n",
      "Epoch 10/100\n",
      "224/224 [==============================] - 0s 2ms/step - loss: 0.2459 - accuracy: 0.5733 - val_loss: 0.2452 - val_accuracy: 0.5817\n",
      "Epoch 11/100\n",
      "224/224 [==============================] - 0s 2ms/step - loss: 0.2455 - accuracy: 0.5723 - val_loss: 0.2448 - val_accuracy: 0.5924\n",
      "Epoch 12/100\n",
      "224/224 [==============================] - 0s 2ms/step - loss: 0.2451 - accuracy: 0.5881 - val_loss: 0.2444 - val_accuracy: 0.5924\n",
      "Epoch 13/100\n",
      "224/224 [==============================] - 0s 2ms/step - loss: 0.2447 - accuracy: 0.5869 - val_loss: 0.2440 - val_accuracy: 0.5946\n",
      "Epoch 14/100\n",
      "224/224 [==============================] - 0s 2ms/step - loss: 0.2443 - accuracy: 0.5923 - val_loss: 0.2436 - val_accuracy: 0.5997\n",
      "Epoch 15/100\n",
      "224/224 [==============================] - 0s 2ms/step - loss: 0.2439 - accuracy: 0.6013 - val_loss: 0.2432 - val_accuracy: 0.6041\n",
      "Epoch 16/100\n",
      "224/224 [==============================] - 0s 2ms/step - loss: 0.2434 - accuracy: 0.6076 - val_loss: 0.2428 - val_accuracy: 0.6047\n",
      "Epoch 17/100\n",
      "224/224 [==============================] - 0s 2ms/step - loss: 0.2430 - accuracy: 0.6051 - val_loss: 0.2423 - val_accuracy: 0.6103\n",
      "Epoch 18/100\n",
      "224/224 [==============================] - 0s 2ms/step - loss: 0.2425 - accuracy: 0.6116 - val_loss: 0.2419 - val_accuracy: 0.6198\n",
      "Epoch 19/100\n",
      "224/224 [==============================] - 0s 2ms/step - loss: 0.2420 - accuracy: 0.6195 - val_loss: 0.2414 - val_accuracy: 0.6226\n",
      "Epoch 20/100\n",
      "224/224 [==============================] - 0s 2ms/step - loss: 0.2414 - accuracy: 0.6163 - val_loss: 0.2409 - val_accuracy: 0.6282\n",
      "Epoch 21/100\n",
      "224/224 [==============================] - 0s 2ms/step - loss: 0.2409 - accuracy: 0.6298 - val_loss: 0.2404 - val_accuracy: 0.6288\n",
      "Epoch 22/100\n",
      "224/224 [==============================] - 0s 2ms/step - loss: 0.2403 - accuracy: 0.6298 - val_loss: 0.2398 - val_accuracy: 0.6288\n",
      "Epoch 23/100\n",
      "224/224 [==============================] - 0s 2ms/step - loss: 0.2397 - accuracy: 0.6356 - val_loss: 0.2393 - val_accuracy: 0.6310\n",
      "Epoch 24/100\n",
      "224/224 [==============================] - 0s 2ms/step - loss: 0.2391 - accuracy: 0.6433 - val_loss: 0.2386 - val_accuracy: 0.6338\n",
      "Epoch 25/100\n",
      "224/224 [==============================] - 0s 2ms/step - loss: 0.2385 - accuracy: 0.6472 - val_loss: 0.2380 - val_accuracy: 0.6366\n",
      "Epoch 26/100\n",
      "224/224 [==============================] - 0s 2ms/step - loss: 0.2378 - accuracy: 0.6461 - val_loss: 0.2373 - val_accuracy: 0.6478\n",
      "Epoch 27/100\n",
      "224/224 [==============================] - 0s 2ms/step - loss: 0.2371 - accuracy: 0.6562 - val_loss: 0.2366 - val_accuracy: 0.6506\n",
      "Epoch 28/100\n",
      "224/224 [==============================] - 0s 2ms/step - loss: 0.2363 - accuracy: 0.6597 - val_loss: 0.2359 - val_accuracy: 0.6523\n",
      "Epoch 29/100\n",
      "224/224 [==============================] - 0s 2ms/step - loss: 0.2355 - accuracy: 0.6633 - val_loss: 0.2351 - val_accuracy: 0.6601\n",
      "Epoch 30/100\n",
      "224/224 [==============================] - 0s 2ms/step - loss: 0.2347 - accuracy: 0.6669 - val_loss: 0.2344 - val_accuracy: 0.6685\n",
      "Epoch 31/100\n",
      "224/224 [==============================] - 0s 2ms/step - loss: 0.2339 - accuracy: 0.6706 - val_loss: 0.2336 - val_accuracy: 0.6814\n",
      "Epoch 32/100\n",
      "224/224 [==============================] - 0s 2ms/step - loss: 0.2330 - accuracy: 0.6721 - val_loss: 0.2328 - val_accuracy: 0.6876\n",
      "Epoch 33/100\n",
      "224/224 [==============================] - 0s 2ms/step - loss: 0.2320 - accuracy: 0.6930 - val_loss: 0.2318 - val_accuracy: 0.6865\n",
      "Epoch 34/100\n",
      "224/224 [==============================] - 0s 2ms/step - loss: 0.2311 - accuracy: 0.6850 - val_loss: 0.2308 - val_accuracy: 0.6881\n",
      "Epoch 35/100\n",
      "224/224 [==============================] - 0s 2ms/step - loss: 0.2301 - accuracy: 0.6910 - val_loss: 0.2298 - val_accuracy: 0.6898\n",
      "Epoch 36/100\n",
      "224/224 [==============================] - 0s 2ms/step - loss: 0.2290 - accuracy: 0.6914 - val_loss: 0.2288 - val_accuracy: 0.6954\n",
      "Epoch 37/100\n",
      "224/224 [==============================] - 0s 2ms/step - loss: 0.2279 - accuracy: 0.6973 - val_loss: 0.2278 - val_accuracy: 0.7032\n",
      "Epoch 38/100\n",
      "224/224 [==============================] - 0s 2ms/step - loss: 0.2268 - accuracy: 0.7024 - val_loss: 0.2267 - val_accuracy: 0.7049\n",
      "Epoch 39/100\n",
      "224/224 [==============================] - 0s 2ms/step - loss: 0.2256 - accuracy: 0.7056 - val_loss: 0.2255 - val_accuracy: 0.7066\n",
      "Epoch 40/100\n",
      "224/224 [==============================] - 0s 2ms/step - loss: 0.2244 - accuracy: 0.7053 - val_loss: 0.2244 - val_accuracy: 0.7100\n",
      "Epoch 41/100\n",
      "224/224 [==============================] - 0s 2ms/step - loss: 0.2232 - accuracy: 0.7098 - val_loss: 0.2232 - val_accuracy: 0.7128\n",
      "Epoch 42/100\n",
      "224/224 [==============================] - 0s 2ms/step - loss: 0.2219 - accuracy: 0.7176 - val_loss: 0.2219 - val_accuracy: 0.7133\n",
      "Epoch 43/100\n",
      "224/224 [==============================] - 0s 2ms/step - loss: 0.2206 - accuracy: 0.7141 - val_loss: 0.2206 - val_accuracy: 0.7167\n",
      "Epoch 44/100\n",
      "224/224 [==============================] - 0s 2ms/step - loss: 0.2192 - accuracy: 0.7215 - val_loss: 0.2193 - val_accuracy: 0.7184\n",
      "Epoch 45/100\n",
      "224/224 [==============================] - 0s 2ms/step - loss: 0.2178 - accuracy: 0.7236 - val_loss: 0.2180 - val_accuracy: 0.7206\n",
      "Epoch 46/100\n",
      "224/224 [==============================] - 0s 2ms/step - loss: 0.2164 - accuracy: 0.7277 - val_loss: 0.2166 - val_accuracy: 0.7228\n",
      "Epoch 47/100\n",
      "224/224 [==============================] - 0s 2ms/step - loss: 0.2149 - accuracy: 0.7312 - val_loss: 0.2151 - val_accuracy: 0.7256\n",
      "Epoch 48/100\n",
      "224/224 [==============================] - 0s 2ms/step - loss: 0.2134 - accuracy: 0.7320 - val_loss: 0.2137 - val_accuracy: 0.7262\n",
      "Epoch 49/100\n",
      "224/224 [==============================] - 0s 2ms/step - loss: 0.2119 - accuracy: 0.7344 - val_loss: 0.2123 - val_accuracy: 0.7301\n",
      "Epoch 50/100\n",
      "224/224 [==============================] - 0s 2ms/step - loss: 0.2104 - accuracy: 0.7358 - val_loss: 0.2108 - val_accuracy: 0.7352\n",
      "Epoch 51/100\n",
      "224/224 [==============================] - 1s 2ms/step - loss: 0.2088 - accuracy: 0.7388 - val_loss: 0.2093 - val_accuracy: 0.7368\n",
      "Epoch 52/100\n",
      "224/224 [==============================] - 0s 2ms/step - loss: 0.2072 - accuracy: 0.7414 - val_loss: 0.2077 - val_accuracy: 0.7391\n",
      "Epoch 53/100\n",
      "224/224 [==============================] - 0s 2ms/step - loss: 0.2056 - accuracy: 0.7417 - val_loss: 0.2062 - val_accuracy: 0.7402\n",
      "Epoch 54/100\n",
      "224/224 [==============================] - 0s 2ms/step - loss: 0.2040 - accuracy: 0.7445 - val_loss: 0.2047 - val_accuracy: 0.7419\n",
      "Epoch 55/100\n",
      "224/224 [==============================] - 0s 2ms/step - loss: 0.2024 - accuracy: 0.7453 - val_loss: 0.2032 - val_accuracy: 0.7447\n",
      "Epoch 56/100\n",
      "224/224 [==============================] - 0s 2ms/step - loss: 0.2008 - accuracy: 0.7495 - val_loss: 0.2016 - val_accuracy: 0.7458\n",
      "Epoch 57/100\n",
      "224/224 [==============================] - 0s 2ms/step - loss: 0.1992 - accuracy: 0.7493 - val_loss: 0.2001 - val_accuracy: 0.7475\n"
     ]
    },
    {
     "name": "stdout",
     "output_type": "stream",
     "text": [
      "Epoch 58/100\n",
      "224/224 [==============================] - 0s 2ms/step - loss: 0.1976 - accuracy: 0.7528 - val_loss: 0.1985 - val_accuracy: 0.7475\n",
      "Epoch 59/100\n",
      "224/224 [==============================] - 0s 2ms/step - loss: 0.1960 - accuracy: 0.7554 - val_loss: 0.1970 - val_accuracy: 0.7497\n",
      "Epoch 60/100\n",
      "224/224 [==============================] - 0s 2ms/step - loss: 0.1944 - accuracy: 0.7563 - val_loss: 0.1955 - val_accuracy: 0.7514\n",
      "Epoch 61/100\n",
      "224/224 [==============================] - 0s 2ms/step - loss: 0.1928 - accuracy: 0.7578 - val_loss: 0.1940 - val_accuracy: 0.7531\n",
      "Epoch 62/100\n",
      "224/224 [==============================] - 0s 2ms/step - loss: 0.1912 - accuracy: 0.7626 - val_loss: 0.1925 - val_accuracy: 0.7542\n",
      "Epoch 63/100\n",
      "224/224 [==============================] - 0s 2ms/step - loss: 0.1896 - accuracy: 0.7626 - val_loss: 0.1910 - val_accuracy: 0.7542\n",
      "Epoch 64/100\n",
      "224/224 [==============================] - 0s 2ms/step - loss: 0.1881 - accuracy: 0.7642 - val_loss: 0.1896 - val_accuracy: 0.7559\n",
      "Epoch 65/100\n",
      "224/224 [==============================] - 0s 2ms/step - loss: 0.1865 - accuracy: 0.7649 - val_loss: 0.1881 - val_accuracy: 0.7564\n",
      "Epoch 66/100\n",
      "224/224 [==============================] - 0s 2ms/step - loss: 0.1850 - accuracy: 0.7670 - val_loss: 0.1867 - val_accuracy: 0.7564\n",
      "Epoch 67/100\n",
      "224/224 [==============================] - 0s 2ms/step - loss: 0.1835 - accuracy: 0.7672 - val_loss: 0.1853 - val_accuracy: 0.7576\n",
      "Epoch 68/100\n",
      "224/224 [==============================] - 0s 2ms/step - loss: 0.1820 - accuracy: 0.7698 - val_loss: 0.1839 - val_accuracy: 0.7576\n",
      "Epoch 69/100\n",
      "224/224 [==============================] - 0s 2ms/step - loss: 0.1806 - accuracy: 0.7714 - val_loss: 0.1825 - val_accuracy: 0.7592\n",
      "Epoch 70/100\n",
      "224/224 [==============================] - 0s 2ms/step - loss: 0.1792 - accuracy: 0.7719 - val_loss: 0.1812 - val_accuracy: 0.7615\n",
      "Epoch 71/100\n",
      "224/224 [==============================] - 0s 2ms/step - loss: 0.1778 - accuracy: 0.7742 - val_loss: 0.1799 - val_accuracy: 0.7615\n",
      "Epoch 72/100\n",
      "224/224 [==============================] - 0s 2ms/step - loss: 0.1764 - accuracy: 0.7747 - val_loss: 0.1786 - val_accuracy: 0.7626\n",
      "Epoch 73/100\n",
      "224/224 [==============================] - 0s 2ms/step - loss: 0.1751 - accuracy: 0.7754 - val_loss: 0.1774 - val_accuracy: 0.7643\n",
      "Epoch 74/100\n",
      "224/224 [==============================] - 0s 2ms/step - loss: 0.1737 - accuracy: 0.7788 - val_loss: 0.1762 - val_accuracy: 0.7654\n",
      "Epoch 75/100\n",
      "224/224 [==============================] - 0s 2ms/step - loss: 0.1725 - accuracy: 0.7801 - val_loss: 0.1749 - val_accuracy: 0.7665\n",
      "Epoch 76/100\n",
      "224/224 [==============================] - 0s 2ms/step - loss: 0.1712 - accuracy: 0.7815 - val_loss: 0.1738 - val_accuracy: 0.7671\n",
      "Epoch 77/100\n",
      "224/224 [==============================] - 0s 2ms/step - loss: 0.1700 - accuracy: 0.7809 - val_loss: 0.1726 - val_accuracy: 0.7682\n",
      "Epoch 78/100\n",
      "224/224 [==============================] - 0s 2ms/step - loss: 0.1688 - accuracy: 0.7838 - val_loss: 0.1715 - val_accuracy: 0.7693\n",
      "Epoch 79/100\n",
      "224/224 [==============================] - 0s 2ms/step - loss: 0.1676 - accuracy: 0.7850 - val_loss: 0.1704 - val_accuracy: 0.7727\n",
      "Epoch 80/100\n",
      "224/224 [==============================] - 0s 2ms/step - loss: 0.1665 - accuracy: 0.7847 - val_loss: 0.1693 - val_accuracy: 0.7732\n",
      "Epoch 81/100\n",
      "224/224 [==============================] - 0s 2ms/step - loss: 0.1653 - accuracy: 0.7865 - val_loss: 0.1683 - val_accuracy: 0.7738\n",
      "Epoch 82/100\n",
      "224/224 [==============================] - 0s 2ms/step - loss: 0.1643 - accuracy: 0.7876 - val_loss: 0.1673 - val_accuracy: 0.7772\n",
      "Epoch 83/100\n",
      "224/224 [==============================] - 0s 2ms/step - loss: 0.1632 - accuracy: 0.7893 - val_loss: 0.1663 - val_accuracy: 0.7772\n",
      "Epoch 84/100\n",
      "224/224 [==============================] - 0s 2ms/step - loss: 0.1622 - accuracy: 0.7907 - val_loss: 0.1654 - val_accuracy: 0.7777\n",
      "Epoch 85/100\n",
      "224/224 [==============================] - 0s 2ms/step - loss: 0.1612 - accuracy: 0.7915 - val_loss: 0.1645 - val_accuracy: 0.7783\n",
      "Epoch 86/100\n",
      "224/224 [==============================] - 0s 2ms/step - loss: 0.1602 - accuracy: 0.7932 - val_loss: 0.1636 - val_accuracy: 0.7777\n",
      "Epoch 87/100\n",
      "224/224 [==============================] - 0s 2ms/step - loss: 0.1593 - accuracy: 0.7952 - val_loss: 0.1627 - val_accuracy: 0.7766\n",
      "Epoch 88/100\n",
      "224/224 [==============================] - 0s 2ms/step - loss: 0.1584 - accuracy: 0.7962 - val_loss: 0.1618 - val_accuracy: 0.7777\n",
      "Epoch 89/100\n",
      "224/224 [==============================] - 0s 2ms/step - loss: 0.1575 - accuracy: 0.7978 - val_loss: 0.1610 - val_accuracy: 0.7800\n",
      "Epoch 90/100\n",
      "224/224 [==============================] - 0s 2ms/step - loss: 0.1566 - accuracy: 0.7987 - val_loss: 0.1602 - val_accuracy: 0.7805\n",
      "Epoch 91/100\n",
      "224/224 [==============================] - 0s 2ms/step - loss: 0.1558 - accuracy: 0.7983 - val_loss: 0.1594 - val_accuracy: 0.7811\n",
      "Epoch 92/100\n",
      "224/224 [==============================] - 0s 2ms/step - loss: 0.1550 - accuracy: 0.7983 - val_loss: 0.1587 - val_accuracy: 0.7816\n",
      "Epoch 93/100\n",
      "224/224 [==============================] - 0s 2ms/step - loss: 0.1542 - accuracy: 0.8008 - val_loss: 0.1579 - val_accuracy: 0.7839\n",
      "Epoch 94/100\n",
      "224/224 [==============================] - 0s 2ms/step - loss: 0.1535 - accuracy: 0.8008 - val_loss: 0.1572 - val_accuracy: 0.7839\n",
      "Epoch 95/100\n",
      "224/224 [==============================] - 0s 2ms/step - loss: 0.1527 - accuracy: 0.8011 - val_loss: 0.1565 - val_accuracy: 0.7833\n",
      "Epoch 96/100\n",
      "224/224 [==============================] - 0s 2ms/step - loss: 0.1520 - accuracy: 0.8022 - val_loss: 0.1559 - val_accuracy: 0.7839\n",
      "Epoch 97/100\n",
      "224/224 [==============================] - 0s 2ms/step - loss: 0.1514 - accuracy: 0.8016 - val_loss: 0.1552 - val_accuracy: 0.7839\n",
      "Epoch 98/100\n",
      "224/224 [==============================] - 0s 2ms/step - loss: 0.1507 - accuracy: 0.8037 - val_loss: 0.1546 - val_accuracy: 0.7833\n",
      "Epoch 99/100\n",
      "224/224 [==============================] - 0s 2ms/step - loss: 0.1501 - accuracy: 0.8039 - val_loss: 0.1540 - val_accuracy: 0.7844\n",
      "Epoch 100/100\n",
      "224/224 [==============================] - 1s 3ms/step - loss: 0.1495 - accuracy: 0.8050 - val_loss: 0.1534 - val_accuracy: 0.7850\n",
      "Test score: 0.14929817616939545\n",
      "Test accuracy: 0.8034034967422485\n"
     ]
    }
   ],
   "source": [
    "RN.compile(optimizer = 'sgd', loss = 'mean_squared_error', metrics = ['accuracy'])\n",
    "history = RN.fit(X_train_normalized,y_train, epochs = 100, validation_split=0.2) \n",
    "\n",
    "#Testar rede\n",
    "score = RN.evaluate(X_test_normalized, y_test, verbose = 0)\n",
    "print('Test score:', score[0])\n",
    "print('Test accuracy:', score[1])"
   ]
  },
  {
   "cell_type": "code",
   "execution_count": null,
   "metadata": {
    "id": "dLzpKeQZCmVZ"
   },
   "outputs": [],
   "source": [
    "# Gráfico do treinamento: custo do treino e validação\n",
    "import matplotlib.pyplot as plt\n",
    "plt.plot(history.history['loss'], label='train')\n",
    "plt.plot(history.history['val_loss'], label='validation')\n",
    "plt.title('Loss de treino e validação')\n",
    "plt.ylabel('loss')\n",
    "plt.xlabel('época')\n",
    "plt.legend();"
   ]
  },
  {
   "cell_type": "markdown",
   "metadata": {
    "id": "5v3w3PafA_6T"
   },
   "source": [
    "# Avaliando resultados"
   ]
  },
  {
   "cell_type": "code",
   "execution_count": null,
   "metadata": {
    "id": "RT2xlD3hA_6U"
   },
   "outputs": [],
   "source": [
    "# Vamos testar a rede\n",
    "from sklearn.metrics import confusion_matrix\n",
    "y_test_predicted = RN.predict(X_test_normalized)\n",
    "y_test_predicted_indexes = np.argmax(y_test_predicted,axis=1)\n",
    "y_test_indexes = np.argmax(y_test, axis=1)"
   ]
  },
  {
   "cell_type": "code",
   "execution_count": null,
   "metadata": {
    "id": "wHNA17snA_6a"
   },
   "outputs": [],
   "source": [
    "#matriz de confusão\n",
    "confMatrix = confusion_matrix(y_test_predicted_indexes, y_test_indexes) \n",
    "confMatrix"
   ]
  },
  {
   "cell_type": "code",
   "execution_count": null,
   "metadata": {
    "id": "CNrkXSBu4-of"
   },
   "outputs": [],
   "source": [
    "# Matriz de confusão\n",
    "confMatrix = confusion_matrix(y_test_predicted_indexes, y_test_indexes)\n",
    "pd.DataFrame(confMatrix, \n",
    "             index=['Pred No', 'Pred Yes'], \n",
    "             columns=['Real No', 'Real Yes'],) #matriz de confusão"
   ]
  },
  {
   "cell_type": "code",
   "execution_count": null,
   "metadata": {
    "id": "6rWC1o-D5N22"
   },
   "outputs": [],
   "source": [
    "import seaborn as sns\n",
    "ax = plt.subplot()\n",
    "sns.heatmap(confMatrix, annot=True, fmt=\".0f\", cmap=plt.cm.Blues)\n",
    "plt.xlabel('Real')\n",
    "plt.ylabel('Previsto')\n",
    "plt.title('Matriz de Confusão')\n",
    "\n",
    "# Colocar os nomes\n",
    "ax.xaxis.set_ticklabels(['No', 'Yes']) \n",
    "ax.yaxis.set_ticklabels(['No', 'Yes'])\n",
    "plt.show()"
   ]
  },
  {
   "cell_type": "code",
   "execution_count": null,
   "metadata": {
    "id": "f-vrXdl35hbA"
   },
   "outputs": [],
   "source": []
  }
 ],
 "metadata": {
  "colab": {
   "collapsed_sections": [],
   "name": "Aula02_RN_Bank.ipynb",
   "provenance": []
  },
  "kernelspec": {
   "display_name": "Python 3 (ipykernel)",
   "language": "python",
   "name": "python3"
  },
  "language_info": {
   "codemirror_mode": {
    "name": "ipython",
    "version": 3
   },
   "file_extension": ".py",
   "mimetype": "text/x-python",
   "name": "python",
   "nbconvert_exporter": "python",
   "pygments_lexer": "ipython3",
   "version": "3.8.11"
  }
 },
 "nbformat": 4,
 "nbformat_minor": 1
}
