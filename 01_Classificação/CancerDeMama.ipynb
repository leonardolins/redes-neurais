{
 "cells": [
  {
   "cell_type": "code",
   "execution_count": 1,
   "metadata": {
    "executionInfo": {
     "elapsed": 307,
     "status": "ok",
     "timestamp": 1636488875506,
     "user": {
      "displayName": "Manoela Kohler",
      "photoUrl": "https://lh3.googleusercontent.com/a-/AOh14GgpjFfRi8xG4d4lZE0zAaod1dKX0hNyW0qOMUifpA=s64",
      "userId": "11407817634634210712"
     },
     "user_tz": 180
    },
    "id": "HFTD-6zUQJBx"
   },
   "outputs": [],
   "source": [
    "\"\"\"### Importacao de bibliotecas\"\"\"\n",
    "import numpy as np\n",
    "import pandas as pd\n",
    "import matplotlib.pyplot as plt"
   ]
  },
  {
   "cell_type": "markdown",
   "metadata": {
    "id": "mAbfV4YGRC3u"
   },
   "source": [
    "# Passo 1. Carregar base de dados"
   ]
  },
  {
   "cell_type": "code",
   "execution_count": 2,
   "metadata": {
    "colab": {
     "base_uri": "https://localhost:8080/",
     "height": 243
    },
    "executionInfo": {
     "elapsed": 379,
     "status": "ok",
     "timestamp": 1636488876123,
     "user": {
      "displayName": "Manoela Kohler",
      "photoUrl": "https://lh3.googleusercontent.com/a-/AOh14GgpjFfRi8xG4d4lZE0zAaod1dKX0hNyW0qOMUifpA=s64",
      "userId": "11407817634634210712"
     },
     "user_tz": 180
    },
    "id": "FdXvYPSCQJD5",
    "outputId": "d9a36639-8412-4889-de08-2cbe86dd3b73"
   },
   "outputs": [
    {
     "data": {
      "text/html": [
       "<div>\n",
       "<style scoped>\n",
       "    .dataframe tbody tr th:only-of-type {\n",
       "        vertical-align: middle;\n",
       "    }\n",
       "\n",
       "    .dataframe tbody tr th {\n",
       "        vertical-align: top;\n",
       "    }\n",
       "\n",
       "    .dataframe thead th {\n",
       "        text-align: right;\n",
       "    }\n",
       "</style>\n",
       "<table border=\"1\" class=\"dataframe\">\n",
       "  <thead>\n",
       "    <tr style=\"text-align: right;\">\n",
       "      <th></th>\n",
       "      <th>id</th>\n",
       "      <th>diagnosis</th>\n",
       "      <th>radius_mean</th>\n",
       "      <th>texture_mean</th>\n",
       "      <th>perimeter_mean</th>\n",
       "      <th>area_mean</th>\n",
       "      <th>smoothness_mean</th>\n",
       "      <th>compactness_mean</th>\n",
       "      <th>concavity_mean</th>\n",
       "      <th>concave points_mean</th>\n",
       "      <th>symmetry_mean</th>\n",
       "      <th>fractal_dimension_mean</th>\n",
       "      <th>radius_se</th>\n",
       "      <th>texture_se</th>\n",
       "      <th>perimeter_se</th>\n",
       "      <th>area_se</th>\n",
       "      <th>smoothness_se</th>\n",
       "      <th>compactness_se</th>\n",
       "      <th>concavity_se</th>\n",
       "      <th>concave points_se</th>\n",
       "      <th>symmetry_se</th>\n",
       "      <th>fractal_dimension_se</th>\n",
       "      <th>radius_worst</th>\n",
       "      <th>texture_worst</th>\n",
       "      <th>perimeter_worst</th>\n",
       "      <th>area_worst</th>\n",
       "      <th>smoothness_worst</th>\n",
       "      <th>compactness_worst</th>\n",
       "      <th>concavity_worst</th>\n",
       "      <th>concave points_worst</th>\n",
       "      <th>symmetry_worst</th>\n",
       "      <th>fractal_dimension_worst</th>\n",
       "    </tr>\n",
       "  </thead>\n",
       "  <tbody>\n",
       "    <tr>\n",
       "      <th>0</th>\n",
       "      <td>842302</td>\n",
       "      <td>M</td>\n",
       "      <td>17.99</td>\n",
       "      <td>10.38</td>\n",
       "      <td>122.80</td>\n",
       "      <td>1001.0</td>\n",
       "      <td>0.11840</td>\n",
       "      <td>0.27760</td>\n",
       "      <td>0.3001</td>\n",
       "      <td>0.14710</td>\n",
       "      <td>0.2419</td>\n",
       "      <td>0.07871</td>\n",
       "      <td>1.0950</td>\n",
       "      <td>0.9053</td>\n",
       "      <td>8.589</td>\n",
       "      <td>153.40</td>\n",
       "      <td>0.006399</td>\n",
       "      <td>0.04904</td>\n",
       "      <td>0.05373</td>\n",
       "      <td>0.01587</td>\n",
       "      <td>0.03003</td>\n",
       "      <td>0.006193</td>\n",
       "      <td>25.38</td>\n",
       "      <td>17.33</td>\n",
       "      <td>184.60</td>\n",
       "      <td>2019.0</td>\n",
       "      <td>0.1622</td>\n",
       "      <td>0.6656</td>\n",
       "      <td>0.7119</td>\n",
       "      <td>0.2654</td>\n",
       "      <td>0.4601</td>\n",
       "      <td>0.11890</td>\n",
       "    </tr>\n",
       "    <tr>\n",
       "      <th>1</th>\n",
       "      <td>842517</td>\n",
       "      <td>M</td>\n",
       "      <td>20.57</td>\n",
       "      <td>17.77</td>\n",
       "      <td>132.90</td>\n",
       "      <td>1326.0</td>\n",
       "      <td>0.08474</td>\n",
       "      <td>0.07864</td>\n",
       "      <td>0.0869</td>\n",
       "      <td>0.07017</td>\n",
       "      <td>0.1812</td>\n",
       "      <td>0.05667</td>\n",
       "      <td>0.5435</td>\n",
       "      <td>0.7339</td>\n",
       "      <td>3.398</td>\n",
       "      <td>74.08</td>\n",
       "      <td>0.005225</td>\n",
       "      <td>0.01308</td>\n",
       "      <td>0.01860</td>\n",
       "      <td>0.01340</td>\n",
       "      <td>0.01389</td>\n",
       "      <td>0.003532</td>\n",
       "      <td>24.99</td>\n",
       "      <td>23.41</td>\n",
       "      <td>158.80</td>\n",
       "      <td>1956.0</td>\n",
       "      <td>0.1238</td>\n",
       "      <td>0.1866</td>\n",
       "      <td>0.2416</td>\n",
       "      <td>0.1860</td>\n",
       "      <td>0.2750</td>\n",
       "      <td>0.08902</td>\n",
       "    </tr>\n",
       "    <tr>\n",
       "      <th>2</th>\n",
       "      <td>84300903</td>\n",
       "      <td>M</td>\n",
       "      <td>19.69</td>\n",
       "      <td>21.25</td>\n",
       "      <td>130.00</td>\n",
       "      <td>1203.0</td>\n",
       "      <td>0.10960</td>\n",
       "      <td>0.15990</td>\n",
       "      <td>0.1974</td>\n",
       "      <td>0.12790</td>\n",
       "      <td>0.2069</td>\n",
       "      <td>0.05999</td>\n",
       "      <td>0.7456</td>\n",
       "      <td>0.7869</td>\n",
       "      <td>4.585</td>\n",
       "      <td>94.03</td>\n",
       "      <td>0.006150</td>\n",
       "      <td>0.04006</td>\n",
       "      <td>0.03832</td>\n",
       "      <td>0.02058</td>\n",
       "      <td>0.02250</td>\n",
       "      <td>0.004571</td>\n",
       "      <td>23.57</td>\n",
       "      <td>25.53</td>\n",
       "      <td>152.50</td>\n",
       "      <td>1709.0</td>\n",
       "      <td>0.1444</td>\n",
       "      <td>0.4245</td>\n",
       "      <td>0.4504</td>\n",
       "      <td>0.2430</td>\n",
       "      <td>0.3613</td>\n",
       "      <td>0.08758</td>\n",
       "    </tr>\n",
       "    <tr>\n",
       "      <th>3</th>\n",
       "      <td>84348301</td>\n",
       "      <td>M</td>\n",
       "      <td>11.42</td>\n",
       "      <td>20.38</td>\n",
       "      <td>77.58</td>\n",
       "      <td>386.1</td>\n",
       "      <td>0.14250</td>\n",
       "      <td>0.28390</td>\n",
       "      <td>0.2414</td>\n",
       "      <td>0.10520</td>\n",
       "      <td>0.2597</td>\n",
       "      <td>0.09744</td>\n",
       "      <td>0.4956</td>\n",
       "      <td>1.1560</td>\n",
       "      <td>3.445</td>\n",
       "      <td>27.23</td>\n",
       "      <td>0.009110</td>\n",
       "      <td>0.07458</td>\n",
       "      <td>0.05661</td>\n",
       "      <td>0.01867</td>\n",
       "      <td>0.05963</td>\n",
       "      <td>0.009208</td>\n",
       "      <td>14.91</td>\n",
       "      <td>26.50</td>\n",
       "      <td>98.87</td>\n",
       "      <td>567.7</td>\n",
       "      <td>0.2098</td>\n",
       "      <td>0.8663</td>\n",
       "      <td>0.6869</td>\n",
       "      <td>0.2575</td>\n",
       "      <td>0.6638</td>\n",
       "      <td>0.17300</td>\n",
       "    </tr>\n",
       "    <tr>\n",
       "      <th>4</th>\n",
       "      <td>84358402</td>\n",
       "      <td>M</td>\n",
       "      <td>20.29</td>\n",
       "      <td>14.34</td>\n",
       "      <td>135.10</td>\n",
       "      <td>1297.0</td>\n",
       "      <td>0.10030</td>\n",
       "      <td>0.13280</td>\n",
       "      <td>0.1980</td>\n",
       "      <td>0.10430</td>\n",
       "      <td>0.1809</td>\n",
       "      <td>0.05883</td>\n",
       "      <td>0.7572</td>\n",
       "      <td>0.7813</td>\n",
       "      <td>5.438</td>\n",
       "      <td>94.44</td>\n",
       "      <td>0.011490</td>\n",
       "      <td>0.02461</td>\n",
       "      <td>0.05688</td>\n",
       "      <td>0.01885</td>\n",
       "      <td>0.01756</td>\n",
       "      <td>0.005115</td>\n",
       "      <td>22.54</td>\n",
       "      <td>16.67</td>\n",
       "      <td>152.20</td>\n",
       "      <td>1575.0</td>\n",
       "      <td>0.1374</td>\n",
       "      <td>0.2050</td>\n",
       "      <td>0.4000</td>\n",
       "      <td>0.1625</td>\n",
       "      <td>0.2364</td>\n",
       "      <td>0.07678</td>\n",
       "    </tr>\n",
       "  </tbody>\n",
       "</table>\n",
       "</div>"
      ],
      "text/plain": [
       "         id diagnosis  ...  symmetry_worst  fractal_dimension_worst\n",
       "0    842302         M  ...          0.4601                  0.11890\n",
       "1    842517         M  ...          0.2750                  0.08902\n",
       "2  84300903         M  ...          0.3613                  0.08758\n",
       "3  84348301         M  ...          0.6638                  0.17300\n",
       "4  84358402         M  ...          0.2364                  0.07678\n",
       "\n",
       "[5 rows x 32 columns]"
      ]
     },
     "execution_count": 2,
     "metadata": {},
     "output_type": "execute_result"
    }
   ],
   "source": [
    "#Carregar a base e visualizar primeiras linhas\n",
    "data = pd.read_csv('BreastCancer.csv')\n",
    "#Visualize a base pelo Explorador de Variáveis\n",
    "\n",
    "data.head()"
   ]
  },
  {
   "cell_type": "code",
   "execution_count": 3,
   "metadata": {
    "colab": {
     "base_uri": "https://localhost:8080/",
     "height": 274
    },
    "executionInfo": {
     "elapsed": 10,
     "status": "ok",
     "timestamp": 1636488876124,
     "user": {
      "displayName": "Manoela Kohler",
      "photoUrl": "https://lh3.googleusercontent.com/a-/AOh14GgpjFfRi8xG4d4lZE0zAaod1dKX0hNyW0qOMUifpA=s64",
      "userId": "11407817634634210712"
     },
     "user_tz": 180
    },
    "id": "SD7VW5UbXvdN",
    "outputId": "06358d2f-43f1-4eb1-b779-9e0193a3fb99"
   },
   "outputs": [
    {
     "data": {
      "text/html": [
       "<div>\n",
       "<style scoped>\n",
       "    .dataframe tbody tr th:only-of-type {\n",
       "        vertical-align: middle;\n",
       "    }\n",
       "\n",
       "    .dataframe tbody tr th {\n",
       "        vertical-align: top;\n",
       "    }\n",
       "\n",
       "    .dataframe thead th {\n",
       "        text-align: right;\n",
       "    }\n",
       "</style>\n",
       "<table border=\"1\" class=\"dataframe\">\n",
       "  <thead>\n",
       "    <tr style=\"text-align: right;\">\n",
       "      <th></th>\n",
       "      <th>diagnosis</th>\n",
       "      <th>radius_mean</th>\n",
       "      <th>texture_mean</th>\n",
       "      <th>perimeter_mean</th>\n",
       "      <th>area_mean</th>\n",
       "      <th>smoothness_mean</th>\n",
       "      <th>compactness_mean</th>\n",
       "      <th>concavity_mean</th>\n",
       "      <th>concave points_mean</th>\n",
       "      <th>symmetry_mean</th>\n",
       "      <th>fractal_dimension_mean</th>\n",
       "      <th>radius_se</th>\n",
       "      <th>texture_se</th>\n",
       "      <th>perimeter_se</th>\n",
       "      <th>area_se</th>\n",
       "      <th>smoothness_se</th>\n",
       "      <th>compactness_se</th>\n",
       "      <th>concavity_se</th>\n",
       "      <th>concave points_se</th>\n",
       "      <th>symmetry_se</th>\n",
       "      <th>fractal_dimension_se</th>\n",
       "      <th>radius_worst</th>\n",
       "      <th>texture_worst</th>\n",
       "      <th>perimeter_worst</th>\n",
       "      <th>area_worst</th>\n",
       "      <th>smoothness_worst</th>\n",
       "      <th>compactness_worst</th>\n",
       "      <th>concavity_worst</th>\n",
       "      <th>concave points_worst</th>\n",
       "      <th>symmetry_worst</th>\n",
       "      <th>fractal_dimension_worst</th>\n",
       "    </tr>\n",
       "    <tr>\n",
       "      <th>id</th>\n",
       "      <th></th>\n",
       "      <th></th>\n",
       "      <th></th>\n",
       "      <th></th>\n",
       "      <th></th>\n",
       "      <th></th>\n",
       "      <th></th>\n",
       "      <th></th>\n",
       "      <th></th>\n",
       "      <th></th>\n",
       "      <th></th>\n",
       "      <th></th>\n",
       "      <th></th>\n",
       "      <th></th>\n",
       "      <th></th>\n",
       "      <th></th>\n",
       "      <th></th>\n",
       "      <th></th>\n",
       "      <th></th>\n",
       "      <th></th>\n",
       "      <th></th>\n",
       "      <th></th>\n",
       "      <th></th>\n",
       "      <th></th>\n",
       "      <th></th>\n",
       "      <th></th>\n",
       "      <th></th>\n",
       "      <th></th>\n",
       "      <th></th>\n",
       "      <th></th>\n",
       "      <th></th>\n",
       "    </tr>\n",
       "  </thead>\n",
       "  <tbody>\n",
       "    <tr>\n",
       "      <th>842302</th>\n",
       "      <td>M</td>\n",
       "      <td>17.99</td>\n",
       "      <td>10.38</td>\n",
       "      <td>122.80</td>\n",
       "      <td>1001.0</td>\n",
       "      <td>0.11840</td>\n",
       "      <td>0.27760</td>\n",
       "      <td>0.3001</td>\n",
       "      <td>0.14710</td>\n",
       "      <td>0.2419</td>\n",
       "      <td>0.07871</td>\n",
       "      <td>1.0950</td>\n",
       "      <td>0.9053</td>\n",
       "      <td>8.589</td>\n",
       "      <td>153.40</td>\n",
       "      <td>0.006399</td>\n",
       "      <td>0.04904</td>\n",
       "      <td>0.05373</td>\n",
       "      <td>0.01587</td>\n",
       "      <td>0.03003</td>\n",
       "      <td>0.006193</td>\n",
       "      <td>25.38</td>\n",
       "      <td>17.33</td>\n",
       "      <td>184.60</td>\n",
       "      <td>2019.0</td>\n",
       "      <td>0.1622</td>\n",
       "      <td>0.6656</td>\n",
       "      <td>0.7119</td>\n",
       "      <td>0.2654</td>\n",
       "      <td>0.4601</td>\n",
       "      <td>0.11890</td>\n",
       "    </tr>\n",
       "    <tr>\n",
       "      <th>842517</th>\n",
       "      <td>M</td>\n",
       "      <td>20.57</td>\n",
       "      <td>17.77</td>\n",
       "      <td>132.90</td>\n",
       "      <td>1326.0</td>\n",
       "      <td>0.08474</td>\n",
       "      <td>0.07864</td>\n",
       "      <td>0.0869</td>\n",
       "      <td>0.07017</td>\n",
       "      <td>0.1812</td>\n",
       "      <td>0.05667</td>\n",
       "      <td>0.5435</td>\n",
       "      <td>0.7339</td>\n",
       "      <td>3.398</td>\n",
       "      <td>74.08</td>\n",
       "      <td>0.005225</td>\n",
       "      <td>0.01308</td>\n",
       "      <td>0.01860</td>\n",
       "      <td>0.01340</td>\n",
       "      <td>0.01389</td>\n",
       "      <td>0.003532</td>\n",
       "      <td>24.99</td>\n",
       "      <td>23.41</td>\n",
       "      <td>158.80</td>\n",
       "      <td>1956.0</td>\n",
       "      <td>0.1238</td>\n",
       "      <td>0.1866</td>\n",
       "      <td>0.2416</td>\n",
       "      <td>0.1860</td>\n",
       "      <td>0.2750</td>\n",
       "      <td>0.08902</td>\n",
       "    </tr>\n",
       "    <tr>\n",
       "      <th>84300903</th>\n",
       "      <td>M</td>\n",
       "      <td>19.69</td>\n",
       "      <td>21.25</td>\n",
       "      <td>130.00</td>\n",
       "      <td>1203.0</td>\n",
       "      <td>0.10960</td>\n",
       "      <td>0.15990</td>\n",
       "      <td>0.1974</td>\n",
       "      <td>0.12790</td>\n",
       "      <td>0.2069</td>\n",
       "      <td>0.05999</td>\n",
       "      <td>0.7456</td>\n",
       "      <td>0.7869</td>\n",
       "      <td>4.585</td>\n",
       "      <td>94.03</td>\n",
       "      <td>0.006150</td>\n",
       "      <td>0.04006</td>\n",
       "      <td>0.03832</td>\n",
       "      <td>0.02058</td>\n",
       "      <td>0.02250</td>\n",
       "      <td>0.004571</td>\n",
       "      <td>23.57</td>\n",
       "      <td>25.53</td>\n",
       "      <td>152.50</td>\n",
       "      <td>1709.0</td>\n",
       "      <td>0.1444</td>\n",
       "      <td>0.4245</td>\n",
       "      <td>0.4504</td>\n",
       "      <td>0.2430</td>\n",
       "      <td>0.3613</td>\n",
       "      <td>0.08758</td>\n",
       "    </tr>\n",
       "    <tr>\n",
       "      <th>84348301</th>\n",
       "      <td>M</td>\n",
       "      <td>11.42</td>\n",
       "      <td>20.38</td>\n",
       "      <td>77.58</td>\n",
       "      <td>386.1</td>\n",
       "      <td>0.14250</td>\n",
       "      <td>0.28390</td>\n",
       "      <td>0.2414</td>\n",
       "      <td>0.10520</td>\n",
       "      <td>0.2597</td>\n",
       "      <td>0.09744</td>\n",
       "      <td>0.4956</td>\n",
       "      <td>1.1560</td>\n",
       "      <td>3.445</td>\n",
       "      <td>27.23</td>\n",
       "      <td>0.009110</td>\n",
       "      <td>0.07458</td>\n",
       "      <td>0.05661</td>\n",
       "      <td>0.01867</td>\n",
       "      <td>0.05963</td>\n",
       "      <td>0.009208</td>\n",
       "      <td>14.91</td>\n",
       "      <td>26.50</td>\n",
       "      <td>98.87</td>\n",
       "      <td>567.7</td>\n",
       "      <td>0.2098</td>\n",
       "      <td>0.8663</td>\n",
       "      <td>0.6869</td>\n",
       "      <td>0.2575</td>\n",
       "      <td>0.6638</td>\n",
       "      <td>0.17300</td>\n",
       "    </tr>\n",
       "    <tr>\n",
       "      <th>84358402</th>\n",
       "      <td>M</td>\n",
       "      <td>20.29</td>\n",
       "      <td>14.34</td>\n",
       "      <td>135.10</td>\n",
       "      <td>1297.0</td>\n",
       "      <td>0.10030</td>\n",
       "      <td>0.13280</td>\n",
       "      <td>0.1980</td>\n",
       "      <td>0.10430</td>\n",
       "      <td>0.1809</td>\n",
       "      <td>0.05883</td>\n",
       "      <td>0.7572</td>\n",
       "      <td>0.7813</td>\n",
       "      <td>5.438</td>\n",
       "      <td>94.44</td>\n",
       "      <td>0.011490</td>\n",
       "      <td>0.02461</td>\n",
       "      <td>0.05688</td>\n",
       "      <td>0.01885</td>\n",
       "      <td>0.01756</td>\n",
       "      <td>0.005115</td>\n",
       "      <td>22.54</td>\n",
       "      <td>16.67</td>\n",
       "      <td>152.20</td>\n",
       "      <td>1575.0</td>\n",
       "      <td>0.1374</td>\n",
       "      <td>0.2050</td>\n",
       "      <td>0.4000</td>\n",
       "      <td>0.1625</td>\n",
       "      <td>0.2364</td>\n",
       "      <td>0.07678</td>\n",
       "    </tr>\n",
       "  </tbody>\n",
       "</table>\n",
       "</div>"
      ],
      "text/plain": [
       "         diagnosis  radius_mean  ...  symmetry_worst  fractal_dimension_worst\n",
       "id                               ...                                         \n",
       "842302           M        17.99  ...          0.4601                  0.11890\n",
       "842517           M        20.57  ...          0.2750                  0.08902\n",
       "84300903         M        19.69  ...          0.3613                  0.08758\n",
       "84348301         M        11.42  ...          0.6638                  0.17300\n",
       "84358402         M        20.29  ...          0.2364                  0.07678\n",
       "\n",
       "[5 rows x 31 columns]"
      ]
     },
     "execution_count": 3,
     "metadata": {},
     "output_type": "execute_result"
    }
   ],
   "source": [
    "# colocar id como nome de linha\n",
    "data = data.set_index('id')\n",
    "data.head()"
   ]
  },
  {
   "cell_type": "code",
   "execution_count": 4,
   "metadata": {
    "colab": {
     "base_uri": "https://localhost:8080/"
    },
    "executionInfo": {
     "elapsed": 8,
     "status": "ok",
     "timestamp": 1636488876124,
     "user": {
      "displayName": "Manoela Kohler",
      "photoUrl": "https://lh3.googleusercontent.com/a-/AOh14GgpjFfRi8xG4d4lZE0zAaod1dKX0hNyW0qOMUifpA=s64",
      "userId": "11407817634634210712"
     },
     "user_tz": 180
    },
    "id": "AgrChrIuQJGA",
    "outputId": "b165ac22-f331-4c10-f574-31eb7d68e4ab"
   },
   "outputs": [
    {
     "data": {
      "text/plain": [
       "(569, 31)"
      ]
     },
     "execution_count": 4,
     "metadata": {},
     "output_type": "execute_result"
    }
   ],
   "source": [
    "#dimnesões da base\n",
    "data.shape"
   ]
  },
  {
   "cell_type": "code",
   "execution_count": 5,
   "metadata": {
    "colab": {
     "base_uri": "https://localhost:8080/",
     "height": 336
    },
    "executionInfo": {
     "elapsed": 6,
     "status": "ok",
     "timestamp": 1636488876124,
     "user": {
      "displayName": "Manoela Kohler",
      "photoUrl": "https://lh3.googleusercontent.com/a-/AOh14GgpjFfRi8xG4d4lZE0zAaod1dKX0hNyW0qOMUifpA=s64",
      "userId": "11407817634634210712"
     },
     "user_tz": 180
    },
    "id": "B3CPQ3lOQJIJ",
    "outputId": "abfadf08-635e-44ce-d734-f38460ef4394"
   },
   "outputs": [
    {
     "data": {
      "text/html": [
       "<div>\n",
       "<style scoped>\n",
       "    .dataframe tbody tr th:only-of-type {\n",
       "        vertical-align: middle;\n",
       "    }\n",
       "\n",
       "    .dataframe tbody tr th {\n",
       "        vertical-align: top;\n",
       "    }\n",
       "\n",
       "    .dataframe thead th {\n",
       "        text-align: right;\n",
       "    }\n",
       "</style>\n",
       "<table border=\"1\" class=\"dataframe\">\n",
       "  <thead>\n",
       "    <tr style=\"text-align: right;\">\n",
       "      <th></th>\n",
       "      <th>radius_mean</th>\n",
       "      <th>texture_mean</th>\n",
       "      <th>perimeter_mean</th>\n",
       "      <th>area_mean</th>\n",
       "      <th>smoothness_mean</th>\n",
       "      <th>compactness_mean</th>\n",
       "      <th>concavity_mean</th>\n",
       "      <th>concave points_mean</th>\n",
       "      <th>symmetry_mean</th>\n",
       "      <th>fractal_dimension_mean</th>\n",
       "      <th>radius_se</th>\n",
       "      <th>texture_se</th>\n",
       "      <th>perimeter_se</th>\n",
       "      <th>area_se</th>\n",
       "      <th>smoothness_se</th>\n",
       "      <th>compactness_se</th>\n",
       "      <th>concavity_se</th>\n",
       "      <th>concave points_se</th>\n",
       "      <th>symmetry_se</th>\n",
       "      <th>fractal_dimension_se</th>\n",
       "      <th>radius_worst</th>\n",
       "      <th>texture_worst</th>\n",
       "      <th>perimeter_worst</th>\n",
       "      <th>area_worst</th>\n",
       "      <th>smoothness_worst</th>\n",
       "      <th>compactness_worst</th>\n",
       "      <th>concavity_worst</th>\n",
       "      <th>concave points_worst</th>\n",
       "      <th>symmetry_worst</th>\n",
       "      <th>fractal_dimension_worst</th>\n",
       "    </tr>\n",
       "  </thead>\n",
       "  <tbody>\n",
       "    <tr>\n",
       "      <th>count</th>\n",
       "      <td>569.000000</td>\n",
       "      <td>569.000000</td>\n",
       "      <td>569.000000</td>\n",
       "      <td>569.000000</td>\n",
       "      <td>569.000000</td>\n",
       "      <td>569.000000</td>\n",
       "      <td>569.000000</td>\n",
       "      <td>569.000000</td>\n",
       "      <td>569.000000</td>\n",
       "      <td>569.000000</td>\n",
       "      <td>569.000000</td>\n",
       "      <td>569.000000</td>\n",
       "      <td>569.000000</td>\n",
       "      <td>569.000000</td>\n",
       "      <td>569.000000</td>\n",
       "      <td>569.000000</td>\n",
       "      <td>569.000000</td>\n",
       "      <td>569.000000</td>\n",
       "      <td>569.000000</td>\n",
       "      <td>569.000000</td>\n",
       "      <td>569.000000</td>\n",
       "      <td>569.000000</td>\n",
       "      <td>569.000000</td>\n",
       "      <td>569.000000</td>\n",
       "      <td>569.000000</td>\n",
       "      <td>569.000000</td>\n",
       "      <td>569.000000</td>\n",
       "      <td>569.000000</td>\n",
       "      <td>569.000000</td>\n",
       "      <td>569.000000</td>\n",
       "    </tr>\n",
       "    <tr>\n",
       "      <th>mean</th>\n",
       "      <td>14.127292</td>\n",
       "      <td>19.289649</td>\n",
       "      <td>91.969033</td>\n",
       "      <td>654.889104</td>\n",
       "      <td>0.096360</td>\n",
       "      <td>0.104341</td>\n",
       "      <td>0.088799</td>\n",
       "      <td>0.048919</td>\n",
       "      <td>0.181162</td>\n",
       "      <td>0.062798</td>\n",
       "      <td>0.405172</td>\n",
       "      <td>1.216853</td>\n",
       "      <td>2.866059</td>\n",
       "      <td>40.337079</td>\n",
       "      <td>0.007041</td>\n",
       "      <td>0.025478</td>\n",
       "      <td>0.031894</td>\n",
       "      <td>0.011796</td>\n",
       "      <td>0.020542</td>\n",
       "      <td>0.003795</td>\n",
       "      <td>16.269190</td>\n",
       "      <td>25.677223</td>\n",
       "      <td>107.261213</td>\n",
       "      <td>880.583128</td>\n",
       "      <td>0.132369</td>\n",
       "      <td>0.254265</td>\n",
       "      <td>0.272188</td>\n",
       "      <td>0.114606</td>\n",
       "      <td>0.290076</td>\n",
       "      <td>0.083946</td>\n",
       "    </tr>\n",
       "    <tr>\n",
       "      <th>std</th>\n",
       "      <td>3.524049</td>\n",
       "      <td>4.301036</td>\n",
       "      <td>24.298981</td>\n",
       "      <td>351.914129</td>\n",
       "      <td>0.014064</td>\n",
       "      <td>0.052813</td>\n",
       "      <td>0.079720</td>\n",
       "      <td>0.038803</td>\n",
       "      <td>0.027414</td>\n",
       "      <td>0.007060</td>\n",
       "      <td>0.277313</td>\n",
       "      <td>0.551648</td>\n",
       "      <td>2.021855</td>\n",
       "      <td>45.491006</td>\n",
       "      <td>0.003003</td>\n",
       "      <td>0.017908</td>\n",
       "      <td>0.030186</td>\n",
       "      <td>0.006170</td>\n",
       "      <td>0.008266</td>\n",
       "      <td>0.002646</td>\n",
       "      <td>4.833242</td>\n",
       "      <td>6.146258</td>\n",
       "      <td>33.602542</td>\n",
       "      <td>569.356993</td>\n",
       "      <td>0.022832</td>\n",
       "      <td>0.157336</td>\n",
       "      <td>0.208624</td>\n",
       "      <td>0.065732</td>\n",
       "      <td>0.061867</td>\n",
       "      <td>0.018061</td>\n",
       "    </tr>\n",
       "    <tr>\n",
       "      <th>min</th>\n",
       "      <td>6.981000</td>\n",
       "      <td>9.710000</td>\n",
       "      <td>43.790000</td>\n",
       "      <td>143.500000</td>\n",
       "      <td>0.052630</td>\n",
       "      <td>0.019380</td>\n",
       "      <td>0.000000</td>\n",
       "      <td>0.000000</td>\n",
       "      <td>0.106000</td>\n",
       "      <td>0.049960</td>\n",
       "      <td>0.111500</td>\n",
       "      <td>0.360200</td>\n",
       "      <td>0.757000</td>\n",
       "      <td>6.802000</td>\n",
       "      <td>0.001713</td>\n",
       "      <td>0.002252</td>\n",
       "      <td>0.000000</td>\n",
       "      <td>0.000000</td>\n",
       "      <td>0.007882</td>\n",
       "      <td>0.000895</td>\n",
       "      <td>7.930000</td>\n",
       "      <td>12.020000</td>\n",
       "      <td>50.410000</td>\n",
       "      <td>185.200000</td>\n",
       "      <td>0.071170</td>\n",
       "      <td>0.027290</td>\n",
       "      <td>0.000000</td>\n",
       "      <td>0.000000</td>\n",
       "      <td>0.156500</td>\n",
       "      <td>0.055040</td>\n",
       "    </tr>\n",
       "    <tr>\n",
       "      <th>25%</th>\n",
       "      <td>11.700000</td>\n",
       "      <td>16.170000</td>\n",
       "      <td>75.170000</td>\n",
       "      <td>420.300000</td>\n",
       "      <td>0.086370</td>\n",
       "      <td>0.064920</td>\n",
       "      <td>0.029560</td>\n",
       "      <td>0.020310</td>\n",
       "      <td>0.161900</td>\n",
       "      <td>0.057700</td>\n",
       "      <td>0.232400</td>\n",
       "      <td>0.833900</td>\n",
       "      <td>1.606000</td>\n",
       "      <td>17.850000</td>\n",
       "      <td>0.005169</td>\n",
       "      <td>0.013080</td>\n",
       "      <td>0.015090</td>\n",
       "      <td>0.007638</td>\n",
       "      <td>0.015160</td>\n",
       "      <td>0.002248</td>\n",
       "      <td>13.010000</td>\n",
       "      <td>21.080000</td>\n",
       "      <td>84.110000</td>\n",
       "      <td>515.300000</td>\n",
       "      <td>0.116600</td>\n",
       "      <td>0.147200</td>\n",
       "      <td>0.114500</td>\n",
       "      <td>0.064930</td>\n",
       "      <td>0.250400</td>\n",
       "      <td>0.071460</td>\n",
       "    </tr>\n",
       "    <tr>\n",
       "      <th>50%</th>\n",
       "      <td>13.370000</td>\n",
       "      <td>18.840000</td>\n",
       "      <td>86.240000</td>\n",
       "      <td>551.100000</td>\n",
       "      <td>0.095870</td>\n",
       "      <td>0.092630</td>\n",
       "      <td>0.061540</td>\n",
       "      <td>0.033500</td>\n",
       "      <td>0.179200</td>\n",
       "      <td>0.061540</td>\n",
       "      <td>0.324200</td>\n",
       "      <td>1.108000</td>\n",
       "      <td>2.287000</td>\n",
       "      <td>24.530000</td>\n",
       "      <td>0.006380</td>\n",
       "      <td>0.020450</td>\n",
       "      <td>0.025890</td>\n",
       "      <td>0.010930</td>\n",
       "      <td>0.018730</td>\n",
       "      <td>0.003187</td>\n",
       "      <td>14.970000</td>\n",
       "      <td>25.410000</td>\n",
       "      <td>97.660000</td>\n",
       "      <td>686.500000</td>\n",
       "      <td>0.131300</td>\n",
       "      <td>0.211900</td>\n",
       "      <td>0.226700</td>\n",
       "      <td>0.099930</td>\n",
       "      <td>0.282200</td>\n",
       "      <td>0.080040</td>\n",
       "    </tr>\n",
       "    <tr>\n",
       "      <th>75%</th>\n",
       "      <td>15.780000</td>\n",
       "      <td>21.800000</td>\n",
       "      <td>104.100000</td>\n",
       "      <td>782.700000</td>\n",
       "      <td>0.105300</td>\n",
       "      <td>0.130400</td>\n",
       "      <td>0.130700</td>\n",
       "      <td>0.074000</td>\n",
       "      <td>0.195700</td>\n",
       "      <td>0.066120</td>\n",
       "      <td>0.478900</td>\n",
       "      <td>1.474000</td>\n",
       "      <td>3.357000</td>\n",
       "      <td>45.190000</td>\n",
       "      <td>0.008146</td>\n",
       "      <td>0.032450</td>\n",
       "      <td>0.042050</td>\n",
       "      <td>0.014710</td>\n",
       "      <td>0.023480</td>\n",
       "      <td>0.004558</td>\n",
       "      <td>18.790000</td>\n",
       "      <td>29.720000</td>\n",
       "      <td>125.400000</td>\n",
       "      <td>1084.000000</td>\n",
       "      <td>0.146000</td>\n",
       "      <td>0.339100</td>\n",
       "      <td>0.382900</td>\n",
       "      <td>0.161400</td>\n",
       "      <td>0.317900</td>\n",
       "      <td>0.092080</td>\n",
       "    </tr>\n",
       "    <tr>\n",
       "      <th>max</th>\n",
       "      <td>28.110000</td>\n",
       "      <td>39.280000</td>\n",
       "      <td>188.500000</td>\n",
       "      <td>2501.000000</td>\n",
       "      <td>0.163400</td>\n",
       "      <td>0.345400</td>\n",
       "      <td>0.426800</td>\n",
       "      <td>0.201200</td>\n",
       "      <td>0.304000</td>\n",
       "      <td>0.097440</td>\n",
       "      <td>2.873000</td>\n",
       "      <td>4.885000</td>\n",
       "      <td>21.980000</td>\n",
       "      <td>542.200000</td>\n",
       "      <td>0.031130</td>\n",
       "      <td>0.135400</td>\n",
       "      <td>0.396000</td>\n",
       "      <td>0.052790</td>\n",
       "      <td>0.078950</td>\n",
       "      <td>0.029840</td>\n",
       "      <td>36.040000</td>\n",
       "      <td>49.540000</td>\n",
       "      <td>251.200000</td>\n",
       "      <td>4254.000000</td>\n",
       "      <td>0.222600</td>\n",
       "      <td>1.058000</td>\n",
       "      <td>1.252000</td>\n",
       "      <td>0.291000</td>\n",
       "      <td>0.663800</td>\n",
       "      <td>0.207500</td>\n",
       "    </tr>\n",
       "  </tbody>\n",
       "</table>\n",
       "</div>"
      ],
      "text/plain": [
       "       radius_mean  texture_mean  ...  symmetry_worst  fractal_dimension_worst\n",
       "count   569.000000    569.000000  ...      569.000000               569.000000\n",
       "mean     14.127292     19.289649  ...        0.290076                 0.083946\n",
       "std       3.524049      4.301036  ...        0.061867                 0.018061\n",
       "min       6.981000      9.710000  ...        0.156500                 0.055040\n",
       "25%      11.700000     16.170000  ...        0.250400                 0.071460\n",
       "50%      13.370000     18.840000  ...        0.282200                 0.080040\n",
       "75%      15.780000     21.800000  ...        0.317900                 0.092080\n",
       "max      28.110000     39.280000  ...        0.663800                 0.207500\n",
       "\n",
       "[8 rows x 30 columns]"
      ]
     },
     "execution_count": 5,
     "metadata": {},
     "output_type": "execute_result"
    }
   ],
   "source": [
    "data.describe()"
   ]
  },
  {
   "cell_type": "code",
   "execution_count": 6,
   "metadata": {
    "colab": {
     "base_uri": "https://localhost:8080/"
    },
    "executionInfo": {
     "elapsed": 236,
     "status": "ok",
     "timestamp": 1636488876355,
     "user": {
      "displayName": "Manoela Kohler",
      "photoUrl": "https://lh3.googleusercontent.com/a-/AOh14GgpjFfRi8xG4d4lZE0zAaod1dKX0hNyW0qOMUifpA=s64",
      "userId": "11407817634634210712"
     },
     "user_tz": 180
    },
    "id": "5hG4ynzIQJKT",
    "outputId": "7722a7e8-2b83-46bd-820e-697b58cc4c0e"
   },
   "outputs": [
    {
     "data": {
      "text/plain": [
       "B    357\n",
       "M    212\n",
       "Name: diagnosis, dtype: int64"
      ]
     },
     "execution_count": 6,
     "metadata": {},
     "output_type": "execute_result"
    }
   ],
   "source": [
    "#classes\n",
    "data.diagnosis.value_counts()"
   ]
  },
  {
   "cell_type": "markdown",
   "metadata": {
    "id": "URy1KR2lSDz3"
   },
   "source": [
    "#Passo 2. Separar base em treino e teste"
   ]
  },
  {
   "cell_type": "code",
   "execution_count": 7,
   "metadata": {
    "colab": {
     "base_uri": "https://localhost:8080/"
    },
    "executionInfo": {
     "elapsed": 4,
     "status": "ok",
     "timestamp": 1636488876355,
     "user": {
      "displayName": "Manoela Kohler",
      "photoUrl": "https://lh3.googleusercontent.com/a-/AOh14GgpjFfRi8xG4d4lZE0zAaod1dKX0hNyW0qOMUifpA=s64",
      "userId": "11407817634634210712"
     },
     "user_tz": 180
    },
    "id": "wVnELznQQJOT",
    "outputId": "de7c6e35-2a2c-41d7-b7ea-97e585d4b8a0"
   },
   "outputs": [
    {
     "name": "stdout",
     "output_type": "stream",
     "text": [
      "(398, 30)\n",
      "(171, 30)\n",
      "(398,)\n",
      "(171,)\n"
     ]
    }
   ],
   "source": [
    "np.random.seed(0) #semente inicial\n",
    "nlinhas = data.shape[0]\n",
    "\n",
    "from sklearn.model_selection import train_test_split\n",
    "X_train, X_test, y_train, y_test = train_test_split(data.loc[:,data.columns != 'diagnosis'], data['diagnosis'], test_size=0.3)\n",
    "\n",
    "print(X_train.shape)\n",
    "print(X_test.shape)\n",
    "print(y_train.shape)\n",
    "print(y_test.shape)"
   ]
  },
  {
   "cell_type": "code",
   "execution_count": 8,
   "metadata": {
    "colab": {
     "base_uri": "https://localhost:8080/",
     "height": 296
    },
    "executionInfo": {
     "elapsed": 335,
     "status": "ok",
     "timestamp": 1636488876688,
     "user": {
      "displayName": "Manoela Kohler",
      "photoUrl": "https://lh3.googleusercontent.com/a-/AOh14GgpjFfRi8xG4d4lZE0zAaod1dKX0hNyW0qOMUifpA=s64",
      "userId": "11407817634634210712"
     },
     "user_tz": 180
    },
    "id": "j7sZaOc9SO-t",
    "outputId": "1a413d03-edef-4056-a71e-763a36cce9db"
   },
   "outputs": [
    {
     "data": {
      "image/png": "[encoded data removed]",
      "text/plain": [
       "<Figure size 432x288 with 1 Axes>"
      ]
     },
     "metadata": {
      "needs_background": "light"
     },
     "output_type": "display_data"
    }
   ],
   "source": [
    "\"\"\"## Análise exploratória\"\"\"\n",
    "\n",
    "#### Visualização Raio x Textura  e cores comos as classes de saída (Diagnóstico)\n",
    "\n",
    "M = data[data.diagnosis == 'M'] #maligno\n",
    "B = data[data.diagnosis == 'B'] #benigno\n",
    "plt.scatter(M.radius_mean, M.texture_mean);\n",
    "plt.scatter(B.radius_mean, B.texture_mean);\n",
    "plt.legend(['Maligno', 'Benigno'])\n",
    "plt.xlabel('radius_mean');\n",
    "plt.ylabel('texture_mean');\n",
    "plt.title('radius_mean vs texture_mean');"
   ]
  },
  {
   "cell_type": "code",
   "execution_count": 9,
   "metadata": {
    "colab": {
     "base_uri": "https://localhost:8080/",
     "height": 357
    },
    "executionInfo": {
     "elapsed": 385,
     "status": "ok",
     "timestamp": 1636488877071,
     "user": {
      "displayName": "Manoela Kohler",
      "photoUrl": "https://lh3.googleusercontent.com/a-/AOh14GgpjFfRi8xG4d4lZE0zAaod1dKX0hNyW0qOMUifpA=s64",
      "userId": "11407817634634210712"
     },
     "user_tz": 180
    },
    "id": "LHeNKHfeYKPZ",
    "outputId": "57a076f6-8e69-4fac-ecb2-413df92db59d"
   },
   "outputs": [
    {
     "name": "stderr",
     "output_type": "stream",
     "text": [
      "/usr/local/lib/python3.7/dist-packages/numpy/core/_asarray.py:83: VisibleDeprecationWarning: Creating an ndarray from ragged nested sequences (which is a list-or-tuple of lists-or-tuples-or ndarrays with different lengths or shapes) is deprecated. If you meant to do this, you must specify 'dtype=object' when creating the ndarray\n",
      "  return array(a, dtype, copy=False, order=order)\n"
     ]
    },
    {
     "data": {
      "image/png": "[encoded data removed]",
      "text/plain": [
       "<Figure size 432x288 with 1 Axes>"
      ]
     },
     "metadata": {
      "needs_background": "light"
     },
     "output_type": "display_data"
    }
   ],
   "source": [
    "\"\"\"#### Visualização Raio x Diagnóstico\"\"\"\n",
    "data.boxplot(column = 'radius_mean', by= 'diagnosis');"
   ]
  },
  {
   "cell_type": "markdown",
   "metadata": {
    "id": "asjCDbeDSnSs"
   },
   "source": [
    "# Passo 3. Normalizar Dados"
   ]
  },
  {
   "cell_type": "code",
   "execution_count": 10,
   "metadata": {
    "colab": {
     "base_uri": "https://localhost:8080/"
    },
    "executionInfo": {
     "elapsed": 5,
     "status": "ok",
     "timestamp": 1636488877071,
     "user": {
      "displayName": "Manoela Kohler",
      "photoUrl": "https://lh3.googleusercontent.com/a-/AOh14GgpjFfRi8xG4d4lZE0zAaod1dKX0hNyW0qOMUifpA=s64",
      "userId": "11407817634634210712"
     },
     "user_tz": 180
    },
    "id": "MGrLgG8sSpnJ",
    "outputId": "a79b2203-48fc-4c7e-a5e5-6c90f5c2677b"
   },
   "outputs": [
    {
     "data": {
      "text/plain": [
       "array([[-0.74998027, -1.09978744, -0.74158608, -0.70188697,  0.58459276,\n",
       "        -0.42772603, -0.45754987, -0.7605498 , -0.09986038,  0.45144364,\n",
       "        -0.70061171, -0.06976187, -0.6167312 , -0.54340833, -0.70915256,\n",
       "        -0.23548916,  0.36208998, -0.62177677, -0.24139043, -0.04596325,\n",
       "        -0.7984831 , -0.591967  , -0.74660155, -0.71452908,  0.11632807,\n",
       "        -0.34125524, -0.04627198, -0.6235968 ,  0.07754241,  0.45062841],\n",
       "       [-1.02821446, -0.1392617 , -1.02980434, -0.89473179,  0.74288151,\n",
       "        -0.73184316, -0.84330079, -0.80880455, -1.15975947,  0.48938568,\n",
       "        -0.88760388,  0.65038093, -0.86919066, -0.62900544,  0.66188352,\n",
       "        -0.93600214, -0.46060034, -0.42348318, -0.30503075, -0.15870653,\n",
       "        -1.06870276, -0.16198127, -1.07434344, -0.86894147,  0.38200132,\n",
       "        -0.97073687, -0.95489389, -0.7612376 , -1.07145262, -0.29541379]])"
      ]
     },
     "execution_count": 10,
     "metadata": {},
     "output_type": "execute_result"
    }
   ],
   "source": [
    "\"\"\"## **Normalizando os Dados**\"\"\"\n",
    "from sklearn import preprocessing\n",
    "preprocessParams = preprocessing.StandardScaler().fit(X_train)\n",
    "X_train_normalized = preprocessParams.transform(X_train)\n",
    "X_test_normalized = preprocessParams.transform(X_test)\n",
    "\n",
    "X_train_normalized[0:2, :]"
   ]
  },
  {
   "cell_type": "markdown",
   "metadata": {
    "id": "iYv6i6W0TBMZ"
   },
   "source": [
    "# Passo 4. Treinar Rede Neural"
   ]
  },
  {
   "cell_type": "code",
   "execution_count": 11,
   "metadata": {
    "colab": {
     "base_uri": "https://localhost:8080/"
    },
    "executionInfo": {
     "elapsed": 5,
     "status": "ok",
     "timestamp": 1636488877072,
     "user": {
      "displayName": "Manoela Kohler",
      "photoUrl": "https://lh3.googleusercontent.com/a-/AOh14GgpjFfRi8xG4d4lZE0zAaod1dKX0hNyW0qOMUifpA=s64",
      "userId": "11407817634634210712"
     },
     "user_tz": 180
    },
    "id": "XBtU8chAY4Lq",
    "outputId": "e08f559f-0b1b-4cdb-cce8-53488fa9a68e"
   },
   "outputs": [
    {
     "name": "stdout",
     "output_type": "stream",
     "text": [
      "[0 0 0 1 0 0 0 0 1 1 0 0 1 0 0 0 0 1 0 0 1 1 0 0 1 1 0 0 1 0 0 1 1 1 0 0 0\n",
      " 1 0 0 0 0 0 1 0 1 0 1 0 1 0 1 0 0 0 0 1 0 1 0 0 0 1 0 0 0 1 0 0 1 1 0 1 0\n",
      " 1 0 1 1 1 1 0 1 0 1 0 1 0 1 0 0 1 0 0 0 0 0 0 0 0 0 0 0 0 0 1 0 0 0 1 0 0\n",
      " 0 0 0 0 1 0 1 0 0 1 0 1 1 0 1 1 0 0 1 0 0 0 1 0 0 0 0 0 1 1 0 0 0 0 1 1 0\n",
      " 0 0 0 1 0 0 1 0 0 1 0 1 0 0 0 0 1 1 1 1 0 1 0 1 1 0 0 0 0 0 1 0 0 1 0 0 1\n",
      " 1 0 0 0 1 1 0 0 1 0 0 0 1 0 1 0 1 1 1 1 0 0 0 0 1 1 0 0 0 0 0 1 0 0 1 0 0\n",
      " 1 1 1 1 0 0 1 0 0 0 1 1 0 0 0 0 0 1 1 1 0 1 1 0 0 0 0 0 0 1 0 0 0 0 0 0 1\n",
      " 1 0 1 0 1 1 0 0 0 0 0 1 1 1 0 0 1 1 0 0 1 0 1 1 0 1 0 0 0 0 0 0 0 1 1 0 0\n",
      " 0 1 0 0 0 0 1 0 1 1 1 0 1 0 1 0 1 1 0 0 0 0 0 0 0 0 1 1 1 1 1 0 0 0 0 0 0\n",
      " 0 1 0 1 0 0 0 0 0 1 1 1 0 1 0 0 1 1 1 1 0 1 1 1 0 1 0 1 0 0 1 1 0 1 0 0 0\n",
      " 0 1 0 0 1 0 0 0 1 1 0 0 0 1 0 0 1 0 0 0 0 0 1 1 1 0 0 0]\n"
     ]
    }
   ],
   "source": [
    "NumberOfClasses = len(y_train.unique())\n",
    "NumberOfClasses\n",
    "\n",
    "from sklearn.preprocessing import LabelEncoder\n",
    "encoder = LabelEncoder()\n",
    "y_train = encoder.fit_transform(y_train)\n",
    "y_test = encoder.transform(y_test)\n",
    "print(y_train)"
   ]
  },
  {
   "cell_type": "code",
   "execution_count": 12,
   "metadata": {
    "colab": {
     "base_uri": "https://localhost:8080/"
    },
    "executionInfo": {
     "elapsed": 382,
     "status": "ok",
     "timestamp": 1636488877451,
     "user": {
      "displayName": "Manoela Kohler",
      "photoUrl": "https://lh3.googleusercontent.com/a-/AOh14GgpjFfRi8xG4d4lZE0zAaod1dKX0hNyW0qOMUifpA=s64",
      "userId": "11407817634634210712"
     },
     "user_tz": 180
    },
    "id": "dCES2hBaSwfC",
    "outputId": "68eaf318-ef38-4314-a2fb-06ea9dff0941"
   },
   "outputs": [
    {
     "name": "stdout",
     "output_type": "stream",
     "text": [
      "Model: \"sequential\"\n",
      "_________________________________________________________________\n",
      " Layer (type)                Output Shape              Param #   \n",
      "=================================================================\n",
      " dense (Dense)               (None, 10)                310       \n",
      "                                                                 \n",
      " dense_1 (Dense)             (None, 2)                 22        \n",
      "                                                                 \n",
      "=================================================================\n",
      "Total params: 332\n",
      "Trainable params: 332\n",
      "Non-trainable params: 0\n",
      "_________________________________________________________________\n"
     ]
    }
   ],
   "source": [
    "\"\"\"# Rede Neural\"\"\"\n",
    "from keras import Sequential\n",
    "from keras.layers import Dense\n",
    "from tensorflow.keras.optimizers import SGD\n",
    "\n",
    "RN = Sequential()\n",
    "RN.add(Dense(10,input_shape = X_train_normalized.shape[1:],activation = 'sigmoid'))\n",
    "RN.add(Dense(NumberOfClasses,activation = 'sigmoid'))\n",
    "RN.summary()"
   ]
  },
  {
   "cell_type": "code",
   "execution_count": 13,
   "metadata": {
    "colab": {
     "base_uri": "https://localhost:8080/"
    },
    "executionInfo": {
     "elapsed": 5899,
     "status": "ok",
     "timestamp": 1636488883349,
     "user": {
      "displayName": "Manoela Kohler",
      "photoUrl": "https://lh3.googleusercontent.com/a-/AOh14GgpjFfRi8xG4d4lZE0zAaod1dKX0hNyW0qOMUifpA=s64",
      "userId": "11407817634634210712"
     },
     "user_tz": 180
    },
    "id": "UtFOpxEKTN1f",
    "outputId": "afe9f72b-8d6d-45e7-dbc5-b38e80f03f55"
   },
   "outputs": [
    {
     "name": "stdout",
     "output_type": "stream",
     "text": [
      "Epoch 1/100\n",
      "13/13 [==============================] - 1s 2ms/step - loss: 0.6652 - accuracy: 0.6256\n",
      "Epoch 2/100\n",
      "13/13 [==============================] - 0s 2ms/step - loss: 0.6527 - accuracy: 0.6256\n",
      "Epoch 3/100\n",
      "13/13 [==============================] - 0s 2ms/step - loss: 0.6410 - accuracy: 0.6256\n",
      "Epoch 4/100\n",
      "13/13 [==============================] - 0s 2ms/step - loss: 0.6300 - accuracy: 0.6256\n",
      "Epoch 5/100\n",
      "13/13 [==============================] - 0s 2ms/step - loss: 0.6194 - accuracy: 0.6256\n",
      "Epoch 6/100\n",
      "13/13 [==============================] - 0s 2ms/step - loss: 0.6099 - accuracy: 0.6256\n",
      "Epoch 7/100\n",
      "13/13 [==============================] - 0s 2ms/step - loss: 0.6006 - accuracy: 0.6256\n",
      "Epoch 8/100\n",
      "13/13 [==============================] - 0s 3ms/step - loss: 0.5920 - accuracy: 0.6256\n",
      "Epoch 9/100\n",
      "13/13 [==============================] - 0s 2ms/step - loss: 0.5837 - accuracy: 0.6256\n",
      "Epoch 10/100\n",
      "13/13 [==============================] - 0s 2ms/step - loss: 0.5758 - accuracy: 0.6256\n",
      "Epoch 11/100\n",
      "13/13 [==============================] - 0s 2ms/step - loss: 0.5682 - accuracy: 0.6281\n",
      "Epoch 12/100\n",
      "13/13 [==============================] - 0s 2ms/step - loss: 0.5612 - accuracy: 0.6281\n",
      "Epoch 13/100\n",
      "13/13 [==============================] - 0s 2ms/step - loss: 0.5544 - accuracy: 0.6307\n",
      "Epoch 14/100\n",
      "13/13 [==============================] - 0s 2ms/step - loss: 0.5478 - accuracy: 0.6332\n",
      "Epoch 15/100\n",
      "13/13 [==============================] - 0s 2ms/step - loss: 0.5416 - accuracy: 0.6407\n",
      "Epoch 16/100\n",
      "13/13 [==============================] - 0s 2ms/step - loss: 0.5355 - accuracy: 0.6457\n",
      "Epoch 17/100\n",
      "13/13 [==============================] - 0s 2ms/step - loss: 0.5295 - accuracy: 0.6533\n",
      "Epoch 18/100\n",
      "13/13 [==============================] - 0s 2ms/step - loss: 0.5239 - accuracy: 0.6583\n",
      "Epoch 19/100\n",
      "13/13 [==============================] - 0s 2ms/step - loss: 0.5183 - accuracy: 0.6709\n",
      "Epoch 20/100\n",
      "13/13 [==============================] - 0s 2ms/step - loss: 0.5130 - accuracy: 0.6809\n",
      "Epoch 21/100\n",
      "13/13 [==============================] - 0s 2ms/step - loss: 0.5078 - accuracy: 0.6884\n",
      "Epoch 22/100\n",
      "13/13 [==============================] - 0s 2ms/step - loss: 0.5027 - accuracy: 0.6935\n",
      "Epoch 23/100\n",
      "13/13 [==============================] - 0s 2ms/step - loss: 0.4976 - accuracy: 0.7010\n",
      "Epoch 24/100\n",
      "13/13 [==============================] - 0s 2ms/step - loss: 0.4927 - accuracy: 0.7161\n",
      "Epoch 25/100\n",
      "13/13 [==============================] - 0s 3ms/step - loss: 0.4880 - accuracy: 0.7261\n",
      "Epoch 26/100\n",
      "13/13 [==============================] - 0s 2ms/step - loss: 0.4832 - accuracy: 0.7286\n",
      "Epoch 27/100\n",
      "13/13 [==============================] - 0s 2ms/step - loss: 0.4786 - accuracy: 0.7437\n",
      "Epoch 28/100\n",
      "13/13 [==============================] - 0s 2ms/step - loss: 0.4741 - accuracy: 0.7588\n",
      "Epoch 29/100\n",
      "13/13 [==============================] - 0s 2ms/step - loss: 0.4696 - accuracy: 0.7663\n",
      "Epoch 30/100\n",
      "13/13 [==============================] - 0s 2ms/step - loss: 0.4653 - accuracy: 0.7814\n",
      "Epoch 31/100\n",
      "13/13 [==============================] - 0s 2ms/step - loss: 0.4610 - accuracy: 0.7965\n",
      "Epoch 32/100\n",
      "13/13 [==============================] - 0s 2ms/step - loss: 0.4567 - accuracy: 0.8040\n",
      "Epoch 33/100\n",
      "13/13 [==============================] - 0s 3ms/step - loss: 0.4526 - accuracy: 0.8141\n",
      "Epoch 34/100\n",
      "13/13 [==============================] - 0s 2ms/step - loss: 0.4484 - accuracy: 0.8191\n",
      "Epoch 35/100\n",
      "13/13 [==============================] - 0s 2ms/step - loss: 0.4443 - accuracy: 0.8266\n",
      "Epoch 36/100\n",
      "13/13 [==============================] - 0s 2ms/step - loss: 0.4403 - accuracy: 0.8291\n",
      "Epoch 37/100\n",
      "13/13 [==============================] - 0s 2ms/step - loss: 0.4364 - accuracy: 0.8367\n",
      "Epoch 38/100\n",
      "13/13 [==============================] - 0s 2ms/step - loss: 0.4325 - accuracy: 0.8392\n",
      "Epoch 39/100\n",
      "13/13 [==============================] - 0s 2ms/step - loss: 0.4287 - accuracy: 0.8492\n",
      "Epoch 40/100\n",
      "13/13 [==============================] - 0s 2ms/step - loss: 0.4249 - accuracy: 0.8568\n",
      "Epoch 41/100\n",
      "13/13 [==============================] - 0s 2ms/step - loss: 0.4212 - accuracy: 0.8593\n",
      "Epoch 42/100\n",
      "13/13 [==============================] - 0s 2ms/step - loss: 0.4175 - accuracy: 0.8668\n",
      "Epoch 43/100\n",
      "13/13 [==============================] - 0s 2ms/step - loss: 0.4139 - accuracy: 0.8719\n",
      "Epoch 44/100\n",
      "13/13 [==============================] - 0s 2ms/step - loss: 0.4103 - accuracy: 0.8744\n",
      "Epoch 45/100\n",
      "13/13 [==============================] - 0s 2ms/step - loss: 0.4068 - accuracy: 0.8769\n",
      "Epoch 46/100\n",
      "13/13 [==============================] - 0s 2ms/step - loss: 0.4033 - accuracy: 0.8819\n",
      "Epoch 47/100\n",
      "13/13 [==============================] - 0s 3ms/step - loss: 0.3998 - accuracy: 0.8844\n",
      "Epoch 48/100\n",
      "13/13 [==============================] - 0s 2ms/step - loss: 0.3963 - accuracy: 0.8844\n",
      "Epoch 49/100\n",
      "13/13 [==============================] - 0s 2ms/step - loss: 0.3929 - accuracy: 0.8894\n",
      "Epoch 50/100\n",
      "13/13 [==============================] - 0s 2ms/step - loss: 0.3896 - accuracy: 0.8920\n",
      "Epoch 51/100\n",
      "13/13 [==============================] - 0s 2ms/step - loss: 0.3862 - accuracy: 0.8920\n",
      "Epoch 52/100\n",
      "13/13 [==============================] - 0s 2ms/step - loss: 0.3829 - accuracy: 0.8920\n",
      "Epoch 53/100\n",
      "13/13 [==============================] - 0s 2ms/step - loss: 0.3797 - accuracy: 0.8920\n",
      "Epoch 54/100\n",
      "13/13 [==============================] - 0s 2ms/step - loss: 0.3764 - accuracy: 0.8945\n",
      "Epoch 55/100\n",
      "13/13 [==============================] - 0s 3ms/step - loss: 0.3733 - accuracy: 0.8945\n",
      "Epoch 56/100\n",
      "13/13 [==============================] - 0s 2ms/step - loss: 0.3701 - accuracy: 0.8970\n",
      "Epoch 57/100\n",
      "13/13 [==============================] - 0s 3ms/step - loss: 0.3670 - accuracy: 0.8995\n",
      "Epoch 58/100\n",
      "13/13 [==============================] - 0s 2ms/step - loss: 0.3640 - accuracy: 0.9045\n",
      "Epoch 59/100\n",
      "13/13 [==============================] - 0s 3ms/step - loss: 0.3610 - accuracy: 0.9095\n",
      "Epoch 60/100\n",
      "13/13 [==============================] - 0s 3ms/step - loss: 0.3581 - accuracy: 0.9095\n",
      "Epoch 61/100\n",
      "13/13 [==============================] - 0s 2ms/step - loss: 0.3552 - accuracy: 0.9095\n",
      "Epoch 62/100\n",
      "13/13 [==============================] - 0s 2ms/step - loss: 0.3523 - accuracy: 0.9095\n",
      "Epoch 63/100\n",
      "13/13 [==============================] - 0s 2ms/step - loss: 0.3495 - accuracy: 0.9121\n",
      "Epoch 64/100\n",
      "13/13 [==============================] - 0s 3ms/step - loss: 0.3467 - accuracy: 0.9121\n",
      "Epoch 65/100\n",
      "13/13 [==============================] - 0s 2ms/step - loss: 0.3439 - accuracy: 0.9121\n",
      "Epoch 66/100\n",
      "13/13 [==============================] - 0s 2ms/step - loss: 0.3411 - accuracy: 0.9146\n",
      "Epoch 67/100\n",
      "13/13 [==============================] - 0s 2ms/step - loss: 0.3384 - accuracy: 0.9196\n",
      "Epoch 68/100\n",
      "13/13 [==============================] - 0s 2ms/step - loss: 0.3357 - accuracy: 0.9196\n",
      "Epoch 69/100\n",
      "13/13 [==============================] - 0s 3ms/step - loss: 0.3330 - accuracy: 0.9196\n",
      "Epoch 70/100\n",
      "13/13 [==============================] - 0s 2ms/step - loss: 0.3304 - accuracy: 0.9196\n",
      "Epoch 71/100\n",
      "13/13 [==============================] - 0s 2ms/step - loss: 0.3278 - accuracy: 0.9196\n",
      "Epoch 72/100\n",
      "13/13 [==============================] - 0s 2ms/step - loss: 0.3253 - accuracy: 0.9246\n",
      "Epoch 73/100\n",
      "13/13 [==============================] - 0s 2ms/step - loss: 0.3228 - accuracy: 0.9296\n",
      "Epoch 74/100\n",
      "13/13 [==============================] - 0s 2ms/step - loss: 0.3203 - accuracy: 0.9322\n",
      "Epoch 75/100\n",
      "13/13 [==============================] - 0s 2ms/step - loss: 0.3178 - accuracy: 0.9322\n",
      "Epoch 76/100\n",
      "13/13 [==============================] - 0s 2ms/step - loss: 0.3154 - accuracy: 0.9322\n",
      "Epoch 77/100\n",
      "13/13 [==============================] - 0s 2ms/step - loss: 0.3130 - accuracy: 0.9322\n",
      "Epoch 78/100\n",
      "13/13 [==============================] - 0s 2ms/step - loss: 0.3106 - accuracy: 0.9347\n",
      "Epoch 79/100\n",
      "13/13 [==============================] - 0s 2ms/step - loss: 0.3083 - accuracy: 0.9347\n",
      "Epoch 80/100\n",
      "13/13 [==============================] - 0s 2ms/step - loss: 0.3059 - accuracy: 0.9347\n",
      "Epoch 81/100\n",
      "13/13 [==============================] - 0s 2ms/step - loss: 0.3037 - accuracy: 0.9347\n",
      "Epoch 82/100\n",
      "13/13 [==============================] - 0s 3ms/step - loss: 0.3014 - accuracy: 0.9347\n",
      "Epoch 83/100\n",
      "13/13 [==============================] - 0s 2ms/step - loss: 0.2992 - accuracy: 0.9372\n",
      "Epoch 84/100\n",
      "13/13 [==============================] - 0s 2ms/step - loss: 0.2970 - accuracy: 0.9372\n",
      "Epoch 85/100\n",
      "13/13 [==============================] - 0s 3ms/step - loss: 0.2948 - accuracy: 0.9372\n",
      "Epoch 86/100\n",
      "13/13 [==============================] - 0s 2ms/step - loss: 0.2927 - accuracy: 0.9372\n",
      "Epoch 87/100\n",
      "13/13 [==============================] - 0s 2ms/step - loss: 0.2906 - accuracy: 0.9372\n",
      "Epoch 88/100\n",
      "13/13 [==============================] - 0s 2ms/step - loss: 0.2885 - accuracy: 0.9372\n",
      "Epoch 89/100\n",
      "13/13 [==============================] - 0s 2ms/step - loss: 0.2864 - accuracy: 0.9372\n",
      "Epoch 90/100\n",
      "13/13 [==============================] - 0s 2ms/step - loss: 0.2844 - accuracy: 0.9372\n",
      "Epoch 91/100\n",
      "13/13 [==============================] - 0s 2ms/step - loss: 0.2824 - accuracy: 0.9372\n",
      "Epoch 92/100\n",
      "13/13 [==============================] - 0s 3ms/step - loss: 0.2804 - accuracy: 0.9372\n",
      "Epoch 93/100\n",
      "13/13 [==============================] - 0s 2ms/step - loss: 0.2784 - accuracy: 0.9372\n",
      "Epoch 94/100\n",
      "13/13 [==============================] - 0s 2ms/step - loss: 0.2764 - accuracy: 0.9372\n",
      "Epoch 95/100\n",
      "13/13 [==============================] - 0s 3ms/step - loss: 0.2745 - accuracy: 0.9372\n",
      "Epoch 96/100\n",
      "13/13 [==============================] - 0s 3ms/step - loss: 0.2727 - accuracy: 0.9397\n",
      "Epoch 97/100\n",
      "13/13 [==============================] - 0s 2ms/step - loss: 0.2708 - accuracy: 0.9422\n",
      "Epoch 98/100\n",
      "13/13 [==============================] - 0s 2ms/step - loss: 0.2689 - accuracy: 0.9447\n",
      "Epoch 99/100\n",
      "13/13 [==============================] - 0s 2ms/step - loss: 0.2671 - accuracy: 0.9447\n",
      "Epoch 100/100\n",
      "13/13 [==============================] - 0s 2ms/step - loss: 0.2654 - accuracy: 0.9447\n"
     ]
    }
   ],
   "source": [
    "# treinamento\n",
    "from tensorflow.keras.utils import to_categorical\n",
    "RN.compile(optimizer = 'sgd', loss = 'binary_crossentropy', metrics = ['accuracy']) \n",
    "history = RN.fit(X_train_normalized, to_categorical(y_train), epochs = 100)"
   ]
  },
  {
   "cell_type": "markdown",
   "metadata": {
    "id": "jk2ocoT3TiGl"
   },
   "source": [
    "# Passo 5. Avaliação da Rede Neural"
   ]
  },
  {
   "cell_type": "code",
   "execution_count": 23,
   "metadata": {
    "colab": {
     "base_uri": "https://localhost:8080/"
    },
    "executionInfo": {
     "elapsed": 229,
     "status": "ok",
     "timestamp": 1636488931055,
     "user": {
      "displayName": "Manoela Kohler",
      "photoUrl": "https://lh3.googleusercontent.com/a-/AOh14GgpjFfRi8xG4d4lZE0zAaod1dKX0hNyW0qOMUifpA=s64",
      "userId": "11407817634634210712"
     },
     "user_tz": 180
    },
    "id": "LjpdpGfzTO7X",
    "outputId": "c23e9285-79a5-4f4c-dae9-a5d2c506d2cc"
   },
   "outputs": [
    {
     "name": "stdout",
     "output_type": "stream",
     "text": [
      "Test score: 0.27622318267822266\n",
      "Test accuracy: 0.9356725215911865\n"
     ]
    }
   ],
   "source": [
    "# avaliação\n",
    "score = RN.evaluate(X_test_normalized, to_categorical(y_test), verbose = 0)\n",
    "print('Test score:', score[0])\n",
    "print('Test accuracy:', score[1])"
   ]
  },
  {
   "cell_type": "code",
   "execution_count": 15,
   "metadata": {
    "colab": {
     "base_uri": "https://localhost:8080/",
     "height": 296
    },
    "executionInfo": {
     "elapsed": 5,
     "status": "ok",
     "timestamp": 1636488883781,
     "user": {
      "displayName": "Manoela Kohler",
      "photoUrl": "https://lh3.googleusercontent.com/a-/AOh14GgpjFfRi8xG4d4lZE0zAaod1dKX0hNyW0qOMUifpA=s64",
      "userId": "11407817634634210712"
     },
     "user_tz": 180
    },
    "id": "So7GDgoRTO9u",
    "outputId": "77eef8fb-d1dc-454e-9bc4-2acf213052b4"
   },
   "outputs": [
    {
     "data": {
      "image/png": "[encoded data removed]",
      "text/plain": [
       "<Figure size 432x288 with 1 Axes>"
      ]
     },
     "metadata": {
      "needs_background": "light"
     },
     "output_type": "display_data"
    }
   ],
   "source": [
    "# Gráfico do treinamento: custo do treino e validação\n",
    "import matplotlib.pyplot as plt\n",
    "plt.plot(history.history['loss'], label='train')\n",
    "plt.title('Loss de treino')\n",
    "plt.ylabel('loss')\n",
    "plt.xlabel('época')\n",
    "plt.legend();"
   ]
  },
  {
   "cell_type": "markdown",
   "metadata": {
    "id": "kC6FNa44T41z"
   },
   "source": [
    "# Passo 6. Fazer novas previsões"
   ]
  },
  {
   "cell_type": "code",
   "execution_count": 16,
   "metadata": {
    "colab": {
     "base_uri": "https://localhost:8080/"
    },
    "executionInfo": {
     "elapsed": 5,
     "status": "ok",
     "timestamp": 1636488883782,
     "user": {
      "displayName": "Manoela Kohler",
      "photoUrl": "https://lh3.googleusercontent.com/a-/AOh14GgpjFfRi8xG4d4lZE0zAaod1dKX0hNyW0qOMUifpA=s64",
      "userId": "11407817634634210712"
     },
     "user_tz": 180
    },
    "id": "okvzhnpMTO_-",
    "outputId": "e6c1a48b-0808-4286-b6f4-226941a9267c"
   },
   "outputs": [
    {
     "data": {
      "text/plain": [
       "array([[0.30283546, 0.69686276],\n",
       "       [0.86356485, 0.13716236],\n",
       "       [0.9010458 , 0.08904102],\n",
       "       [0.86161566, 0.11328954],\n",
       "       [0.9165901 , 0.09225762],\n",
       "       [0.8780221 , 0.12806809],\n",
       "       [0.8211639 , 0.1351564 ],\n",
       "       [0.8987961 , 0.10197708],\n",
       "       [0.91663504, 0.07421979],\n",
       "       [0.9185147 , 0.09194386],\n",
       "       [0.5559245 , 0.46314436],\n",
       "       [0.81109345, 0.15894097],\n",
       "       [0.9032353 , 0.08016819],\n",
       "       [0.75993633, 0.27331305],\n",
       "       [0.6059147 , 0.3451839 ],\n",
       "       [0.2855162 , 0.71898997],\n",
       "       [0.6843454 , 0.34016496],\n",
       "       [0.22968572, 0.77411854],\n",
       "       [0.29374236, 0.76367587],\n",
       "       [0.20752129, 0.81321764],\n",
       "       [0.2811805 , 0.71896   ],\n",
       "       [0.27756703, 0.6794827 ],\n",
       "       [0.7721552 , 0.20246497],\n",
       "       [0.8915622 , 0.10016039],\n",
       "       [0.23208219, 0.7529558 ],\n",
       "       [0.9135205 , 0.10359749],\n",
       "       [0.9223207 , 0.07781988],\n",
       "       [0.22630802, 0.7020078 ],\n",
       "       [0.88799804, 0.09930241],\n",
       "       [0.22124615, 0.78940284],\n",
       "       [0.92149633, 0.08361813],\n",
       "       [0.30948997, 0.6639929 ],\n",
       "       [0.6878966 , 0.28820136],\n",
       "       [0.39495057, 0.61003166],\n",
       "       [0.92818314, 0.06630841],\n",
       "       [0.35559183, 0.65403134],\n",
       "       [0.87206495, 0.13187227],\n",
       "       [0.39857057, 0.6180329 ],\n",
       "       [0.8598452 , 0.12606111],\n",
       "       [0.3581121 , 0.6818115 ],\n",
       "       [0.68115544, 0.29594722],\n",
       "       [0.92205346, 0.07806152],\n",
       "       [0.64036137, 0.33963966],\n",
       "       [0.9254717 , 0.07632306],\n",
       "       [0.54955333, 0.39074194],\n",
       "       [0.20901257, 0.8234725 ],\n",
       "       [0.9324205 , 0.06317267],\n",
       "       [0.8717128 , 0.13972819],\n",
       "       [0.9041586 , 0.1108413 ],\n",
       "       [0.20576167, 0.7532588 ],\n",
       "       [0.235161  , 0.7681885 ],\n",
       "       [0.31085798, 0.60321736],\n",
       "       [0.295079  , 0.72457683],\n",
       "       [0.8823024 , 0.10619605],\n",
       "       [0.8530391 , 0.12624463],\n",
       "       [0.9006591 , 0.09985903],\n",
       "       [0.90247726, 0.07571286],\n",
       "       [0.89277947, 0.13432041],\n",
       "       [0.8960511 , 0.11136156],\n",
       "       [0.17895395, 0.82285523],\n",
       "       [0.39798075, 0.68723536],\n",
       "       [0.48092753, 0.56738687],\n",
       "       [0.91375065, 0.07781726],\n",
       "       [0.87030244, 0.1283277 ],\n",
       "       [0.20644432, 0.7635137 ],\n",
       "       [0.879958  , 0.14867005],\n",
       "       [0.17318058, 0.8284805 ],\n",
       "       [0.21189627, 0.75403666],\n",
       "       [0.26057974, 0.7768141 ],\n",
       "       [0.8978418 , 0.13101661],\n",
       "       [0.61690795, 0.35744253],\n",
       "       [0.2016345 , 0.791285  ],\n",
       "       [0.8947441 , 0.11663273],\n",
       "       [0.7047978 , 0.32108462],\n",
       "       [0.20973358, 0.8023885 ],\n",
       "       [0.8870864 , 0.10888296],\n",
       "       [0.9039453 , 0.0982331 ],\n",
       "       [0.71546245, 0.27853328],\n",
       "       [0.9168544 , 0.07537186],\n",
       "       [0.92418265, 0.09812433],\n",
       "       [0.44395536, 0.5115624 ],\n",
       "       [0.21202311, 0.7939362 ],\n",
       "       [0.20061809, 0.79861   ],\n",
       "       [0.93056285, 0.07496652],\n",
       "       [0.36503142, 0.617236  ],\n",
       "       [0.89567626, 0.10432881],\n",
       "       [0.91859365, 0.07529742],\n",
       "       [0.9285432 , 0.06852672],\n",
       "       [0.32959062, 0.68267095],\n",
       "       [0.15655798, 0.81509626],\n",
       "       [0.9239165 , 0.08051789],\n",
       "       [0.5647384 , 0.38046446],\n",
       "       [0.59854674, 0.3572064 ],\n",
       "       [0.18169886, 0.7404733 ],\n",
       "       [0.91050863, 0.13628179],\n",
       "       [0.8825593 , 0.1332373 ],\n",
       "       [0.22955146, 0.81325215],\n",
       "       [0.5944831 , 0.36428368],\n",
       "       [0.875361  , 0.13651893],\n",
       "       [0.8903276 , 0.13286275],\n",
       "       [0.84916043, 0.11064708],\n",
       "       [0.87507766, 0.11565715],\n",
       "       [0.87509394, 0.11045036],\n",
       "       [0.7447858 , 0.2311844 ],\n",
       "       [0.27229345, 0.74622446],\n",
       "       [0.7593603 , 0.26166242],\n",
       "       [0.1731584 , 0.8034634 ],\n",
       "       [0.7158573 , 0.2980733 ],\n",
       "       [0.7713876 , 0.21672058],\n",
       "       [0.70416176, 0.3334842 ],\n",
       "       [0.835254  , 0.17817336],\n",
       "       [0.21848077, 0.7895025 ],\n",
       "       [0.26276597, 0.73470277],\n",
       "       [0.72054654, 0.25100946],\n",
       "       [0.91109955, 0.11549589],\n",
       "       [0.8816023 , 0.13150942],\n",
       "       [0.75059426, 0.23084289],\n",
       "       [0.9028256 , 0.09877896],\n",
       "       [0.85978997, 0.13102156],\n",
       "       [0.8655294 , 0.11617538],\n",
       "       [0.8933313 , 0.10231906],\n",
       "       [0.89408416, 0.10793513],\n",
       "       [0.2449471 , 0.6684866 ],\n",
       "       [0.7956984 , 0.22122976],\n",
       "       [0.20740587, 0.80117345],\n",
       "       [0.72675425, 0.36659288],\n",
       "       [0.78604496, 0.21740541],\n",
       "       [0.90433335, 0.08988029],\n",
       "       [0.90142536, 0.08949962],\n",
       "       [0.9253098 , 0.06833938],\n",
       "       [0.30960697, 0.70213085],\n",
       "       [0.92548156, 0.088321  ],\n",
       "       [0.9027338 , 0.08258814],\n",
       "       [0.48128426, 0.43151253],\n",
       "       [0.5871642 , 0.43141302],\n",
       "       [0.91382235, 0.07382652],\n",
       "       [0.76395166, 0.21081463],\n",
       "       [0.70801115, 0.32197398],\n",
       "       [0.17261443, 0.82905304],\n",
       "       [0.87265193, 0.13772205],\n",
       "       [0.88560796, 0.10955516],\n",
       "       [0.8717311 , 0.13737178],\n",
       "       [0.18586656, 0.82123   ],\n",
       "       [0.89012873, 0.11591563],\n",
       "       [0.9086342 , 0.1002821 ],\n",
       "       [0.2519467 , 0.7911074 ],\n",
       "       [0.8985489 , 0.10353744],\n",
       "       [0.53397703, 0.34723645],\n",
       "       [0.89769787, 0.09921151],\n",
       "       [0.893371  , 0.11367068],\n",
       "       [0.84972656, 0.15606296],\n",
       "       [0.4148184 , 0.5057744 ],\n",
       "       [0.46079195, 0.6369698 ],\n",
       "       [0.6709832 , 0.32962167],\n",
       "       [0.91811323, 0.09197888],\n",
       "       [0.32843673, 0.6603571 ],\n",
       "       [0.86989343, 0.13225764],\n",
       "       [0.5535542 , 0.43871295],\n",
       "       [0.91491425, 0.07922897],\n",
       "       [0.23108643, 0.79421544],\n",
       "       [0.22893354, 0.80084157],\n",
       "       [0.91049385, 0.09289292],\n",
       "       [0.7667031 , 0.2677907 ],\n",
       "       [0.3267852 , 0.69870627],\n",
       "       [0.9067653 , 0.09410736],\n",
       "       [0.24531907, 0.76230997],\n",
       "       [0.42397666, 0.6097181 ],\n",
       "       [0.28197485, 0.70633066],\n",
       "       [0.74638444, 0.26358533],\n",
       "       [0.87634385, 0.12246528],\n",
       "       [0.9244034 , 0.08050451]], dtype=float32)"
      ]
     },
     "execution_count": 16,
     "metadata": {},
     "output_type": "execute_result"
    }
   ],
   "source": [
    "from sklearn.metrics import confusion_matrix\n",
    "y_test_predicted = RN.predict(X_test_normalized)\n",
    "y_test_predicted"
   ]
  },
  {
   "cell_type": "code",
   "execution_count": 17,
   "metadata": {
    "colab": {
     "base_uri": "https://localhost:8080/"
    },
    "executionInfo": {
     "elapsed": 249,
     "status": "ok",
     "timestamp": 1636488884028,
     "user": {
      "displayName": "Manoela Kohler",
      "photoUrl": "https://lh3.googleusercontent.com/a-/AOh14GgpjFfRi8xG4d4lZE0zAaod1dKX0hNyW0qOMUifpA=s64",
      "userId": "11407817634634210712"
     },
     "user_tz": 180
    },
    "id": "jV7Fzmc1ZPgY",
    "outputId": "c6cd780d-aa9d-477a-c01d-d5860cceea6a"
   },
   "outputs": [
    {
     "data": {
      "text/plain": [
       "array([1, 0, 0, 0, 0, 0, 0, 0, 0, 0, 0, 0, 0, 0, 0, 1, 0, 1, 1, 1, 1, 1,\n",
       "       0, 0, 1, 0, 0, 1, 0, 1, 0, 1, 0, 1, 0, 1, 0, 1, 0, 1, 0, 0, 0, 0,\n",
       "       0, 1, 0, 0, 0, 1, 1, 1, 1, 0, 0, 0, 0, 0, 0, 1, 1, 1, 0, 0, 1, 0,\n",
       "       1, 1, 1, 0, 0, 1, 0, 0, 1, 0, 0, 0, 0, 0, 1, 1, 1, 0, 1, 0, 0, 0,\n",
       "       1, 1, 0, 0, 0, 1, 0, 0, 1, 0, 0, 0, 0, 0, 0, 0, 1, 0, 1, 0, 0, 0,\n",
       "       0, 1, 1, 0, 0, 0, 0, 0, 0, 0, 0, 0, 1, 0, 1, 0, 0, 0, 0, 0, 1, 0,\n",
       "       0, 0, 0, 0, 0, 0, 1, 0, 0, 0, 1, 0, 0, 1, 0, 0, 0, 0, 0, 1, 1, 0,\n",
       "       0, 1, 0, 0, 0, 1, 1, 0, 0, 1, 0, 1, 1, 1, 0, 0, 0])"
      ]
     },
     "execution_count": 17,
     "metadata": {},
     "output_type": "execute_result"
    }
   ],
   "source": [
    "y_test_predicted_indexes = np.argmax(y_test_predicted,axis=1)\n",
    "y_test_predicted_indexes"
   ]
  },
  {
   "cell_type": "code",
   "execution_count": 18,
   "metadata": {
    "colab": {
     "base_uri": "https://localhost:8080/"
    },
    "executionInfo": {
     "elapsed": 6,
     "status": "ok",
     "timestamp": 1636488884028,
     "user": {
      "displayName": "Manoela Kohler",
      "photoUrl": "https://lh3.googleusercontent.com/a-/AOh14GgpjFfRi8xG4d4lZE0zAaod1dKX0hNyW0qOMUifpA=s64",
      "userId": "11407817634634210712"
     },
     "user_tz": 180
    },
    "id": "FvUIswUOuv1B",
    "outputId": "d137908c-023c-4d2b-fb8d-e5018f009789"
   },
   "outputs": [
    {
     "data": {
      "text/plain": [
       "array([1, 0])"
      ]
     },
     "execution_count": 18,
     "metadata": {},
     "output_type": "execute_result"
    }
   ],
   "source": [
    "encoder.transform(['M', 'B'])"
   ]
  },
  {
   "cell_type": "code",
   "execution_count": 19,
   "metadata": {
    "colab": {
     "base_uri": "https://localhost:8080/"
    },
    "executionInfo": {
     "elapsed": 6,
     "status": "ok",
     "timestamp": 1636488884029,
     "user": {
      "displayName": "Manoela Kohler",
      "photoUrl": "https://lh3.googleusercontent.com/a-/AOh14GgpjFfRi8xG4d4lZE0zAaod1dKX0hNyW0qOMUifpA=s64",
      "userId": "11407817634634210712"
     },
     "user_tz": 180
    },
    "id": "1srGH3nNu0ig",
    "outputId": "22c0d98c-c932-49bf-8017-17c6512dbe0b"
   },
   "outputs": [
    {
     "data": {
      "text/plain": [
       "0    108\n",
       "1     63\n",
       "dtype: int64"
      ]
     },
     "execution_count": 19,
     "metadata": {},
     "output_type": "execute_result"
    }
   ],
   "source": [
    "pd.DataFrame(y_test).value_counts()"
   ]
  },
  {
   "cell_type": "code",
   "execution_count": 20,
   "metadata": {
    "colab": {
     "base_uri": "https://localhost:8080/",
     "height": 112
    },
    "executionInfo": {
     "elapsed": 5,
     "status": "ok",
     "timestamp": 1636488884029,
     "user": {
      "displayName": "Manoela Kohler",
      "photoUrl": "https://lh3.googleusercontent.com/a-/AOh14GgpjFfRi8xG4d4lZE0zAaod1dKX0hNyW0qOMUifpA=s64",
      "userId": "11407817634634210712"
     },
     "user_tz": 180
    },
    "id": "1sskLuH_uFSG",
    "outputId": "92b7021d-3feb-4cc1-e8d9-b8d4bf0544f4"
   },
   "outputs": [
    {
     "data": {
      "text/html": [
       "<div>\n",
       "<style scoped>\n",
       "    .dataframe tbody tr th:only-of-type {\n",
       "        vertical-align: middle;\n",
       "    }\n",
       "\n",
       "    .dataframe tbody tr th {\n",
       "        vertical-align: top;\n",
       "    }\n",
       "\n",
       "    .dataframe thead th {\n",
       "        text-align: right;\n",
       "    }\n",
       "</style>\n",
       "<table border=\"1\" class=\"dataframe\">\n",
       "  <thead>\n",
       "    <tr style=\"text-align: right;\">\n",
       "      <th></th>\n",
       "      <th>Real Benigno</th>\n",
       "      <th>Real Maligno</th>\n",
       "    </tr>\n",
       "  </thead>\n",
       "  <tbody>\n",
       "    <tr>\n",
       "      <th>Pred Benigno</th>\n",
       "      <td>106</td>\n",
       "      <td>9</td>\n",
       "    </tr>\n",
       "    <tr>\n",
       "      <th>Pred Maligno</th>\n",
       "      <td>2</td>\n",
       "      <td>54</td>\n",
       "    </tr>\n",
       "  </tbody>\n",
       "</table>\n",
       "</div>"
      ],
      "text/plain": [
       "              Real Benigno  Real Maligno\n",
       "Pred Benigno           106             9\n",
       "Pred Maligno             2            54"
      ]
     },
     "execution_count": 20,
     "metadata": {},
     "output_type": "execute_result"
    }
   ],
   "source": [
    "# Matriz de confusão\n",
    "confMatrix = confusion_matrix(y_test_predicted_indexes, y_test)\n",
    "pd.DataFrame(confMatrix, index=['Pred Benigno', 'Pred Maligno'], columns=['Real Benigno', 'Real Maligno'],) #matriz de confusão"
   ]
  },
  {
   "cell_type": "code",
   "execution_count": 21,
   "metadata": {
    "colab": {
     "base_uri": "https://localhost:8080/",
     "height": 295
    },
    "executionInfo": {
     "elapsed": 445,
     "status": "ok",
     "timestamp": 1636488884470,
     "user": {
      "displayName": "Manoela Kohler",
      "photoUrl": "https://lh3.googleusercontent.com/a-/AOh14GgpjFfRi8xG4d4lZE0zAaod1dKX0hNyW0qOMUifpA=s64",
      "userId": "11407817634634210712"
     },
     "user_tz": 180
    },
    "id": "tT3_LqXUvqcb",
    "outputId": "66a9c456-5679-4a89-ee68-c4797ae2070a"
   },
   "outputs": [
    {
     "data": {
      "image/png": "[encoded data removed]",
      "text/plain": [
       "<Figure size 432x288 with 2 Axes>"
      ]
     },
     "metadata": {
      "needs_background": "light"
     },
     "output_type": "display_data"
    }
   ],
   "source": [
    "import seaborn as sns\n",
    "ax = plt.subplot()\n",
    "sns.heatmap(confMatrix, annot=True, fmt=\".0f\", cmap=plt.cm.Blues)\n",
    "plt.xlabel('Real')\n",
    "plt.ylabel('Previsto')\n",
    "plt.title('Matriz de Confusão')\n",
    "\n",
    "# Colocar os nomes\n",
    "ax.xaxis.set_ticklabels(['Benigno', 'Maligno']) \n",
    "ax.yaxis.set_ticklabels(['Benigno', 'Maligno'])\n",
    "plt.show()"
   ]
  },
  {
   "cell_type": "code",
   "execution_count": 21,
   "metadata": {
    "executionInfo": {
     "elapsed": 3,
     "status": "ok",
     "timestamp": 1636488884470,
     "user": {
      "displayName": "Manoela Kohler",
      "photoUrl": "https://lh3.googleusercontent.com/a-/AOh14GgpjFfRi8xG4d4lZE0zAaod1dKX0hNyW0qOMUifpA=s64",
      "userId": "11407817634634210712"
     },
     "user_tz": 180
    },
    "id": "R42l-xIdwUPu"
   },
   "outputs": [],
   "source": []
  }
 ],
 "metadata": {
  "colab": {
   "authorship_tag": "ABX9TyNpCkmnR59fZjyUHvdRKzlq",
   "collapsed_sections": [],
   "name": "CancerDeMama.ipynb",
   "provenance": []
  },
  "kernelspec": {
   "display_name": "Python 3 (ipykernel)",
   "language": "python",
   "name": "python3"
  },
  "language_info": {
   "codemirror_mode": {
    "name": "ipython",
    "version": 3
   },
   "file_extension": ".py",
   "mimetype": "text/x-python",
   "name": "python",
   "nbconvert_exporter": "python",
   "pygments_lexer": "ipython3",
   "version": "3.8.11"
  }
 },
 "nbformat": 4,
 "nbformat_minor": 1
}
