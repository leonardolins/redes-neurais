{
 "cells": [
  {
   "cell_type": "markdown",
   "metadata": {
    "id": "DdqJg1YKmjXC"
   },
   "source": [
    "# Câncer de Mama"
   ]
  },
  {
   "cell_type": "markdown",
   "metadata": {
    "id": "ESwS4GPDmzhy"
   },
   "source": [
    "### Importacao de bibliotecas"
   ]
  },
  {
   "cell_type": "code",
   "execution_count": 1,
   "metadata": {
    "ExecuteTime": {
     "end_time": "2022-03-15T21:53:22.442589Z",
     "start_time": "2022-03-15T21:53:18.803433Z"
    },
    "id": "keXOY9uF5FbU"
   },
   "outputs": [],
   "source": [
    "import numpy as np\n",
    "import pandas as pd\n",
    "import matplotlib.pyplot as plt\n",
    "import seaborn as sns"
   ]
  },
  {
   "cell_type": "code",
   "execution_count": 2,
   "metadata": {
    "ExecuteTime": {
     "end_time": "2022-03-15T21:53:25.044334Z",
     "start_time": "2022-03-15T21:53:24.968488Z"
    },
    "id": "s2HHPi4qpWOJ"
   },
   "outputs": [
    {
     "data": {
      "text/html": [
       "<div>\n",
       "<style scoped>\n",
       "    .dataframe tbody tr th:only-of-type {\n",
       "        vertical-align: middle;\n",
       "    }\n",
       "\n",
       "    .dataframe tbody tr th {\n",
       "        vertical-align: top;\n",
       "    }\n",
       "\n",
       "    .dataframe thead th {\n",
       "        text-align: right;\n",
       "    }\n",
       "</style>\n",
       "<table border=\"1\" class=\"dataframe\">\n",
       "  <thead>\n",
       "    <tr style=\"text-align: right;\">\n",
       "      <th></th>\n",
       "      <th>diagnosis</th>\n",
       "      <th>radius_mean</th>\n",
       "      <th>texture_mean</th>\n",
       "      <th>perimeter_mean</th>\n",
       "      <th>area_mean</th>\n",
       "      <th>smoothness_mean</th>\n",
       "      <th>compactness_mean</th>\n",
       "      <th>concavity_mean</th>\n",
       "      <th>concave points_mean</th>\n",
       "      <th>symmetry_mean</th>\n",
       "      <th>...</th>\n",
       "      <th>radius_worst</th>\n",
       "      <th>texture_worst</th>\n",
       "      <th>perimeter_worst</th>\n",
       "      <th>area_worst</th>\n",
       "      <th>smoothness_worst</th>\n",
       "      <th>compactness_worst</th>\n",
       "      <th>concavity_worst</th>\n",
       "      <th>concave points_worst</th>\n",
       "      <th>symmetry_worst</th>\n",
       "      <th>fractal_dimension_worst</th>\n",
       "    </tr>\n",
       "    <tr>\n",
       "      <th>id</th>\n",
       "      <th></th>\n",
       "      <th></th>\n",
       "      <th></th>\n",
       "      <th></th>\n",
       "      <th></th>\n",
       "      <th></th>\n",
       "      <th></th>\n",
       "      <th></th>\n",
       "      <th></th>\n",
       "      <th></th>\n",
       "      <th></th>\n",
       "      <th></th>\n",
       "      <th></th>\n",
       "      <th></th>\n",
       "      <th></th>\n",
       "      <th></th>\n",
       "      <th></th>\n",
       "      <th></th>\n",
       "      <th></th>\n",
       "      <th></th>\n",
       "      <th></th>\n",
       "    </tr>\n",
       "  </thead>\n",
       "  <tbody>\n",
       "    <tr>\n",
       "      <th>842302</th>\n",
       "      <td>M</td>\n",
       "      <td>17.99</td>\n",
       "      <td>10.38</td>\n",
       "      <td>122.80</td>\n",
       "      <td>1001.0</td>\n",
       "      <td>0.11840</td>\n",
       "      <td>0.27760</td>\n",
       "      <td>0.3001</td>\n",
       "      <td>0.14710</td>\n",
       "      <td>0.2419</td>\n",
       "      <td>...</td>\n",
       "      <td>25.38</td>\n",
       "      <td>17.33</td>\n",
       "      <td>184.60</td>\n",
       "      <td>2019.0</td>\n",
       "      <td>0.1622</td>\n",
       "      <td>0.6656</td>\n",
       "      <td>0.7119</td>\n",
       "      <td>0.2654</td>\n",
       "      <td>0.4601</td>\n",
       "      <td>0.11890</td>\n",
       "    </tr>\n",
       "    <tr>\n",
       "      <th>842517</th>\n",
       "      <td>M</td>\n",
       "      <td>20.57</td>\n",
       "      <td>17.77</td>\n",
       "      <td>132.90</td>\n",
       "      <td>1326.0</td>\n",
       "      <td>0.08474</td>\n",
       "      <td>0.07864</td>\n",
       "      <td>0.0869</td>\n",
       "      <td>0.07017</td>\n",
       "      <td>0.1812</td>\n",
       "      <td>...</td>\n",
       "      <td>24.99</td>\n",
       "      <td>23.41</td>\n",
       "      <td>158.80</td>\n",
       "      <td>1956.0</td>\n",
       "      <td>0.1238</td>\n",
       "      <td>0.1866</td>\n",
       "      <td>0.2416</td>\n",
       "      <td>0.1860</td>\n",
       "      <td>0.2750</td>\n",
       "      <td>0.08902</td>\n",
       "    </tr>\n",
       "    <tr>\n",
       "      <th>84300903</th>\n",
       "      <td>M</td>\n",
       "      <td>19.69</td>\n",
       "      <td>21.25</td>\n",
       "      <td>130.00</td>\n",
       "      <td>1203.0</td>\n",
       "      <td>0.10960</td>\n",
       "      <td>0.15990</td>\n",
       "      <td>0.1974</td>\n",
       "      <td>0.12790</td>\n",
       "      <td>0.2069</td>\n",
       "      <td>...</td>\n",
       "      <td>23.57</td>\n",
       "      <td>25.53</td>\n",
       "      <td>152.50</td>\n",
       "      <td>1709.0</td>\n",
       "      <td>0.1444</td>\n",
       "      <td>0.4245</td>\n",
       "      <td>0.4504</td>\n",
       "      <td>0.2430</td>\n",
       "      <td>0.3613</td>\n",
       "      <td>0.08758</td>\n",
       "    </tr>\n",
       "    <tr>\n",
       "      <th>84348301</th>\n",
       "      <td>M</td>\n",
       "      <td>11.42</td>\n",
       "      <td>20.38</td>\n",
       "      <td>77.58</td>\n",
       "      <td>386.1</td>\n",
       "      <td>0.14250</td>\n",
       "      <td>0.28390</td>\n",
       "      <td>0.2414</td>\n",
       "      <td>0.10520</td>\n",
       "      <td>0.2597</td>\n",
       "      <td>...</td>\n",
       "      <td>14.91</td>\n",
       "      <td>26.50</td>\n",
       "      <td>98.87</td>\n",
       "      <td>567.7</td>\n",
       "      <td>0.2098</td>\n",
       "      <td>0.8663</td>\n",
       "      <td>0.6869</td>\n",
       "      <td>0.2575</td>\n",
       "      <td>0.6638</td>\n",
       "      <td>0.17300</td>\n",
       "    </tr>\n",
       "    <tr>\n",
       "      <th>84358402</th>\n",
       "      <td>M</td>\n",
       "      <td>20.29</td>\n",
       "      <td>14.34</td>\n",
       "      <td>135.10</td>\n",
       "      <td>1297.0</td>\n",
       "      <td>0.10030</td>\n",
       "      <td>0.13280</td>\n",
       "      <td>0.1980</td>\n",
       "      <td>0.10430</td>\n",
       "      <td>0.1809</td>\n",
       "      <td>...</td>\n",
       "      <td>22.54</td>\n",
       "      <td>16.67</td>\n",
       "      <td>152.20</td>\n",
       "      <td>1575.0</td>\n",
       "      <td>0.1374</td>\n",
       "      <td>0.2050</td>\n",
       "      <td>0.4000</td>\n",
       "      <td>0.1625</td>\n",
       "      <td>0.2364</td>\n",
       "      <td>0.07678</td>\n",
       "    </tr>\n",
       "  </tbody>\n",
       "</table>\n",
       "<p>5 rows × 31 columns</p>\n",
       "</div>"
      ],
      "text/plain": [
       "         diagnosis  radius_mean  texture_mean  perimeter_mean  area_mean  \\\n",
       "id                                                                         \n",
       "842302           M        17.99         10.38          122.80     1001.0   \n",
       "842517           M        20.57         17.77          132.90     1326.0   \n",
       "84300903         M        19.69         21.25          130.00     1203.0   \n",
       "84348301         M        11.42         20.38           77.58      386.1   \n",
       "84358402         M        20.29         14.34          135.10     1297.0   \n",
       "\n",
       "          smoothness_mean  compactness_mean  concavity_mean  \\\n",
       "id                                                            \n",
       "842302            0.11840           0.27760          0.3001   \n",
       "842517            0.08474           0.07864          0.0869   \n",
       "84300903          0.10960           0.15990          0.1974   \n",
       "84348301          0.14250           0.28390          0.2414   \n",
       "84358402          0.10030           0.13280          0.1980   \n",
       "\n",
       "          concave points_mean  symmetry_mean  ...  radius_worst  \\\n",
       "id                                            ...                 \n",
       "842302                0.14710         0.2419  ...         25.38   \n",
       "842517                0.07017         0.1812  ...         24.99   \n",
       "84300903              0.12790         0.2069  ...         23.57   \n",
       "84348301              0.10520         0.2597  ...         14.91   \n",
       "84358402              0.10430         0.1809  ...         22.54   \n",
       "\n",
       "          texture_worst  perimeter_worst  area_worst  smoothness_worst  \\\n",
       "id                                                                       \n",
       "842302            17.33           184.60      2019.0            0.1622   \n",
       "842517            23.41           158.80      1956.0            0.1238   \n",
       "84300903          25.53           152.50      1709.0            0.1444   \n",
       "84348301          26.50            98.87       567.7            0.2098   \n",
       "84358402          16.67           152.20      1575.0            0.1374   \n",
       "\n",
       "          compactness_worst  concavity_worst  concave points_worst  \\\n",
       "id                                                                   \n",
       "842302               0.6656           0.7119                0.2654   \n",
       "842517               0.1866           0.2416                0.1860   \n",
       "84300903             0.4245           0.4504                0.2430   \n",
       "84348301             0.8663           0.6869                0.2575   \n",
       "84358402             0.2050           0.4000                0.1625   \n",
       "\n",
       "          symmetry_worst  fractal_dimension_worst  \n",
       "id                                                 \n",
       "842302            0.4601                  0.11890  \n",
       "842517            0.2750                  0.08902  \n",
       "84300903          0.3613                  0.08758  \n",
       "84348301          0.6638                  0.17300  \n",
       "84358402          0.2364                  0.07678  \n",
       "\n",
       "[5 rows x 31 columns]"
      ]
     },
     "execution_count": 2,
     "metadata": {},
     "output_type": "execute_result"
    }
   ],
   "source": [
    "#Carregar a base e visualizar primeiras linhas\n",
    "df1 = pd.read_csv('../BreastCancer.csv') \n",
    "# colocar id como nome de linha\n",
    "df1 = df1.set_index('id')\n",
    "df1.head()"
   ]
  },
  {
   "cell_type": "code",
   "execution_count": 3,
   "metadata": {
    "ExecuteTime": {
     "end_time": "2022-03-15T21:53:29.342669Z",
     "start_time": "2022-03-15T21:53:29.334145Z"
    },
    "id": "SEjjJD0NMojn"
   },
   "outputs": [
    {
     "data": {
      "text/plain": [
       "(569, 31)"
      ]
     },
     "execution_count": 3,
     "metadata": {},
     "output_type": "execute_result"
    }
   ],
   "source": [
    "#dimnesões da base\n",
    "df1.shape"
   ]
  },
  {
   "cell_type": "markdown",
   "metadata": {
    "id": "MbmhtkuUtklE"
   },
   "source": [
    "### Indicar a semente inicial e para divisão da base em treino e teste"
   ]
  },
  {
   "cell_type": "code",
   "execution_count": 4,
   "metadata": {
    "ExecuteTime": {
     "end_time": "2022-03-15T21:53:33.059895Z",
     "start_time": "2022-03-15T21:53:33.053398Z"
    },
    "id": "NQRJeOzItu5b"
   },
   "outputs": [],
   "source": [
    "import random\n",
    "np.random.seed(0) #semente inicial\n",
    "nlinhas = df1.shape[0]"
   ]
  },
  {
   "cell_type": "code",
   "execution_count": 5,
   "metadata": {
    "ExecuteTime": {
     "end_time": "2022-03-15T21:53:34.731370Z",
     "start_time": "2022-03-15T21:53:34.457526Z"
    },
    "id": "ytXEwoJ_EW5D"
   },
   "outputs": [],
   "source": [
    "from sklearn.model_selection import train_test_split\n",
    "x_train, x_test, y_train, y_test = train_test_split(df1.loc[:,df1.columns != 'diagnosis'], df1['diagnosis'], test_size=0.3)"
   ]
  },
  {
   "cell_type": "code",
   "execution_count": 6,
   "metadata": {
    "ExecuteTime": {
     "end_time": "2022-03-15T21:53:36.171566Z",
     "start_time": "2022-03-15T21:53:36.038584Z"
    },
    "id": "4iZMOC_etTqN"
   },
   "outputs": [
    {
     "data": {
      "text/html": [
       "<div>\n",
       "<style scoped>\n",
       "    .dataframe tbody tr th:only-of-type {\n",
       "        vertical-align: middle;\n",
       "    }\n",
       "\n",
       "    .dataframe tbody tr th {\n",
       "        vertical-align: top;\n",
       "    }\n",
       "\n",
       "    .dataframe thead th {\n",
       "        text-align: right;\n",
       "    }\n",
       "</style>\n",
       "<table border=\"1\" class=\"dataframe\">\n",
       "  <thead>\n",
       "    <tr style=\"text-align: right;\">\n",
       "      <th></th>\n",
       "      <th>radius_mean</th>\n",
       "      <th>texture_mean</th>\n",
       "      <th>perimeter_mean</th>\n",
       "      <th>area_mean</th>\n",
       "      <th>smoothness_mean</th>\n",
       "      <th>compactness_mean</th>\n",
       "      <th>concavity_mean</th>\n",
       "      <th>concave points_mean</th>\n",
       "      <th>symmetry_mean</th>\n",
       "      <th>fractal_dimension_mean</th>\n",
       "      <th>...</th>\n",
       "      <th>radius_worst</th>\n",
       "      <th>texture_worst</th>\n",
       "      <th>perimeter_worst</th>\n",
       "      <th>area_worst</th>\n",
       "      <th>smoothness_worst</th>\n",
       "      <th>compactness_worst</th>\n",
       "      <th>concavity_worst</th>\n",
       "      <th>concave points_worst</th>\n",
       "      <th>symmetry_worst</th>\n",
       "      <th>fractal_dimension_worst</th>\n",
       "    </tr>\n",
       "  </thead>\n",
       "  <tbody>\n",
       "    <tr>\n",
       "      <th>count</th>\n",
       "      <td>398.000000</td>\n",
       "      <td>398.000000</td>\n",
       "      <td>398.000000</td>\n",
       "      <td>398.000000</td>\n",
       "      <td>398.000000</td>\n",
       "      <td>398.000000</td>\n",
       "      <td>398.000000</td>\n",
       "      <td>398.000000</td>\n",
       "      <td>398.000000</td>\n",
       "      <td>398.000000</td>\n",
       "      <td>...</td>\n",
       "      <td>398.000000</td>\n",
       "      <td>398.000000</td>\n",
       "      <td>398.000000</td>\n",
       "      <td>398.000000</td>\n",
       "      <td>398.000000</td>\n",
       "      <td>398.000000</td>\n",
       "      <td>398.000000</td>\n",
       "      <td>398.000000</td>\n",
       "      <td>398.000000</td>\n",
       "      <td>398.000000</td>\n",
       "    </tr>\n",
       "    <tr>\n",
       "      <th>mean</th>\n",
       "      <td>14.185500</td>\n",
       "      <td>19.192839</td>\n",
       "      <td>92.335503</td>\n",
       "      <td>661.859045</td>\n",
       "      <td>0.096475</td>\n",
       "      <td>0.104080</td>\n",
       "      <td>0.088794</td>\n",
       "      <td>0.049479</td>\n",
       "      <td>0.180698</td>\n",
       "      <td>0.062646</td>\n",
       "      <td>...</td>\n",
       "      <td>16.359621</td>\n",
       "      <td>25.534523</td>\n",
       "      <td>107.736030</td>\n",
       "      <td>894.246985</td>\n",
       "      <td>0.132529</td>\n",
       "      <td>0.253369</td>\n",
       "      <td>0.268531</td>\n",
       "      <td>0.115221</td>\n",
       "      <td>0.289187</td>\n",
       "      <td>0.083718</td>\n",
       "    </tr>\n",
       "    <tr>\n",
       "      <th>std</th>\n",
       "      <td>3.598618</td>\n",
       "      <td>4.190476</td>\n",
       "      <td>24.769334</td>\n",
       "      <td>366.558262</td>\n",
       "      <td>0.013916</td>\n",
       "      <td>0.051031</td>\n",
       "      <td>0.078154</td>\n",
       "      <td>0.039216</td>\n",
       "      <td>0.028057</td>\n",
       "      <td>0.006861</td>\n",
       "      <td>...</td>\n",
       "      <td>4.965170</td>\n",
       "      <td>6.147466</td>\n",
       "      <td>34.460647</td>\n",
       "      <td>597.853882</td>\n",
       "      <td>0.022989</td>\n",
       "      <td>0.153653</td>\n",
       "      <td>0.193250</td>\n",
       "      <td>0.065688</td>\n",
       "      <td>0.063439</td>\n",
       "      <td>0.017957</td>\n",
       "    </tr>\n",
       "    <tr>\n",
       "      <th>min</th>\n",
       "      <td>6.981000</td>\n",
       "      <td>9.710000</td>\n",
       "      <td>43.790000</td>\n",
       "      <td>143.500000</td>\n",
       "      <td>0.052630</td>\n",
       "      <td>0.019380</td>\n",
       "      <td>0.000000</td>\n",
       "      <td>0.000000</td>\n",
       "      <td>0.106000</td>\n",
       "      <td>0.049960</td>\n",
       "      <td>...</td>\n",
       "      <td>7.930000</td>\n",
       "      <td>12.020000</td>\n",
       "      <td>50.410000</td>\n",
       "      <td>185.200000</td>\n",
       "      <td>0.071170</td>\n",
       "      <td>0.027290</td>\n",
       "      <td>0.000000</td>\n",
       "      <td>0.000000</td>\n",
       "      <td>0.156500</td>\n",
       "      <td>0.055040</td>\n",
       "    </tr>\n",
       "    <tr>\n",
       "      <th>25%</th>\n",
       "      <td>11.710000</td>\n",
       "      <td>16.032500</td>\n",
       "      <td>75.310000</td>\n",
       "      <td>420.350000</td>\n",
       "      <td>0.086740</td>\n",
       "      <td>0.066805</td>\n",
       "      <td>0.030385</td>\n",
       "      <td>0.020710</td>\n",
       "      <td>0.161525</td>\n",
       "      <td>0.057685</td>\n",
       "      <td>...</td>\n",
       "      <td>13.052500</td>\n",
       "      <td>20.865000</td>\n",
       "      <td>84.122500</td>\n",
       "      <td>516.425000</td>\n",
       "      <td>0.116300</td>\n",
       "      <td>0.148600</td>\n",
       "      <td>0.119100</td>\n",
       "      <td>0.065320</td>\n",
       "      <td>0.247850</td>\n",
       "      <td>0.071462</td>\n",
       "    </tr>\n",
       "    <tr>\n",
       "      <th>50%</th>\n",
       "      <td>13.310000</td>\n",
       "      <td>18.725000</td>\n",
       "      <td>86.140000</td>\n",
       "      <td>548.450000</td>\n",
       "      <td>0.096035</td>\n",
       "      <td>0.094035</td>\n",
       "      <td>0.062650</td>\n",
       "      <td>0.033870</td>\n",
       "      <td>0.179150</td>\n",
       "      <td>0.061715</td>\n",
       "      <td>...</td>\n",
       "      <td>14.915000</td>\n",
       "      <td>25.155000</td>\n",
       "      <td>97.455000</td>\n",
       "      <td>682.000000</td>\n",
       "      <td>0.132250</td>\n",
       "      <td>0.216000</td>\n",
       "      <td>0.229850</td>\n",
       "      <td>0.098855</td>\n",
       "      <td>0.280950</td>\n",
       "      <td>0.080075</td>\n",
       "    </tr>\n",
       "    <tr>\n",
       "      <th>75%</th>\n",
       "      <td>15.772500</td>\n",
       "      <td>21.597500</td>\n",
       "      <td>104.475000</td>\n",
       "      <td>779.125000</td>\n",
       "      <td>0.105400</td>\n",
       "      <td>0.128750</td>\n",
       "      <td>0.128775</td>\n",
       "      <td>0.075022</td>\n",
       "      <td>0.195400</td>\n",
       "      <td>0.065735</td>\n",
       "      <td>...</td>\n",
       "      <td>19.005000</td>\n",
       "      <td>29.452500</td>\n",
       "      <td>125.775000</td>\n",
       "      <td>1093.250000</td>\n",
       "      <td>0.145275</td>\n",
       "      <td>0.328975</td>\n",
       "      <td>0.378750</td>\n",
       "      <td>0.161300</td>\n",
       "      <td>0.318275</td>\n",
       "      <td>0.091853</td>\n",
       "    </tr>\n",
       "    <tr>\n",
       "      <th>max</th>\n",
       "      <td>28.110000</td>\n",
       "      <td>33.810000</td>\n",
       "      <td>188.500000</td>\n",
       "      <td>2501.000000</td>\n",
       "      <td>0.144700</td>\n",
       "      <td>0.311400</td>\n",
       "      <td>0.426800</td>\n",
       "      <td>0.201200</td>\n",
       "      <td>0.304000</td>\n",
       "      <td>0.097440</td>\n",
       "      <td>...</td>\n",
       "      <td>36.040000</td>\n",
       "      <td>49.540000</td>\n",
       "      <td>251.200000</td>\n",
       "      <td>4254.000000</td>\n",
       "      <td>0.222600</td>\n",
       "      <td>1.058000</td>\n",
       "      <td>1.105000</td>\n",
       "      <td>0.290300</td>\n",
       "      <td>0.663800</td>\n",
       "      <td>0.207500</td>\n",
       "    </tr>\n",
       "  </tbody>\n",
       "</table>\n",
       "<p>8 rows × 30 columns</p>\n",
       "</div>"
      ],
      "text/plain": [
       "       radius_mean  texture_mean  perimeter_mean    area_mean  \\\n",
       "count   398.000000    398.000000      398.000000   398.000000   \n",
       "mean     14.185500     19.192839       92.335503   661.859045   \n",
       "std       3.598618      4.190476       24.769334   366.558262   \n",
       "min       6.981000      9.710000       43.790000   143.500000   \n",
       "25%      11.710000     16.032500       75.310000   420.350000   \n",
       "50%      13.310000     18.725000       86.140000   548.450000   \n",
       "75%      15.772500     21.597500      104.475000   779.125000   \n",
       "max      28.110000     33.810000      188.500000  2501.000000   \n",
       "\n",
       "       smoothness_mean  compactness_mean  concavity_mean  concave points_mean  \\\n",
       "count       398.000000        398.000000      398.000000           398.000000   \n",
       "mean          0.096475          0.104080        0.088794             0.049479   \n",
       "std           0.013916          0.051031        0.078154             0.039216   \n",
       "min           0.052630          0.019380        0.000000             0.000000   \n",
       "25%           0.086740          0.066805        0.030385             0.020710   \n",
       "50%           0.096035          0.094035        0.062650             0.033870   \n",
       "75%           0.105400          0.128750        0.128775             0.075022   \n",
       "max           0.144700          0.311400        0.426800             0.201200   \n",
       "\n",
       "       symmetry_mean  fractal_dimension_mean  ...  radius_worst  \\\n",
       "count     398.000000              398.000000  ...    398.000000   \n",
       "mean        0.180698                0.062646  ...     16.359621   \n",
       "std         0.028057                0.006861  ...      4.965170   \n",
       "min         0.106000                0.049960  ...      7.930000   \n",
       "25%         0.161525                0.057685  ...     13.052500   \n",
       "50%         0.179150                0.061715  ...     14.915000   \n",
       "75%         0.195400                0.065735  ...     19.005000   \n",
       "max         0.304000                0.097440  ...     36.040000   \n",
       "\n",
       "       texture_worst  perimeter_worst   area_worst  smoothness_worst  \\\n",
       "count     398.000000       398.000000   398.000000        398.000000   \n",
       "mean       25.534523       107.736030   894.246985          0.132529   \n",
       "std         6.147466        34.460647   597.853882          0.022989   \n",
       "min        12.020000        50.410000   185.200000          0.071170   \n",
       "25%        20.865000        84.122500   516.425000          0.116300   \n",
       "50%        25.155000        97.455000   682.000000          0.132250   \n",
       "75%        29.452500       125.775000  1093.250000          0.145275   \n",
       "max        49.540000       251.200000  4254.000000          0.222600   \n",
       "\n",
       "       compactness_worst  concavity_worst  concave points_worst  \\\n",
       "count         398.000000       398.000000            398.000000   \n",
       "mean            0.253369         0.268531              0.115221   \n",
       "std             0.153653         0.193250              0.065688   \n",
       "min             0.027290         0.000000              0.000000   \n",
       "25%             0.148600         0.119100              0.065320   \n",
       "50%             0.216000         0.229850              0.098855   \n",
       "75%             0.328975         0.378750              0.161300   \n",
       "max             1.058000         1.105000              0.290300   \n",
       "\n",
       "       symmetry_worst  fractal_dimension_worst  \n",
       "count      398.000000               398.000000  \n",
       "mean         0.289187                 0.083718  \n",
       "std          0.063439                 0.017957  \n",
       "min          0.156500                 0.055040  \n",
       "25%          0.247850                 0.071462  \n",
       "50%          0.280950                 0.080075  \n",
       "75%          0.318275                 0.091853  \n",
       "max          0.663800                 0.207500  \n",
       "\n",
       "[8 rows x 30 columns]"
      ]
     },
     "execution_count": 6,
     "metadata": {},
     "output_type": "execute_result"
    }
   ],
   "source": [
    "# alguns dados estatisticos por atributo\n",
    "x_train.describe()"
   ]
  },
  {
   "cell_type": "markdown",
   "metadata": {
    "id": "RRAnVMivghTG"
   },
   "source": [
    "## Análise exploratória"
   ]
  },
  {
   "cell_type": "code",
   "execution_count": 7,
   "metadata": {
    "ExecuteTime": {
     "end_time": "2022-03-15T21:59:32.188058Z",
     "start_time": "2022-03-15T21:59:32.179247Z"
    },
    "id": "NWXnTlz03okl"
   },
   "outputs": [
    {
     "data": {
      "text/plain": [
       "2"
      ]
     },
     "execution_count": 7,
     "metadata": {},
     "output_type": "execute_result"
    }
   ],
   "source": [
    "NumberOfClasses = len(y_train.unique())\n",
    "NumberOfClasses"
   ]
  },
  {
   "cell_type": "code",
   "execution_count": 8,
   "metadata": {
    "ExecuteTime": {
     "end_time": "2022-03-15T21:59:48.735770Z",
     "start_time": "2022-03-15T21:59:48.725717Z"
    },
    "id": "KA5YTUg_3XHc"
   },
   "outputs": [
    {
     "data": {
      "text/plain": [
       "array(['B', 'M'], dtype=object)"
      ]
     },
     "execution_count": 8,
     "metadata": {},
     "output_type": "execute_result"
    }
   ],
   "source": [
    "# Criar encoder para classe: categórico para numérico\n",
    "from sklearn.preprocessing import LabelEncoder\n",
    "labelencoder_y = LabelEncoder()\n",
    "labelencoder_y = labelencoder_y.fit(y_train)\n",
    "\n",
    "labelencoder_y.classes_"
   ]
  },
  {
   "cell_type": "code",
   "execution_count": 9,
   "metadata": {
    "ExecuteTime": {
     "end_time": "2022-03-15T21:59:54.687541Z",
     "start_time": "2022-03-15T21:59:54.675387Z"
    },
    "id": "BL0Rrqkqc5HI"
   },
   "outputs": [
    {
     "name": "stdout",
     "output_type": "stream",
     "text": [
      "[0 0 0 1 0 0 0 0 1 1 0 0 1 0 0 0 0 1 0 0 1 1 0 0 1 1 0 0 1 0 0 1 1 1 0 0 0\n",
      " 1 0 0 0 0 0 1 0 1 0 1 0 1 0 1 0 0 0 0 1 0 1 0 0 0 1 0 0 0 1 0 0 1 1 0 1 0\n",
      " 1 0 1 1 1 1 0 1 0 1 0 1 0 1 0 0 1 0 0 0 0 0 0 0 0 0 0 0 0 0 1 0 0 0 1 0 0\n",
      " 0 0 0 0 1 0 1 0 0 1 0 1 1 0 1 1 0 0 1 0 0 0 1 0 0 0 0 0 1 1 0 0 0 0 1 1 0\n",
      " 0 0 0 1 0 0 1 0 0 1 0 1 0 0 0 0 1 1 1 1 0 1 0 1 1 0 0 0 0 0 1 0 0 1 0 0 1\n",
      " 1 0 0 0 1 1 0 0 1 0 0 0 1 0 1 0 1 1 1 1 0 0 0 0 1 1 0 0 0 0 0 1 0 0 1 0 0\n",
      " 1 1 1 1 0 0 1 0 0 0 1 1 0 0 0 0 0 1 1 1 0 1 1 0 0 0 0 0 0 1 0 0 0 0 0 0 1\n",
      " 1 0 1 0 1 1 0 0 0 0 0 1 1 1 0 0 1 1 0 0 1 0 1 1 0 1 0 0 0 0 0 0 0 1 1 0 0\n",
      " 0 1 0 0 0 0 1 0 1 1 1 0 1 0 1 0 1 1 0 0 0 0 0 0 0 0 1 1 1 1 1 0 0 0 0 0 0\n",
      " 0 1 0 1 0 0 0 0 0 1 1 1 0 1 0 0 1 1 1 1 0 1 1 1 0 1 0 1 0 0 1 1 0 1 0 0 0\n",
      " 0 1 0 0 1 0 0 0 1 1 0 0 0 1 0 0 1 0 0 0 0 0 1 1 1 0 0 0]\n"
     ]
    }
   ],
   "source": [
    "#aplicar encoder no treino e no teste\n",
    "y_train = labelencoder_y.transform(y_train)\n",
    "y_test = labelencoder_y.transform(y_test)\n",
    "print(y_train)"
   ]
  },
  {
   "cell_type": "markdown",
   "metadata": {
    "id": "NzxlHd9xgmzk"
   },
   "source": [
    "### Dispersão"
   ]
  },
  {
   "cell_type": "markdown",
   "metadata": {
    "id": "XgsM8ONyCwQn"
   },
   "source": [
    "#### Visualização Raio x Textura  e cores comos as classes de saída (Diagnóstico)"
   ]
  },
  {
   "cell_type": "code",
   "execution_count": 10,
   "metadata": {
    "ExecuteTime": {
     "end_time": "2022-03-15T22:02:53.039358Z",
     "start_time": "2022-03-15T22:02:52.642924Z"
    },
    "id": "Q9rwaHkHI-SF"
   },
   "outputs": [
    {
     "data": {
      "image/png": "[encoded data removed]",
      "text/plain": [
       "<Figure size 432x288 with 1 Axes>"
      ]
     },
     "metadata": {
      "needs_background": "light"
     },
     "output_type": "display_data"
    }
   ],
   "source": [
    "fig = plt.scatter(x_train['radius_mean'], x_train['texture_mean'], c=y_train, cmap=plt.cm.Spectral)\n",
    "plt.xlabel('radius_mean')\n",
    "plt.ylabel('texture_mean')\n",
    "plt.title('radius_mean vs texture_mean')\n",
    "\n",
    "#legenda de cores\n",
    "handles, labels = fig.legend_elements()\n",
    "plt.legend(handles, ['Benigno', 'Maligno'], loc='center left', bbox_to_anchor=(1, 0.5))\n",
    "plt.show()"
   ]
  },
  {
   "cell_type": "markdown",
   "metadata": {
    "id": "N6ZcMXAqbpmX"
   },
   "source": [
    "#### Visualização Raio x Diagnóstico "
   ]
  },
  {
   "cell_type": "code",
   "execution_count": 11,
   "metadata": {
    "ExecuteTime": {
     "end_time": "2022-03-15T22:02:54.852209Z",
     "start_time": "2022-03-15T22:02:54.575380Z"
    },
    "id": "y-rKj34W9XA_"
   },
   "outputs": [
    {
     "data": {
      "image/png": "[encoded data removed]",
      "text/plain": [
       "<Figure size 432x288 with 1 Axes>"
      ]
     },
     "metadata": {
      "needs_background": "light"
     },
     "output_type": "display_data"
    }
   ],
   "source": [
    "df1.boxplot(column=['radius_mean'], by=['diagnosis'])\n",
    "plt.show()"
   ]
  },
  {
   "cell_type": "markdown",
   "metadata": {
    "id": "uqbR9OgKg_nG"
   },
   "source": [
    "## **Normalizando os Dados**"
   ]
  },
  {
   "cell_type": "code",
   "execution_count": 12,
   "metadata": {
    "ExecuteTime": {
     "end_time": "2022-03-15T22:03:01.684715Z",
     "start_time": "2022-03-15T22:03:01.664092Z"
    },
    "id": "gR7nT_CDhC-x"
   },
   "outputs": [],
   "source": [
    "from sklearn import preprocessing\n",
    "preprocessParams = preprocessing.StandardScaler().fit(x_train)\n",
    "X_train_normalized = preprocessParams.transform(x_train)\n",
    "X_test_normalized = preprocessParams.transform(x_test)"
   ]
  },
  {
   "cell_type": "markdown",
   "metadata": {
    "id": "ShoO1BwrYDYp"
   },
   "source": [
    "# Rede Neural"
   ]
  },
  {
   "cell_type": "code",
   "execution_count": 13,
   "metadata": {
    "ExecuteTime": {
     "end_time": "2022-03-15T22:03:10.551801Z",
     "start_time": "2022-03-15T22:03:05.601242Z"
    },
    "id": "hgX9AMhS2iFy"
   },
   "outputs": [],
   "source": [
    "from keras import Model, Sequential\n",
    "from keras.layers import Dense\n",
    "from tensorflow.keras.optimizers import SGD"
   ]
  },
  {
   "cell_type": "code",
   "execution_count": 14,
   "metadata": {
    "ExecuteTime": {
     "end_time": "2022-03-15T22:03:10.639328Z",
     "start_time": "2022-03-15T22:03:10.554605Z"
    },
    "id": "QyKc1qZWu9pM"
   },
   "outputs": [
    {
     "name": "stdout",
     "output_type": "stream",
     "text": [
      "Model: \"sequential\"\n",
      "_________________________________________________________________\n",
      "Layer (type)                 Output Shape              Param #   \n",
      "=================================================================\n",
      "dense (Dense)                (None, 10)                310       \n",
      "_________________________________________________________________\n",
      "dense_1 (Dense)              (None, 2)                 22        \n",
      "=================================================================\n",
      "Total params: 332\n",
      "Trainable params: 332\n",
      "Non-trainable params: 0\n",
      "_________________________________________________________________\n"
     ]
    }
   ],
   "source": [
    "RN = Sequential()\n",
    "RN.add(Dense(10,input_shape = X_train_normalized.shape[1:],activation = 'sigmoid'))\n",
    "RN.add(Dense(NumberOfClasses,activation = 'sigmoid'))\n",
    "RN.summary()"
   ]
  },
  {
   "cell_type": "code",
   "execution_count": 15,
   "metadata": {
    "ExecuteTime": {
     "end_time": "2022-03-15T22:03:16.496755Z",
     "start_time": "2022-03-15T22:03:10.642945Z"
    },
    "id": "X3gFJdaa3Uqe"
   },
   "outputs": [
    {
     "name": "stdout",
     "output_type": "stream",
     "text": [
      "Epoch 1/100\n"
     ]
    },
    {
     "name": "stderr",
     "output_type": "stream",
     "text": [
      "2022-03-15 19:03:10.765990: I tensorflow/compiler/mlir/mlir_graph_optimization_pass.cc:185] None of the MLIR Optimization Passes are enabled (registered 2)\n"
     ]
    },
    {
     "name": "stdout",
     "output_type": "stream",
     "text": [
      "13/13 [==============================] - 1s 2ms/step - loss: 0.2591 - accuracy: 0.4372\n",
      "Epoch 2/100\n",
      "13/13 [==============================] - 0s 2ms/step - loss: 0.1338 - accuracy: 0.7889\n",
      "Epoch 3/100\n",
      "13/13 [==============================] - 0s 2ms/step - loss: 0.0820 - accuracy: 0.9372\n",
      "Epoch 4/100\n",
      "13/13 [==============================] - 0s 2ms/step - loss: 0.0583 - accuracy: 0.9548\n",
      "Epoch 5/100\n",
      "13/13 [==============================] - 0s 2ms/step - loss: 0.0456 - accuracy: 0.9623\n",
      "Epoch 6/100\n",
      "13/13 [==============================] - 0s 2ms/step - loss: 0.0389 - accuracy: 0.9648\n",
      "Epoch 7/100\n",
      "13/13 [==============================] - 0s 3ms/step - loss: 0.0344 - accuracy: 0.9698\n",
      "Epoch 8/100\n",
      "13/13 [==============================] - 0s 2ms/step - loss: 0.0315 - accuracy: 0.9774\n",
      "Epoch 9/100\n",
      "13/13 [==============================] - 0s 2ms/step - loss: 0.0291 - accuracy: 0.9774\n",
      "Epoch 10/100\n",
      "13/13 [==============================] - 0s 3ms/step - loss: 0.0274 - accuracy: 0.9824\n",
      "Epoch 11/100\n",
      "13/13 [==============================] - 0s 2ms/step - loss: 0.0262 - accuracy: 0.9824\n",
      "Epoch 12/100\n",
      "13/13 [==============================] - 0s 2ms/step - loss: 0.0250 - accuracy: 0.9824\n",
      "Epoch 13/100\n",
      "13/13 [==============================] - 0s 2ms/step - loss: 0.0241 - accuracy: 0.9824\n",
      "Epoch 14/100\n",
      "13/13 [==============================] - 0s 2ms/step - loss: 0.0232 - accuracy: 0.9824\n",
      "Epoch 15/100\n",
      "13/13 [==============================] - 0s 2ms/step - loss: 0.0226 - accuracy: 0.9849\n",
      "Epoch 16/100\n",
      "13/13 [==============================] - 0s 2ms/step - loss: 0.0219 - accuracy: 0.9849\n",
      "Epoch 17/100\n",
      "13/13 [==============================] - 0s 2ms/step - loss: 0.0214 - accuracy: 0.9849\n",
      "Epoch 18/100\n",
      "13/13 [==============================] - 0s 2ms/step - loss: 0.0209 - accuracy: 0.9849\n",
      "Epoch 19/100\n",
      "13/13 [==============================] - 0s 2ms/step - loss: 0.0204 - accuracy: 0.9849\n",
      "Epoch 20/100\n",
      "13/13 [==============================] - 0s 2ms/step - loss: 0.0200 - accuracy: 0.9849\n",
      "Epoch 21/100\n",
      "13/13 [==============================] - 0s 2ms/step - loss: 0.0196 - accuracy: 0.9849\n",
      "Epoch 22/100\n",
      "13/13 [==============================] - 0s 2ms/step - loss: 0.0192 - accuracy: 0.9849\n",
      "Epoch 23/100\n",
      "13/13 [==============================] - 0s 2ms/step - loss: 0.0189 - accuracy: 0.9849\n",
      "Epoch 24/100\n",
      "13/13 [==============================] - 0s 2ms/step - loss: 0.0185 - accuracy: 0.9849\n",
      "Epoch 25/100\n",
      "13/13 [==============================] - 0s 2ms/step - loss: 0.0182 - accuracy: 0.9874\n",
      "Epoch 26/100\n",
      "13/13 [==============================] - 0s 2ms/step - loss: 0.0181 - accuracy: 0.9874\n",
      "Epoch 27/100\n",
      "13/13 [==============================] - 0s 2ms/step - loss: 0.0176 - accuracy: 0.9874\n",
      "Epoch 28/100\n",
      "13/13 [==============================] - 0s 2ms/step - loss: 0.0174 - accuracy: 0.9874\n",
      "Epoch 29/100\n",
      "13/13 [==============================] - 0s 2ms/step - loss: 0.0172 - accuracy: 0.9874\n",
      "Epoch 30/100\n",
      "13/13 [==============================] - 0s 2ms/step - loss: 0.0170 - accuracy: 0.9874\n",
      "Epoch 31/100\n",
      "13/13 [==============================] - 0s 2ms/step - loss: 0.0168 - accuracy: 0.9874\n",
      "Epoch 32/100\n",
      "13/13 [==============================] - 0s 2ms/step - loss: 0.0166 - accuracy: 0.9874\n",
      "Epoch 33/100\n",
      "13/13 [==============================] - 0s 2ms/step - loss: 0.0163 - accuracy: 0.9874\n",
      "Epoch 34/100\n",
      "13/13 [==============================] - 0s 2ms/step - loss: 0.0162 - accuracy: 0.9874\n",
      "Epoch 35/100\n",
      "13/13 [==============================] - 0s 2ms/step - loss: 0.0160 - accuracy: 0.9874\n",
      "Epoch 36/100\n",
      "13/13 [==============================] - 0s 2ms/step - loss: 0.0159 - accuracy: 0.9874\n",
      "Epoch 37/100\n",
      "13/13 [==============================] - 0s 2ms/step - loss: 0.0157 - accuracy: 0.9874\n",
      "Epoch 38/100\n",
      "13/13 [==============================] - 0s 2ms/step - loss: 0.0156 - accuracy: 0.9874\n",
      "Epoch 39/100\n",
      "13/13 [==============================] - 0s 2ms/step - loss: 0.0155 - accuracy: 0.9874\n",
      "Epoch 40/100\n",
      "13/13 [==============================] - 0s 2ms/step - loss: 0.0154 - accuracy: 0.9874\n",
      "Epoch 41/100\n",
      "13/13 [==============================] - 0s 2ms/step - loss: 0.0152 - accuracy: 0.9874\n",
      "Epoch 42/100\n",
      "13/13 [==============================] - 0s 3ms/step - loss: 0.0152 - accuracy: 0.9874\n",
      "Epoch 43/100\n",
      "13/13 [==============================] - 0s 2ms/step - loss: 0.0150 - accuracy: 0.9874\n",
      "Epoch 44/100\n",
      "13/13 [==============================] - 0s 2ms/step - loss: 0.0149 - accuracy: 0.9874\n",
      "Epoch 45/100\n",
      "13/13 [==============================] - 0s 2ms/step - loss: 0.0148 - accuracy: 0.9874\n",
      "Epoch 46/100\n",
      "13/13 [==============================] - 0s 2ms/step - loss: 0.0147 - accuracy: 0.9874\n",
      "Epoch 47/100\n",
      "13/13 [==============================] - 0s 2ms/step - loss: 0.0147 - accuracy: 0.9874\n",
      "Epoch 48/100\n",
      "13/13 [==============================] - 0s 2ms/step - loss: 0.0146 - accuracy: 0.9874\n",
      "Epoch 49/100\n",
      "13/13 [==============================] - 0s 2ms/step - loss: 0.0145 - accuracy: 0.9874\n",
      "Epoch 50/100\n",
      "13/13 [==============================] - 0s 2ms/step - loss: 0.0144 - accuracy: 0.9874\n",
      "Epoch 51/100\n",
      "13/13 [==============================] - 0s 2ms/step - loss: 0.0143 - accuracy: 0.9874\n",
      "Epoch 52/100\n",
      "13/13 [==============================] - 0s 2ms/step - loss: 0.0142 - accuracy: 0.9874\n",
      "Epoch 53/100\n",
      "13/13 [==============================] - 0s 2ms/step - loss: 0.0142 - accuracy: 0.9874\n",
      "Epoch 54/100\n",
      "13/13 [==============================] - 0s 2ms/step - loss: 0.0141 - accuracy: 0.9874\n",
      "Epoch 55/100\n",
      "13/13 [==============================] - 0s 2ms/step - loss: 0.0140 - accuracy: 0.9874\n",
      "Epoch 56/100\n",
      "13/13 [==============================] - 0s 2ms/step - loss: 0.0140 - accuracy: 0.9874\n",
      "Epoch 57/100\n",
      "13/13 [==============================] - 0s 2ms/step - loss: 0.0139 - accuracy: 0.9874\n",
      "Epoch 58/100\n",
      "13/13 [==============================] - 0s 2ms/step - loss: 0.0139 - accuracy: 0.9874\n",
      "Epoch 59/100\n",
      "13/13 [==============================] - 0s 2ms/step - loss: 0.0138 - accuracy: 0.9874\n",
      "Epoch 60/100\n",
      "13/13 [==============================] - 0s 2ms/step - loss: 0.0137 - accuracy: 0.9874\n",
      "Epoch 61/100\n",
      "13/13 [==============================] - 0s 2ms/step - loss: 0.0137 - accuracy: 0.9874\n",
      "Epoch 62/100\n",
      "13/13 [==============================] - 0s 2ms/step - loss: 0.0136 - accuracy: 0.9874\n",
      "Epoch 63/100\n",
      "13/13 [==============================] - 0s 2ms/step - loss: 0.0136 - accuracy: 0.9874\n",
      "Epoch 64/100\n",
      "13/13 [==============================] - 0s 2ms/step - loss: 0.0135 - accuracy: 0.9874\n",
      "Epoch 65/100\n",
      "13/13 [==============================] - 0s 2ms/step - loss: 0.0134 - accuracy: 0.9874\n",
      "Epoch 66/100\n",
      "13/13 [==============================] - 0s 2ms/step - loss: 0.0134 - accuracy: 0.9874\n",
      "Epoch 67/100\n",
      "13/13 [==============================] - 0s 2ms/step - loss: 0.0134 - accuracy: 0.9874\n",
      "Epoch 68/100\n",
      "13/13 [==============================] - 0s 2ms/step - loss: 0.0133 - accuracy: 0.9874\n",
      "Epoch 69/100\n",
      "13/13 [==============================] - 0s 2ms/step - loss: 0.0132 - accuracy: 0.9874\n",
      "Epoch 70/100\n",
      "13/13 [==============================] - 0s 2ms/step - loss: 0.0132 - accuracy: 0.9899\n",
      "Epoch 71/100\n",
      "13/13 [==============================] - 0s 2ms/step - loss: 0.0132 - accuracy: 0.9899\n",
      "Epoch 72/100\n",
      "13/13 [==============================] - 0s 2ms/step - loss: 0.0131 - accuracy: 0.9899\n",
      "Epoch 73/100\n",
      "13/13 [==============================] - 0s 2ms/step - loss: 0.0131 - accuracy: 0.9899\n",
      "Epoch 74/100\n",
      "13/13 [==============================] - 0s 2ms/step - loss: 0.0130 - accuracy: 0.9899\n",
      "Epoch 75/100\n",
      "13/13 [==============================] - 0s 2ms/step - loss: 0.0130 - accuracy: 0.9899\n",
      "Epoch 76/100\n",
      "13/13 [==============================] - 0s 2ms/step - loss: 0.0130 - accuracy: 0.9899\n",
      "Epoch 77/100\n",
      "13/13 [==============================] - 0s 2ms/step - loss: 0.0129 - accuracy: 0.9899\n",
      "Epoch 78/100\n",
      "13/13 [==============================] - 0s 2ms/step - loss: 0.0129 - accuracy: 0.9899\n",
      "Epoch 79/100\n",
      "13/13 [==============================] - 0s 2ms/step - loss: 0.0129 - accuracy: 0.9899\n",
      "Epoch 80/100\n",
      "13/13 [==============================] - 0s 2ms/step - loss: 0.0128 - accuracy: 0.9899\n",
      "Epoch 81/100\n",
      "13/13 [==============================] - 0s 2ms/step - loss: 0.0128 - accuracy: 0.9899\n",
      "Epoch 82/100\n",
      "13/13 [==============================] - 0s 2ms/step - loss: 0.0127 - accuracy: 0.9899\n",
      "Epoch 83/100\n"
     ]
    },
    {
     "name": "stdout",
     "output_type": "stream",
     "text": [
      "13/13 [==============================] - 0s 2ms/step - loss: 0.0127 - accuracy: 0.9899\n",
      "Epoch 84/100\n",
      "13/13 [==============================] - 0s 2ms/step - loss: 0.0127 - accuracy: 0.9899\n",
      "Epoch 85/100\n",
      "13/13 [==============================] - 0s 2ms/step - loss: 0.0126 - accuracy: 0.9899\n",
      "Epoch 86/100\n",
      "13/13 [==============================] - 0s 2ms/step - loss: 0.0126 - accuracy: 0.9899\n",
      "Epoch 87/100\n",
      "13/13 [==============================] - 0s 3ms/step - loss: 0.0126 - accuracy: 0.9899\n",
      "Epoch 88/100\n",
      "13/13 [==============================] - 0s 2ms/step - loss: 0.0126 - accuracy: 0.9899\n",
      "Epoch 89/100\n",
      "13/13 [==============================] - 0s 3ms/step - loss: 0.0125 - accuracy: 0.9899\n",
      "Epoch 90/100\n",
      "13/13 [==============================] - 0s 3ms/step - loss: 0.0125 - accuracy: 0.9899\n",
      "Epoch 91/100\n",
      "13/13 [==============================] - 0s 2ms/step - loss: 0.0125 - accuracy: 0.9899\n",
      "Epoch 92/100\n",
      "13/13 [==============================] - 0s 2ms/step - loss: 0.0124 - accuracy: 0.9899\n",
      "Epoch 93/100\n",
      "13/13 [==============================] - 0s 2ms/step - loss: 0.0124 - accuracy: 0.9899\n",
      "Epoch 94/100\n",
      "13/13 [==============================] - 0s 2ms/step - loss: 0.0124 - accuracy: 0.9899\n",
      "Epoch 95/100\n",
      "13/13 [==============================] - 0s 2ms/step - loss: 0.0123 - accuracy: 0.9899\n",
      "Epoch 96/100\n",
      "13/13 [==============================] - 0s 2ms/step - loss: 0.0123 - accuracy: 0.9899\n",
      "Epoch 97/100\n",
      "13/13 [==============================] - 0s 2ms/step - loss: 0.0123 - accuracy: 0.9899\n",
      "Epoch 98/100\n",
      "13/13 [==============================] - 0s 2ms/step - loss: 0.0123 - accuracy: 0.9899\n",
      "Epoch 99/100\n",
      "13/13 [==============================] - 0s 2ms/step - loss: 0.0123 - accuracy: 0.9899\n",
      "Epoch 100/100\n",
      "13/13 [==============================] - 0s 2ms/step - loss: 0.0122 - accuracy: 0.9899\n"
     ]
    }
   ],
   "source": [
    "# treinamento\n",
    "from tensorflow.keras.utils import to_categorical\n",
    "sgd = SGD(learning_rate=0.1, decay=1e-6, momentum=0.9)\n",
    "RN.compile(optimizer = sgd, loss = 'mean_squared_error', metrics = ['accuracy'])\n",
    "history = RN.fit(X_train_normalized, to_categorical(y_train), epochs = 100)"
   ]
  },
  {
   "cell_type": "code",
   "execution_count": 16,
   "metadata": {
    "ExecuteTime": {
     "end_time": "2022-03-15T22:03:25.887390Z",
     "start_time": "2022-03-15T22:03:25.633108Z"
    },
    "id": "JZjVf8oRYm1B"
   },
   "outputs": [
    {
     "name": "stdout",
     "output_type": "stream",
     "text": [
      "Test score: 0.02087111584842205\n",
      "Test accuracy: 0.9707602262496948\n"
     ]
    }
   ],
   "source": [
    "score = RN.evaluate(X_test_normalized, to_categorical(y_test), verbose = 0)\n",
    "print('Test score:', score[0])\n",
    "print('Test accuracy:', score[1])"
   ]
  },
  {
   "cell_type": "code",
   "execution_count": 17,
   "metadata": {
    "ExecuteTime": {
     "end_time": "2022-03-15T22:03:27.558296Z",
     "start_time": "2022-03-15T22:03:27.199187Z"
    },
    "id": "H99c-50g4le0"
   },
   "outputs": [
    {
     "data": {
      "image/png": "[encoded data removed]",
      "text/plain": [
       "<Figure size 432x288 with 1 Axes>"
      ]
     },
     "metadata": {
      "needs_background": "light"
     },
     "output_type": "display_data"
    }
   ],
   "source": [
    "# Gráfico do treinamento: custo do treino e validação\n",
    "import matplotlib.pyplot as plt\n",
    "plt.plot(history.history['loss'], label='train')\n",
    "plt.title('Loss de treino')\n",
    "plt.ylabel('loss')\n",
    "plt.xlabel('época')\n",
    "plt.legend();"
   ]
  },
  {
   "cell_type": "code",
   "execution_count": 18,
   "metadata": {
    "ExecuteTime": {
     "end_time": "2022-03-15T22:03:28.950440Z",
     "start_time": "2022-03-15T22:03:28.751698Z"
    },
    "id": "HQZjGb0UZvnl"
   },
   "outputs": [],
   "source": [
    "# Previsão\n",
    "from sklearn.metrics import confusion_matrix\n",
    "y_test_predicted = RN.predict(X_test_normalized)\n",
    "y_test_predicted_indexes = np.argmax(y_test_predicted,axis=1)\n",
    "y_test_indexes = y_test\n"
   ]
  },
  {
   "cell_type": "code",
   "execution_count": 19,
   "metadata": {
    "ExecuteTime": {
     "end_time": "2022-03-15T22:03:29.663773Z",
     "start_time": "2022-03-15T22:03:29.644780Z"
    },
    "id": "9aw_ljZ5bDbv"
   },
   "outputs": [
    {
     "data": {
      "text/html": [
       "<div>\n",
       "<style scoped>\n",
       "    .dataframe tbody tr th:only-of-type {\n",
       "        vertical-align: middle;\n",
       "    }\n",
       "\n",
       "    .dataframe tbody tr th {\n",
       "        vertical-align: top;\n",
       "    }\n",
       "\n",
       "    .dataframe thead th {\n",
       "        text-align: right;\n",
       "    }\n",
       "</style>\n",
       "<table border=\"1\" class=\"dataframe\">\n",
       "  <thead>\n",
       "    <tr style=\"text-align: right;\">\n",
       "      <th></th>\n",
       "      <th>Real 0</th>\n",
       "      <th>Real1</th>\n",
       "    </tr>\n",
       "  </thead>\n",
       "  <tbody>\n",
       "    <tr>\n",
       "      <th>Pred 0</th>\n",
       "      <td>106</td>\n",
       "      <td>3</td>\n",
       "    </tr>\n",
       "    <tr>\n",
       "      <th>Pred 1</th>\n",
       "      <td>2</td>\n",
       "      <td>60</td>\n",
       "    </tr>\n",
       "  </tbody>\n",
       "</table>\n",
       "</div>"
      ],
      "text/plain": [
       "        Real 0  Real1\n",
       "Pred 0     106      3\n",
       "Pred 1       2     60"
      ]
     },
     "execution_count": 19,
     "metadata": {},
     "output_type": "execute_result"
    }
   ],
   "source": [
    "# Matriz de confusão\n",
    "confMatrix = confusion_matrix(y_test_predicted_indexes, y_test_indexes)\n",
    "pd.DataFrame(confMatrix, index=['Pred 0', 'Pred 1'], columns=['Real 0', 'Real1'],) #matriz de confusão"
   ]
  },
  {
   "cell_type": "code",
   "execution_count": 20,
   "metadata": {
    "ExecuteTime": {
     "end_time": "2022-03-15T22:03:30.795354Z",
     "start_time": "2022-03-15T22:03:30.508879Z"
    },
    "id": "AWU32l1byynN"
   },
   "outputs": [
    {
     "data": {
      "image/png": "[encoded data removed]",
      "text/plain": [
       "<Figure size 432x288 with 2 Axes>"
      ]
     },
     "metadata": {
      "needs_background": "light"
     },
     "output_type": "display_data"
    }
   ],
   "source": [
    "ax = plt.subplot()\n",
    "sns.heatmap(confMatrix, annot=True, fmt=\".0f\")\n",
    "plt.xlabel('Real')\n",
    "plt.ylabel('Previsto')\n",
    "plt.title('Matriz de Confusão')\n",
    "\n",
    "# Colocar os nomes\n",
    "ax.xaxis.set_ticklabels(['0', '1']) \n",
    "ax.yaxis.set_ticklabels(['0', '1'])\n",
    "plt.show()"
   ]
  },
  {
   "cell_type": "code",
   "execution_count": null,
   "metadata": {
    "id": "tOkrEC3JInpn"
   },
   "outputs": [],
   "source": []
  }
 ],
 "metadata": {
  "accelerator": "TPU",
  "colab": {
   "collapsed_sections": [],
   "name": "Aula1_RN_breastCancer.ipynb",
   "provenance": []
  },
  "kernelspec": {
   "display_name": "Python 3 (ipykernel)",
   "language": "python",
   "name": "python3"
  },
  "language_info": {
   "codemirror_mode": {
    "name": "ipython",
    "version": 3
   },
   "file_extension": ".py",
   "mimetype": "text/x-python",
   "name": "python",
   "nbconvert_exporter": "python",
   "pygments_lexer": "ipython3",
   "version": "3.8.11"
  }
 },
 "nbformat": 4,
 "nbformat_minor": 1
}
