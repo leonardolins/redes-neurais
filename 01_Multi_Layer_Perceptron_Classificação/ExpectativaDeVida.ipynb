{
 "cells": [
  {
   "cell_type": "markdown",
   "metadata": {
    "id": "mAbfV4YGRC3u"
   },
   "source": [
    "# Passo 1. Carregar base de dados"
   ]
  },
  {
   "cell_type": "code",
   "execution_count": null,
   "metadata": {
    "id": "RNYx7eyF0jY5"
   },
   "outputs": [],
   "source": [
    "\"\"\"### Importacao de bibliotecas\"\"\"\n",
    "import numpy as np\n",
    "import pandas as pd"
   ]
  },
  {
   "cell_type": "code",
   "execution_count": null,
   "metadata": {
    "id": "FdXvYPSCQJD5"
   },
   "outputs": [],
   "source": [
    "#Carregar a base e visualizar primeiras linhas\n",
    "data = pd.read_csv('LifeExpectancy.csv', index_col=0)\n",
    "#Visualize a base pelo Explorador de Variáveis\n",
    "data.head()"
   ]
  },
  {
   "cell_type": "code",
   "execution_count": null,
   "metadata": {
    "id": "HBgIIMz7AzD0"
   },
   "outputs": [],
   "source": [
    "import missingno as msno\n",
    "msno.matrix(data, figsize=(15,6));"
   ]
  },
  {
   "cell_type": "code",
   "execution_count": null,
   "metadata": {
    "id": "AgrChrIuQJGA"
   },
   "outputs": [],
   "source": [
    "#dimnesões da base\n",
    "data.shape"
   ]
  },
  {
   "cell_type": "code",
   "execution_count": null,
   "metadata": {
    "id": "B3CPQ3lOQJIJ"
   },
   "outputs": [],
   "source": [
    "data.describe()"
   ]
  },
  {
   "cell_type": "code",
   "execution_count": null,
   "metadata": {
    "id": "T2lIoiw80n2t"
   },
   "outputs": [],
   "source": [
    "#separa dados a serem inferidos (LifeExpectancy = NaN)\n",
    "filtro = data['LifeExpectancy'].isnull()\n",
    "data_infer = data[filtro]\n",
    "data_infer.shape"
   ]
  },
  {
   "cell_type": "code",
   "execution_count": null,
   "metadata": {
    "id": "c8PvW7D21QSZ"
   },
   "outputs": [],
   "source": [
    "data_infer.describe()"
   ]
  },
  {
   "cell_type": "code",
   "execution_count": null,
   "metadata": {
    "id": "OPL2vQEi0psQ"
   },
   "outputs": [],
   "source": [
    "#retirar dados com missing no rótulo da base a ser usada pra treinar e testar\n",
    "data = data[~filtro]\n",
    "data.shape"
   ]
  },
  {
   "cell_type": "code",
   "execution_count": null,
   "metadata": {
    "id": "ZqFbiO1f1u_R"
   },
   "outputs": [],
   "source": [
    "data.describe()"
   ]
  },
  {
   "cell_type": "code",
   "execution_count": null,
   "metadata": {
    "id": "3ZpgVXRA27fb"
   },
   "outputs": [],
   "source": [
    "data.Status.unique()"
   ]
  },
  {
   "cell_type": "code",
   "execution_count": null,
   "metadata": {
    "id": "0CVuMI_SVbPt"
   },
   "outputs": [],
   "source": [
    "data.Status.value_counts()"
   ]
  },
  {
   "cell_type": "code",
   "execution_count": null,
   "metadata": {
    "id": "lV46STZ303MP"
   },
   "outputs": [],
   "source": [
    "# OneHotEncoding\n",
    "from sklearn.preprocessing import OneHotEncoder\n",
    "onehotencoder = OneHotEncoder(drop='first') #deleta uma das colunas. evita multicolinearidade\n",
    "onehotencoder = onehotencoder.fit(data[['Status']])\n",
    "data.loc[:,'Status'] = onehotencoder.transform(data[['Status']]).toarray() \n",
    "\n",
    "data.Status.value_counts()"
   ]
  },
  {
   "cell_type": "code",
   "execution_count": null,
   "metadata": {
    "id": "FurLTiea3Sss"
   },
   "outputs": [],
   "source": [
    "data.head()\n",
    "#agora toda base é numérica!"
   ]
  },
  {
   "cell_type": "markdown",
   "metadata": {
    "id": "URy1KR2lSDz3"
   },
   "source": [
    "#Passo 2. Separar base em treino e teste"
   ]
  },
  {
   "cell_type": "code",
   "execution_count": null,
   "metadata": {
    "id": "wVnELznQQJOT"
   },
   "outputs": [],
   "source": [
    "np.random.seed(0) #semente inicial\n",
    "\n",
    "from sklearn.model_selection import train_test_split\n",
    "X_train, X_test, y_train, y_test = train_test_split(data.loc[:,data.columns != 'LifeExpectancy'], \n",
    "                                                    data['LifeExpectancy'], \n",
    "                                                    test_size=0.2)\n",
    "\n",
    "print(X_train.shape)\n",
    "print(X_test.shape)\n",
    "print(y_train.shape)\n",
    "print(y_test.shape)"
   ]
  },
  {
   "cell_type": "code",
   "execution_count": null,
   "metadata": {
    "id": "Lit87qeE1F3a"
   },
   "outputs": [],
   "source": [
    "# Tratar missing\n",
    "from sklearn.impute import KNNImputer\n",
    "imputer = KNNImputer(n_neighbors=2)\n",
    "imputer = imputer.fit(X_train)\n",
    "X_train = imputer.transform(X_train)\n",
    "X_test = imputer.transform(X_test)"
   ]
  },
  {
   "cell_type": "code",
   "execution_count": null,
   "metadata": {
    "id": "JP5BzFjxBt7L"
   },
   "outputs": [],
   "source": [
    "msno.matrix(pd.DataFrame(X_train), figsize=(15,5))"
   ]
  },
  {
   "cell_type": "code",
   "execution_count": null,
   "metadata": {
    "id": "j7sZaOc9SO-t"
   },
   "outputs": [],
   "source": [
    "\"\"\"## Análise exploratória\"\"\"\n",
    "import seaborn as sns\n",
    "corr = data.corr()\n",
    "sns.heatmap(corr, \n",
    "        xticklabels=corr.columns,\n",
    "        yticklabels=corr.columns,\n",
    "        vmin=-1, vmax=1);"
   ]
  },
  {
   "cell_type": "markdown",
   "metadata": {
    "id": "asjCDbeDSnSs"
   },
   "source": [
    "# Passo 3. Normalizar Dados"
   ]
  },
  {
   "cell_type": "code",
   "execution_count": null,
   "metadata": {
    "id": "MGrLgG8sSpnJ"
   },
   "outputs": [],
   "source": [
    "\"\"\"## **Normalizando os Dados**\"\"\"\n",
    "from sklearn import preprocessing\n",
    "preprocessParams = preprocessing.StandardScaler().fit(X_train)\n",
    "X_train_normalized = preprocessParams.transform(X_train)\n",
    "X_test_normalized = preprocessParams.transform(X_test)\n",
    "\n",
    "X_train_normalized[0:2, :]"
   ]
  },
  {
   "cell_type": "markdown",
   "metadata": {
    "id": "iYv6i6W0TBMZ"
   },
   "source": [
    "# Passo 4. Treinar Rede Neural"
   ]
  },
  {
   "cell_type": "code",
   "execution_count": null,
   "metadata": {
    "id": "dCES2hBaSwfC"
   },
   "outputs": [],
   "source": [
    "\"\"\"# Rede Neural\"\"\"\n",
    "from keras import Sequential\n",
    "from keras.layers import Dense\n",
    "\n",
    "RN = Sequential()\n",
    "RN.add(Dense(10, input_shape = X_train_normalized.shape[1:], activation = 'sigmoid'))\n",
    "RN.add(Dense(1)) #funcao de ativacao eh linear\n",
    "RN.summary()"
   ]
  },
  {
   "cell_type": "code",
   "execution_count": null,
   "metadata": {
    "id": "UtFOpxEKTN1f"
   },
   "outputs": [],
   "source": [
    "# treinamento\n",
    "RN.compile(optimizer = 'sgd', loss = 'mean_squared_error', metrics = ['mape']) #se fosse classificacao: categorical_cross_entropy\n",
    "history = RN.fit(X_train_normalized,y_train, epochs = 100)"
   ]
  },
  {
   "cell_type": "markdown",
   "metadata": {
    "id": "jk2ocoT3TiGl"
   },
   "source": [
    "# Passo 5. Avaliação da Rede Neural"
   ]
  },
  {
   "cell_type": "code",
   "execution_count": null,
   "metadata": {
    "id": "So7GDgoRTO9u"
   },
   "outputs": [],
   "source": [
    "# Gráfico do treinamento: custo do treino\n",
    "import matplotlib.pyplot as plt\n",
    "plt.plot(history.history['loss'], label='train')\n",
    "plt.title('Loss de treino')\n",
    "plt.ylabel('loss')\n",
    "plt.xlabel('época')\n",
    "plt.legend();"
   ]
  },
  {
   "cell_type": "code",
   "execution_count": null,
   "metadata": {
    "id": "LjpdpGfzTO7X"
   },
   "outputs": [],
   "source": [
    "# avaliação\n",
    "score = RN.evaluate(X_test_normalized, y_test, verbose = 0)\n",
    "print('Test score:', score[0])\n",
    "print('Test mape:', score[1], '%')"
   ]
  },
  {
   "cell_type": "markdown",
   "metadata": {
    "id": "kC6FNa44T41z"
   },
   "source": [
    "# Passo 6. Fazer novas previsões"
   ]
  },
  {
   "cell_type": "code",
   "execution_count": null,
   "metadata": {
    "id": "okvzhnpMTO_-"
   },
   "outputs": [],
   "source": [
    "# Fazer as previsões\n",
    "y_test_predicted = RN.predict(X_test_normalized)"
   ]
  },
  {
   "cell_type": "code",
   "execution_count": null,
   "metadata": {
    "id": "qcCQzE6_TPBw"
   },
   "outputs": [],
   "source": [
    "# Avaliação gráfica\n",
    "results = pd.DataFrame(y_test_predicted, columns = ['previsto'])\n",
    "results['real'] = np.array(y_test)\n",
    "results.plot(figsize=(20,5)); #todas as previsões"
   ]
  },
  {
   "cell_type": "code",
   "execution_count": null,
   "metadata": {
    "id": "nrTL-yTbBVrZ"
   },
   "outputs": [],
   "source": [
    "results.iloc[0:100,:].plot(figsize=(20,5));"
   ]
  },
  {
   "cell_type": "code",
   "execution_count": null,
   "metadata": {
    "id": "d43CB8zIoPBo"
   },
   "outputs": [],
   "source": [
    "from sklearn.metrics import r2_score\n",
    "r2_score(y_test, y_test_predicted)"
   ]
  },
  {
   "cell_type": "markdown",
   "metadata": {
    "id": "34Ntvchy4h1P"
   },
   "source": [
    "#Inferência para data_infer (sem rótulos)"
   ]
  },
  {
   "cell_type": "code",
   "execution_count": null,
   "metadata": {
    "id": "4JEJ0LDV4haA"
   },
   "outputs": [],
   "source": [
    "# retirar coluna LifeExpectancy (não tem nada mesmo...)\n",
    "data_infer = data_infer.drop(columns=['LifeExpectancy'])\n",
    "\n",
    "# salvar nomes dos  países\n",
    "countries = data_infer.index\n",
    "\n",
    "# 1.onehotencoding\n",
    "data_infer['Status'] = onehotencoder.transform(data_infer[['Status']]).toarray()"
   ]
  },
  {
   "cell_type": "code",
   "execution_count": null,
   "metadata": {
    "id": "P8NkaS-x4hcf"
   },
   "outputs": [],
   "source": [
    "# 2.tratamento de missing\n",
    "data_infer = imputer.transform(data_infer)"
   ]
  },
  {
   "cell_type": "code",
   "execution_count": null,
   "metadata": {
    "id": "fdREeG3y4hei"
   },
   "outputs": [],
   "source": [
    "# 3.Normalização\n",
    "data_infer_normalized = preprocessParams.transform(data_infer)"
   ]
  },
  {
   "cell_type": "code",
   "execution_count": null,
   "metadata": {
    "id": "cdpWzbWW4u5V"
   },
   "outputs": [],
   "source": [
    "# 4.Previsão\n",
    "y_pred = RN.predict(data_infer_normalized)\n",
    "y_pred"
   ]
  },
  {
   "cell_type": "code",
   "execution_count": null,
   "metadata": {
    "id": "rQ5kRxe54u8F"
   },
   "outputs": [],
   "source": [
    "# 5.Gráfico\n",
    "plt.scatter(countries, y_pred)\n",
    "plt.xticks(rotation=90)\n",
    "plt.title('Previsões')\n",
    "plt.ylabel('Expectativa de vida');\n",
    "plt.show()"
   ]
  },
  {
   "cell_type": "code",
   "execution_count": null,
   "metadata": {
    "id": "Z_S4xCcxEdBc"
   },
   "outputs": [],
   "source": [
    "# 5.Gráfico\n",
    "plt.bar(countries, y_pred.ravel())\n",
    "plt.xticks(rotation=90)\n",
    "plt.title('Previsões')\n",
    "plt.ylabel('Expectativa de vida');\n",
    "plt.show()"
   ]
  },
  {
   "cell_type": "markdown",
   "metadata": {
    "id": "lCKbPjyOqN7o"
   },
   "source": [
    "1. Separe 20% da base para validação\n",
    "2. Plote o loss de validação juntamente com o loss de treino\n",
    "3. Plote o MAPE de treino e validação\n",
    "4. Faça um gráfico de dispersão onde x=y_test e y=y_test_predicted. Indique a reta x=y (ou seja, os pontos onde a previsão seria perfeita).\n",
    "5. Aumente o número de épocas.\n",
    "\n",
    "**solução no script 'ExpectativaDeVida_solucao.ipynb'"
   ]
  }
 ],
 "metadata": {
  "colab": {
   "authorship_tag": "ABX9TyOBEGMKkTpiCrrnZd11brtm",
   "collapsed_sections": [],
   "name": "ExpectativaDeVida.ipynb",
   "provenance": []
  },
  "kernelspec": {
   "display_name": "Python 3 (ipykernel)",
   "language": "python",
   "name": "python3"
  },
  "language_info": {
   "codemirror_mode": {
    "name": "ipython",
    "version": 3
   },
   "file_extension": ".py",
   "mimetype": "text/x-python",
   "name": "python",
   "nbconvert_exporter": "python",
   "pygments_lexer": "ipython3",
   "version": "3.8.11"
  }
 },
 "nbformat": 4,
 "nbformat_minor": 1
}
