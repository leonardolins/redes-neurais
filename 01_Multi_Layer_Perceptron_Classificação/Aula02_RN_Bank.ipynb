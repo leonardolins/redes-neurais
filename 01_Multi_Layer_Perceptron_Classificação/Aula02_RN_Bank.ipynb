{
 "cells": [
  {
   "cell_type": "markdown",
   "metadata": {
    "id": "FAxVjdtuA_5S"
   },
   "source": [
    "# Carregamento da Base"
   ]
  },
  {
   "cell_type": "code",
   "execution_count": 1,
   "metadata": {
    "ExecuteTime": {
     "end_time": "2022-05-26T12:34:24.336932Z",
     "start_time": "2022-05-26T12:34:23.804648Z"
    },
    "id": "JnP115CwA_5T"
   },
   "outputs": [],
   "source": [
    "import numpy as np\n",
    "import pandas as pd"
   ]
  },
  {
   "cell_type": "code",
   "execution_count": 2,
   "metadata": {
    "ExecuteTime": {
     "end_time": "2022-05-26T12:34:24.431862Z",
     "start_time": "2022-05-26T12:34:24.341127Z"
    },
    "id": "vA0XjL0LA_5a"
   },
   "outputs": [
    {
     "data": {
      "text/html": [
       "<div>\n",
       "<style scoped>\n",
       "    .dataframe tbody tr th:only-of-type {\n",
       "        vertical-align: middle;\n",
       "    }\n",
       "\n",
       "    .dataframe tbody tr th {\n",
       "        vertical-align: top;\n",
       "    }\n",
       "\n",
       "    .dataframe thead th {\n",
       "        text-align: right;\n",
       "    }\n",
       "</style>\n",
       "<table border=\"1\" class=\"dataframe\">\n",
       "  <thead>\n",
       "    <tr style=\"text-align: right;\">\n",
       "      <th></th>\n",
       "      <th>age</th>\n",
       "      <th>job</th>\n",
       "      <th>marital</th>\n",
       "      <th>education</th>\n",
       "      <th>default</th>\n",
       "      <th>balance</th>\n",
       "      <th>housing</th>\n",
       "      <th>loan</th>\n",
       "      <th>contact</th>\n",
       "      <th>day</th>\n",
       "      <th>month</th>\n",
       "      <th>duration</th>\n",
       "      <th>campaign</th>\n",
       "      <th>pdays</th>\n",
       "      <th>previous</th>\n",
       "      <th>poutcome</th>\n",
       "      <th>deposit</th>\n",
       "    </tr>\n",
       "  </thead>\n",
       "  <tbody>\n",
       "    <tr>\n",
       "      <th>0</th>\n",
       "      <td>59</td>\n",
       "      <td>admin.</td>\n",
       "      <td>married</td>\n",
       "      <td>secondary</td>\n",
       "      <td>no</td>\n",
       "      <td>2343</td>\n",
       "      <td>yes</td>\n",
       "      <td>no</td>\n",
       "      <td>unknown</td>\n",
       "      <td>5</td>\n",
       "      <td>may</td>\n",
       "      <td>1042</td>\n",
       "      <td>1</td>\n",
       "      <td>-1</td>\n",
       "      <td>0</td>\n",
       "      <td>unknown</td>\n",
       "      <td>yes</td>\n",
       "    </tr>\n",
       "    <tr>\n",
       "      <th>1</th>\n",
       "      <td>56</td>\n",
       "      <td>admin.</td>\n",
       "      <td>married</td>\n",
       "      <td>secondary</td>\n",
       "      <td>no</td>\n",
       "      <td>45</td>\n",
       "      <td>no</td>\n",
       "      <td>no</td>\n",
       "      <td>unknown</td>\n",
       "      <td>5</td>\n",
       "      <td>may</td>\n",
       "      <td>1467</td>\n",
       "      <td>1</td>\n",
       "      <td>-1</td>\n",
       "      <td>0</td>\n",
       "      <td>unknown</td>\n",
       "      <td>yes</td>\n",
       "    </tr>\n",
       "    <tr>\n",
       "      <th>2</th>\n",
       "      <td>41</td>\n",
       "      <td>technician</td>\n",
       "      <td>married</td>\n",
       "      <td>secondary</td>\n",
       "      <td>no</td>\n",
       "      <td>1270</td>\n",
       "      <td>yes</td>\n",
       "      <td>no</td>\n",
       "      <td>unknown</td>\n",
       "      <td>5</td>\n",
       "      <td>may</td>\n",
       "      <td>1389</td>\n",
       "      <td>1</td>\n",
       "      <td>-1</td>\n",
       "      <td>0</td>\n",
       "      <td>unknown</td>\n",
       "      <td>yes</td>\n",
       "    </tr>\n",
       "    <tr>\n",
       "      <th>3</th>\n",
       "      <td>55</td>\n",
       "      <td>services</td>\n",
       "      <td>married</td>\n",
       "      <td>secondary</td>\n",
       "      <td>no</td>\n",
       "      <td>2476</td>\n",
       "      <td>yes</td>\n",
       "      <td>no</td>\n",
       "      <td>unknown</td>\n",
       "      <td>5</td>\n",
       "      <td>may</td>\n",
       "      <td>579</td>\n",
       "      <td>1</td>\n",
       "      <td>-1</td>\n",
       "      <td>0</td>\n",
       "      <td>unknown</td>\n",
       "      <td>yes</td>\n",
       "    </tr>\n",
       "    <tr>\n",
       "      <th>4</th>\n",
       "      <td>54</td>\n",
       "      <td>admin.</td>\n",
       "      <td>married</td>\n",
       "      <td>tertiary</td>\n",
       "      <td>no</td>\n",
       "      <td>184</td>\n",
       "      <td>no</td>\n",
       "      <td>no</td>\n",
       "      <td>unknown</td>\n",
       "      <td>5</td>\n",
       "      <td>may</td>\n",
       "      <td>673</td>\n",
       "      <td>2</td>\n",
       "      <td>-1</td>\n",
       "      <td>0</td>\n",
       "      <td>unknown</td>\n",
       "      <td>yes</td>\n",
       "    </tr>\n",
       "  </tbody>\n",
       "</table>\n",
       "</div>"
      ],
      "text/plain": [
       "   age         job  marital  education default  balance housing loan  contact  \\\n",
       "0   59      admin.  married  secondary      no     2343     yes   no  unknown   \n",
       "1   56      admin.  married  secondary      no       45      no   no  unknown   \n",
       "2   41  technician  married  secondary      no     1270     yes   no  unknown   \n",
       "3   55    services  married  secondary      no     2476     yes   no  unknown   \n",
       "4   54      admin.  married   tertiary      no      184      no   no  unknown   \n",
       "\n",
       "   day month  duration  campaign  pdays  previous poutcome deposit  \n",
       "0    5   may      1042         1     -1         0  unknown     yes  \n",
       "1    5   may      1467         1     -1         0  unknown     yes  \n",
       "2    5   may      1389         1     -1         0  unknown     yes  \n",
       "3    5   may       579         1     -1         0  unknown     yes  \n",
       "4    5   may       673         2     -1         0  unknown     yes  "
      ]
     },
     "execution_count": 2,
     "metadata": {},
     "output_type": "execute_result"
    }
   ],
   "source": [
    "#Carregar a base e visualizar primeiras linhas\n",
    "df1 = pd.read_csv('bank.csv')  #header=-1 indica que não há linha de header\n",
    "df1.head()"
   ]
  },
  {
   "cell_type": "code",
   "execution_count": 3,
   "metadata": {
    "ExecuteTime": {
     "end_time": "2022-05-26T12:34:25.162013Z",
     "start_time": "2022-05-26T12:34:25.154365Z"
    },
    "id": "CbcVyT0KA_5h"
   },
   "outputs": [
    {
     "data": {
      "text/plain": [
       "(11162, 17)"
      ]
     },
     "execution_count": 3,
     "metadata": {},
     "output_type": "execute_result"
    }
   ],
   "source": [
    "#dimnesões da base\n",
    "df1.shape"
   ]
  },
  {
   "cell_type": "markdown",
   "metadata": {
    "id": "MFlGxC1qA_5r"
   },
   "source": [
    "# Converte atributos categóricos em binário"
   ]
  },
  {
   "cell_type": "code",
   "execution_count": 4,
   "metadata": {
    "ExecuteTime": {
     "end_time": "2022-05-26T12:34:26.222932Z",
     "start_time": "2022-05-26T12:34:26.218245Z"
    },
    "id": "uBBCtYsp41Tk"
   },
   "outputs": [],
   "source": [
    "#!pip install category-encoders"
   ]
  },
  {
   "cell_type": "code",
   "execution_count": 5,
   "metadata": {
    "ExecuteTime": {
     "end_time": "2022-05-26T12:34:26.754889Z",
     "start_time": "2022-05-26T12:34:26.745788Z"
    },
    "id": "RJECVSqa77Rx"
   },
   "outputs": [
    {
     "data": {
      "text/plain": [
       "age           int64\n",
       "job          object\n",
       "marital      object\n",
       "education    object\n",
       "default      object\n",
       "balance       int64\n",
       "housing      object\n",
       "loan         object\n",
       "contact      object\n",
       "day           int64\n",
       "month        object\n",
       "duration      int64\n",
       "campaign      int64\n",
       "pdays         int64\n",
       "previous      int64\n",
       "poutcome     object\n",
       "deposit      object\n",
       "dtype: object"
      ]
     },
     "execution_count": 5,
     "metadata": {},
     "output_type": "execute_result"
    }
   ],
   "source": [
    "df1.dtypes"
   ]
  },
  {
   "cell_type": "code",
   "execution_count": 6,
   "metadata": {
    "ExecuteTime": {
     "end_time": "2022-05-26T12:34:27.272034Z",
     "start_time": "2022-05-26T12:34:27.257059Z"
    },
    "id": "-OBogpOO41ch"
   },
   "outputs": [
    {
     "data": {
      "text/plain": [
       "Index(['job', 'marital', 'education', 'default', 'housing', 'loan', 'contact',\n",
       "       'month', 'poutcome'],\n",
       "      dtype='object')"
      ]
     },
     "execution_count": 6,
     "metadata": {},
     "output_type": "execute_result"
    }
   ],
   "source": [
    "categorical_columns = df1.select_dtypes(include=['object'])\n",
    "categorical_columns = categorical_columns.columns\n",
    "categorical_columns = categorical_columns[categorical_columns != 'deposit']\n",
    "categorical_columns"
   ]
  },
  {
   "cell_type": "code",
   "execution_count": 8,
   "metadata": {
    "ExecuteTime": {
     "end_time": "2022-05-26T12:43:19.239380Z",
     "start_time": "2022-05-26T12:43:18.199828Z"
    },
    "id": "DSn91a35A_5s"
   },
   "outputs": [
    {
     "data": {
      "text/html": [
       "<div>\n",
       "<style scoped>\n",
       "    .dataframe tbody tr th:only-of-type {\n",
       "        vertical-align: middle;\n",
       "    }\n",
       "\n",
       "    .dataframe tbody tr th {\n",
       "        vertical-align: top;\n",
       "    }\n",
       "\n",
       "    .dataframe thead th {\n",
       "        text-align: right;\n",
       "    }\n",
       "</style>\n",
       "<table border=\"1\" class=\"dataframe\">\n",
       "  <thead>\n",
       "    <tr style=\"text-align: right;\">\n",
       "      <th></th>\n",
       "      <th>job_0</th>\n",
       "      <th>job_1</th>\n",
       "      <th>job_2</th>\n",
       "      <th>job_3</th>\n",
       "      <th>marital_0</th>\n",
       "      <th>marital_1</th>\n",
       "      <th>education_0</th>\n",
       "      <th>education_1</th>\n",
       "      <th>education_2</th>\n",
       "      <th>default_0</th>\n",
       "      <th>...</th>\n",
       "      <th>loan_1</th>\n",
       "      <th>contact_0</th>\n",
       "      <th>contact_1</th>\n",
       "      <th>month_0</th>\n",
       "      <th>month_1</th>\n",
       "      <th>month_2</th>\n",
       "      <th>month_3</th>\n",
       "      <th>poutcome_0</th>\n",
       "      <th>poutcome_1</th>\n",
       "      <th>poutcome_2</th>\n",
       "    </tr>\n",
       "  </thead>\n",
       "  <tbody>\n",
       "    <tr>\n",
       "      <th>0</th>\n",
       "      <td>0</td>\n",
       "      <td>0</td>\n",
       "      <td>0</td>\n",
       "      <td>1</td>\n",
       "      <td>0</td>\n",
       "      <td>1</td>\n",
       "      <td>0</td>\n",
       "      <td>0</td>\n",
       "      <td>1</td>\n",
       "      <td>0</td>\n",
       "      <td>...</td>\n",
       "      <td>1</td>\n",
       "      <td>0</td>\n",
       "      <td>1</td>\n",
       "      <td>0</td>\n",
       "      <td>0</td>\n",
       "      <td>0</td>\n",
       "      <td>1</td>\n",
       "      <td>0</td>\n",
       "      <td>0</td>\n",
       "      <td>1</td>\n",
       "    </tr>\n",
       "    <tr>\n",
       "      <th>1</th>\n",
       "      <td>0</td>\n",
       "      <td>0</td>\n",
       "      <td>0</td>\n",
       "      <td>1</td>\n",
       "      <td>0</td>\n",
       "      <td>1</td>\n",
       "      <td>0</td>\n",
       "      <td>0</td>\n",
       "      <td>1</td>\n",
       "      <td>0</td>\n",
       "      <td>...</td>\n",
       "      <td>1</td>\n",
       "      <td>0</td>\n",
       "      <td>1</td>\n",
       "      <td>0</td>\n",
       "      <td>0</td>\n",
       "      <td>0</td>\n",
       "      <td>1</td>\n",
       "      <td>0</td>\n",
       "      <td>0</td>\n",
       "      <td>1</td>\n",
       "    </tr>\n",
       "    <tr>\n",
       "      <th>2</th>\n",
       "      <td>0</td>\n",
       "      <td>0</td>\n",
       "      <td>1</td>\n",
       "      <td>0</td>\n",
       "      <td>0</td>\n",
       "      <td>1</td>\n",
       "      <td>0</td>\n",
       "      <td>0</td>\n",
       "      <td>1</td>\n",
       "      <td>0</td>\n",
       "      <td>...</td>\n",
       "      <td>1</td>\n",
       "      <td>0</td>\n",
       "      <td>1</td>\n",
       "      <td>0</td>\n",
       "      <td>0</td>\n",
       "      <td>0</td>\n",
       "      <td>1</td>\n",
       "      <td>0</td>\n",
       "      <td>0</td>\n",
       "      <td>1</td>\n",
       "    </tr>\n",
       "    <tr>\n",
       "      <th>3</th>\n",
       "      <td>0</td>\n",
       "      <td>0</td>\n",
       "      <td>1</td>\n",
       "      <td>1</td>\n",
       "      <td>0</td>\n",
       "      <td>1</td>\n",
       "      <td>0</td>\n",
       "      <td>0</td>\n",
       "      <td>1</td>\n",
       "      <td>0</td>\n",
       "      <td>...</td>\n",
       "      <td>1</td>\n",
       "      <td>0</td>\n",
       "      <td>1</td>\n",
       "      <td>0</td>\n",
       "      <td>0</td>\n",
       "      <td>0</td>\n",
       "      <td>1</td>\n",
       "      <td>0</td>\n",
       "      <td>0</td>\n",
       "      <td>1</td>\n",
       "    </tr>\n",
       "    <tr>\n",
       "      <th>4</th>\n",
       "      <td>0</td>\n",
       "      <td>0</td>\n",
       "      <td>0</td>\n",
       "      <td>1</td>\n",
       "      <td>0</td>\n",
       "      <td>1</td>\n",
       "      <td>0</td>\n",
       "      <td>1</td>\n",
       "      <td>0</td>\n",
       "      <td>0</td>\n",
       "      <td>...</td>\n",
       "      <td>1</td>\n",
       "      <td>0</td>\n",
       "      <td>1</td>\n",
       "      <td>0</td>\n",
       "      <td>0</td>\n",
       "      <td>0</td>\n",
       "      <td>1</td>\n",
       "      <td>0</td>\n",
       "      <td>0</td>\n",
       "      <td>1</td>\n",
       "    </tr>\n",
       "  </tbody>\n",
       "</table>\n",
       "<p>5 rows × 24 columns</p>\n",
       "</div>"
      ],
      "text/plain": [
       "   job_0  job_1  job_2  job_3  marital_0  marital_1  education_0  education_1  \\\n",
       "0      0      0      0      1          0          1            0            0   \n",
       "1      0      0      0      1          0          1            0            0   \n",
       "2      0      0      1      0          0          1            0            0   \n",
       "3      0      0      1      1          0          1            0            0   \n",
       "4      0      0      0      1          0          1            0            1   \n",
       "\n",
       "   education_2  default_0  ...  loan_1  contact_0  contact_1  month_0  \\\n",
       "0            1          0  ...       1          0          1        0   \n",
       "1            1          0  ...       1          0          1        0   \n",
       "2            1          0  ...       1          0          1        0   \n",
       "3            1          0  ...       1          0          1        0   \n",
       "4            0          0  ...       1          0          1        0   \n",
       "\n",
       "   month_1  month_2  month_3  poutcome_0  poutcome_1  poutcome_2  \n",
       "0        0        0        1           0           0           1  \n",
       "1        0        0        1           0           0           1  \n",
       "2        0        0        1           0           0           1  \n",
       "3        0        0        1           0           0           1  \n",
       "4        0        0        1           0           0           1  \n",
       "\n",
       "[5 rows x 24 columns]"
      ]
     },
     "execution_count": 8,
     "metadata": {},
     "output_type": "execute_result"
    }
   ],
   "source": [
    "import category_encoders as ce\n",
    "encoder = ce.BinaryEncoder()\n",
    "df_binary = encoder.fit_transform(df1.loc[:,categorical_columns])\n",
    "df_binary.head()"
   ]
  },
  {
   "cell_type": "markdown",
   "metadata": {
    "id": "j-pe7vU_A_5w"
   },
   "source": [
    "# Divisão em treino e teste"
   ]
  },
  {
   "cell_type": "code",
   "execution_count": 9,
   "metadata": {
    "ExecuteTime": {
     "end_time": "2022-05-26T12:43:23.911868Z",
     "start_time": "2022-05-26T12:43:23.901550Z"
    },
    "id": "IlW979TC5xqE"
   },
   "outputs": [
    {
     "data": {
      "text/plain": [
       "array(['age', 'balance', 'day', 'duration', 'campaign', 'pdays',\n",
       "       'previous', 'deposit'], dtype=object)"
      ]
     },
     "execution_count": 9,
     "metadata": {},
     "output_type": "execute_result"
    }
   ],
   "source": [
    "int_columns = df1.select_dtypes(include=['int'])\n",
    "int_columns = int_columns.columns.values\n",
    "columns = np.append(int_columns, 'deposit')\n",
    "columns"
   ]
  },
  {
   "cell_type": "code",
   "execution_count": 10,
   "metadata": {
    "ExecuteTime": {
     "end_time": "2022-05-26T12:43:24.877822Z",
     "start_time": "2022-05-26T12:43:24.846472Z"
    },
    "id": "d70fT0m2A_5x"
   },
   "outputs": [
    {
     "data": {
      "text/html": [
       "<div>\n",
       "<style scoped>\n",
       "    .dataframe tbody tr th:only-of-type {\n",
       "        vertical-align: middle;\n",
       "    }\n",
       "\n",
       "    .dataframe tbody tr th {\n",
       "        vertical-align: top;\n",
       "    }\n",
       "\n",
       "    .dataframe thead th {\n",
       "        text-align: right;\n",
       "    }\n",
       "</style>\n",
       "<table border=\"1\" class=\"dataframe\">\n",
       "  <thead>\n",
       "    <tr style=\"text-align: right;\">\n",
       "      <th></th>\n",
       "      <th>job_0</th>\n",
       "      <th>job_1</th>\n",
       "      <th>job_2</th>\n",
       "      <th>job_3</th>\n",
       "      <th>marital_0</th>\n",
       "      <th>marital_1</th>\n",
       "      <th>education_0</th>\n",
       "      <th>education_1</th>\n",
       "      <th>education_2</th>\n",
       "      <th>default_0</th>\n",
       "      <th>...</th>\n",
       "      <th>poutcome_1</th>\n",
       "      <th>poutcome_2</th>\n",
       "      <th>age</th>\n",
       "      <th>balance</th>\n",
       "      <th>day</th>\n",
       "      <th>duration</th>\n",
       "      <th>campaign</th>\n",
       "      <th>pdays</th>\n",
       "      <th>previous</th>\n",
       "      <th>deposit</th>\n",
       "    </tr>\n",
       "  </thead>\n",
       "  <tbody>\n",
       "    <tr>\n",
       "      <th>0</th>\n",
       "      <td>0</td>\n",
       "      <td>0</td>\n",
       "      <td>0</td>\n",
       "      <td>1</td>\n",
       "      <td>0</td>\n",
       "      <td>1</td>\n",
       "      <td>0</td>\n",
       "      <td>0</td>\n",
       "      <td>1</td>\n",
       "      <td>0</td>\n",
       "      <td>...</td>\n",
       "      <td>0</td>\n",
       "      <td>1</td>\n",
       "      <td>59</td>\n",
       "      <td>2343</td>\n",
       "      <td>5</td>\n",
       "      <td>1042</td>\n",
       "      <td>1</td>\n",
       "      <td>-1</td>\n",
       "      <td>0</td>\n",
       "      <td>yes</td>\n",
       "    </tr>\n",
       "    <tr>\n",
       "      <th>1</th>\n",
       "      <td>0</td>\n",
       "      <td>0</td>\n",
       "      <td>0</td>\n",
       "      <td>1</td>\n",
       "      <td>0</td>\n",
       "      <td>1</td>\n",
       "      <td>0</td>\n",
       "      <td>0</td>\n",
       "      <td>1</td>\n",
       "      <td>0</td>\n",
       "      <td>...</td>\n",
       "      <td>0</td>\n",
       "      <td>1</td>\n",
       "      <td>56</td>\n",
       "      <td>45</td>\n",
       "      <td>5</td>\n",
       "      <td>1467</td>\n",
       "      <td>1</td>\n",
       "      <td>-1</td>\n",
       "      <td>0</td>\n",
       "      <td>yes</td>\n",
       "    </tr>\n",
       "    <tr>\n",
       "      <th>2</th>\n",
       "      <td>0</td>\n",
       "      <td>0</td>\n",
       "      <td>1</td>\n",
       "      <td>0</td>\n",
       "      <td>0</td>\n",
       "      <td>1</td>\n",
       "      <td>0</td>\n",
       "      <td>0</td>\n",
       "      <td>1</td>\n",
       "      <td>0</td>\n",
       "      <td>...</td>\n",
       "      <td>0</td>\n",
       "      <td>1</td>\n",
       "      <td>41</td>\n",
       "      <td>1270</td>\n",
       "      <td>5</td>\n",
       "      <td>1389</td>\n",
       "      <td>1</td>\n",
       "      <td>-1</td>\n",
       "      <td>0</td>\n",
       "      <td>yes</td>\n",
       "    </tr>\n",
       "    <tr>\n",
       "      <th>3</th>\n",
       "      <td>0</td>\n",
       "      <td>0</td>\n",
       "      <td>1</td>\n",
       "      <td>1</td>\n",
       "      <td>0</td>\n",
       "      <td>1</td>\n",
       "      <td>0</td>\n",
       "      <td>0</td>\n",
       "      <td>1</td>\n",
       "      <td>0</td>\n",
       "      <td>...</td>\n",
       "      <td>0</td>\n",
       "      <td>1</td>\n",
       "      <td>55</td>\n",
       "      <td>2476</td>\n",
       "      <td>5</td>\n",
       "      <td>579</td>\n",
       "      <td>1</td>\n",
       "      <td>-1</td>\n",
       "      <td>0</td>\n",
       "      <td>yes</td>\n",
       "    </tr>\n",
       "    <tr>\n",
       "      <th>4</th>\n",
       "      <td>0</td>\n",
       "      <td>0</td>\n",
       "      <td>0</td>\n",
       "      <td>1</td>\n",
       "      <td>0</td>\n",
       "      <td>1</td>\n",
       "      <td>0</td>\n",
       "      <td>1</td>\n",
       "      <td>0</td>\n",
       "      <td>0</td>\n",
       "      <td>...</td>\n",
       "      <td>0</td>\n",
       "      <td>1</td>\n",
       "      <td>54</td>\n",
       "      <td>184</td>\n",
       "      <td>5</td>\n",
       "      <td>673</td>\n",
       "      <td>2</td>\n",
       "      <td>-1</td>\n",
       "      <td>0</td>\n",
       "      <td>yes</td>\n",
       "    </tr>\n",
       "  </tbody>\n",
       "</table>\n",
       "<p>5 rows × 32 columns</p>\n",
       "</div>"
      ],
      "text/plain": [
       "   job_0  job_1  job_2  job_3  marital_0  marital_1  education_0  education_1  \\\n",
       "0      0      0      0      1          0          1            0            0   \n",
       "1      0      0      0      1          0          1            0            0   \n",
       "2      0      0      1      0          0          1            0            0   \n",
       "3      0      0      1      1          0          1            0            0   \n",
       "4      0      0      0      1          0          1            0            1   \n",
       "\n",
       "   education_2  default_0  ...  poutcome_1  poutcome_2  age  balance  day  \\\n",
       "0            1          0  ...           0           1   59     2343    5   \n",
       "1            1          0  ...           0           1   56       45    5   \n",
       "2            1          0  ...           0           1   41     1270    5   \n",
       "3            1          0  ...           0           1   55     2476    5   \n",
       "4            0          0  ...           0           1   54      184    5   \n",
       "\n",
       "   duration  campaign  pdays  previous  deposit  \n",
       "0      1042         1     -1         0      yes  \n",
       "1      1467         1     -1         0      yes  \n",
       "2      1389         1     -1         0      yes  \n",
       "3       579         1     -1         0      yes  \n",
       "4       673         2     -1         0      yes  \n",
       "\n",
       "[5 rows x 32 columns]"
      ]
     },
     "execution_count": 10,
     "metadata": {},
     "output_type": "execute_result"
    }
   ],
   "source": [
    "df1 = pd.concat([df_binary, df1.loc[:,columns]], axis=1)\n",
    "df1.head()"
   ]
  },
  {
   "cell_type": "code",
   "execution_count": 11,
   "metadata": {
    "ExecuteTime": {
     "end_time": "2022-05-26T12:43:25.473971Z",
     "start_time": "2022-05-26T12:43:25.468787Z"
    },
    "id": "KVNITwJzA_52"
   },
   "outputs": [],
   "source": [
    "import random\n",
    "np.random.seed(1) #semente inicial\n",
    "nlinhas = df1.shape[0]"
   ]
  },
  {
   "cell_type": "code",
   "execution_count": 12,
   "metadata": {
    "ExecuteTime": {
     "end_time": "2022-05-26T12:43:26.252218Z",
     "start_time": "2022-05-26T12:43:26.188970Z"
    },
    "id": "QMNCZXiVA_55"
   },
   "outputs": [],
   "source": [
    "from sklearn.model_selection import train_test_split\n",
    "x_train, x_test, y_train, y_test = train_test_split(df1.loc[:,'job_0':'previous'], df1.loc[:,'deposit'], test_size=0.2)"
   ]
  },
  {
   "cell_type": "code",
   "execution_count": 13,
   "metadata": {
    "ExecuteTime": {
     "end_time": "2022-05-26T12:43:26.726893Z",
     "start_time": "2022-05-26T12:43:26.716150Z"
    },
    "id": "AZAfI_5J4yK4"
   },
   "outputs": [
    {
     "data": {
      "text/plain": [
       "no     1165\n",
       "yes    1068\n",
       "Name: deposit, dtype: int64"
      ]
     },
     "execution_count": 13,
     "metadata": {},
     "output_type": "execute_result"
    }
   ],
   "source": [
    "y_test.value_counts()"
   ]
  },
  {
   "cell_type": "markdown",
   "metadata": {
    "id": "97YQ77pLA_59"
   },
   "source": [
    "# Normalização"
   ]
  },
  {
   "cell_type": "code",
   "execution_count": 14,
   "metadata": {
    "ExecuteTime": {
     "end_time": "2022-05-26T12:43:27.757313Z",
     "start_time": "2022-05-26T12:43:27.740315Z"
    },
    "id": "H4yasoJBA_5-"
   },
   "outputs": [],
   "source": [
    "from sklearn import preprocessing\n",
    "preprocessParams = preprocessing.StandardScaler().fit(x_train)"
   ]
  },
  {
   "cell_type": "code",
   "execution_count": 15,
   "metadata": {
    "ExecuteTime": {
     "end_time": "2022-05-26T12:43:29.442229Z",
     "start_time": "2022-05-26T12:43:29.428191Z"
    },
    "id": "Wd94UuIDA_6B"
   },
   "outputs": [],
   "source": [
    "X_train_normalized = preprocessParams.transform(x_train)\n",
    "X_test_normalized = preprocessParams.transform(x_test)"
   ]
  },
  {
   "cell_type": "markdown",
   "metadata": {
    "id": "YORIxwjrA_6F"
   },
   "source": [
    "# Treinamento da Rede Neural"
   ]
  },
  {
   "cell_type": "code",
   "execution_count": 16,
   "metadata": {
    "ExecuteTime": {
     "end_time": "2022-05-26T12:43:32.648566Z",
     "start_time": "2022-05-26T12:43:31.052279Z"
    },
    "id": "VlYcf4w3A_6G"
   },
   "outputs": [
    {
     "name": "stderr",
     "output_type": "stream",
     "text": [
      "Using TensorFlow backend.\n",
      "/opt/anaconda3/envs/tensorflow/lib/python3.7/site-packages/tensorflow/python/framework/dtypes.py:516: FutureWarning: Passing (type, 1) or '1type' as a synonym of type is deprecated; in a future version of numpy, it will be understood as (type, (1,)) / '(1,)type'.\n",
      "  _np_qint8 = np.dtype([(\"qint8\", np.int8, 1)])\n",
      "/opt/anaconda3/envs/tensorflow/lib/python3.7/site-packages/tensorflow/python/framework/dtypes.py:517: FutureWarning: Passing (type, 1) or '1type' as a synonym of type is deprecated; in a future version of numpy, it will be understood as (type, (1,)) / '(1,)type'.\n",
      "  _np_quint8 = np.dtype([(\"quint8\", np.uint8, 1)])\n",
      "/opt/anaconda3/envs/tensorflow/lib/python3.7/site-packages/tensorflow/python/framework/dtypes.py:518: FutureWarning: Passing (type, 1) or '1type' as a synonym of type is deprecated; in a future version of numpy, it will be understood as (type, (1,)) / '(1,)type'.\n",
      "  _np_qint16 = np.dtype([(\"qint16\", np.int16, 1)])\n",
      "/opt/anaconda3/envs/tensorflow/lib/python3.7/site-packages/tensorflow/python/framework/dtypes.py:519: FutureWarning: Passing (type, 1) or '1type' as a synonym of type is deprecated; in a future version of numpy, it will be understood as (type, (1,)) / '(1,)type'.\n",
      "  _np_quint16 = np.dtype([(\"quint16\", np.uint16, 1)])\n",
      "/opt/anaconda3/envs/tensorflow/lib/python3.7/site-packages/tensorflow/python/framework/dtypes.py:520: FutureWarning: Passing (type, 1) or '1type' as a synonym of type is deprecated; in a future version of numpy, it will be understood as (type, (1,)) / '(1,)type'.\n",
      "  _np_qint32 = np.dtype([(\"qint32\", np.int32, 1)])\n",
      "/opt/anaconda3/envs/tensorflow/lib/python3.7/site-packages/tensorflow/python/framework/dtypes.py:525: FutureWarning: Passing (type, 1) or '1type' as a synonym of type is deprecated; in a future version of numpy, it will be understood as (type, (1,)) / '(1,)type'.\n",
      "  np_resource = np.dtype([(\"resource\", np.ubyte, 1)])\n",
      "/opt/anaconda3/envs/tensorflow/lib/python3.7/site-packages/tensorboard/compat/tensorflow_stub/dtypes.py:541: FutureWarning: Passing (type, 1) or '1type' as a synonym of type is deprecated; in a future version of numpy, it will be understood as (type, (1,)) / '(1,)type'.\n",
      "  _np_qint8 = np.dtype([(\"qint8\", np.int8, 1)])\n",
      "/opt/anaconda3/envs/tensorflow/lib/python3.7/site-packages/tensorboard/compat/tensorflow_stub/dtypes.py:542: FutureWarning: Passing (type, 1) or '1type' as a synonym of type is deprecated; in a future version of numpy, it will be understood as (type, (1,)) / '(1,)type'.\n",
      "  _np_quint8 = np.dtype([(\"quint8\", np.uint8, 1)])\n",
      "/opt/anaconda3/envs/tensorflow/lib/python3.7/site-packages/tensorboard/compat/tensorflow_stub/dtypes.py:543: FutureWarning: Passing (type, 1) or '1type' as a synonym of type is deprecated; in a future version of numpy, it will be understood as (type, (1,)) / '(1,)type'.\n",
      "  _np_qint16 = np.dtype([(\"qint16\", np.int16, 1)])\n",
      "/opt/anaconda3/envs/tensorflow/lib/python3.7/site-packages/tensorboard/compat/tensorflow_stub/dtypes.py:544: FutureWarning: Passing (type, 1) or '1type' as a synonym of type is deprecated; in a future version of numpy, it will be understood as (type, (1,)) / '(1,)type'.\n",
      "  _np_quint16 = np.dtype([(\"quint16\", np.uint16, 1)])\n",
      "/opt/anaconda3/envs/tensorflow/lib/python3.7/site-packages/tensorboard/compat/tensorflow_stub/dtypes.py:545: FutureWarning: Passing (type, 1) or '1type' as a synonym of type is deprecated; in a future version of numpy, it will be understood as (type, (1,)) / '(1,)type'.\n",
      "  _np_qint32 = np.dtype([(\"qint32\", np.int32, 1)])\n",
      "/opt/anaconda3/envs/tensorflow/lib/python3.7/site-packages/tensorboard/compat/tensorflow_stub/dtypes.py:550: FutureWarning: Passing (type, 1) or '1type' as a synonym of type is deprecated; in a future version of numpy, it will be understood as (type, (1,)) / '(1,)type'.\n",
      "  np_resource = np.dtype([(\"resource\", np.ubyte, 1)])\n"
     ]
    }
   ],
   "source": [
    "from keras import Sequential\n",
    "from keras.layers import Dense"
   ]
  },
  {
   "cell_type": "code",
   "execution_count": 17,
   "metadata": {
    "ExecuteTime": {
     "end_time": "2022-05-26T12:53:25.219609Z",
     "start_time": "2022-05-26T12:53:25.209491Z"
    },
    "id": "rsLlyisx9BXK"
   },
   "outputs": [
    {
     "data": {
      "text/plain": [
       "(8929, 31)"
      ]
     },
     "execution_count": 17,
     "metadata": {},
     "output_type": "execute_result"
    }
   ],
   "source": [
    "x_train.shape"
   ]
  },
  {
   "cell_type": "code",
   "execution_count": 18,
   "metadata": {
    "ExecuteTime": {
     "end_time": "2022-05-26T12:53:27.560889Z",
     "start_time": "2022-05-26T12:53:27.413261Z"
    },
    "id": "ScZcz1WSA_6I"
   },
   "outputs": [
    {
     "name": "stdout",
     "output_type": "stream",
     "text": [
      "Model: \"sequential_1\"\n",
      "_________________________________________________________________\n",
      "Layer (type)                 Output Shape              Param #   \n",
      "=================================================================\n",
      "dense_1 (Dense)              (None, 22)                704       \n",
      "_________________________________________________________________\n",
      "dense_2 (Dense)              (None, 10)                230       \n",
      "_________________________________________________________________\n",
      "dense_3 (Dense)              (None, 2)                 22        \n",
      "=================================================================\n",
      "Total params: 956\n",
      "Trainable params: 956\n",
      "Non-trainable params: 0\n",
      "_________________________________________________________________\n"
     ]
    }
   ],
   "source": [
    "RN = Sequential()\n",
    "RN.add(Dense(22,input_shape = X_train_normalized.shape[1:], activation = 'sigmoid'))\n",
    "RN.add(Dense(10, activation = 'sigmoid'))\n",
    "RN.add(Dense(2,activation = 'sigmoid'))\n",
    "RN.summary()"
   ]
  },
  {
   "cell_type": "code",
   "execution_count": 19,
   "metadata": {
    "ExecuteTime": {
     "end_time": "2022-05-26T12:53:28.427990Z",
     "start_time": "2022-05-26T12:53:28.405370Z"
    },
    "id": "kRbNrMMYA_6M"
   },
   "outputs": [],
   "source": [
    "# Transformação Dummy\n",
    "from sklearn.preprocessing import OneHotEncoder\n",
    "encoder = OneHotEncoder(handle_unknown = 'ignore')\n",
    "encoder.fit(pd.DataFrame(y_train))\n",
    "\n",
    "y_train = encoder.transform(pd.DataFrame(y_train)).toarray()\n",
    "y_test = encoder.transform(pd.DataFrame(y_test)).toarray()"
   ]
  },
  {
   "cell_type": "code",
   "execution_count": 20,
   "metadata": {
    "ExecuteTime": {
     "end_time": "2022-05-26T12:53:29.132994Z",
     "start_time": "2022-05-26T12:53:29.124629Z"
    },
    "id": "YQt7HOrn9YXE"
   },
   "outputs": [
    {
     "data": {
      "text/plain": [
       "array([[1., 0.],\n",
       "       [0., 1.],\n",
       "       [1., 0.],\n",
       "       ...,\n",
       "       [0., 1.],\n",
       "       [0., 1.],\n",
       "       [0., 1.]])"
      ]
     },
     "execution_count": 20,
     "metadata": {},
     "output_type": "execute_result"
    }
   ],
   "source": [
    "y_train"
   ]
  },
  {
   "cell_type": "code",
   "execution_count": 21,
   "metadata": {
    "ExecuteTime": {
     "end_time": "2022-05-26T12:54:04.498673Z",
     "start_time": "2022-05-26T12:53:30.109285Z"
    },
    "id": "ljgPXybOA_6Q"
   },
   "outputs": [
    {
     "name": "stdout",
     "output_type": "stream",
     "text": [
      "WARNING:tensorflow:From /opt/anaconda3/envs/tensorflow/lib/python3.7/site-packages/keras/backend/tensorflow_backend.py:422: The name tf.global_variables is deprecated. Please use tf.compat.v1.global_variables instead.\n",
      "\n",
      "Train on 7143 samples, validate on 1786 samples\n",
      "Epoch 1/100\n",
      "7143/7143 [==============================] - 0s 66us/step - loss: 0.2897 - accuracy: 0.4767 - val_loss: 0.2755 - val_accuracy: 0.4563\n",
      "Epoch 2/100\n",
      "7143/7143 [==============================] - 0s 47us/step - loss: 0.2656 - accuracy: 0.4775 - val_loss: 0.2583 - val_accuracy: 0.4871\n",
      "Epoch 3/100\n",
      "7143/7143 [==============================] - 0s 47us/step - loss: 0.2550 - accuracy: 0.4885 - val_loss: 0.2516 - val_accuracy: 0.5280\n",
      "Epoch 4/100\n",
      "7143/7143 [==============================] - 0s 47us/step - loss: 0.2512 - accuracy: 0.5085 - val_loss: 0.2490 - val_accuracy: 0.5325\n",
      "Epoch 5/100\n",
      "7143/7143 [==============================] - 0s 46us/step - loss: 0.2497 - accuracy: 0.5101 - val_loss: 0.2478 - val_accuracy: 0.5336\n",
      "Epoch 6/100\n",
      "7143/7143 [==============================] - 0s 47us/step - loss: 0.2489 - accuracy: 0.5190 - val_loss: 0.2471 - val_accuracy: 0.5426\n",
      "Epoch 7/100\n",
      "7143/7143 [==============================] - 0s 48us/step - loss: 0.2483 - accuracy: 0.5236 - val_loss: 0.2465 - val_accuracy: 0.5414\n",
      "Epoch 8/100\n",
      "7143/7143 [==============================] - 0s 50us/step - loss: 0.2478 - accuracy: 0.5265 - val_loss: 0.2460 - val_accuracy: 0.5510\n",
      "Epoch 9/100\n",
      "7143/7143 [==============================] - 0s 52us/step - loss: 0.2473 - accuracy: 0.5302 - val_loss: 0.2455 - val_accuracy: 0.5538\n",
      "Epoch 10/100\n",
      "7143/7143 [==============================] - 0s 46us/step - loss: 0.2468 - accuracy: 0.5414 - val_loss: 0.2450 - val_accuracy: 0.5594\n",
      "Epoch 11/100\n",
      "7143/7143 [==============================] - 0s 52us/step - loss: 0.2463 - accuracy: 0.5426 - val_loss: 0.2445 - val_accuracy: 0.5638\n",
      "Epoch 12/100\n",
      "7143/7143 [==============================] - 0s 48us/step - loss: 0.2458 - accuracy: 0.5491 - val_loss: 0.2440 - val_accuracy: 0.5733\n",
      "Epoch 13/100\n",
      "7143/7143 [==============================] - 0s 46us/step - loss: 0.2452 - accuracy: 0.5596 - val_loss: 0.2435 - val_accuracy: 0.5834\n",
      "Epoch 14/100\n",
      "7143/7143 [==============================] - 0s 46us/step - loss: 0.2447 - accuracy: 0.5708 - val_loss: 0.2430 - val_accuracy: 0.5890\n",
      "Epoch 15/100\n",
      "7143/7143 [==============================] - 0s 46us/step - loss: 0.2442 - accuracy: 0.5776 - val_loss: 0.2424 - val_accuracy: 0.5980\n",
      "Epoch 16/100\n",
      "7143/7143 [==============================] - 0s 50us/step - loss: 0.2436 - accuracy: 0.5829 - val_loss: 0.2419 - val_accuracy: 0.6053\n",
      "Epoch 17/100\n",
      "7143/7143 [==============================] - 0s 46us/step - loss: 0.2430 - accuracy: 0.5915 - val_loss: 0.2414 - val_accuracy: 0.6120\n",
      "Epoch 18/100\n",
      "7143/7143 [==============================] - 0s 47us/step - loss: 0.2424 - accuracy: 0.5983 - val_loss: 0.2408 - val_accuracy: 0.6159\n",
      "Epoch 19/100\n",
      "7143/7143 [==============================] - 0s 46us/step - loss: 0.2418 - accuracy: 0.6081 - val_loss: 0.2401 - val_accuracy: 0.6226\n",
      "Epoch 20/100\n",
      "7143/7143 [==============================] - 0s 46us/step - loss: 0.2412 - accuracy: 0.6101 - val_loss: 0.2395 - val_accuracy: 0.6265\n",
      "Epoch 21/100\n",
      "7143/7143 [==============================] - 0s 47us/step - loss: 0.2405 - accuracy: 0.6182 - val_loss: 0.2389 - val_accuracy: 0.6299\n",
      "Epoch 22/100\n",
      "7143/7143 [==============================] - 0s 46us/step - loss: 0.2398 - accuracy: 0.6269 - val_loss: 0.2383 - val_accuracy: 0.6355\n",
      "Epoch 23/100\n",
      "7143/7143 [==============================] - 0s 46us/step - loss: 0.2391 - accuracy: 0.6360 - val_loss: 0.2376 - val_accuracy: 0.6428\n",
      "Epoch 24/100\n",
      "7143/7143 [==============================] - 0s 47us/step - loss: 0.2384 - accuracy: 0.6433 - val_loss: 0.2368 - val_accuracy: 0.6439\n",
      "Epoch 25/100\n",
      "7143/7143 [==============================] - 0s 50us/step - loss: 0.2377 - accuracy: 0.6436 - val_loss: 0.2360 - val_accuracy: 0.6456\n",
      "Epoch 26/100\n",
      "7143/7143 [==============================] - 0s 47us/step - loss: 0.2369 - accuracy: 0.6468 - val_loss: 0.2353 - val_accuracy: 0.6529\n",
      "Epoch 27/100\n",
      "7143/7143 [==============================] - 0s 46us/step - loss: 0.2361 - accuracy: 0.6529 - val_loss: 0.2345 - val_accuracy: 0.6562\n",
      "Epoch 28/100\n",
      "7143/7143 [==============================] - 0s 49us/step - loss: 0.2352 - accuracy: 0.6576 - val_loss: 0.2336 - val_accuracy: 0.6607\n",
      "Epoch 29/100\n",
      "7143/7143 [==============================] - 0s 53us/step - loss: 0.2343 - accuracy: 0.6584 - val_loss: 0.2328 - val_accuracy: 0.6641\n",
      "Epoch 30/100\n",
      "7143/7143 [==============================] - 0s 53us/step - loss: 0.2334 - accuracy: 0.6643 - val_loss: 0.2319 - val_accuracy: 0.6674\n",
      "Epoch 31/100\n",
      "7143/7143 [==============================] - 0s 47us/step - loss: 0.2324 - accuracy: 0.6699 - val_loss: 0.2309 - val_accuracy: 0.6713\n",
      "Epoch 32/100\n",
      "7143/7143 [==============================] - 0s 47us/step - loss: 0.2315 - accuracy: 0.6737 - val_loss: 0.2299 - val_accuracy: 0.6764\n",
      "Epoch 33/100\n",
      "7143/7143 [==============================] - 0s 47us/step - loss: 0.2304 - accuracy: 0.6749 - val_loss: 0.2289 - val_accuracy: 0.6781\n",
      "Epoch 34/100\n",
      "7143/7143 [==============================] - 0s 50us/step - loss: 0.2294 - accuracy: 0.6787 - val_loss: 0.2279 - val_accuracy: 0.6825\n",
      "Epoch 35/100\n",
      "7143/7143 [==============================] - 0s 45us/step - loss: 0.2283 - accuracy: 0.6857 - val_loss: 0.2268 - val_accuracy: 0.6881\n",
      "Epoch 36/100\n",
      "7143/7143 [==============================] - 0s 44us/step - loss: 0.2271 - accuracy: 0.6881 - val_loss: 0.2257 - val_accuracy: 0.6904\n",
      "Epoch 37/100\n",
      "7143/7143 [==============================] - 0s 44us/step - loss: 0.2259 - accuracy: 0.6892 - val_loss: 0.2246 - val_accuracy: 0.6932\n",
      "Epoch 38/100\n",
      "7143/7143 [==============================] - 0s 52us/step - loss: 0.2247 - accuracy: 0.6973 - val_loss: 0.2233 - val_accuracy: 0.6999\n",
      "Epoch 39/100\n",
      "7143/7143 [==============================] - 0s 47us/step - loss: 0.2235 - accuracy: 0.6984 - val_loss: 0.2221 - val_accuracy: 0.6999\n",
      "Epoch 40/100\n",
      "7143/7143 [==============================] - 0s 50us/step - loss: 0.2222 - accuracy: 0.7007 - val_loss: 0.2208 - val_accuracy: 0.7044\n",
      "Epoch 41/100\n",
      "7143/7143 [==============================] - 0s 46us/step - loss: 0.2208 - accuracy: 0.7066 - val_loss: 0.2195 - val_accuracy: 0.7038\n",
      "Epoch 42/100\n",
      "7143/7143 [==============================] - 0s 52us/step - loss: 0.2194 - accuracy: 0.7099 - val_loss: 0.2181 - val_accuracy: 0.7060\n",
      "Epoch 43/100\n",
      "7143/7143 [==============================] - 0s 45us/step - loss: 0.2180 - accuracy: 0.7106 - val_loss: 0.2168 - val_accuracy: 0.7105\n",
      "Epoch 44/100\n",
      "7143/7143 [==============================] - 0s 54us/step - loss: 0.2166 - accuracy: 0.7124 - val_loss: 0.2154 - val_accuracy: 0.7128\n",
      "Epoch 45/100\n",
      "7143/7143 [==============================] - 0s 45us/step - loss: 0.2151 - accuracy: 0.7154 - val_loss: 0.2140 - val_accuracy: 0.7150\n",
      "Epoch 46/100\n",
      "7143/7143 [==============================] - 0s 49us/step - loss: 0.2136 - accuracy: 0.7162 - val_loss: 0.2125 - val_accuracy: 0.7150\n",
      "Epoch 47/100\n",
      "7143/7143 [==============================] - 0s 46us/step - loss: 0.2121 - accuracy: 0.7194 - val_loss: 0.2110 - val_accuracy: 0.7161\n",
      "Epoch 48/100\n",
      "7143/7143 [==============================] - 0s 46us/step - loss: 0.2106 - accuracy: 0.7224 - val_loss: 0.2095 - val_accuracy: 0.7184\n",
      "Epoch 49/100\n",
      "7143/7143 [==============================] - 0s 49us/step - loss: 0.2090 - accuracy: 0.7264 - val_loss: 0.2080 - val_accuracy: 0.7217\n",
      "Epoch 50/100\n",
      "7143/7143 [==============================] - 0s 49us/step - loss: 0.2074 - accuracy: 0.7280 - val_loss: 0.2064 - val_accuracy: 0.7234\n",
      "Epoch 51/100\n",
      "7143/7143 [==============================] - 0s 59us/step - loss: 0.2058 - accuracy: 0.7326 - val_loss: 0.2048 - val_accuracy: 0.7273\n",
      "Epoch 52/100\n",
      "7143/7143 [==============================] - 0s 60us/step - loss: 0.2042 - accuracy: 0.7346 - val_loss: 0.2033 - val_accuracy: 0.7301\n",
      "Epoch 53/100\n",
      "7143/7143 [==============================] - 0s 48us/step - loss: 0.2026 - accuracy: 0.7358 - val_loss: 0.2017 - val_accuracy: 0.7329\n",
      "Epoch 54/100\n",
      "7143/7143 [==============================] - 0s 48us/step - loss: 0.2009 - accuracy: 0.7383 - val_loss: 0.2002 - val_accuracy: 0.7368\n"
     ]
    },
    {
     "name": "stdout",
     "output_type": "stream",
     "text": [
      "Epoch 55/100\n",
      "7143/7143 [==============================] - 0s 45us/step - loss: 0.1993 - accuracy: 0.7409 - val_loss: 0.1986 - val_accuracy: 0.7408\n",
      "Epoch 56/100\n",
      "7143/7143 [==============================] - 0s 44us/step - loss: 0.1977 - accuracy: 0.7430 - val_loss: 0.1971 - val_accuracy: 0.7441\n",
      "Epoch 57/100\n",
      "7143/7143 [==============================] - 0s 44us/step - loss: 0.1960 - accuracy: 0.7439 - val_loss: 0.1955 - val_accuracy: 0.7452\n",
      "Epoch 58/100\n",
      "7143/7143 [==============================] - 0s 44us/step - loss: 0.1944 - accuracy: 0.7453 - val_loss: 0.1940 - val_accuracy: 0.7486\n",
      "Epoch 59/100\n",
      "7143/7143 [==============================] - 0s 44us/step - loss: 0.1928 - accuracy: 0.7500 - val_loss: 0.1924 - val_accuracy: 0.7492\n",
      "Epoch 60/100\n",
      "7143/7143 [==============================] - 0s 44us/step - loss: 0.1911 - accuracy: 0.7505 - val_loss: 0.1909 - val_accuracy: 0.7497\n",
      "Epoch 61/100\n",
      "7143/7143 [==============================] - 0s 44us/step - loss: 0.1895 - accuracy: 0.7525 - val_loss: 0.1893 - val_accuracy: 0.7514\n",
      "Epoch 62/100\n",
      "7143/7143 [==============================] - 0s 43us/step - loss: 0.1880 - accuracy: 0.7544 - val_loss: 0.1878 - val_accuracy: 0.7548\n",
      "Epoch 63/100\n",
      "7143/7143 [==============================] - 0s 44us/step - loss: 0.1864 - accuracy: 0.7560 - val_loss: 0.1864 - val_accuracy: 0.7598\n",
      "Epoch 64/100\n",
      "7143/7143 [==============================] - 0s 44us/step - loss: 0.1848 - accuracy: 0.7591 - val_loss: 0.1849 - val_accuracy: 0.7615\n",
      "Epoch 65/100\n",
      "7143/7143 [==============================] - 0s 44us/step - loss: 0.1833 - accuracy: 0.7606 - val_loss: 0.1834 - val_accuracy: 0.7632\n",
      "Epoch 66/100\n",
      "7143/7143 [==============================] - 0s 44us/step - loss: 0.1818 - accuracy: 0.7641 - val_loss: 0.1820 - val_accuracy: 0.7643\n",
      "Epoch 67/100\n",
      "7143/7143 [==============================] - 0s 44us/step - loss: 0.1803 - accuracy: 0.7677 - val_loss: 0.1806 - val_accuracy: 0.7660\n",
      "Epoch 68/100\n",
      "7143/7143 [==============================] - 0s 45us/step - loss: 0.1788 - accuracy: 0.7696 - val_loss: 0.1792 - val_accuracy: 0.7688\n",
      "Epoch 69/100\n",
      "7143/7143 [==============================] - 0s 44us/step - loss: 0.1774 - accuracy: 0.7708 - val_loss: 0.1779 - val_accuracy: 0.7693\n",
      "Epoch 70/100\n",
      "7143/7143 [==============================] - 0s 44us/step - loss: 0.1760 - accuracy: 0.7724 - val_loss: 0.1766 - val_accuracy: 0.7710\n",
      "Epoch 71/100\n",
      "7143/7143 [==============================] - 0s 45us/step - loss: 0.1746 - accuracy: 0.7731 - val_loss: 0.1753 - val_accuracy: 0.7721\n",
      "Epoch 72/100\n",
      "7143/7143 [==============================] - 0s 45us/step - loss: 0.1732 - accuracy: 0.7739 - val_loss: 0.1740 - val_accuracy: 0.7738\n",
      "Epoch 73/100\n",
      "7143/7143 [==============================] - 0s 44us/step - loss: 0.1719 - accuracy: 0.7773 - val_loss: 0.1728 - val_accuracy: 0.7732\n",
      "Epoch 74/100\n",
      "7143/7143 [==============================] - 0s 44us/step - loss: 0.1706 - accuracy: 0.7809 - val_loss: 0.1715 - val_accuracy: 0.7738\n",
      "Epoch 75/100\n",
      "7143/7143 [==============================] - 0s 44us/step - loss: 0.1693 - accuracy: 0.7823 - val_loss: 0.1703 - val_accuracy: 0.7738\n",
      "Epoch 76/100\n",
      "7143/7143 [==============================] - 0s 44us/step - loss: 0.1681 - accuracy: 0.7833 - val_loss: 0.1692 - val_accuracy: 0.7716\n",
      "Epoch 77/100\n",
      "7143/7143 [==============================] - 0s 44us/step - loss: 0.1669 - accuracy: 0.7845 - val_loss: 0.1681 - val_accuracy: 0.7710\n",
      "Epoch 78/100\n",
      "7143/7143 [==============================] - 0s 44us/step - loss: 0.1657 - accuracy: 0.7866 - val_loss: 0.1670 - val_accuracy: 0.7727\n",
      "Epoch 79/100\n",
      "7143/7143 [==============================] - 0s 44us/step - loss: 0.1645 - accuracy: 0.7879 - val_loss: 0.1659 - val_accuracy: 0.7738\n",
      "Epoch 80/100\n",
      "7143/7143 [==============================] - 0s 44us/step - loss: 0.1634 - accuracy: 0.7890 - val_loss: 0.1649 - val_accuracy: 0.7732\n",
      "Epoch 81/100\n",
      "7143/7143 [==============================] - 0s 45us/step - loss: 0.1624 - accuracy: 0.7899 - val_loss: 0.1639 - val_accuracy: 0.7766\n",
      "Epoch 82/100\n",
      "7143/7143 [==============================] - 0s 55us/step - loss: 0.1613 - accuracy: 0.7904 - val_loss: 0.1629 - val_accuracy: 0.7766\n",
      "Epoch 83/100\n",
      "7143/7143 [==============================] - 0s 56us/step - loss: 0.1603 - accuracy: 0.7914 - val_loss: 0.1619 - val_accuracy: 0.7794\n",
      "Epoch 84/100\n",
      "7143/7143 [==============================] - 0s 48us/step - loss: 0.1593 - accuracy: 0.7928 - val_loss: 0.1610 - val_accuracy: 0.7777\n",
      "Epoch 85/100\n",
      "7143/7143 [==============================] - 0s 44us/step - loss: 0.1584 - accuracy: 0.7927 - val_loss: 0.1601 - val_accuracy: 0.7777\n",
      "Epoch 86/100\n",
      "7143/7143 [==============================] - 0s 47us/step - loss: 0.1574 - accuracy: 0.7941 - val_loss: 0.1593 - val_accuracy: 0.7805\n",
      "Epoch 87/100\n",
      "7143/7143 [==============================] - 0s 44us/step - loss: 0.1566 - accuracy: 0.7962 - val_loss: 0.1584 - val_accuracy: 0.7816\n",
      "Epoch 88/100\n",
      "7143/7143 [==============================] - 0s 44us/step - loss: 0.1557 - accuracy: 0.7964 - val_loss: 0.1576 - val_accuracy: 0.7800\n",
      "Epoch 89/100\n",
      "7143/7143 [==============================] - 0s 44us/step - loss: 0.1549 - accuracy: 0.7983 - val_loss: 0.1568 - val_accuracy: 0.7816\n",
      "Epoch 90/100\n",
      "7143/7143 [==============================] - 0s 44us/step - loss: 0.1541 - accuracy: 0.7981 - val_loss: 0.1561 - val_accuracy: 0.7816\n",
      "Epoch 91/100\n",
      "7143/7143 [==============================] - 0s 44us/step - loss: 0.1533 - accuracy: 0.7997 - val_loss: 0.1554 - val_accuracy: 0.7839\n",
      "Epoch 92/100\n",
      "7143/7143 [==============================] - 0s 44us/step - loss: 0.1525 - accuracy: 0.7995 - val_loss: 0.1547 - val_accuracy: 0.7850\n",
      "Epoch 93/100\n",
      "7143/7143 [==============================] - 0s 44us/step - loss: 0.1518 - accuracy: 0.7999 - val_loss: 0.1540 - val_accuracy: 0.7867\n",
      "Epoch 94/100\n",
      "7143/7143 [==============================] - 0s 43us/step - loss: 0.1511 - accuracy: 0.8004 - val_loss: 0.1533 - val_accuracy: 0.7861\n",
      "Epoch 95/100\n",
      "7143/7143 [==============================] - 0s 44us/step - loss: 0.1505 - accuracy: 0.8011 - val_loss: 0.1527 - val_accuracy: 0.7861\n",
      "Epoch 96/100\n",
      "7143/7143 [==============================] - 0s 43us/step - loss: 0.1498 - accuracy: 0.8019 - val_loss: 0.1521 - val_accuracy: 0.7861\n",
      "Epoch 97/100\n",
      "7143/7143 [==============================] - 0s 44us/step - loss: 0.1492 - accuracy: 0.8020 - val_loss: 0.1515 - val_accuracy: 0.7867\n",
      "Epoch 98/100\n",
      "7143/7143 [==============================] - 0s 45us/step - loss: 0.1486 - accuracy: 0.8033 - val_loss: 0.1509 - val_accuracy: 0.7867\n",
      "Epoch 99/100\n",
      "7143/7143 [==============================] - 0s 45us/step - loss: 0.1481 - accuracy: 0.8032 - val_loss: 0.1504 - val_accuracy: 0.7861\n",
      "Epoch 100/100\n",
      "7143/7143 [==============================] - 0s 44us/step - loss: 0.1475 - accuracy: 0.8041 - val_loss: 0.1499 - val_accuracy: 0.7878\n",
      "Test score: 0.1478947365679017\n",
      "Test accuracy: 0.7962382435798645\n"
     ]
    }
   ],
   "source": [
    "RN.compile(optimizer = 'sgd', loss = 'mean_squared_error', metrics = ['accuracy'])\n",
    "history = RN.fit(X_train_normalized,y_train, epochs = 100, validation_split=0.2) \n",
    "\n",
    "#Testar rede\n",
    "score = RN.evaluate(X_test_normalized, y_test, verbose = 0)\n",
    "print('Test score:', score[0])\n",
    "print('Test accuracy:', score[1])"
   ]
  },
  {
   "cell_type": "code",
   "execution_count": 22,
   "metadata": {
    "ExecuteTime": {
     "end_time": "2022-05-26T13:50:18.011631Z",
     "start_time": "2022-05-26T13:50:16.359431Z"
    },
    "id": "dLzpKeQZCmVZ"
   },
   "outputs": [
    {
     "data": {
      "image/png": "[encoded data removed]",
      "text/plain": [
       "<Figure size 432x288 with 1 Axes>"
      ]
     },
     "metadata": {
      "needs_background": "light"
     },
     "output_type": "display_data"
    }
   ],
   "source": [
    "# Gráfico do treinamento: custo do treino e validação\n",
    "import matplotlib.pyplot as plt\n",
    "plt.plot(history.history['loss'], label='train')\n",
    "plt.plot(history.history['val_loss'], label='validation')\n",
    "plt.title('Loss de treino e validação')\n",
    "plt.ylabel('loss')\n",
    "plt.xlabel('época')\n",
    "plt.legend();"
   ]
  },
  {
   "cell_type": "markdown",
   "metadata": {
    "id": "5v3w3PafA_6T"
   },
   "source": [
    "# Avaliando resultados"
   ]
  },
  {
   "cell_type": "code",
   "execution_count": 23,
   "metadata": {
    "ExecuteTime": {
     "end_time": "2022-05-26T13:50:19.641617Z",
     "start_time": "2022-05-26T13:50:19.579139Z"
    },
    "id": "RT2xlD3hA_6U"
   },
   "outputs": [],
   "source": [
    "# Vamos testar a rede\n",
    "from sklearn.metrics import confusion_matrix\n",
    "y_test_predicted = RN.predict(X_test_normalized)\n",
    "y_test_predicted_indexes = np.argmax(y_test_predicted,axis=1)\n",
    "y_test_indexes = np.argmax(y_test, axis=1)"
   ]
  },
  {
   "cell_type": "code",
   "execution_count": 24,
   "metadata": {
    "ExecuteTime": {
     "end_time": "2022-05-26T13:50:20.353483Z",
     "start_time": "2022-05-26T13:50:20.342604Z"
    },
    "id": "wHNA17snA_6a"
   },
   "outputs": [
    {
     "data": {
      "text/plain": [
       "array([[958, 248],\n",
       "       [207, 820]])"
      ]
     },
     "execution_count": 24,
     "metadata": {},
     "output_type": "execute_result"
    }
   ],
   "source": [
    "#matriz de confusão\n",
    "confMatrix = confusion_matrix(y_test_predicted_indexes, y_test_indexes) \n",
    "confMatrix"
   ]
  },
  {
   "cell_type": "code",
   "execution_count": 25,
   "metadata": {
    "ExecuteTime": {
     "end_time": "2022-05-26T13:50:20.926877Z",
     "start_time": "2022-05-26T13:50:20.911758Z"
    },
    "id": "CNrkXSBu4-of"
   },
   "outputs": [
    {
     "data": {
      "text/html": [
       "<div>\n",
       "<style scoped>\n",
       "    .dataframe tbody tr th:only-of-type {\n",
       "        vertical-align: middle;\n",
       "    }\n",
       "\n",
       "    .dataframe tbody tr th {\n",
       "        vertical-align: top;\n",
       "    }\n",
       "\n",
       "    .dataframe thead th {\n",
       "        text-align: right;\n",
       "    }\n",
       "</style>\n",
       "<table border=\"1\" class=\"dataframe\">\n",
       "  <thead>\n",
       "    <tr style=\"text-align: right;\">\n",
       "      <th></th>\n",
       "      <th>Real No</th>\n",
       "      <th>Real Yes</th>\n",
       "    </tr>\n",
       "  </thead>\n",
       "  <tbody>\n",
       "    <tr>\n",
       "      <th>Pred No</th>\n",
       "      <td>958</td>\n",
       "      <td>248</td>\n",
       "    </tr>\n",
       "    <tr>\n",
       "      <th>Pred Yes</th>\n",
       "      <td>207</td>\n",
       "      <td>820</td>\n",
       "    </tr>\n",
       "  </tbody>\n",
       "</table>\n",
       "</div>"
      ],
      "text/plain": [
       "          Real No  Real Yes\n",
       "Pred No       958       248\n",
       "Pred Yes      207       820"
      ]
     },
     "execution_count": 25,
     "metadata": {},
     "output_type": "execute_result"
    }
   ],
   "source": [
    "# Matriz de confusão\n",
    "confMatrix = confusion_matrix(y_test_predicted_indexes, y_test_indexes)\n",
    "pd.DataFrame(confMatrix, \n",
    "             index=['Pred No', 'Pred Yes'], \n",
    "             columns=['Real No', 'Real Yes'],) #matriz de confusão"
   ]
  },
  {
   "cell_type": "code",
   "execution_count": 26,
   "metadata": {
    "ExecuteTime": {
     "end_time": "2022-05-26T13:50:22.021518Z",
     "start_time": "2022-05-26T13:50:21.510928Z"
    },
    "id": "6rWC1o-D5N22"
   },
   "outputs": [
    {
     "data": {
      "image/png": "[encoded data removed]",
      "text/plain": [
       "<Figure size 432x288 with 2 Axes>"
      ]
     },
     "metadata": {
      "needs_background": "light"
     },
     "output_type": "display_data"
    }
   ],
   "source": [
    "import seaborn as sns\n",
    "ax = plt.subplot()\n",
    "sns.heatmap(confMatrix, annot=True, fmt=\".0f\", cmap=plt.cm.Blues)\n",
    "plt.xlabel('Real')\n",
    "plt.ylabel('Previsto')\n",
    "plt.title('Matriz de Confusão')\n",
    "\n",
    "# Colocar os nomes\n",
    "ax.xaxis.set_ticklabels(['No', 'Yes']) \n",
    "ax.yaxis.set_ticklabels(['No', 'Yes'])\n",
    "plt.show()"
   ]
  },
  {
   "cell_type": "code",
   "execution_count": null,
   "metadata": {
    "id": "f-vrXdl35hbA"
   },
   "outputs": [],
   "source": []
  }
 ],
 "metadata": {
  "colab": {
   "collapsed_sections": [],
   "name": "Aula02_RN_Bank.ipynb",
   "provenance": []
  },
  "kernelspec": {
   "display_name": "Python 3 (ipykernel)",
   "language": "python",
   "name": "python3"
  },
  "language_info": {
   "codemirror_mode": {
    "name": "ipython",
    "version": 3
   },
   "file_extension": ".py",
   "mimetype": "text/x-python",
   "name": "python",
   "nbconvert_exporter": "python",
   "pygments_lexer": "ipython3",
   "version": "3.7.12"
  }
 },
 "nbformat": 4,
 "nbformat_minor": 1
}
