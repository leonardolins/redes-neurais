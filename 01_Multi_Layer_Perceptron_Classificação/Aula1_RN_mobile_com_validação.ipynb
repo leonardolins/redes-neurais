{
 "cells": [
  {
   "cell_type": "markdown",
   "metadata": {
    "id": "DdqJg1YKmjXC"
   },
   "source": [
    "# Classificação de celulares"
   ]
  },
  {
   "cell_type": "markdown",
   "metadata": {
    "id": "ESwS4GPDmzhy"
   },
   "source": [
    "### Importacao de bibliotecas"
   ]
  },
  {
   "cell_type": "code",
   "execution_count": 1,
   "metadata": {
    "ExecuteTime": {
     "end_time": "2022-05-26T12:31:03.114324Z",
     "start_time": "2022-05-26T12:31:02.593755Z"
    },
    "id": "keXOY9uF5FbU"
   },
   "outputs": [],
   "source": [
    "import numpy as np\n",
    "import pandas as pd"
   ]
  },
  {
   "cell_type": "code",
   "execution_count": 5,
   "metadata": {
    "ExecuteTime": {
     "end_time": "2022-05-26T12:31:45.335420Z",
     "start_time": "2022-05-26T12:31:45.281254Z"
    },
    "id": "s2HHPi4qpWOJ"
   },
   "outputs": [
    {
     "data": {
      "text/html": [
       "<div>\n",
       "<style scoped>\n",
       "    .dataframe tbody tr th:only-of-type {\n",
       "        vertical-align: middle;\n",
       "    }\n",
       "\n",
       "    .dataframe tbody tr th {\n",
       "        vertical-align: top;\n",
       "    }\n",
       "\n",
       "    .dataframe thead th {\n",
       "        text-align: right;\n",
       "    }\n",
       "</style>\n",
       "<table border=\"1\" class=\"dataframe\">\n",
       "  <thead>\n",
       "    <tr style=\"text-align: right;\">\n",
       "      <th></th>\n",
       "      <th>battery_power</th>\n",
       "      <th>blue</th>\n",
       "      <th>clock_speed</th>\n",
       "      <th>dual_sim</th>\n",
       "      <th>fc</th>\n",
       "      <th>four_g</th>\n",
       "      <th>int_memory</th>\n",
       "      <th>m_dep</th>\n",
       "      <th>mobile_wt</th>\n",
       "      <th>n_cores</th>\n",
       "      <th>...</th>\n",
       "      <th>px_height</th>\n",
       "      <th>px_width</th>\n",
       "      <th>ram</th>\n",
       "      <th>sc_h</th>\n",
       "      <th>sc_w</th>\n",
       "      <th>talk_time</th>\n",
       "      <th>three_g</th>\n",
       "      <th>touch_screen</th>\n",
       "      <th>wifi</th>\n",
       "      <th>price_range</th>\n",
       "    </tr>\n",
       "  </thead>\n",
       "  <tbody>\n",
       "    <tr>\n",
       "      <th>0</th>\n",
       "      <td>842</td>\n",
       "      <td>0</td>\n",
       "      <td>2.2</td>\n",
       "      <td>0</td>\n",
       "      <td>1</td>\n",
       "      <td>0</td>\n",
       "      <td>7</td>\n",
       "      <td>0.6</td>\n",
       "      <td>188</td>\n",
       "      <td>2</td>\n",
       "      <td>...</td>\n",
       "      <td>20</td>\n",
       "      <td>756</td>\n",
       "      <td>2549</td>\n",
       "      <td>9</td>\n",
       "      <td>7</td>\n",
       "      <td>19</td>\n",
       "      <td>0</td>\n",
       "      <td>0</td>\n",
       "      <td>1</td>\n",
       "      <td>1</td>\n",
       "    </tr>\n",
       "    <tr>\n",
       "      <th>1</th>\n",
       "      <td>1021</td>\n",
       "      <td>1</td>\n",
       "      <td>0.5</td>\n",
       "      <td>1</td>\n",
       "      <td>0</td>\n",
       "      <td>1</td>\n",
       "      <td>53</td>\n",
       "      <td>0.7</td>\n",
       "      <td>136</td>\n",
       "      <td>3</td>\n",
       "      <td>...</td>\n",
       "      <td>905</td>\n",
       "      <td>1988</td>\n",
       "      <td>2631</td>\n",
       "      <td>17</td>\n",
       "      <td>3</td>\n",
       "      <td>7</td>\n",
       "      <td>1</td>\n",
       "      <td>1</td>\n",
       "      <td>0</td>\n",
       "      <td>2</td>\n",
       "    </tr>\n",
       "    <tr>\n",
       "      <th>2</th>\n",
       "      <td>563</td>\n",
       "      <td>1</td>\n",
       "      <td>0.5</td>\n",
       "      <td>1</td>\n",
       "      <td>2</td>\n",
       "      <td>1</td>\n",
       "      <td>41</td>\n",
       "      <td>0.9</td>\n",
       "      <td>145</td>\n",
       "      <td>5</td>\n",
       "      <td>...</td>\n",
       "      <td>1263</td>\n",
       "      <td>1716</td>\n",
       "      <td>2603</td>\n",
       "      <td>11</td>\n",
       "      <td>2</td>\n",
       "      <td>9</td>\n",
       "      <td>1</td>\n",
       "      <td>1</td>\n",
       "      <td>0</td>\n",
       "      <td>2</td>\n",
       "    </tr>\n",
       "    <tr>\n",
       "      <th>3</th>\n",
       "      <td>615</td>\n",
       "      <td>1</td>\n",
       "      <td>2.5</td>\n",
       "      <td>0</td>\n",
       "      <td>0</td>\n",
       "      <td>0</td>\n",
       "      <td>10</td>\n",
       "      <td>0.8</td>\n",
       "      <td>131</td>\n",
       "      <td>6</td>\n",
       "      <td>...</td>\n",
       "      <td>1216</td>\n",
       "      <td>1786</td>\n",
       "      <td>2769</td>\n",
       "      <td>16</td>\n",
       "      <td>8</td>\n",
       "      <td>11</td>\n",
       "      <td>1</td>\n",
       "      <td>0</td>\n",
       "      <td>0</td>\n",
       "      <td>2</td>\n",
       "    </tr>\n",
       "    <tr>\n",
       "      <th>4</th>\n",
       "      <td>1821</td>\n",
       "      <td>1</td>\n",
       "      <td>1.2</td>\n",
       "      <td>0</td>\n",
       "      <td>13</td>\n",
       "      <td>1</td>\n",
       "      <td>44</td>\n",
       "      <td>0.6</td>\n",
       "      <td>141</td>\n",
       "      <td>2</td>\n",
       "      <td>...</td>\n",
       "      <td>1208</td>\n",
       "      <td>1212</td>\n",
       "      <td>1411</td>\n",
       "      <td>8</td>\n",
       "      <td>2</td>\n",
       "      <td>15</td>\n",
       "      <td>1</td>\n",
       "      <td>1</td>\n",
       "      <td>0</td>\n",
       "      <td>1</td>\n",
       "    </tr>\n",
       "  </tbody>\n",
       "</table>\n",
       "<p>5 rows × 21 columns</p>\n",
       "</div>"
      ],
      "text/plain": [
       "   battery_power  blue  clock_speed  dual_sim  fc  four_g  int_memory  m_dep  \\\n",
       "0            842     0          2.2         0   1       0           7    0.6   \n",
       "1           1021     1          0.5         1   0       1          53    0.7   \n",
       "2            563     1          0.5         1   2       1          41    0.9   \n",
       "3            615     1          2.5         0   0       0          10    0.8   \n",
       "4           1821     1          1.2         0  13       1          44    0.6   \n",
       "\n",
       "   mobile_wt  n_cores  ...  px_height  px_width   ram  sc_h  sc_w  talk_time  \\\n",
       "0        188        2  ...         20       756  2549     9     7         19   \n",
       "1        136        3  ...        905      1988  2631    17     3          7   \n",
       "2        145        5  ...       1263      1716  2603    11     2          9   \n",
       "3        131        6  ...       1216      1786  2769    16     8         11   \n",
       "4        141        2  ...       1208      1212  1411     8     2         15   \n",
       "\n",
       "   three_g  touch_screen  wifi  price_range  \n",
       "0        0             0     1            1  \n",
       "1        1             1     0            2  \n",
       "2        1             1     0            2  \n",
       "3        1             0     0            2  \n",
       "4        1             1     0            1  \n",
       "\n",
       "[5 rows x 21 columns]"
      ]
     },
     "execution_count": 5,
     "metadata": {},
     "output_type": "execute_result"
    }
   ],
   "source": [
    "#Carregar a base e visualizar primeiras linhas\n",
    "df1 = pd.read_csv('../mobile.csv')\n",
    "df1.head()"
   ]
  },
  {
   "cell_type": "code",
   "execution_count": 6,
   "metadata": {
    "ExecuteTime": {
     "end_time": "2022-05-26T12:31:48.816400Z",
     "start_time": "2022-05-26T12:31:48.805074Z"
    },
    "id": "z_DLuMQreZpC"
   },
   "outputs": [
    {
     "data": {
      "text/plain": [
       "1    500\n",
       "2    500\n",
       "3    500\n",
       "0    500\n",
       "Name: price_range, dtype: int64"
      ]
     },
     "execution_count": 6,
     "metadata": {},
     "output_type": "execute_result"
    }
   ],
   "source": [
    "# balanceamento da base\n",
    "df1.price_range.value_counts()"
   ]
  },
  {
   "cell_type": "code",
   "execution_count": 7,
   "metadata": {
    "ExecuteTime": {
     "end_time": "2022-05-26T12:31:49.301222Z",
     "start_time": "2022-05-26T12:31:49.294078Z"
    },
    "id": "SEjjJD0NMojn"
   },
   "outputs": [
    {
     "data": {
      "text/plain": [
       "(2000, 21)"
      ]
     },
     "execution_count": 7,
     "metadata": {},
     "output_type": "execute_result"
    }
   ],
   "source": [
    "#vdimnesões da base\n",
    "df1.shape"
   ]
  },
  {
   "cell_type": "markdown",
   "metadata": {
    "id": "MbmhtkuUtklE"
   },
   "source": [
    "### Indicar a semente inicial e para divisão da base em treino e teste"
   ]
  },
  {
   "cell_type": "code",
   "execution_count": 8,
   "metadata": {
    "ExecuteTime": {
     "end_time": "2022-05-26T12:31:50.643214Z",
     "start_time": "2022-05-26T12:31:50.638265Z"
    },
    "id": "NQRJeOzItu5b"
   },
   "outputs": [],
   "source": [
    "np.random.seed(0) # semente inicial\n",
    "nlinhas = df1.shape[0]"
   ]
  },
  {
   "cell_type": "code",
   "execution_count": 9,
   "metadata": {
    "ExecuteTime": {
     "end_time": "2022-05-26T12:31:52.164434Z",
     "start_time": "2022-05-26T12:31:51.534064Z"
    },
    "id": "ytXEwoJ_EW5D"
   },
   "outputs": [],
   "source": [
    "from sklearn.model_selection import train_test_split\n",
    "x_train, x_test, y_train, y_test = train_test_split(df1.loc[:, df1.columns != 'price_range'], \n",
    "                                                    df1.price_range, \n",
    "                                                    test_size=0.3, \n",
    "                                                    stratify=df1.price_range)"
   ]
  },
  {
   "cell_type": "code",
   "execution_count": 10,
   "metadata": {
    "ExecuteTime": {
     "end_time": "2022-05-26T12:31:52.176560Z",
     "start_time": "2022-05-26T12:31:52.168514Z"
    },
    "id": "xgWsOpKuhqkb"
   },
   "outputs": [
    {
     "data": {
      "text/plain": [
       "600.0"
      ]
     },
     "execution_count": 10,
     "metadata": {},
     "output_type": "execute_result"
    }
   ],
   "source": [
    "# total do teste\n",
    "0.3*2000"
   ]
  },
  {
   "cell_type": "code",
   "execution_count": 11,
   "metadata": {
    "ExecuteTime": {
     "end_time": "2022-05-26T12:31:53.036356Z",
     "start_time": "2022-05-26T12:31:53.029330Z"
    },
    "id": "YxjvRIwNgzsb"
   },
   "outputs": [
    {
     "data": {
      "text/plain": [
       "150.0"
      ]
     },
     "execution_count": 11,
     "metadata": {},
     "output_type": "execute_result"
    }
   ],
   "source": [
    "# proporção por classe\n",
    "0.3*500"
   ]
  },
  {
   "cell_type": "code",
   "execution_count": 12,
   "metadata": {
    "ExecuteTime": {
     "end_time": "2022-05-26T12:31:53.612509Z",
     "start_time": "2022-05-26T12:31:53.605886Z"
    },
    "id": "OIVGeFSxg3Ek"
   },
   "outputs": [
    {
     "name": "stdout",
     "output_type": "stream",
     "text": [
      "2    150\n",
      "0    150\n",
      "1    150\n",
      "3    150\n",
      "Name: price_range, dtype: int64\n"
     ]
    }
   ],
   "source": [
    "# Manter proporções das classes\n",
    "print(y_test.value_counts())"
   ]
  },
  {
   "cell_type": "code",
   "execution_count": 13,
   "metadata": {
    "ExecuteTime": {
     "end_time": "2022-05-26T12:31:54.043860Z",
     "start_time": "2022-05-26T12:31:54.036742Z"
    },
    "id": "U27gOyzTh3NF"
   },
   "outputs": [
    {
     "data": {
      "text/plain": [
       "(600,)"
      ]
     },
     "execution_count": 13,
     "metadata": {},
     "output_type": "execute_result"
    }
   ],
   "source": [
    "y_test.shape"
   ]
  },
  {
   "cell_type": "code",
   "execution_count": 14,
   "metadata": {
    "ExecuteTime": {
     "end_time": "2022-05-26T12:31:54.597662Z",
     "start_time": "2022-05-26T12:31:54.499827Z"
    },
    "id": "4iZMOC_etTqN"
   },
   "outputs": [
    {
     "data": {
      "text/html": [
       "<div>\n",
       "<style scoped>\n",
       "    .dataframe tbody tr th:only-of-type {\n",
       "        vertical-align: middle;\n",
       "    }\n",
       "\n",
       "    .dataframe tbody tr th {\n",
       "        vertical-align: top;\n",
       "    }\n",
       "\n",
       "    .dataframe thead th {\n",
       "        text-align: right;\n",
       "    }\n",
       "</style>\n",
       "<table border=\"1\" class=\"dataframe\">\n",
       "  <thead>\n",
       "    <tr style=\"text-align: right;\">\n",
       "      <th></th>\n",
       "      <th>battery_power</th>\n",
       "      <th>blue</th>\n",
       "      <th>clock_speed</th>\n",
       "      <th>dual_sim</th>\n",
       "      <th>fc</th>\n",
       "      <th>four_g</th>\n",
       "      <th>int_memory</th>\n",
       "      <th>m_dep</th>\n",
       "      <th>mobile_wt</th>\n",
       "      <th>n_cores</th>\n",
       "      <th>pc</th>\n",
       "      <th>px_height</th>\n",
       "      <th>px_width</th>\n",
       "      <th>ram</th>\n",
       "      <th>sc_h</th>\n",
       "      <th>sc_w</th>\n",
       "      <th>talk_time</th>\n",
       "      <th>three_g</th>\n",
       "      <th>touch_screen</th>\n",
       "      <th>wifi</th>\n",
       "    </tr>\n",
       "  </thead>\n",
       "  <tbody>\n",
       "    <tr>\n",
       "      <th>count</th>\n",
       "      <td>1400.000000</td>\n",
       "      <td>1400.000000</td>\n",
       "      <td>1400.000000</td>\n",
       "      <td>1400.000000</td>\n",
       "      <td>1400.000000</td>\n",
       "      <td>1400.000000</td>\n",
       "      <td>1400.000000</td>\n",
       "      <td>1400.000000</td>\n",
       "      <td>1400.000000</td>\n",
       "      <td>1400.000000</td>\n",
       "      <td>1400.000000</td>\n",
       "      <td>1400.000000</td>\n",
       "      <td>1400.000000</td>\n",
       "      <td>1400.000000</td>\n",
       "      <td>1400.000000</td>\n",
       "      <td>1400.000000</td>\n",
       "      <td>1400.000000</td>\n",
       "      <td>1400.000000</td>\n",
       "      <td>1400.000000</td>\n",
       "      <td>1400.000000</td>\n",
       "    </tr>\n",
       "    <tr>\n",
       "      <th>mean</th>\n",
       "      <td>1239.501429</td>\n",
       "      <td>0.490714</td>\n",
       "      <td>1.501571</td>\n",
       "      <td>0.517857</td>\n",
       "      <td>4.294286</td>\n",
       "      <td>0.509286</td>\n",
       "      <td>32.123571</td>\n",
       "      <td>0.500786</td>\n",
       "      <td>139.869286</td>\n",
       "      <td>4.540714</td>\n",
       "      <td>9.881429</td>\n",
       "      <td>650.657143</td>\n",
       "      <td>1251.384286</td>\n",
       "      <td>2130.767857</td>\n",
       "      <td>12.383571</td>\n",
       "      <td>5.885000</td>\n",
       "      <td>10.884286</td>\n",
       "      <td>0.750000</td>\n",
       "      <td>0.507857</td>\n",
       "      <td>0.505714</td>\n",
       "    </tr>\n",
       "    <tr>\n",
       "      <th>std</th>\n",
       "      <td>437.142296</td>\n",
       "      <td>0.500092</td>\n",
       "      <td>0.808964</td>\n",
       "      <td>0.499860</td>\n",
       "      <td>4.375410</td>\n",
       "      <td>0.500092</td>\n",
       "      <td>18.008370</td>\n",
       "      <td>0.286919</td>\n",
       "      <td>35.534931</td>\n",
       "      <td>2.305427</td>\n",
       "      <td>5.971239</td>\n",
       "      <td>446.334581</td>\n",
       "      <td>433.670599</td>\n",
       "      <td>1086.180824</td>\n",
       "      <td>4.242390</td>\n",
       "      <td>4.370157</td>\n",
       "      <td>5.462803</td>\n",
       "      <td>0.433167</td>\n",
       "      <td>0.500117</td>\n",
       "      <td>0.500146</td>\n",
       "    </tr>\n",
       "    <tr>\n",
       "      <th>min</th>\n",
       "      <td>501.000000</td>\n",
       "      <td>0.000000</td>\n",
       "      <td>0.500000</td>\n",
       "      <td>0.000000</td>\n",
       "      <td>0.000000</td>\n",
       "      <td>0.000000</td>\n",
       "      <td>2.000000</td>\n",
       "      <td>0.100000</td>\n",
       "      <td>80.000000</td>\n",
       "      <td>1.000000</td>\n",
       "      <td>0.000000</td>\n",
       "      <td>0.000000</td>\n",
       "      <td>500.000000</td>\n",
       "      <td>258.000000</td>\n",
       "      <td>5.000000</td>\n",
       "      <td>0.000000</td>\n",
       "      <td>2.000000</td>\n",
       "      <td>0.000000</td>\n",
       "      <td>0.000000</td>\n",
       "      <td>0.000000</td>\n",
       "    </tr>\n",
       "    <tr>\n",
       "      <th>25%</th>\n",
       "      <td>854.750000</td>\n",
       "      <td>0.000000</td>\n",
       "      <td>0.700000</td>\n",
       "      <td>0.000000</td>\n",
       "      <td>1.000000</td>\n",
       "      <td>0.000000</td>\n",
       "      <td>16.000000</td>\n",
       "      <td>0.200000</td>\n",
       "      <td>109.000000</td>\n",
       "      <td>3.000000</td>\n",
       "      <td>5.000000</td>\n",
       "      <td>285.750000</td>\n",
       "      <td>873.000000</td>\n",
       "      <td>1204.000000</td>\n",
       "      <td>9.000000</td>\n",
       "      <td>2.000000</td>\n",
       "      <td>6.000000</td>\n",
       "      <td>0.750000</td>\n",
       "      <td>0.000000</td>\n",
       "      <td>0.000000</td>\n",
       "    </tr>\n",
       "    <tr>\n",
       "      <th>50%</th>\n",
       "      <td>1226.000000</td>\n",
       "      <td>0.000000</td>\n",
       "      <td>1.500000</td>\n",
       "      <td>1.000000</td>\n",
       "      <td>3.000000</td>\n",
       "      <td>1.000000</td>\n",
       "      <td>32.000000</td>\n",
       "      <td>0.500000</td>\n",
       "      <td>140.500000</td>\n",
       "      <td>4.000000</td>\n",
       "      <td>10.000000</td>\n",
       "      <td>573.500000</td>\n",
       "      <td>1255.500000</td>\n",
       "      <td>2178.500000</td>\n",
       "      <td>12.000000</td>\n",
       "      <td>5.000000</td>\n",
       "      <td>11.000000</td>\n",
       "      <td>1.000000</td>\n",
       "      <td>1.000000</td>\n",
       "      <td>1.000000</td>\n",
       "    </tr>\n",
       "    <tr>\n",
       "      <th>75%</th>\n",
       "      <td>1614.250000</td>\n",
       "      <td>1.000000</td>\n",
       "      <td>2.200000</td>\n",
       "      <td>1.000000</td>\n",
       "      <td>7.000000</td>\n",
       "      <td>1.000000</td>\n",
       "      <td>47.000000</td>\n",
       "      <td>0.700000</td>\n",
       "      <td>170.000000</td>\n",
       "      <td>7.000000</td>\n",
       "      <td>15.000000</td>\n",
       "      <td>951.000000</td>\n",
       "      <td>1626.250000</td>\n",
       "      <td>3066.500000</td>\n",
       "      <td>16.000000</td>\n",
       "      <td>9.000000</td>\n",
       "      <td>16.000000</td>\n",
       "      <td>1.000000</td>\n",
       "      <td>1.000000</td>\n",
       "      <td>1.000000</td>\n",
       "    </tr>\n",
       "    <tr>\n",
       "      <th>max</th>\n",
       "      <td>1998.000000</td>\n",
       "      <td>1.000000</td>\n",
       "      <td>3.000000</td>\n",
       "      <td>1.000000</td>\n",
       "      <td>19.000000</td>\n",
       "      <td>1.000000</td>\n",
       "      <td>64.000000</td>\n",
       "      <td>1.000000</td>\n",
       "      <td>200.000000</td>\n",
       "      <td>8.000000</td>\n",
       "      <td>20.000000</td>\n",
       "      <td>1920.000000</td>\n",
       "      <td>1995.000000</td>\n",
       "      <td>3998.000000</td>\n",
       "      <td>19.000000</td>\n",
       "      <td>18.000000</td>\n",
       "      <td>20.000000</td>\n",
       "      <td>1.000000</td>\n",
       "      <td>1.000000</td>\n",
       "      <td>1.000000</td>\n",
       "    </tr>\n",
       "  </tbody>\n",
       "</table>\n",
       "</div>"
      ],
      "text/plain": [
       "       battery_power         blue  clock_speed     dual_sim           fc  \\\n",
       "count    1400.000000  1400.000000  1400.000000  1400.000000  1400.000000   \n",
       "mean     1239.501429     0.490714     1.501571     0.517857     4.294286   \n",
       "std       437.142296     0.500092     0.808964     0.499860     4.375410   \n",
       "min       501.000000     0.000000     0.500000     0.000000     0.000000   \n",
       "25%       854.750000     0.000000     0.700000     0.000000     1.000000   \n",
       "50%      1226.000000     0.000000     1.500000     1.000000     3.000000   \n",
       "75%      1614.250000     1.000000     2.200000     1.000000     7.000000   \n",
       "max      1998.000000     1.000000     3.000000     1.000000    19.000000   \n",
       "\n",
       "            four_g   int_memory        m_dep    mobile_wt      n_cores  \\\n",
       "count  1400.000000  1400.000000  1400.000000  1400.000000  1400.000000   \n",
       "mean      0.509286    32.123571     0.500786   139.869286     4.540714   \n",
       "std       0.500092    18.008370     0.286919    35.534931     2.305427   \n",
       "min       0.000000     2.000000     0.100000    80.000000     1.000000   \n",
       "25%       0.000000    16.000000     0.200000   109.000000     3.000000   \n",
       "50%       1.000000    32.000000     0.500000   140.500000     4.000000   \n",
       "75%       1.000000    47.000000     0.700000   170.000000     7.000000   \n",
       "max       1.000000    64.000000     1.000000   200.000000     8.000000   \n",
       "\n",
       "                pc    px_height     px_width          ram         sc_h  \\\n",
       "count  1400.000000  1400.000000  1400.000000  1400.000000  1400.000000   \n",
       "mean      9.881429   650.657143  1251.384286  2130.767857    12.383571   \n",
       "std       5.971239   446.334581   433.670599  1086.180824     4.242390   \n",
       "min       0.000000     0.000000   500.000000   258.000000     5.000000   \n",
       "25%       5.000000   285.750000   873.000000  1204.000000     9.000000   \n",
       "50%      10.000000   573.500000  1255.500000  2178.500000    12.000000   \n",
       "75%      15.000000   951.000000  1626.250000  3066.500000    16.000000   \n",
       "max      20.000000  1920.000000  1995.000000  3998.000000    19.000000   \n",
       "\n",
       "              sc_w    talk_time      three_g  touch_screen         wifi  \n",
       "count  1400.000000  1400.000000  1400.000000   1400.000000  1400.000000  \n",
       "mean      5.885000    10.884286     0.750000      0.507857     0.505714  \n",
       "std       4.370157     5.462803     0.433167      0.500117     0.500146  \n",
       "min       0.000000     2.000000     0.000000      0.000000     0.000000  \n",
       "25%       2.000000     6.000000     0.750000      0.000000     0.000000  \n",
       "50%       5.000000    11.000000     1.000000      1.000000     1.000000  \n",
       "75%       9.000000    16.000000     1.000000      1.000000     1.000000  \n",
       "max      18.000000    20.000000     1.000000      1.000000     1.000000  "
      ]
     },
     "execution_count": 14,
     "metadata": {},
     "output_type": "execute_result"
    }
   ],
   "source": [
    "# alguns dados estatisticos por atributo\n",
    "x_train.describe()"
   ]
  },
  {
   "cell_type": "markdown",
   "metadata": {
    "id": "uqbR9OgKg_nG"
   },
   "source": [
    "## **Normalizando os Dados**"
   ]
  },
  {
   "cell_type": "code",
   "execution_count": 15,
   "metadata": {
    "ExecuteTime": {
     "end_time": "2022-05-26T12:31:58.045829Z",
     "start_time": "2022-05-26T12:31:58.029725Z"
    },
    "id": "gR7nT_CDhC-x"
   },
   "outputs": [],
   "source": [
    "from sklearn.preprocessing import StandardScaler\n",
    "preprocessParams = StandardScaler().fit(x_train)\n",
    "X_train_normalized = preprocessParams.transform(x_train)\n",
    "X_test_normalized = preprocessParams.transform(x_test)"
   ]
  },
  {
   "cell_type": "markdown",
   "metadata": {
    "id": "ShoO1BwrYDYp"
   },
   "source": [
    "# Rede Neural"
   ]
  },
  {
   "cell_type": "code",
   "execution_count": 16,
   "metadata": {
    "ExecuteTime": {
     "end_time": "2022-05-26T12:32:19.166349Z",
     "start_time": "2022-05-26T12:32:17.495407Z"
    },
    "id": "hgX9AMhS2iFy"
   },
   "outputs": [
    {
     "name": "stderr",
     "output_type": "stream",
     "text": [
      "Using TensorFlow backend.\n",
      "/opt/anaconda3/envs/tensorflow/lib/python3.7/site-packages/tensorflow/python/framework/dtypes.py:516: FutureWarning: Passing (type, 1) or '1type' as a synonym of type is deprecated; in a future version of numpy, it will be understood as (type, (1,)) / '(1,)type'.\n",
      "  _np_qint8 = np.dtype([(\"qint8\", np.int8, 1)])\n",
      "/opt/anaconda3/envs/tensorflow/lib/python3.7/site-packages/tensorflow/python/framework/dtypes.py:517: FutureWarning: Passing (type, 1) or '1type' as a synonym of type is deprecated; in a future version of numpy, it will be understood as (type, (1,)) / '(1,)type'.\n",
      "  _np_quint8 = np.dtype([(\"quint8\", np.uint8, 1)])\n",
      "/opt/anaconda3/envs/tensorflow/lib/python3.7/site-packages/tensorflow/python/framework/dtypes.py:518: FutureWarning: Passing (type, 1) or '1type' as a synonym of type is deprecated; in a future version of numpy, it will be understood as (type, (1,)) / '(1,)type'.\n",
      "  _np_qint16 = np.dtype([(\"qint16\", np.int16, 1)])\n",
      "/opt/anaconda3/envs/tensorflow/lib/python3.7/site-packages/tensorflow/python/framework/dtypes.py:519: FutureWarning: Passing (type, 1) or '1type' as a synonym of type is deprecated; in a future version of numpy, it will be understood as (type, (1,)) / '(1,)type'.\n",
      "  _np_quint16 = np.dtype([(\"quint16\", np.uint16, 1)])\n",
      "/opt/anaconda3/envs/tensorflow/lib/python3.7/site-packages/tensorflow/python/framework/dtypes.py:520: FutureWarning: Passing (type, 1) or '1type' as a synonym of type is deprecated; in a future version of numpy, it will be understood as (type, (1,)) / '(1,)type'.\n",
      "  _np_qint32 = np.dtype([(\"qint32\", np.int32, 1)])\n",
      "/opt/anaconda3/envs/tensorflow/lib/python3.7/site-packages/tensorflow/python/framework/dtypes.py:525: FutureWarning: Passing (type, 1) or '1type' as a synonym of type is deprecated; in a future version of numpy, it will be understood as (type, (1,)) / '(1,)type'.\n",
      "  np_resource = np.dtype([(\"resource\", np.ubyte, 1)])\n",
      "/opt/anaconda3/envs/tensorflow/lib/python3.7/site-packages/tensorboard/compat/tensorflow_stub/dtypes.py:541: FutureWarning: Passing (type, 1) or '1type' as a synonym of type is deprecated; in a future version of numpy, it will be understood as (type, (1,)) / '(1,)type'.\n",
      "  _np_qint8 = np.dtype([(\"qint8\", np.int8, 1)])\n",
      "/opt/anaconda3/envs/tensorflow/lib/python3.7/site-packages/tensorboard/compat/tensorflow_stub/dtypes.py:542: FutureWarning: Passing (type, 1) or '1type' as a synonym of type is deprecated; in a future version of numpy, it will be understood as (type, (1,)) / '(1,)type'.\n",
      "  _np_quint8 = np.dtype([(\"quint8\", np.uint8, 1)])\n",
      "/opt/anaconda3/envs/tensorflow/lib/python3.7/site-packages/tensorboard/compat/tensorflow_stub/dtypes.py:543: FutureWarning: Passing (type, 1) or '1type' as a synonym of type is deprecated; in a future version of numpy, it will be understood as (type, (1,)) / '(1,)type'.\n",
      "  _np_qint16 = np.dtype([(\"qint16\", np.int16, 1)])\n",
      "/opt/anaconda3/envs/tensorflow/lib/python3.7/site-packages/tensorboard/compat/tensorflow_stub/dtypes.py:544: FutureWarning: Passing (type, 1) or '1type' as a synonym of type is deprecated; in a future version of numpy, it will be understood as (type, (1,)) / '(1,)type'.\n",
      "  _np_quint16 = np.dtype([(\"quint16\", np.uint16, 1)])\n",
      "/opt/anaconda3/envs/tensorflow/lib/python3.7/site-packages/tensorboard/compat/tensorflow_stub/dtypes.py:545: FutureWarning: Passing (type, 1) or '1type' as a synonym of type is deprecated; in a future version of numpy, it will be understood as (type, (1,)) / '(1,)type'.\n",
      "  _np_qint32 = np.dtype([(\"qint32\", np.int32, 1)])\n",
      "/opt/anaconda3/envs/tensorflow/lib/python3.7/site-packages/tensorboard/compat/tensorflow_stub/dtypes.py:550: FutureWarning: Passing (type, 1) or '1type' as a synonym of type is deprecated; in a future version of numpy, it will be understood as (type, (1,)) / '(1,)type'.\n",
      "  np_resource = np.dtype([(\"resource\", np.ubyte, 1)])\n"
     ]
    }
   ],
   "source": [
    "from keras import Sequential\n",
    "from keras.layers import Dense\n",
    "#from tensorflow.keras.optimizers import SGD\n",
    "from keras.optimizers import SGD"
   ]
  },
  {
   "cell_type": "code",
   "execution_count": 17,
   "metadata": {
    "ExecuteTime": {
     "end_time": "2022-05-26T12:32:44.555711Z",
     "start_time": "2022-05-26T12:32:44.548397Z"
    },
    "id": "NWXnTlz03okl"
   },
   "outputs": [
    {
     "data": {
      "text/plain": [
       "4"
      ]
     },
     "execution_count": 17,
     "metadata": {},
     "output_type": "execute_result"
    }
   ],
   "source": [
    "NumberOfClasses = len(y_train.unique())\n",
    "NumberOfClasses"
   ]
  },
  {
   "cell_type": "code",
   "execution_count": 18,
   "metadata": {
    "ExecuteTime": {
     "end_time": "2022-05-26T12:32:46.229317Z",
     "start_time": "2022-05-26T12:32:46.147436Z"
    },
    "id": "QyKc1qZWu9pM"
   },
   "outputs": [
    {
     "name": "stdout",
     "output_type": "stream",
     "text": [
      "Model: \"sequential_1\"\n",
      "_________________________________________________________________\n",
      "Layer (type)                 Output Shape              Param #   \n",
      "=================================================================\n",
      "dense_1 (Dense)              (None, 20)                420       \n",
      "_________________________________________________________________\n",
      "dense_2 (Dense)              (None, 4)                 84        \n",
      "=================================================================\n",
      "Total params: 504\n",
      "Trainable params: 504\n",
      "Non-trainable params: 0\n",
      "_________________________________________________________________\n"
     ]
    }
   ],
   "source": [
    "RN = Sequential()\n",
    "RN.add(Dense(20, input_shape=X_train_normalized.shape[1:], activation='sigmoid'))\n",
    "RN.add(Dense(NumberOfClasses, activation='sigmoid'))\n",
    "RN.summary()"
   ]
  },
  {
   "cell_type": "code",
   "execution_count": 19,
   "metadata": {
    "ExecuteTime": {
     "end_time": "2022-05-26T12:32:56.526844Z",
     "start_time": "2022-05-26T12:32:47.466898Z"
    },
    "id": "X3gFJdaa3Uqe"
   },
   "outputs": [
    {
     "name": "stdout",
     "output_type": "stream",
     "text": [
      "WARNING:tensorflow:From /opt/anaconda3/envs/tensorflow/lib/python3.7/site-packages/keras/backend/tensorflow_backend.py:422: The name tf.global_variables is deprecated. Please use tf.compat.v1.global_variables instead.\n",
      "\n",
      "Train on 1120 samples, validate on 280 samples\n",
      "Epoch 1/150\n",
      "1120/1120 [==============================] - 0s 157us/step - loss: 0.1979 - accuracy: 0.3482 - val_loss: 0.1838 - val_accuracy: 0.3214\n",
      "Epoch 2/150\n",
      "1120/1120 [==============================] - 0s 51us/step - loss: 0.1744 - accuracy: 0.4393 - val_loss: 0.1700 - val_accuracy: 0.4464\n",
      "Epoch 3/150\n",
      "1120/1120 [==============================] - 0s 46us/step - loss: 0.1618 - accuracy: 0.5277 - val_loss: 0.1565 - val_accuracy: 0.5179\n",
      "Epoch 4/150\n",
      "1120/1120 [==============================] - 0s 46us/step - loss: 0.1496 - accuracy: 0.5491 - val_loss: 0.1442 - val_accuracy: 0.5571\n",
      "Epoch 5/150\n",
      "1120/1120 [==============================] - 0s 49us/step - loss: 0.1388 - accuracy: 0.5473 - val_loss: 0.1342 - val_accuracy: 0.6107\n",
      "Epoch 6/150\n",
      "1120/1120 [==============================] - 0s 47us/step - loss: 0.1307 - accuracy: 0.6018 - val_loss: 0.1271 - val_accuracy: 0.6357\n",
      "Epoch 7/150\n",
      "1120/1120 [==============================] - 0s 46us/step - loss: 0.1251 - accuracy: 0.6286 - val_loss: 0.1219 - val_accuracy: 0.6643\n",
      "Epoch 8/150\n",
      "1120/1120 [==============================] - 0s 49us/step - loss: 0.1206 - accuracy: 0.6670 - val_loss: 0.1182 - val_accuracy: 0.6714\n",
      "Epoch 9/150\n",
      "1120/1120 [==============================] - 0s 48us/step - loss: 0.1175 - accuracy: 0.6938 - val_loss: 0.1151 - val_accuracy: 0.6786\n",
      "Epoch 10/150\n",
      "1120/1120 [==============================] - 0s 53us/step - loss: 0.1149 - accuracy: 0.7134 - val_loss: 0.1131 - val_accuracy: 0.7286\n",
      "Epoch 11/150\n",
      "1120/1120 [==============================] - 0s 51us/step - loss: 0.1128 - accuracy: 0.7509 - val_loss: 0.1109 - val_accuracy: 0.7357\n",
      "Epoch 12/150\n",
      "1120/1120 [==============================] - 0s 46us/step - loss: 0.1110 - accuracy: 0.7473 - val_loss: 0.1094 - val_accuracy: 0.7214\n",
      "Epoch 13/150\n",
      "1120/1120 [==============================] - 0s 47us/step - loss: 0.1098 - accuracy: 0.7616 - val_loss: 0.1080 - val_accuracy: 0.7643\n",
      "Epoch 14/150\n",
      "1120/1120 [==============================] - 0s 50us/step - loss: 0.1083 - accuracy: 0.7893 - val_loss: 0.1065 - val_accuracy: 0.7321\n",
      "Epoch 15/150\n",
      "1120/1120 [==============================] - 0s 50us/step - loss: 0.1069 - accuracy: 0.7875 - val_loss: 0.1055 - val_accuracy: 0.7714\n",
      "Epoch 16/150\n",
      "1120/1120 [==============================] - 0s 46us/step - loss: 0.1059 - accuracy: 0.7786 - val_loss: 0.1044 - val_accuracy: 0.7607\n",
      "Epoch 17/150\n",
      "1120/1120 [==============================] - 0s 50us/step - loss: 0.1046 - accuracy: 0.7929 - val_loss: 0.1035 - val_accuracy: 0.7821\n",
      "Epoch 18/150\n",
      "1120/1120 [==============================] - 0s 47us/step - loss: 0.1038 - accuracy: 0.7929 - val_loss: 0.1024 - val_accuracy: 0.7643\n",
      "Epoch 19/150\n",
      "1120/1120 [==============================] - 0s 50us/step - loss: 0.1026 - accuracy: 0.8018 - val_loss: 0.1018 - val_accuracy: 0.7964\n",
      "Epoch 20/150\n",
      "1120/1120 [==============================] - 0s 47us/step - loss: 0.1017 - accuracy: 0.8196 - val_loss: 0.1007 - val_accuracy: 0.8000\n",
      "Epoch 21/150\n",
      "1120/1120 [==============================] - 0s 47us/step - loss: 0.1005 - accuracy: 0.8152 - val_loss: 0.1000 - val_accuracy: 0.8036\n",
      "Epoch 22/150\n",
      "1120/1120 [==============================] - 0s 50us/step - loss: 0.0999 - accuracy: 0.8313 - val_loss: 0.0992 - val_accuracy: 0.8000\n",
      "Epoch 23/150\n",
      "1120/1120 [==============================] - 0s 46us/step - loss: 0.0991 - accuracy: 0.8098 - val_loss: 0.0984 - val_accuracy: 0.8000\n",
      "Epoch 24/150\n",
      "1120/1120 [==============================] - 0s 47us/step - loss: 0.0978 - accuracy: 0.8179 - val_loss: 0.0975 - val_accuracy: 0.8071\n",
      "Epoch 25/150\n",
      "1120/1120 [==============================] - 0s 50us/step - loss: 0.0971 - accuracy: 0.8179 - val_loss: 0.0967 - val_accuracy: 0.7821\n",
      "Epoch 26/150\n",
      "1120/1120 [==============================] - 0s 47us/step - loss: 0.0957 - accuracy: 0.8161 - val_loss: 0.0962 - val_accuracy: 0.8036\n",
      "Epoch 27/150\n",
      "1120/1120 [==============================] - 0s 49us/step - loss: 0.0950 - accuracy: 0.8259 - val_loss: 0.0953 - val_accuracy: 0.8250\n",
      "Epoch 28/150\n",
      "1120/1120 [==============================] - 0s 47us/step - loss: 0.0938 - accuracy: 0.8357 - val_loss: 0.0940 - val_accuracy: 0.8071\n",
      "Epoch 29/150\n",
      "1120/1120 [==============================] - 0s 51us/step - loss: 0.0928 - accuracy: 0.8277 - val_loss: 0.0930 - val_accuracy: 0.8071\n",
      "Epoch 30/150\n",
      "1120/1120 [==============================] - 0s 51us/step - loss: 0.0916 - accuracy: 0.8402 - val_loss: 0.0922 - val_accuracy: 0.8286\n",
      "Epoch 31/150\n",
      "1120/1120 [==============================] - 0s 81us/step - loss: 0.0906 - accuracy: 0.8348 - val_loss: 0.0909 - val_accuracy: 0.8036\n",
      "Epoch 32/150\n",
      "1120/1120 [==============================] - 0s 59us/step - loss: 0.0894 - accuracy: 0.8446 - val_loss: 0.0899 - val_accuracy: 0.8286\n",
      "Epoch 33/150\n",
      "1120/1120 [==============================] - 0s 49us/step - loss: 0.0881 - accuracy: 0.8321 - val_loss: 0.0889 - val_accuracy: 0.8286\n",
      "Epoch 34/150\n",
      "1120/1120 [==============================] - 0s 46us/step - loss: 0.0871 - accuracy: 0.8518 - val_loss: 0.0875 - val_accuracy: 0.8250\n",
      "Epoch 35/150\n",
      "1120/1120 [==============================] - 0s 44us/step - loss: 0.0856 - accuracy: 0.8464 - val_loss: 0.0866 - val_accuracy: 0.8357\n",
      "Epoch 36/150\n",
      "1120/1120 [==============================] - 0s 48us/step - loss: 0.0845 - accuracy: 0.8589 - val_loss: 0.0852 - val_accuracy: 0.8429\n",
      "Epoch 37/150\n",
      "1120/1120 [==============================] - 0s 50us/step - loss: 0.0829 - accuracy: 0.8562 - val_loss: 0.0840 - val_accuracy: 0.8607\n",
      "Epoch 38/150\n",
      "1120/1120 [==============================] - 0s 51us/step - loss: 0.0816 - accuracy: 0.8634 - val_loss: 0.0826 - val_accuracy: 0.8536\n",
      "Epoch 39/150\n",
      "1120/1120 [==============================] - 0s 59us/step - loss: 0.0800 - accuracy: 0.8696 - val_loss: 0.0812 - val_accuracy: 0.8571\n",
      "Epoch 40/150\n",
      "1120/1120 [==============================] - 0s 55us/step - loss: 0.0788 - accuracy: 0.8634 - val_loss: 0.0798 - val_accuracy: 0.8679\n",
      "Epoch 41/150\n",
      "1120/1120 [==============================] - 0s 54us/step - loss: 0.0774 - accuracy: 0.8732 - val_loss: 0.0786 - val_accuracy: 0.8643\n",
      "Epoch 42/150\n",
      "1120/1120 [==============================] - 0s 47us/step - loss: 0.0758 - accuracy: 0.8875 - val_loss: 0.0769 - val_accuracy: 0.8714\n",
      "Epoch 43/150\n",
      "1120/1120 [==============================] - 0s 43us/step - loss: 0.0742 - accuracy: 0.8902 - val_loss: 0.0757 - val_accuracy: 0.8786\n",
      "Epoch 44/150\n",
      "1120/1120 [==============================] - 0s 42us/step - loss: 0.0729 - accuracy: 0.8866 - val_loss: 0.0741 - val_accuracy: 0.8750\n",
      "Epoch 45/150\n",
      "1120/1120 [==============================] - 0s 42us/step - loss: 0.0713 - accuracy: 0.8866 - val_loss: 0.0728 - val_accuracy: 0.8750\n",
      "Epoch 46/150\n",
      "1120/1120 [==============================] - 0s 42us/step - loss: 0.0699 - accuracy: 0.8955 - val_loss: 0.0717 - val_accuracy: 0.8821\n",
      "Epoch 47/150\n",
      "1120/1120 [==============================] - 0s 44us/step - loss: 0.0684 - accuracy: 0.9062 - val_loss: 0.0699 - val_accuracy: 0.8929\n",
      "Epoch 48/150\n",
      "1120/1120 [==============================] - 0s 53us/step - loss: 0.0669 - accuracy: 0.9054 - val_loss: 0.0683 - val_accuracy: 0.9000\n",
      "Epoch 49/150\n",
      "1120/1120 [==============================] - 0s 60us/step - loss: 0.0653 - accuracy: 0.9134 - val_loss: 0.0669 - val_accuracy: 0.9036\n",
      "Epoch 50/150\n",
      "1120/1120 [==============================] - 0s 53us/step - loss: 0.0640 - accuracy: 0.9161 - val_loss: 0.0654 - val_accuracy: 0.9071\n",
      "Epoch 51/150\n",
      "1120/1120 [==============================] - 0s 59us/step - loss: 0.0625 - accuracy: 0.9214 - val_loss: 0.0641 - val_accuracy: 0.9107\n",
      "Epoch 52/150\n",
      "1120/1120 [==============================] - 0s 60us/step - loss: 0.0613 - accuracy: 0.9241 - val_loss: 0.0627 - val_accuracy: 0.9250\n",
      "Epoch 53/150\n",
      "1120/1120 [==============================] - 0s 63us/step - loss: 0.0599 - accuracy: 0.9259 - val_loss: 0.0613 - val_accuracy: 0.9143\n",
      "Epoch 54/150\n",
      "1120/1120 [==============================] - 0s 52us/step - loss: 0.0587 - accuracy: 0.9312 - val_loss: 0.0601 - val_accuracy: 0.9214\n"
     ]
    },
    {
     "name": "stdout",
     "output_type": "stream",
     "text": [
      "Epoch 55/150\n",
      "1120/1120 [==============================] - 0s 51us/step - loss: 0.0572 - accuracy: 0.9375 - val_loss: 0.0588 - val_accuracy: 0.9286\n",
      "Epoch 56/150\n",
      "1120/1120 [==============================] - 0s 53us/step - loss: 0.0559 - accuracy: 0.9357 - val_loss: 0.0573 - val_accuracy: 0.9393\n",
      "Epoch 57/150\n",
      "1120/1120 [==============================] - 0s 49us/step - loss: 0.0547 - accuracy: 0.9411 - val_loss: 0.0562 - val_accuracy: 0.9500\n",
      "Epoch 58/150\n",
      "1120/1120 [==============================] - 0s 47us/step - loss: 0.0534 - accuracy: 0.9420 - val_loss: 0.0550 - val_accuracy: 0.9536\n",
      "Epoch 59/150\n",
      "1120/1120 [==============================] - 0s 43us/step - loss: 0.0524 - accuracy: 0.9455 - val_loss: 0.0538 - val_accuracy: 0.9500\n",
      "Epoch 60/150\n",
      "1120/1120 [==============================] - 0s 47us/step - loss: 0.0514 - accuracy: 0.9482 - val_loss: 0.0525 - val_accuracy: 0.9571\n",
      "Epoch 61/150\n",
      "1120/1120 [==============================] - 0s 50us/step - loss: 0.0500 - accuracy: 0.9491 - val_loss: 0.0516 - val_accuracy: 0.9536\n",
      "Epoch 62/150\n",
      "1120/1120 [==============================] - 0s 55us/step - loss: 0.0489 - accuracy: 0.9518 - val_loss: 0.0503 - val_accuracy: 0.9571\n",
      "Epoch 63/150\n",
      "1120/1120 [==============================] - 0s 54us/step - loss: 0.0479 - accuracy: 0.9563 - val_loss: 0.0493 - val_accuracy: 0.9536\n",
      "Epoch 64/150\n",
      "1120/1120 [==============================] - 0s 46us/step - loss: 0.0469 - accuracy: 0.9607 - val_loss: 0.0483 - val_accuracy: 0.9607\n",
      "Epoch 65/150\n",
      "1120/1120 [==============================] - 0s 46us/step - loss: 0.0458 - accuracy: 0.9554 - val_loss: 0.0475 - val_accuracy: 0.9571\n",
      "Epoch 66/150\n",
      "1120/1120 [==============================] - 0s 43us/step - loss: 0.0450 - accuracy: 0.9580 - val_loss: 0.0461 - val_accuracy: 0.9536\n",
      "Epoch 67/150\n",
      "1120/1120 [==============================] - 0s 43us/step - loss: 0.0439 - accuracy: 0.9616 - val_loss: 0.0453 - val_accuracy: 0.9536\n",
      "Epoch 68/150\n",
      "1120/1120 [==============================] - 0s 43us/step - loss: 0.0430 - accuracy: 0.9634 - val_loss: 0.0443 - val_accuracy: 0.9500\n",
      "Epoch 69/150\n",
      "1120/1120 [==============================] - 0s 42us/step - loss: 0.0421 - accuracy: 0.9661 - val_loss: 0.0434 - val_accuracy: 0.9571\n",
      "Epoch 70/150\n",
      "1120/1120 [==============================] - 0s 42us/step - loss: 0.0413 - accuracy: 0.9625 - val_loss: 0.0429 - val_accuracy: 0.9571\n",
      "Epoch 71/150\n",
      "1120/1120 [==============================] - 0s 43us/step - loss: 0.0406 - accuracy: 0.9652 - val_loss: 0.0418 - val_accuracy: 0.9607\n",
      "Epoch 72/150\n",
      "1120/1120 [==============================] - 0s 66us/step - loss: 0.0399 - accuracy: 0.9679 - val_loss: 0.0410 - val_accuracy: 0.9607\n",
      "Epoch 73/150\n",
      "1120/1120 [==============================] - 0s 46us/step - loss: 0.0390 - accuracy: 0.9688 - val_loss: 0.0401 - val_accuracy: 0.9607\n",
      "Epoch 74/150\n",
      "1120/1120 [==============================] - 0s 43us/step - loss: 0.0381 - accuracy: 0.9688 - val_loss: 0.0393 - val_accuracy: 0.9607\n",
      "Epoch 75/150\n",
      "1120/1120 [==============================] - 0s 42us/step - loss: 0.0373 - accuracy: 0.9714 - val_loss: 0.0385 - val_accuracy: 0.9643\n",
      "Epoch 76/150\n",
      "1120/1120 [==============================] - 0s 42us/step - loss: 0.0367 - accuracy: 0.9714 - val_loss: 0.0380 - val_accuracy: 0.9607\n",
      "Epoch 77/150\n",
      "1120/1120 [==============================] - 0s 44us/step - loss: 0.0360 - accuracy: 0.9688 - val_loss: 0.0372 - val_accuracy: 0.9679\n",
      "Epoch 78/150\n",
      "1120/1120 [==============================] - 0s 43us/step - loss: 0.0354 - accuracy: 0.9759 - val_loss: 0.0366 - val_accuracy: 0.9643\n",
      "Epoch 79/150\n",
      "1120/1120 [==============================] - 0s 49us/step - loss: 0.0346 - accuracy: 0.9741 - val_loss: 0.0358 - val_accuracy: 0.9679\n",
      "Epoch 80/150\n",
      "1120/1120 [==============================] - 0s 50us/step - loss: 0.0342 - accuracy: 0.9750 - val_loss: 0.0352 - val_accuracy: 0.9714\n",
      "Epoch 81/150\n",
      "1120/1120 [==============================] - 0s 43us/step - loss: 0.0334 - accuracy: 0.9723 - val_loss: 0.0347 - val_accuracy: 0.9714\n",
      "Epoch 82/150\n",
      "1120/1120 [==============================] - 0s 43us/step - loss: 0.0329 - accuracy: 0.9750 - val_loss: 0.0340 - val_accuracy: 0.9750\n",
      "Epoch 83/150\n",
      "1120/1120 [==============================] - 0s 43us/step - loss: 0.0322 - accuracy: 0.9777 - val_loss: 0.0336 - val_accuracy: 0.9750\n",
      "Epoch 84/150\n",
      "1120/1120 [==============================] - 0s 44us/step - loss: 0.0318 - accuracy: 0.9732 - val_loss: 0.0330 - val_accuracy: 0.9714\n",
      "Epoch 85/150\n",
      "1120/1120 [==============================] - 0s 46us/step - loss: 0.0313 - accuracy: 0.9759 - val_loss: 0.0322 - val_accuracy: 0.9786\n",
      "Epoch 86/150\n",
      "1120/1120 [==============================] - 0s 46us/step - loss: 0.0309 - accuracy: 0.9768 - val_loss: 0.0320 - val_accuracy: 0.9821\n",
      "Epoch 87/150\n",
      "1120/1120 [==============================] - 0s 47us/step - loss: 0.0304 - accuracy: 0.9732 - val_loss: 0.0315 - val_accuracy: 0.9821\n",
      "Epoch 88/150\n",
      "1120/1120 [==============================] - 0s 53us/step - loss: 0.0299 - accuracy: 0.9759 - val_loss: 0.0309 - val_accuracy: 0.9821\n",
      "Epoch 89/150\n",
      "1120/1120 [==============================] - 0s 47us/step - loss: 0.0294 - accuracy: 0.9741 - val_loss: 0.0303 - val_accuracy: 0.9821\n",
      "Epoch 90/150\n",
      "1120/1120 [==============================] - 0s 45us/step - loss: 0.0291 - accuracy: 0.9777 - val_loss: 0.0302 - val_accuracy: 0.9821\n",
      "Epoch 91/150\n",
      "1120/1120 [==============================] - 0s 46us/step - loss: 0.0286 - accuracy: 0.9759 - val_loss: 0.0296 - val_accuracy: 0.9821\n",
      "Epoch 92/150\n",
      "1120/1120 [==============================] - 0s 44us/step - loss: 0.0280 - accuracy: 0.9768 - val_loss: 0.0291 - val_accuracy: 0.9821\n",
      "Epoch 93/150\n",
      "1120/1120 [==============================] - 0s 43us/step - loss: 0.0277 - accuracy: 0.9786 - val_loss: 0.0286 - val_accuracy: 0.9821\n",
      "Epoch 94/150\n",
      "1120/1120 [==============================] - 0s 44us/step - loss: 0.0273 - accuracy: 0.9750 - val_loss: 0.0284 - val_accuracy: 0.9786\n",
      "Epoch 95/150\n",
      "1120/1120 [==============================] - 0s 44us/step - loss: 0.0270 - accuracy: 0.9759 - val_loss: 0.0280 - val_accuracy: 0.9821\n",
      "Epoch 96/150\n",
      "1120/1120 [==============================] - 0s 48us/step - loss: 0.0265 - accuracy: 0.9777 - val_loss: 0.0277 - val_accuracy: 0.9786\n",
      "Epoch 97/150\n",
      "1120/1120 [==============================] - 0s 52us/step - loss: 0.0262 - accuracy: 0.9768 - val_loss: 0.0271 - val_accuracy: 0.9821\n",
      "Epoch 98/150\n",
      "1120/1120 [==============================] - 0s 47us/step - loss: 0.0258 - accuracy: 0.9777 - val_loss: 0.0271 - val_accuracy: 0.9786\n",
      "Epoch 99/150\n",
      "1120/1120 [==============================] - 0s 45us/step - loss: 0.0256 - accuracy: 0.9795 - val_loss: 0.0267 - val_accuracy: 0.9821\n",
      "Epoch 100/150\n",
      "1120/1120 [==============================] - 0s 43us/step - loss: 0.0253 - accuracy: 0.9804 - val_loss: 0.0263 - val_accuracy: 0.9821\n",
      "Epoch 101/150\n",
      "1120/1120 [==============================] - 0s 43us/step - loss: 0.0249 - accuracy: 0.9795 - val_loss: 0.0259 - val_accuracy: 0.9821\n",
      "Epoch 102/150\n",
      "1120/1120 [==============================] - 0s 43us/step - loss: 0.0245 - accuracy: 0.9768 - val_loss: 0.0257 - val_accuracy: 0.9857\n",
      "Epoch 103/150\n",
      "1120/1120 [==============================] - 0s 42us/step - loss: 0.0243 - accuracy: 0.9795 - val_loss: 0.0252 - val_accuracy: 0.9857\n",
      "Epoch 104/150\n",
      "1120/1120 [==============================] - 0s 51us/step - loss: 0.0241 - accuracy: 0.9795 - val_loss: 0.0249 - val_accuracy: 0.9821\n",
      "Epoch 105/150\n",
      "1120/1120 [==============================] - 0s 50us/step - loss: 0.0238 - accuracy: 0.9768 - val_loss: 0.0249 - val_accuracy: 0.9786\n",
      "Epoch 106/150\n",
      "1120/1120 [==============================] - 0s 44us/step - loss: 0.0234 - accuracy: 0.9786 - val_loss: 0.0247 - val_accuracy: 0.9821\n",
      "Epoch 107/150\n",
      "1120/1120 [==============================] - 0s 43us/step - loss: 0.0232 - accuracy: 0.9777 - val_loss: 0.0242 - val_accuracy: 0.9821\n",
      "Epoch 108/150\n",
      "1120/1120 [==============================] - 0s 45us/step - loss: 0.0230 - accuracy: 0.9777 - val_loss: 0.0239 - val_accuracy: 0.9821\n",
      "Epoch 109/150\n",
      "1120/1120 [==============================] - 0s 43us/step - loss: 0.0227 - accuracy: 0.9821 - val_loss: 0.0237 - val_accuracy: 0.9821\n",
      "Epoch 110/150\n"
     ]
    },
    {
     "name": "stdout",
     "output_type": "stream",
     "text": [
      "1120/1120 [==============================] - 0s 42us/step - loss: 0.0225 - accuracy: 0.9830 - val_loss: 0.0237 - val_accuracy: 0.9786\n",
      "Epoch 111/150\n",
      "1120/1120 [==============================] - 0s 43us/step - loss: 0.0222 - accuracy: 0.9795 - val_loss: 0.0233 - val_accuracy: 0.9857\n",
      "Epoch 112/150\n",
      "1120/1120 [==============================] - 0s 43us/step - loss: 0.0220 - accuracy: 0.9812 - val_loss: 0.0230 - val_accuracy: 0.9857\n",
      "Epoch 113/150\n",
      "1120/1120 [==============================] - 0s 51us/step - loss: 0.0218 - accuracy: 0.9786 - val_loss: 0.0229 - val_accuracy: 0.9821\n",
      "Epoch 114/150\n",
      "1120/1120 [==============================] - 0s 47us/step - loss: 0.0215 - accuracy: 0.9830 - val_loss: 0.0228 - val_accuracy: 0.9821\n",
      "Epoch 115/150\n",
      "1120/1120 [==============================] - 0s 43us/step - loss: 0.0214 - accuracy: 0.9848 - val_loss: 0.0224 - val_accuracy: 0.9857\n",
      "Epoch 116/150\n",
      "1120/1120 [==============================] - 0s 44us/step - loss: 0.0210 - accuracy: 0.9804 - val_loss: 0.0223 - val_accuracy: 0.9786\n",
      "Epoch 117/150\n",
      "1120/1120 [==============================] - 0s 44us/step - loss: 0.0209 - accuracy: 0.9804 - val_loss: 0.0221 - val_accuracy: 0.9821\n",
      "Epoch 118/150\n",
      "1120/1120 [==============================] - 0s 46us/step - loss: 0.0206 - accuracy: 0.9830 - val_loss: 0.0219 - val_accuracy: 0.9821\n",
      "Epoch 119/150\n",
      "1120/1120 [==============================] - 0s 44us/step - loss: 0.0205 - accuracy: 0.9839 - val_loss: 0.0217 - val_accuracy: 0.9821\n",
      "Epoch 120/150\n",
      "1120/1120 [==============================] - 0s 44us/step - loss: 0.0203 - accuracy: 0.9830 - val_loss: 0.0214 - val_accuracy: 0.9857\n",
      "Epoch 121/150\n",
      "1120/1120 [==============================] - 0s 51us/step - loss: 0.0202 - accuracy: 0.9830 - val_loss: 0.0215 - val_accuracy: 0.9786\n",
      "Epoch 122/150\n",
      "1120/1120 [==============================] - 0s 44us/step - loss: 0.0200 - accuracy: 0.9821 - val_loss: 0.0211 - val_accuracy: 0.9857\n",
      "Epoch 123/150\n",
      "1120/1120 [==============================] - 0s 43us/step - loss: 0.0198 - accuracy: 0.9839 - val_loss: 0.0210 - val_accuracy: 0.9821\n",
      "Epoch 124/150\n",
      "1120/1120 [==============================] - 0s 46us/step - loss: 0.0195 - accuracy: 0.9839 - val_loss: 0.0208 - val_accuracy: 0.9821\n",
      "Epoch 125/150\n",
      "1120/1120 [==============================] - 0s 63us/step - loss: 0.0194 - accuracy: 0.9857 - val_loss: 0.0207 - val_accuracy: 0.9821\n",
      "Epoch 126/150\n",
      "1120/1120 [==============================] - 0s 47us/step - loss: 0.0193 - accuracy: 0.9804 - val_loss: 0.0204 - val_accuracy: 0.9857\n",
      "Epoch 127/150\n",
      "1120/1120 [==============================] - 0s 48us/step - loss: 0.0191 - accuracy: 0.9848 - val_loss: 0.0204 - val_accuracy: 0.9857\n",
      "Epoch 128/150\n",
      "1120/1120 [==============================] - 0s 52us/step - loss: 0.0188 - accuracy: 0.9857 - val_loss: 0.0202 - val_accuracy: 0.9857\n",
      "Epoch 129/150\n",
      "1120/1120 [==============================] - 0s 46us/step - loss: 0.0187 - accuracy: 0.9875 - val_loss: 0.0201 - val_accuracy: 0.9857\n",
      "Epoch 130/150\n",
      "1120/1120 [==============================] - 0s 46us/step - loss: 0.0186 - accuracy: 0.9839 - val_loss: 0.0201 - val_accuracy: 0.9857\n",
      "Epoch 131/150\n",
      "1120/1120 [==============================] - 0s 43us/step - loss: 0.0184 - accuracy: 0.9857 - val_loss: 0.0201 - val_accuracy: 0.9821\n",
      "Epoch 132/150\n",
      "1120/1120 [==============================] - 0s 45us/step - loss: 0.0183 - accuracy: 0.9839 - val_loss: 0.0196 - val_accuracy: 0.9857\n",
      "Epoch 133/150\n",
      "1120/1120 [==============================] - 0s 43us/step - loss: 0.0181 - accuracy: 0.9866 - val_loss: 0.0195 - val_accuracy: 0.9893\n",
      "Epoch 134/150\n",
      "1120/1120 [==============================] - 0s 43us/step - loss: 0.0180 - accuracy: 0.9875 - val_loss: 0.0197 - val_accuracy: 0.9786\n",
      "Epoch 135/150\n",
      "1120/1120 [==============================] - 0s 42us/step - loss: 0.0179 - accuracy: 0.9866 - val_loss: 0.0193 - val_accuracy: 0.9857\n",
      "Epoch 136/150\n",
      "1120/1120 [==============================] - 0s 44us/step - loss: 0.0179 - accuracy: 0.9857 - val_loss: 0.0192 - val_accuracy: 0.9821\n",
      "Epoch 137/150\n",
      "1120/1120 [==============================] - 0s 42us/step - loss: 0.0176 - accuracy: 0.9848 - val_loss: 0.0192 - val_accuracy: 0.9821\n",
      "Epoch 138/150\n",
      "1120/1120 [==============================] - 0s 44us/step - loss: 0.0175 - accuracy: 0.9848 - val_loss: 0.0190 - val_accuracy: 0.9857\n",
      "Epoch 139/150\n",
      "1120/1120 [==============================] - 0s 49us/step - loss: 0.0175 - accuracy: 0.9857 - val_loss: 0.0187 - val_accuracy: 0.9786\n",
      "Epoch 140/150\n",
      "1120/1120 [==============================] - 0s 74us/step - loss: 0.0173 - accuracy: 0.9857 - val_loss: 0.0186 - val_accuracy: 0.9857\n",
      "Epoch 141/150\n",
      "1120/1120 [==============================] - 0s 66us/step - loss: 0.0171 - accuracy: 0.9866 - val_loss: 0.0187 - val_accuracy: 0.9821\n",
      "Epoch 142/150\n",
      "1120/1120 [==============================] - 0s 59us/step - loss: 0.0170 - accuracy: 0.9857 - val_loss: 0.0186 - val_accuracy: 0.9786\n",
      "Epoch 143/150\n",
      "1120/1120 [==============================] - 0s 61us/step - loss: 0.0170 - accuracy: 0.9839 - val_loss: 0.0182 - val_accuracy: 0.9857\n",
      "Epoch 144/150\n",
      "1120/1120 [==============================] - 0s 53us/step - loss: 0.0167 - accuracy: 0.9866 - val_loss: 0.0183 - val_accuracy: 0.9786\n",
      "Epoch 145/150\n",
      "1120/1120 [==============================] - 0s 50us/step - loss: 0.0167 - accuracy: 0.9866 - val_loss: 0.0182 - val_accuracy: 0.9821\n",
      "Epoch 146/150\n",
      "1120/1120 [==============================] - 0s 53us/step - loss: 0.0166 - accuracy: 0.9866 - val_loss: 0.0179 - val_accuracy: 0.9821\n",
      "Epoch 147/150\n",
      "1120/1120 [==============================] - 0s 49us/step - loss: 0.0164 - accuracy: 0.9884 - val_loss: 0.0180 - val_accuracy: 0.9821\n",
      "Epoch 148/150\n",
      "1120/1120 [==============================] - 0s 52us/step - loss: 0.0162 - accuracy: 0.9875 - val_loss: 0.0179 - val_accuracy: 0.9821\n",
      "Epoch 149/150\n",
      "1120/1120 [==============================] - 0s 55us/step - loss: 0.0162 - accuracy: 0.9884 - val_loss: 0.0178 - val_accuracy: 0.9857\n",
      "Epoch 150/150\n",
      "1120/1120 [==============================] - 0s 62us/step - loss: 0.0160 - accuracy: 0.9875 - val_loss: 0.0177 - val_accuracy: 0.9857\n"
     ]
    }
   ],
   "source": [
    "# treinamento\n",
    "from tensorflow.keras.utils import to_categorical\n",
    "sgd = SGD(learning_rate=0.1, decay=1e-6, momentum=0.9)\n",
    "RN.compile(optimizer=sgd, loss='mean_squared_error', metrics=['accuracy'])\n",
    "history = RN.fit(X_train_normalized,to_categorical(y_train), epochs = 150, validation_split=0.2)"
   ]
  },
  {
   "cell_type": "code",
   "execution_count": 20,
   "metadata": {
    "ExecuteTime": {
     "end_time": "2022-05-26T12:32:56.563252Z",
     "start_time": "2022-05-26T12:32:56.532063Z"
    },
    "id": "JZjVf8oRYm1B"
   },
   "outputs": [
    {
     "name": "stdout",
     "output_type": "stream",
     "text": [
      "Test score: 0.021023522466421127\n",
      "Test accuracy: 0.9616666436195374\n"
     ]
    }
   ],
   "source": [
    "score = RN.evaluate(X_test_normalized, to_categorical(y_test), verbose = 0)\n",
    "print('Test score:', score[0])\n",
    "print('Test accuracy:', score[1])"
   ]
  },
  {
   "cell_type": "code",
   "execution_count": 21,
   "metadata": {
    "ExecuteTime": {
     "end_time": "2022-05-26T12:32:58.265715Z",
     "start_time": "2022-05-26T12:32:56.567937Z"
    },
    "id": "H99c-50g4le0"
   },
   "outputs": [
    {
     "data": {
      "image/png": "[encoded data removed]",
      "text/plain": [
       "<Figure size 432x288 with 1 Axes>"
      ]
     },
     "metadata": {
      "needs_background": "light"
     },
     "output_type": "display_data"
    }
   ],
   "source": [
    "# Gráfico do treinamento: custo do treino e validação\n",
    "import matplotlib.pyplot as plt \n",
    "plt.plot(history.history['loss'], label='train')\n",
    "plt.plot(history.history['val_loss'], label='validation')\n",
    "plt.title('Loss de treino e validação')\n",
    "plt.ylabel('loss')\n",
    "plt.xlabel('época')\n",
    "plt.legend();"
   ]
  },
  {
   "cell_type": "code",
   "execution_count": 22,
   "metadata": {
    "ExecuteTime": {
     "end_time": "2022-05-26T12:32:58.568349Z",
     "start_time": "2022-05-26T12:32:58.270727Z"
    },
    "id": "uxMS2rKVrjqa"
   },
   "outputs": [
    {
     "data": {
      "image/png": "[encoded data removed]",
      "text/plain": [
       "<Figure size 432x288 with 1 Axes>"
      ]
     },
     "metadata": {
      "needs_background": "light"
     },
     "output_type": "display_data"
    }
   ],
   "source": [
    "plt.plot(history.history['accuracy'], label='train')\n",
    "plt.plot(history.history['val_accuracy'], label='validation')\n",
    "plt.title('Acurácia de treino e validação')\n",
    "plt.ylabel('acurácia')\n",
    "plt.xlabel('época')\n",
    "plt.legend();"
   ]
  },
  {
   "cell_type": "code",
   "execution_count": 23,
   "metadata": {
    "ExecuteTime": {
     "end_time": "2022-05-26T12:32:58.610093Z",
     "start_time": "2022-05-26T12:32:58.571851Z"
    },
    "id": "HQZjGb0UZvnl"
   },
   "outputs": [
    {
     "data": {
      "text/plain": [
       "array([[1.1712313e-05, 1.3846815e-02, 9.1194654e-01, 1.9615650e-02],\n",
       "       [9.7068214e-01, 2.3044288e-02, 1.4072657e-03, 1.1920929e-07],\n",
       "       [4.8615932e-03, 9.2157447e-01, 6.0262382e-02, 5.8710575e-06],\n",
       "       [2.2053719e-06, 1.1766762e-02, 7.7436876e-01, 1.8367511e-01],\n",
       "       [8.9406967e-08, 5.7041645e-04, 1.5915871e-02, 9.9497676e-01]],\n",
       "      dtype=float32)"
      ]
     },
     "execution_count": 23,
     "metadata": {},
     "output_type": "execute_result"
    }
   ],
   "source": [
    "# Previsão\n",
    "from sklearn.metrics import confusion_matrix\n",
    "y_test_predicted = RN.predict(X_test_normalized)\n",
    "y_test_predicted[0:5]"
   ]
  },
  {
   "cell_type": "code",
   "execution_count": 24,
   "metadata": {
    "ExecuteTime": {
     "end_time": "2022-05-26T12:32:58.620288Z",
     "start_time": "2022-05-26T12:32:58.613504Z"
    },
    "id": "KzSTldnit19C"
   },
   "outputs": [
    {
     "name": "stdout",
     "output_type": "stream",
     "text": [
      "[2 0 1 2 3]\n"
     ]
    }
   ],
   "source": [
    "y_test_predicted_indexes = np.argmax(y_test_predicted,axis=1)\n",
    "print(y_test_predicted_indexes[0:5])\n",
    "y_test_indexes = y_test.values"
   ]
  },
  {
   "cell_type": "code",
   "execution_count": 25,
   "metadata": {
    "ExecuteTime": {
     "end_time": "2022-05-26T12:32:58.645292Z",
     "start_time": "2022-05-26T12:32:58.624433Z"
    },
    "id": "9aw_ljZ5bDbv"
   },
   "outputs": [
    {
     "data": {
      "text/html": [
       "<div>\n",
       "<style scoped>\n",
       "    .dataframe tbody tr th:only-of-type {\n",
       "        vertical-align: middle;\n",
       "    }\n",
       "\n",
       "    .dataframe tbody tr th {\n",
       "        vertical-align: top;\n",
       "    }\n",
       "\n",
       "    .dataframe thead th {\n",
       "        text-align: right;\n",
       "    }\n",
       "</style>\n",
       "<table border=\"1\" class=\"dataframe\">\n",
       "  <thead>\n",
       "    <tr style=\"text-align: right;\">\n",
       "      <th></th>\n",
       "      <th>Real 0</th>\n",
       "      <th>Real 1</th>\n",
       "      <th>Real 2</th>\n",
       "      <th>Real 3</th>\n",
       "    </tr>\n",
       "  </thead>\n",
       "  <tbody>\n",
       "    <tr>\n",
       "      <th>Pred 0</th>\n",
       "      <td>146</td>\n",
       "      <td>4</td>\n",
       "      <td>0</td>\n",
       "      <td>0</td>\n",
       "    </tr>\n",
       "    <tr>\n",
       "      <th>Pred 1</th>\n",
       "      <td>4</td>\n",
       "      <td>145</td>\n",
       "      <td>7</td>\n",
       "      <td>0</td>\n",
       "    </tr>\n",
       "    <tr>\n",
       "      <th>Pred 2</th>\n",
       "      <td>0</td>\n",
       "      <td>1</td>\n",
       "      <td>141</td>\n",
       "      <td>5</td>\n",
       "    </tr>\n",
       "    <tr>\n",
       "      <th>Pred 3</th>\n",
       "      <td>0</td>\n",
       "      <td>0</td>\n",
       "      <td>2</td>\n",
       "      <td>145</td>\n",
       "    </tr>\n",
       "  </tbody>\n",
       "</table>\n",
       "</div>"
      ],
      "text/plain": [
       "        Real 0  Real 1  Real 2  Real 3\n",
       "Pred 0     146       4       0       0\n",
       "Pred 1       4     145       7       0\n",
       "Pred 2       0       1     141       5\n",
       "Pred 3       0       0       2     145"
      ]
     },
     "execution_count": 25,
     "metadata": {},
     "output_type": "execute_result"
    }
   ],
   "source": [
    "# Matriz de confusão\n",
    "confMatrix = confusion_matrix(y_test_predicted_indexes, y_test_indexes)\n",
    "pd.DataFrame(confMatrix, index=['Pred 0', 'Pred 1','Pred 2','Pred 3'], \n",
    "             columns=['Real 0', 'Real 1', 'Real 2', 'Real 3'],) #matriz de confusão"
   ]
  },
  {
   "cell_type": "code",
   "execution_count": 26,
   "metadata": {
    "ExecuteTime": {
     "end_time": "2022-05-26T12:32:59.250946Z",
     "start_time": "2022-05-26T12:32:58.649077Z"
    },
    "id": "dEncCy4Cwww5"
   },
   "outputs": [
    {
     "data": {
      "image/png": "[encoded data removed]",
      "text/plain": [
       "<Figure size 432x288 with 2 Axes>"
      ]
     },
     "metadata": {
      "needs_background": "light"
     },
     "output_type": "display_data"
    }
   ],
   "source": [
    "import seaborn as sns\n",
    "ax = plt.subplot()\n",
    "sns.heatmap(confMatrix, annot=True, fmt=\".0f\")\n",
    "plt.xlabel('Real')\n",
    "plt.ylabel('Previsto')\n",
    "plt.title('Matriz de Confusão')\n",
    "\n",
    "# Colocar os nomes\n",
    "ax.xaxis.set_ticklabels(['0', '1','2','3']) \n",
    "ax.yaxis.set_ticklabels(['0', '1','2','3'])\n",
    "plt.show()"
   ]
  },
  {
   "cell_type": "code",
   "execution_count": null,
   "metadata": {
    "id": "g1HA7vRY0Ewx"
   },
   "outputs": [],
   "source": []
  },
  {
   "cell_type": "code",
   "execution_count": null,
   "metadata": {},
   "outputs": [],
   "source": []
  }
 ],
 "metadata": {
  "accelerator": "TPU",
  "colab": {
   "collapsed_sections": [],
   "name": "Aula1_RN_mobile_com_validação.ipynb",
   "provenance": [
    {
     "file_id": "1utdBncoe6JBH-eHXtWFVQOeUoQelLQQC",
     "timestamp": 1611608918260
    }
   ]
  },
  "kernelspec": {
   "display_name": "Python 3 (ipykernel)",
   "language": "python",
   "name": "python3"
  },
  "language_info": {
   "codemirror_mode": {
    "name": "ipython",
    "version": 3
   },
   "file_extension": ".py",
   "mimetype": "text/x-python",
   "name": "python",
   "nbconvert_exporter": "python",
   "pygments_lexer": "ipython3",
   "version": "3.7.12"
  }
 },
 "nbformat": 4,
 "nbformat_minor": 1
}
