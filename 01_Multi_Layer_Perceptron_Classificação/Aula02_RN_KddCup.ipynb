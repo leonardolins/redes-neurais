{
 "cells": [
  {
   "cell_type": "markdown",
   "metadata": {
    "id": "5YiQjlm5WC0W"
   },
   "source": [
    "# Carregamento da Base"
   ]
  },
  {
   "cell_type": "code",
   "execution_count": null,
   "metadata": {
    "id": "x8YrCioNWC0a"
   },
   "outputs": [],
   "source": [
    "import numpy as np\n",
    "import pandas as pd"
   ]
  },
  {
   "cell_type": "code",
   "execution_count": null,
   "metadata": {
    "id": "tabTi-Q7WC0e"
   },
   "outputs": [],
   "source": [
    "#Carregar a base e visualizar primeiras linhas\n",
    "df1 = pd.read_csv('kddCup.txt', \n",
    "                  sep=' ', \n",
    "                  header=0, \n",
    "                  index_col=0)  #header=-1 indica que não há linha de header\n",
    "df1.head()"
   ]
  },
  {
   "cell_type": "code",
   "execution_count": null,
   "metadata": {
    "id": "Z9JX7fb5WC0h"
   },
   "outputs": [],
   "source": [
    "#dimnesões da base\n",
    "df1.shape"
   ]
  },
  {
   "cell_type": "markdown",
   "metadata": {
    "id": "AR-2XJMGWC0m"
   },
   "source": [
    "# Converte atributos categóricos em binário"
   ]
  },
  {
   "cell_type": "code",
   "execution_count": null,
   "metadata": {
    "id": "HHcW6g1BWC0n"
   },
   "outputs": [],
   "source": [
    "!pip install category-encoders\n",
    "import category_encoders as ce\n",
    "encoder = ce.BinaryEncoder()\n",
    "df_binary = encoder.fit_transform(df1.loc[:,['flag', 'protocol_type']])\n",
    "df_binary.head()"
   ]
  },
  {
   "cell_type": "markdown",
   "metadata": {
    "id": "EbYXW75wWC0r"
   },
   "source": [
    "# Divisão em treino e teste"
   ]
  },
  {
   "cell_type": "code",
   "execution_count": null,
   "metadata": {
    "id": "tpEisfMNWC0t"
   },
   "outputs": [],
   "source": [
    "df1 = pd.concat([df_binary, df1.loc[:,'src_bytes':'out']], axis=1)\n",
    "df1.head()"
   ]
  },
  {
   "cell_type": "code",
   "execution_count": null,
   "metadata": {
    "id": "UBjx-i8HWC0x"
   },
   "outputs": [],
   "source": [
    "np.random.seed(1) #semente inicial\n",
    "nlinhas = df1.shape[0]\n",
    "nlinhas"
   ]
  },
  {
   "cell_type": "code",
   "execution_count": null,
   "metadata": {
    "id": "153zhPl-WC00"
   },
   "outputs": [],
   "source": [
    "from sklearn.model_selection import train_test_split\n",
    "x_train, x_test, y_train, y_test = train_test_split(df1.loc[:,'flag_0':'dst_host_rerror_rate'], df1.loc[:,'out'], test_size=0.2)"
   ]
  },
  {
   "cell_type": "code",
   "execution_count": null,
   "metadata": {
    "id": "8An6vrjUvBjx"
   },
   "outputs": [],
   "source": [
    "print(x_train.shape)\n",
    "print(y_train.shape)\n",
    "print(x_test.shape)\n",
    "print(y_test.shape)"
   ]
  },
  {
   "cell_type": "markdown",
   "metadata": {
    "id": "9tSkCDKfWC04"
   },
   "source": [
    "# Normalização"
   ]
  },
  {
   "cell_type": "code",
   "execution_count": null,
   "metadata": {
    "id": "OYf9yGC-WC08"
   },
   "outputs": [],
   "source": [
    "from sklearn import preprocessing\n",
    "preprocessParams = preprocessing.StandardScaler().fit(x_train)"
   ]
  },
  {
   "cell_type": "code",
   "execution_count": null,
   "metadata": {
    "id": "Cba3qIhGWC1C"
   },
   "outputs": [],
   "source": [
    "X_train_normalized = preprocessParams.transform(x_train)\n",
    "X_test_normalized = preprocessParams.transform(x_test)"
   ]
  },
  {
   "cell_type": "markdown",
   "metadata": {
    "id": "P0p7Fjx-WC1G"
   },
   "source": [
    "# Treinamento da Rede Neural"
   ]
  },
  {
   "cell_type": "code",
   "execution_count": null,
   "metadata": {
    "id": "xmXkF9k8WC1H"
   },
   "outputs": [],
   "source": [
    "from keras import Sequential\n",
    "from keras.layers import Dense"
   ]
  },
  {
   "cell_type": "code",
   "execution_count": null,
   "metadata": {
    "id": "MkdtXxypWC1M"
   },
   "outputs": [],
   "source": [
    "RN = Sequential()\n",
    "RN.add(Dense(10,input_shape = X_train_normalized.shape[1:],activation = 'sigmoid'))\n",
    "RN.add(Dense(3,activation = 'sigmoid'))\n",
    "RN.summary()"
   ]
  },
  {
   "cell_type": "code",
   "execution_count": null,
   "metadata": {
    "id": "1pr9rNHuwvnU"
   },
   "outputs": [],
   "source": [
    "y_train.value_counts()"
   ]
  },
  {
   "cell_type": "code",
   "execution_count": null,
   "metadata": {
    "id": "qSSZN25g2--R"
   },
   "outputs": [],
   "source": [
    "y_test.value_counts()"
   ]
  },
  {
   "cell_type": "code",
   "execution_count": null,
   "metadata": {
    "id": "jZYl0evdWC1P"
   },
   "outputs": [],
   "source": [
    "# Transformação Dummy\n",
    "from sklearn.preprocessing import OneHotEncoder\n",
    "encoder = OneHotEncoder(handle_unknown = 'ignore')\n",
    "encoder.fit(pd.DataFrame(y_train))\n",
    "\n",
    "y_train = encoder.transform(pd.DataFrame(y_train)).toarray()\n",
    "y_test = encoder.transform(pd.DataFrame(y_test)).toarray()"
   ]
  },
  {
   "cell_type": "code",
   "execution_count": null,
   "metadata": {
    "id": "uGQ2SEZmxIPU"
   },
   "outputs": [],
   "source": [
    "y_train[0:5]"
   ]
  },
  {
   "cell_type": "code",
   "execution_count": null,
   "metadata": {
    "id": "N-8ENUTrWC1S"
   },
   "outputs": [],
   "source": [
    "RN.compile(optimizer = 'sgd', loss = 'mean_squared_error', metrics = ['accuracy'])\n",
    "history = RN.fit(X_train_normalized,y_train, epochs = 10, validation_split=0.2) # poucas épocas de treinamento: 10"
   ]
  },
  {
   "cell_type": "code",
   "execution_count": null,
   "metadata": {
    "id": "oah7ZOJ7DlTk"
   },
   "outputs": [],
   "source": [
    "# Gráfico do treinamento: custo do treino e validação\n",
    "import matplotlib.pyplot as plt\n",
    "plt.plot(history.history['loss'], label='train')\n",
    "plt.plot(history.history['val_loss'], label='validation')\n",
    "plt.title('Loss de treino e validação')\n",
    "plt.ylabel('loss')\n",
    "plt.xlabel('época')\n",
    "plt.legend();"
   ]
  },
  {
   "cell_type": "markdown",
   "metadata": {
    "id": "Kygdf4yqWC1W"
   },
   "source": [
    "# Avaliando resultados"
   ]
  },
  {
   "cell_type": "code",
   "execution_count": null,
   "metadata": {
    "id": "lNwC9-rHxp13"
   },
   "outputs": [],
   "source": [
    "#testar rede\n",
    "score = RN.evaluate(X_test_normalized, y_test, verbose = 0)\n",
    "print('Test score:', score[0])\n",
    "print('Test accuracy:', score[1])"
   ]
  },
  {
   "cell_type": "code",
   "execution_count": null,
   "metadata": {
    "id": "hSUNUyVVWC1Y"
   },
   "outputs": [],
   "source": [
    "# Vamos testar a rede\n",
    "from sklearn.metrics import confusion_matrix\n",
    "y_test_predicted = RN.predict(X_test_normalized)\n",
    "y_test_predicted"
   ]
  },
  {
   "cell_type": "code",
   "execution_count": null,
   "metadata": {
    "id": "BbZIlbBOybyo"
   },
   "outputs": [],
   "source": [
    "y_test_predicted_indexes = np.argmax(y_test_predicted,axis=1)\n",
    "y_test_indexes = np.argmax(y_test, axis=1)"
   ]
  },
  {
   "cell_type": "code",
   "execution_count": null,
   "metadata": {
    "id": "ZCwJ0lTnyvUX"
   },
   "outputs": [],
   "source": [
    "y_test_predicted_indexes"
   ]
  },
  {
   "cell_type": "code",
   "execution_count": null,
   "metadata": {
    "id": "C0RTyBkx3Okg"
   },
   "outputs": [],
   "source": [
    "# Matriz de confusão\n",
    "confMatrix = confusion_matrix(y_test_predicted_indexes, y_test_indexes)\n",
    "pd.DataFrame(confMatrix, \n",
    "             index=['Pred Neptune', 'Pred Normal', 'Pred Smurf'], \n",
    "             columns=['Real Neptune', 'Real Normal', 'Real Smurf'],) #matriz de confusão"
   ]
  },
  {
   "cell_type": "code",
   "execution_count": null,
   "metadata": {
    "id": "urY8GrnS3phY"
   },
   "outputs": [],
   "source": [
    "import seaborn as sns\n",
    "ax = plt.subplot()\n",
    "sns.heatmap(confMatrix, annot=True, fmt=\".0f\", cmap=plt.cm.Blues)\n",
    "plt.xlabel('Real')\n",
    "plt.ylabel('Previsto')\n",
    "plt.title('Matriz de Confusão')\n",
    "\n",
    "# Colocar os nomes\n",
    "ax.xaxis.set_ticklabels(['Neptune', 'Normal', 'Smurf']) \n",
    "ax.yaxis.set_ticklabels(['Neptune', 'Normal', 'Smurf'])\n",
    "plt.show()"
   ]
  }
 ],
 "metadata": {
  "accelerator": "TPU",
  "colab": {
   "collapsed_sections": [],
   "name": "Aula02_RN_KddCup.ipynb",
   "provenance": []
  },
  "kernelspec": {
   "display_name": "Python 3 (ipykernel)",
   "language": "python",
   "name": "python3"
  },
  "language_info": {
   "codemirror_mode": {
    "name": "ipython",
    "version": 3
   },
   "file_extension": ".py",
   "mimetype": "text/x-python",
   "name": "python",
   "nbconvert_exporter": "python",
   "pygments_lexer": "ipython3",
   "version": "3.8.11"
  }
 },
 "nbformat": 4,
 "nbformat_minor": 1
}
